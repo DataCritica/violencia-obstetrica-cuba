{
 "cells": [
  {
   "cell_type": "markdown",
   "metadata": {},
   "source": [
    "### Imports"
   ]
  },
  {
   "cell_type": "code",
   "execution_count": 1,
   "metadata": {},
   "outputs": [],
   "source": [
    "import pandas as pd"
   ]
  },
  {
   "cell_type": "markdown",
   "metadata": {},
   "source": [
    "### Read disaggregated data"
   ]
  },
  {
   "cell_type": "code",
   "execution_count": null,
   "metadata": {},
   "outputs": [],
   "source": [
    "# Read 'xlsx' files as dataframes\n",
    "m1 = pd.read_excel(r'data/desagregada/maltrato1_hos.xlsx', index_col=None)\n",
    "m2 = pd.read_excel(r'data/desagregada/maltrato2_hos.xlsx', index_col=None)\n",
    "m3 = pd.read_excel(r'data/desagregada/maltrato3_hos.xlsx', index_col=None)\n",
    "m4 = pd.read_excel(r'data/desagregada/maltrato4_hos.xlsx', index_col=None)\n",
    "m5 = pd.read_excel(r'data/desagregada/maltrato5_hos.xlsx', index_col=None)\n",
    "m6 = pd.read_excel(r'data/desagregada/maltrato6_hos.xlsx', index_col=None)\n",
    "m7 = pd.read_excel(r'data/desagregada/maltrato7_hos.xlsx', index_col=None)\n",
    "m8 = pd.read_excel(r'data/desagregada/maltrato8_hos.xlsx', index_col=None)\n",
    "m9 = pd.read_excel(r'data/desagregada/maltrato9_hos.xlsx', index_col=None)\n",
    "m10 = pd.read_excel(r'data/desagregada/maltrato10_hos.xlsx', index_col=None)"
   ]
  },
  {
   "cell_type": "markdown",
   "metadata": {},
   "source": [
    "### Clean data"
   ]
  },
  {
   "cell_type": "code",
   "execution_count": null,
   "metadata": {},
   "outputs": [],
   "source": [
    "# Function to remove whitespace at the beginning, '\\n' and '.' at the end\n",
    "def cleanDataframes(*args, **kwargs):\n",
    "    dfs = list(args)\n",
    "    dfs_clean = []\n",
    "    for i in range(len(dfs)):\n",
    "        df = dfs[i]['Hospital'].replace(r'\\n|^\\s|\\.$', '', regex=True, inplace=True)\n",
    "        dfs_clean.append(df)\n",
    "        dfs[i] = df\n",
    "    return dfs_clean\n",
    "\n",
    "cleanDataframes(m1, m2, m3, m4, m5, m6, m7, m8, m9, m10)\n",
    "\n",
    "def mergeDataframes(*args, **kwargs):\n",
    "    dfs = list(args)\n",
    "    for i in range(len(dfs)):\n",
    "        if i <= 1:\n",
    "            maltratos = pd.merge(dfs[0], dfs[1], on='Hospital', how ='left')\n",
    "        else:\n",
    "            maltratos = pd.merge(maltratos, dfs[i], on='Hospital', how ='left')\n",
    "    return maltratos\n",
    "\n",
    "maltratos = mergeDataframes(m1, m2, m3, m4, m5, m6, m7, m8, m9, m10)"
   ]
  },
  {
   "cell_type": "markdown",
   "metadata": {},
   "source": [
    "### Read data"
   ]
  },
  {
   "cell_type": "code",
   "execution_count": 45,
   "metadata": {},
   "outputs": [],
   "source": [
    "# Read 'xlsx' files as dataframes\n",
    "maltratos = pd.read_excel(r'data/maltratos_hospitales.xlsx', index_col=None, sheet_name='base_limpia')\n",
    "coordenadas = pd.read_excel(r'data/maltratos_hospitales.xlsx', converters={'Long':str, 'Lat':str}, index_col=None, sheet_name='coordenadas')\n",
    "\n",
    "# Merge dataframes by a column\n",
    "df_join = pd.merge(maltratos, coordenadas, on='Hospital', how='outer')"
   ]
  },
  {
   "cell_type": "markdown",
   "metadata": {},
   "source": [
    "### Clean data"
   ]
  },
  {
   "cell_type": "code",
   "execution_count": 15,
   "metadata": {},
   "outputs": [],
   "source": [
    "# Remove rows based on a column value\n",
    "df = df_join[df_join['Long'].notna()]"
   ]
  }
 ],
 "metadata": {
  "interpreter": {
   "hash": "e58505fa324dfd103b0f06ba8c64ba240e36d73492d0ccef95a59ef242259784"
  },
  "kernelspec": {
   "display_name": "Python 3.8.10 64-bit ('env_violencia_obstetrica': venv)",
   "language": "python",
   "name": "python3"
  },
  "language_info": {
   "codemirror_mode": {
    "name": "ipython",
    "version": 3
   },
   "file_extension": ".py",
   "mimetype": "text/x-python",
   "name": "python",
   "nbconvert_exporter": "python",
   "pygments_lexer": "ipython3",
   "version": "3.8.10"
  },
  "orig_nbformat": 4
 },
 "nbformat": 4,
 "nbformat_minor": 2
}
