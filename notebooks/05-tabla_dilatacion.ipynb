{
 "cells": [
  {
   "cell_type": "markdown",
   "metadata": {},
   "source": [
    "### Imports"
   ]
  },
  {
   "cell_type": "code",
   "execution_count": 1,
   "metadata": {},
   "outputs": [],
   "source": [
    "import pandas as pd"
   ]
  },
  {
   "cell_type": "markdown",
   "metadata": {},
   "source": [
    "### Read data from 'xlsx' file"
   ]
  },
  {
   "cell_type": "code",
   "execution_count": 9,
   "metadata": {},
   "outputs": [],
   "source": [
    "# Read 'xlsx' file as dataframe\n",
    "df = pd.read_excel('../data/processed/data_cuba.xlsx', index_col=None, sheet_name='base_limpia')\n",
    "# Create a list with dataframe column names\n",
    "cols = df.columns"
   ]
  },
  {
   "cell_type": "markdown",
   "metadata": {},
   "source": [
    "### Create pivot table from dataframe"
   ]
  },
  {
   "cell_type": "code",
   "execution_count": 10,
   "metadata": {},
   "outputs": [],
   "source": [
    "# Create a pivot table from df\n",
    "dilatacion = pd.pivot_table(df, values=cols[0], index=cols[27],\n",
    "                         columns=cols[81], aggfunc='count')"
   ]
  },
  {
   "cell_type": "markdown",
   "metadata": {},
   "source": [
    "### Clean data"
   ]
  },
  {
   "cell_type": "code",
   "execution_count": 11,
   "metadata": {},
   "outputs": [
    {
     "name": "stderr",
     "output_type": "stream",
     "text": [
      "/tmp/ipykernel_15459/1990314256.py:5: FutureWarning: In a future version of pandas all arguments of DataFrame.drop except for the argument 'labels' will be keyword-only\n",
      "  dilatacion = dilatacion.drop('No', 1).rename(columns={'Sí': 'Dilatación_Manual'})\n"
     ]
    },
    {
     "data": {
      "text/plain": [
       "(38, 2)"
      ]
     },
     "execution_count": 11,
     "metadata": {},
     "output_type": "execute_result"
    }
   ],
   "source": [
    "# Convert index to columns and reset index\n",
    "dilatacion = dilatacion.rename_axis('Hospital').reset_index().rename_axis('', axis='columns')\n",
    "\n",
    "# Delete column and rename other column\n",
    "dilatacion = dilatacion.drop('No', 1).rename(columns={'Sí': 'Dilatación_Manual'})\n",
    "\n",
    "# Remove rows with NaN values on column\n",
    "dilatacion.dropna(subset=['Dilatación_Manual'], inplace=True)\n",
    "\n",
    "# Reset index\n",
    "dilatacion = dilatacion.reset_index(drop=True)\n",
    "\n",
    "# Regular expressions to clean data typos\n",
    "dilatacion['Hospital'].replace(r'\\n|^\\s', '', regex=True, inplace=True)\n",
    "dilatacion['Hospital'].replace(r'^\\s', '', regex=True, inplace=True)\n",
    "\n",
    "dilatacion.shape"
   ]
  },
  {
   "cell_type": "markdown",
   "metadata": {},
   "source": [
    "### Merge two dataframes based on a column"
   ]
  },
  {
   "cell_type": "code",
   "execution_count": 12,
   "metadata": {},
   "outputs": [
    {
     "data": {
      "text/plain": [
       "(38, 4)"
      ]
     },
     "execution_count": 12,
     "metadata": {},
     "output_type": "execute_result"
    }
   ],
   "source": [
    "directorio = pd.read_excel(r'../data/processed/directorio_hospitales.xlsx', index_col=None, sheet_name='base_limpia', converters={'Long':str, 'Lat': str})\n",
    "\n",
    "# Merge dataframes by a column\n",
    "df_join = pd.merge(dilatacion, directorio, on='Hospital', how='left')\n",
    "\n",
    "df_join.shape"
   ]
  },
  {
   "cell_type": "code",
   "execution_count": 13,
   "metadata": {},
   "outputs": [
    {
     "data": {
      "text/html": [
       "<div>\n",
       "<style scoped>\n",
       "    .dataframe tbody tr th:only-of-type {\n",
       "        vertical-align: middle;\n",
       "    }\n",
       "\n",
       "    .dataframe tbody tr th {\n",
       "        vertical-align: top;\n",
       "    }\n",
       "\n",
       "    .dataframe thead th {\n",
       "        text-align: right;\n",
       "    }\n",
       "</style>\n",
       "<table border=\"1\" class=\"dataframe\">\n",
       "  <thead>\n",
       "    <tr style=\"text-align: right;\">\n",
       "      <th></th>\n",
       "      <th>Hospital</th>\n",
       "      <th>Dilatación_Manual</th>\n",
       "      <th>Long</th>\n",
       "      <th>Lat</th>\n",
       "    </tr>\n",
       "  </thead>\n",
       "  <tbody>\n",
       "    <tr>\n",
       "      <th>29</th>\n",
       "      <td>Hospital Materno Norte Tamara Bunke</td>\n",
       "      <td>1.0</td>\n",
       "      <td>20.035832190964978</td>\n",
       "      <td>-75.81732818465841</td>\n",
       "    </tr>\n",
       "    <tr>\n",
       "      <th>18</th>\n",
       "      <td>Hospital General Docente Iván Portuondo</td>\n",
       "      <td>2.0</td>\n",
       "      <td>22.893216869377824</td>\n",
       "      <td>-82.50498853</td>\n",
       "    </tr>\n",
       "    <tr>\n",
       "      <th>11</th>\n",
       "      <td>Hospital Clínico Quirúrgico León Cuervo Rubío</td>\n",
       "      <td>3.0</td>\n",
       "      <td>22.427729973185887</td>\n",
       "      <td>-83.68700003133507</td>\n",
       "    </tr>\n",
       "  </tbody>\n",
       "</table>\n",
       "</div>"
      ],
      "text/plain": [
       "                                         Hospital  Dilatación_Manual  \\\n",
       "29            Hospital Materno Norte Tamara Bunke                1.0   \n",
       "18        Hospital General Docente Iván Portuondo                2.0   \n",
       "11  Hospital Clínico Quirúrgico León Cuervo Rubío                3.0   \n",
       "\n",
       "                  Long                 Lat  \n",
       "29  20.035832190964978  -75.81732818465841  \n",
       "18  22.893216869377824        -82.50498853  \n",
       "11  22.427729973185887  -83.68700003133507  "
      ]
     },
     "execution_count": 13,
     "metadata": {},
     "output_type": "execute_result"
    }
   ],
   "source": [
    "# Remove rows with NaN values on column\n",
    "df_join.dropna(subset=['Long'], inplace=True)\n",
    "# Reset index\n",
    "df_join = df_join.reset_index(drop=True)\n",
    "\n",
    "# Save dataframe as 'xlsx' file\n",
    "# df_join.to_excel('../data/processed/dilatacion_hospitales.xlsx', index = False)\n",
    "# df_join.to_json('../data/processed/json/dilatacion_hospitales.json', orient='index', force_ascii=False)\n",
    "\n",
    "df_join.sample(3)"
   ]
  }
 ],
 "metadata": {
  "interpreter": {
   "hash": "e58505fa324dfd103b0f06ba8c64ba240e36d73492d0ccef95a59ef242259784"
  },
  "kernelspec": {
   "display_name": "Python 3.8.10 64-bit ('env_violencia_obstetrica': venv)",
   "language": "python",
   "name": "python3"
  },
  "language_info": {
   "codemirror_mode": {
    "name": "ipython",
    "version": 3
   },
   "file_extension": ".py",
   "mimetype": "text/x-python",
   "name": "python",
   "nbconvert_exporter": "python",
   "pygments_lexer": "ipython3",
   "version": "3.8.10"
  },
  "orig_nbformat": 4
 },
 "nbformat": 4,
 "nbformat_minor": 2
}
