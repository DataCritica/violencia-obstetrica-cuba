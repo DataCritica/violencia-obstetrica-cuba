{
 "cells": [
  {
   "cell_type": "markdown",
   "metadata": {},
   "source": [
    "### Imports"
   ]
  },
  {
   "cell_type": "code",
   "execution_count": null,
   "metadata": {},
   "outputs": [],
   "source": [
    "import pandas as pd\n",
    "import folium\n",
    "from folium.features import FeatureGroup\n",
    "from folium import plugins"
   ]
  },
  {
   "cell_type": "markdown",
   "metadata": {},
   "source": [
    "### Custom Map"
   ]
  },
  {
   "cell_type": "code",
   "execution_count": null,
   "metadata": {},
   "outputs": [],
   "source": [
    "# Custom tooltip message\n",
    "tooltip = \"¡Haz click!\"\n",
    "\n",
    "\n",
    "# help(folium.Icon)\n",
    "# https://github.com/python-visualization/folium/issues/617\n",
    "# Custom icon image\n",
    "icon_image = \"assets/hospital.png\"\n",
    "icon = CustomIcon(\n",
    "    icon_image,\n",
    "    icon_size=(50, 50),\n",
    "    icon_anchor=(20, 10),\n",
    "    popup_anchor=(-3, -76),\n",
    ")\n",
    "\n",
    "# Marker\n",
    "for i, r in df.iterrows():\n",
    "    folium.Marker([r['Long'], r['Lat']],\n",
    "    popup=r['Hospital'],\n",
    "    tooltip=r['Hospital'],\n",
    "    icon=folium.Icon(icon_color='white', color='red')).add_to(hospitales)\n",
    "\n",
    "# Circle marker\n",
    "for i, r in df.iterrows():\n",
    "    folium.CircleMarker([r['Long'], r['Lat']],\n",
    "                        # radius=math.sqrt(r['Total']),\n",
    "                        radius=r['Total']/3,\n",
    "                        popup=r['Hospital'],\n",
    "                        color='#FFB100',\n",
    "                        fill_color='#FF8900',\n",
    "                        fill_opacity=(0.5),\n",
    "                        tooltip=r['Hospital'],\n",
    "                        icon=folium.Icon(icon_color='white', color='red')).add_to(hospitales)\n",
    "\n",
    "\n",
    "# Marker Cluster\n",
    "marker_cluster = MarkerCluster().add_to(hospitales)\n",
    "for i, r in df.iterrows():\n",
    "    folium.Marker([r['Long'], r['Lat']],\n",
    "    popup=r['Hospital'],\n",
    "    icon=folium.Icon(icon_color='white', color='red')).add_to(marker_cluster),\n",
    "    "
   ]
  }
 ],
 "metadata": {
  "interpreter": {
   "hash": "e58505fa324dfd103b0f06ba8c64ba240e36d73492d0ccef95a59ef242259784"
  },
  "kernelspec": {
   "display_name": "Python 3.8.10 64-bit ('env_violencia_obstetrica': venv)",
   "language": "python",
   "name": "python3"
  },
  "language_info": {
   "name": "python",
   "version": "3.8.10"
  },
  "orig_nbformat": 4
 },
 "nbformat": 4,
 "nbformat_minor": 2
}
