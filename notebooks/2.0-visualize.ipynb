{
 "cells": [
  {
   "cell_type": "markdown",
   "metadata": {},
   "source": [
    "### Imports"
   ]
  },
  {
   "cell_type": "code",
   "execution_count": 11,
   "metadata": {},
   "outputs": [],
   "source": [
    "%load_ext autoreload\n",
    "%autoreload 2"
   ]
  },
  {
   "cell_type": "code",
   "execution_count": 2,
   "metadata": {},
   "outputs": [],
   "source": [
    "import numpy as np\n",
    "import pandas as pd\n",
    "import plotly.graph_objects as go\n",
    "import violencia_obstetrica.data.analyze as analyze\n",
    "import violencia_obstetrica.data.export as export\n",
    "import violencia_obstetrica.data.load as load\n",
    "import violencia_obstetrica.data.visualize as visualize"
   ]
  },
  {
   "cell_type": "markdown",
   "metadata": {},
   "source": [
    "### Load data"
   ]
  },
  {
   "cell_type": "code",
   "execution_count": 47,
   "metadata": {},
   "outputs": [],
   "source": [
    "data_cuba = load.data_cuba\n",
    "directorio = load.data_directorio\n",
    "data_processed = load.data_processed\n",
    "tables = load.tables\n",
    "figures = load.figures"
   ]
  },
  {
   "cell_type": "markdown",
   "metadata": {},
   "source": [
    "### Read data as dataframe"
   ]
  },
  {
   "cell_type": "code",
   "execution_count": 4,
   "metadata": {},
   "outputs": [],
   "source": [
    "df = load.load_file(file=data_cuba, sheet=\"base_limpia\")"
   ]
  },
  {
   "cell_type": "markdown",
   "metadata": {},
   "source": [
    "### Cuántas mujeres estuvieron acompañadas por alguien durante el parto/cesárea"
   ]
  },
  {
   "cell_type": "code",
   "execution_count": 258,
   "metadata": {},
   "outputs": [],
   "source": [
    "\"\"\" Create pivot table \"\"\"\n",
    "acompañada = analyze.create_pivot_tabe(df, values=0, index=27, cols=61)\n",
    "\n",
    "\"\"\" Process pivot table \"\"\"\n",
    "# Convert index to column and create a new index\n",
    "acompañada = analyze.set_new_index(acompañada, col_name=\"Hospital\")\n",
    "# Delete rows\n",
    "acompañada = analyze.del_row(acompañada[0], row_name=0)\n",
    "acompañada = analyze.del_row(acompañada[0], row_name=48)\n",
    "acompañada = acompañada[0]"
   ]
  },
  {
   "cell_type": "code",
   "execution_count": 259,
   "metadata": {},
   "outputs": [
    {
     "data": {
      "application/vnd.plotly.v1+json": {
       "config": {
        "displayModeBar": true,
        "plotlyServerURL": "https://plot.ly"
       },
       "data": [
        {
         "hovertext": [
          "Hospital"
         ],
         "marker": {
          "color": "#221647",
          "line": {
           "width": 0
          }
         },
         "name": "No",
         "type": "bar",
         "x": [
          "Hospital Clínico Quirúrgico Amalia Simoni ",
          "Hospital Clínico Quirúrgico Docente Julio Trigo López",
          "Hospital Clínico Quirúrgico Dr. Luis Aldama Palomino",
          "Hospital Clínico Quirúrgico Hermanos Ameijeiras (La Habana)",
          "Hospital Clínico Quirúrgico Juan Bruno Zayas",
          "Hospital Clínico Quirúrgico León Cuervo Rubío",
          "Hospital Docente Ginecobstétrico Justo Legón Padilla",
          "Hospital Docente Ginecobstétrico de Guanabacoa (La Fátima)",
          "Hospital General Docente 26 de Diciembre de Remedios",
          "Hospital General Docente Comandante Ciro Redondo García",
          "Hospital General Docente Comandante Pinares",
          "Hospital General Docente Dr. Agostinho Neto",
          "Hospital General Docente Dr. Antonio Luaces Iraola (Hospital General Provincial Docente de Ciego de Avila)",
          "Hospital General Docente Enrique Cabrera (Nacional)",
          "Hospital General Docente Héroes de Baire",
          "Hospital General Docente Iván Portuondo",
          "Hospital General Docente Julio Aristegui Villamil (Cárdenas, Matanzas)",
          "Hospital General Docente Leopoldito Martínez",
          "Hospital General Docente Mártires de Mayarí",
          "Hospital General Docente Provincial Roberto Rodríguez",
          "Hospital General Docente Universitario Martin Chang Puga",
          "Hospital General Docente Vladimir Ilich Lenin",
          "Hospital General Municipal 27 de Noviembre",
          "Hospital General Universitario Dr. Gustavo Aldereguía Lima (Cienfuegos)",
          "Hospital Ginecobstétrico América Arias (Maternidad de Línea)",
          "Hospital Ginecobstétrico Clodomira Acosta",
          "Hospital Ginecobstétrico Docente Dra. Nelia I. Delfín Ripoll",
          "Hospital Ginecobstétrico Materno Sur Mariana Grajales (Clínica Los Ángeles)",
          "Hospital Ginecobstétrico Ramón González Coro",
          "Hospital Guillermo Domínguez (Puerto Padre)",
          "Hospital Materno Hijas de Galicia (Hospital Materno Infantil Diez de Octubre)",
          "Hospital Materno Infantil Dr. Ángel Arturo Aballí (Arroyo Naranjo, La Habana)",
          "Hospital Materno Infantil Lebredo (Arroyo Naranjo, La Habana)",
          "Hospital Materno Infantil Manuel Piti Fajardo",
          "Hospital Materno Infantil provincial Isabel María de Valdivia y Salas ",
          "Hospital Materno Norte Tamara Bunke",
          "Hospital Materno Sur (Clínica Los Ángeles)",
          "Hospital Militar Luis Díaz Soto (Naval)",
          "Hospital Pediátrico Provincial Docente Pepé Portilla",
          "Hospital Provincial Docente Ginecobstétrico José Ramón López Tabranes",
          "Hospital Provincial Ginecobstétrico Julio Rafael Alfonso Medina (Antiguo Hospital Materno de Matanzas)",
          "Hospital Provincial Universitario Camilo Cienfuegos Gorriarán (Sancti Spíritus)",
          "Hospital Rural Isidro de Armas",
          "Hospital Universitario Abel Santamaría Cuadrado",
          "Hospital Universitario Ginecobstétrico Eusebio Hernández Pérez (Maternidad obrera)",
          "Hospital Ginecobstétrico Provincial Ana Betancourt de Mora",
          "Materno Celia Sánchez "
         ],
         "y": [
          1,
          null,
          2,
          1,
          2,
          2,
          null,
          8,
          1,
          null,
          4,
          1,
          2,
          17,
          4,
          3,
          7,
          1,
          1,
          1,
          2,
          2,
          6,
          3,
          23,
          4,
          2,
          18,
          73,
          1,
          30,
          6,
          3,
          2,
          2,
          2,
          2,
          6,
          1,
          1,
          8,
          3,
          1,
          31,
          91,
          46,
          1
         ]
        },
        {
         "hovertext": [
          "Hospital"
         ],
         "marker": {
          "color": "#f2b5d3",
          "line": {
           "width": 0
          }
         },
         "name": "Sí",
         "type": "bar",
         "x": [
          "Hospital Clínico Quirúrgico Amalia Simoni ",
          "Hospital Clínico Quirúrgico Docente Julio Trigo López",
          "Hospital Clínico Quirúrgico Dr. Luis Aldama Palomino",
          "Hospital Clínico Quirúrgico Hermanos Ameijeiras (La Habana)",
          "Hospital Clínico Quirúrgico Juan Bruno Zayas",
          "Hospital Clínico Quirúrgico León Cuervo Rubío",
          "Hospital Docente Ginecobstétrico Justo Legón Padilla",
          "Hospital Docente Ginecobstétrico de Guanabacoa (La Fátima)",
          "Hospital General Docente 26 de Diciembre de Remedios",
          "Hospital General Docente Comandante Ciro Redondo García",
          "Hospital General Docente Comandante Pinares",
          "Hospital General Docente Dr. Agostinho Neto",
          "Hospital General Docente Dr. Antonio Luaces Iraola (Hospital General Provincial Docente de Ciego de Avila)",
          "Hospital General Docente Enrique Cabrera (Nacional)",
          "Hospital General Docente Héroes de Baire",
          "Hospital General Docente Iván Portuondo",
          "Hospital General Docente Julio Aristegui Villamil (Cárdenas, Matanzas)",
          "Hospital General Docente Leopoldito Martínez",
          "Hospital General Docente Mártires de Mayarí",
          "Hospital General Docente Provincial Roberto Rodríguez",
          "Hospital General Docente Universitario Martin Chang Puga",
          "Hospital General Docente Vladimir Ilich Lenin",
          "Hospital General Municipal 27 de Noviembre",
          "Hospital General Universitario Dr. Gustavo Aldereguía Lima (Cienfuegos)",
          "Hospital Ginecobstétrico América Arias (Maternidad de Línea)",
          "Hospital Ginecobstétrico Clodomira Acosta",
          "Hospital Ginecobstétrico Docente Dra. Nelia I. Delfín Ripoll",
          "Hospital Ginecobstétrico Materno Sur Mariana Grajales (Clínica Los Ángeles)",
          "Hospital Ginecobstétrico Ramón González Coro",
          "Hospital Guillermo Domínguez (Puerto Padre)",
          "Hospital Materno Hijas de Galicia (Hospital Materno Infantil Diez de Octubre)",
          "Hospital Materno Infantil Dr. Ángel Arturo Aballí (Arroyo Naranjo, La Habana)",
          "Hospital Materno Infantil Lebredo (Arroyo Naranjo, La Habana)",
          "Hospital Materno Infantil Manuel Piti Fajardo",
          "Hospital Materno Infantil provincial Isabel María de Valdivia y Salas ",
          "Hospital Materno Norte Tamara Bunke",
          "Hospital Materno Sur (Clínica Los Ángeles)",
          "Hospital Militar Luis Díaz Soto (Naval)",
          "Hospital Pediátrico Provincial Docente Pepé Portilla",
          "Hospital Provincial Docente Ginecobstétrico José Ramón López Tabranes",
          "Hospital Provincial Ginecobstétrico Julio Rafael Alfonso Medina (Antiguo Hospital Materno de Matanzas)",
          "Hospital Provincial Universitario Camilo Cienfuegos Gorriarán (Sancti Spíritus)",
          "Hospital Rural Isidro de Armas",
          "Hospital Universitario Abel Santamaría Cuadrado",
          "Hospital Universitario Ginecobstétrico Eusebio Hernández Pérez (Maternidad obrera)",
          "Hospital Ginecobstétrico Provincial Ana Betancourt de Mora",
          "Materno Celia Sánchez "
         ],
         "y": [
          null,
          1,
          null,
          null,
          null,
          2,
          1,
          1,
          null,
          1,
          null,
          1,
          null,
          1,
          null,
          1,
          3,
          null,
          null,
          1,
          1,
          null,
          null,
          null,
          3,
          1,
          null,
          2,
          3,
          1,
          null,
          1,
          null,
          null,
          1,
          null,
          1,
          2,
          null,
          null,
          1,
          null,
          null,
          4,
          29,
          20,
          null
         ]
        }
       ],
       "layout": {
        "barmode": "stack",
        "font": {
         "color": "white",
         "family": "Arial"
        },
        "hoverlabel": {
         "font": {
          "family": "Arial"
         }
        },
        "legend": {
         "bgcolor": "#4A2582",
         "bordercolor": "#241749",
         "borderwidth": 2,
         "font": {
          "color": "white"
         },
         "title": {
          "side": "top",
          "text": "Estuvieron acompañadas"
         }
        },
        "modebar": {
         "remove": [
          "lasso",
          "autoscale",
          "zoom",
          "pan",
          "zoomin",
          "zoomout",
          "select",
          "reset",
          "resetscale",
          "toimage"
         ]
        },
        "paper_bgcolor": "#4A2582",
        "plot_bgcolor": "#4A2582",
        "template": {
         "data": {
          "bar": [
           {
            "error_x": {
             "color": "#2a3f5f"
            },
            "error_y": {
             "color": "#2a3f5f"
            },
            "marker": {
             "line": {
              "color": "#E5ECF6",
              "width": 0.5
             },
             "pattern": {
              "fillmode": "overlay",
              "size": 10,
              "solidity": 0.2
             }
            },
            "type": "bar"
           }
          ],
          "barpolar": [
           {
            "marker": {
             "line": {
              "color": "#E5ECF6",
              "width": 0.5
             },
             "pattern": {
              "fillmode": "overlay",
              "size": 10,
              "solidity": 0.2
             }
            },
            "type": "barpolar"
           }
          ],
          "carpet": [
           {
            "aaxis": {
             "endlinecolor": "#2a3f5f",
             "gridcolor": "white",
             "linecolor": "white",
             "minorgridcolor": "white",
             "startlinecolor": "#2a3f5f"
            },
            "baxis": {
             "endlinecolor": "#2a3f5f",
             "gridcolor": "white",
             "linecolor": "white",
             "minorgridcolor": "white",
             "startlinecolor": "#2a3f5f"
            },
            "type": "carpet"
           }
          ],
          "choropleth": [
           {
            "colorbar": {
             "outlinewidth": 0,
             "ticks": ""
            },
            "type": "choropleth"
           }
          ],
          "contour": [
           {
            "colorbar": {
             "outlinewidth": 0,
             "ticks": ""
            },
            "colorscale": [
             [
              0,
              "#0d0887"
             ],
             [
              0.1111111111111111,
              "#46039f"
             ],
             [
              0.2222222222222222,
              "#7201a8"
             ],
             [
              0.3333333333333333,
              "#9c179e"
             ],
             [
              0.4444444444444444,
              "#bd3786"
             ],
             [
              0.5555555555555556,
              "#d8576b"
             ],
             [
              0.6666666666666666,
              "#ed7953"
             ],
             [
              0.7777777777777778,
              "#fb9f3a"
             ],
             [
              0.8888888888888888,
              "#fdca26"
             ],
             [
              1,
              "#f0f921"
             ]
            ],
            "type": "contour"
           }
          ],
          "contourcarpet": [
           {
            "colorbar": {
             "outlinewidth": 0,
             "ticks": ""
            },
            "type": "contourcarpet"
           }
          ],
          "heatmap": [
           {
            "colorbar": {
             "outlinewidth": 0,
             "ticks": ""
            },
            "colorscale": [
             [
              0,
              "#0d0887"
             ],
             [
              0.1111111111111111,
              "#46039f"
             ],
             [
              0.2222222222222222,
              "#7201a8"
             ],
             [
              0.3333333333333333,
              "#9c179e"
             ],
             [
              0.4444444444444444,
              "#bd3786"
             ],
             [
              0.5555555555555556,
              "#d8576b"
             ],
             [
              0.6666666666666666,
              "#ed7953"
             ],
             [
              0.7777777777777778,
              "#fb9f3a"
             ],
             [
              0.8888888888888888,
              "#fdca26"
             ],
             [
              1,
              "#f0f921"
             ]
            ],
            "type": "heatmap"
           }
          ],
          "heatmapgl": [
           {
            "colorbar": {
             "outlinewidth": 0,
             "ticks": ""
            },
            "colorscale": [
             [
              0,
              "#0d0887"
             ],
             [
              0.1111111111111111,
              "#46039f"
             ],
             [
              0.2222222222222222,
              "#7201a8"
             ],
             [
              0.3333333333333333,
              "#9c179e"
             ],
             [
              0.4444444444444444,
              "#bd3786"
             ],
             [
              0.5555555555555556,
              "#d8576b"
             ],
             [
              0.6666666666666666,
              "#ed7953"
             ],
             [
              0.7777777777777778,
              "#fb9f3a"
             ],
             [
              0.8888888888888888,
              "#fdca26"
             ],
             [
              1,
              "#f0f921"
             ]
            ],
            "type": "heatmapgl"
           }
          ],
          "histogram": [
           {
            "marker": {
             "pattern": {
              "fillmode": "overlay",
              "size": 10,
              "solidity": 0.2
             }
            },
            "type": "histogram"
           }
          ],
          "histogram2d": [
           {
            "colorbar": {
             "outlinewidth": 0,
             "ticks": ""
            },
            "colorscale": [
             [
              0,
              "#0d0887"
             ],
             [
              0.1111111111111111,
              "#46039f"
             ],
             [
              0.2222222222222222,
              "#7201a8"
             ],
             [
              0.3333333333333333,
              "#9c179e"
             ],
             [
              0.4444444444444444,
              "#bd3786"
             ],
             [
              0.5555555555555556,
              "#d8576b"
             ],
             [
              0.6666666666666666,
              "#ed7953"
             ],
             [
              0.7777777777777778,
              "#fb9f3a"
             ],
             [
              0.8888888888888888,
              "#fdca26"
             ],
             [
              1,
              "#f0f921"
             ]
            ],
            "type": "histogram2d"
           }
          ],
          "histogram2dcontour": [
           {
            "colorbar": {
             "outlinewidth": 0,
             "ticks": ""
            },
            "colorscale": [
             [
              0,
              "#0d0887"
             ],
             [
              0.1111111111111111,
              "#46039f"
             ],
             [
              0.2222222222222222,
              "#7201a8"
             ],
             [
              0.3333333333333333,
              "#9c179e"
             ],
             [
              0.4444444444444444,
              "#bd3786"
             ],
             [
              0.5555555555555556,
              "#d8576b"
             ],
             [
              0.6666666666666666,
              "#ed7953"
             ],
             [
              0.7777777777777778,
              "#fb9f3a"
             ],
             [
              0.8888888888888888,
              "#fdca26"
             ],
             [
              1,
              "#f0f921"
             ]
            ],
            "type": "histogram2dcontour"
           }
          ],
          "mesh3d": [
           {
            "colorbar": {
             "outlinewidth": 0,
             "ticks": ""
            },
            "type": "mesh3d"
           }
          ],
          "parcoords": [
           {
            "line": {
             "colorbar": {
              "outlinewidth": 0,
              "ticks": ""
             }
            },
            "type": "parcoords"
           }
          ],
          "pie": [
           {
            "automargin": true,
            "type": "pie"
           }
          ],
          "scatter": [
           {
            "marker": {
             "colorbar": {
              "outlinewidth": 0,
              "ticks": ""
             }
            },
            "type": "scatter"
           }
          ],
          "scatter3d": [
           {
            "line": {
             "colorbar": {
              "outlinewidth": 0,
              "ticks": ""
             }
            },
            "marker": {
             "colorbar": {
              "outlinewidth": 0,
              "ticks": ""
             }
            },
            "type": "scatter3d"
           }
          ],
          "scattercarpet": [
           {
            "marker": {
             "colorbar": {
              "outlinewidth": 0,
              "ticks": ""
             }
            },
            "type": "scattercarpet"
           }
          ],
          "scattergeo": [
           {
            "marker": {
             "colorbar": {
              "outlinewidth": 0,
              "ticks": ""
             }
            },
            "type": "scattergeo"
           }
          ],
          "scattergl": [
           {
            "marker": {
             "colorbar": {
              "outlinewidth": 0,
              "ticks": ""
             }
            },
            "type": "scattergl"
           }
          ],
          "scattermapbox": [
           {
            "marker": {
             "colorbar": {
              "outlinewidth": 0,
              "ticks": ""
             }
            },
            "type": "scattermapbox"
           }
          ],
          "scatterpolar": [
           {
            "marker": {
             "colorbar": {
              "outlinewidth": 0,
              "ticks": ""
             }
            },
            "type": "scatterpolar"
           }
          ],
          "scatterpolargl": [
           {
            "marker": {
             "colorbar": {
              "outlinewidth": 0,
              "ticks": ""
             }
            },
            "type": "scatterpolargl"
           }
          ],
          "scatterternary": [
           {
            "marker": {
             "colorbar": {
              "outlinewidth": 0,
              "ticks": ""
             }
            },
            "type": "scatterternary"
           }
          ],
          "surface": [
           {
            "colorbar": {
             "outlinewidth": 0,
             "ticks": ""
            },
            "colorscale": [
             [
              0,
              "#0d0887"
             ],
             [
              0.1111111111111111,
              "#46039f"
             ],
             [
              0.2222222222222222,
              "#7201a8"
             ],
             [
              0.3333333333333333,
              "#9c179e"
             ],
             [
              0.4444444444444444,
              "#bd3786"
             ],
             [
              0.5555555555555556,
              "#d8576b"
             ],
             [
              0.6666666666666666,
              "#ed7953"
             ],
             [
              0.7777777777777778,
              "#fb9f3a"
             ],
             [
              0.8888888888888888,
              "#fdca26"
             ],
             [
              1,
              "#f0f921"
             ]
            ],
            "type": "surface"
           }
          ],
          "table": [
           {
            "cells": {
             "fill": {
              "color": "#EBF0F8"
             },
             "line": {
              "color": "white"
             }
            },
            "header": {
             "fill": {
              "color": "#C8D4E3"
             },
             "line": {
              "color": "white"
             }
            },
            "type": "table"
           }
          ]
         },
         "layout": {
          "annotationdefaults": {
           "arrowcolor": "#2a3f5f",
           "arrowhead": 0,
           "arrowwidth": 1
          },
          "autotypenumbers": "strict",
          "coloraxis": {
           "colorbar": {
            "outlinewidth": 0,
            "ticks": ""
           }
          },
          "colorscale": {
           "diverging": [
            [
             0,
             "#8e0152"
            ],
            [
             0.1,
             "#c51b7d"
            ],
            [
             0.2,
             "#de77ae"
            ],
            [
             0.3,
             "#f1b6da"
            ],
            [
             0.4,
             "#fde0ef"
            ],
            [
             0.5,
             "#f7f7f7"
            ],
            [
             0.6,
             "#e6f5d0"
            ],
            [
             0.7,
             "#b8e186"
            ],
            [
             0.8,
             "#7fbc41"
            ],
            [
             0.9,
             "#4d9221"
            ],
            [
             1,
             "#276419"
            ]
           ],
           "sequential": [
            [
             0,
             "#0d0887"
            ],
            [
             0.1111111111111111,
             "#46039f"
            ],
            [
             0.2222222222222222,
             "#7201a8"
            ],
            [
             0.3333333333333333,
             "#9c179e"
            ],
            [
             0.4444444444444444,
             "#bd3786"
            ],
            [
             0.5555555555555556,
             "#d8576b"
            ],
            [
             0.6666666666666666,
             "#ed7953"
            ],
            [
             0.7777777777777778,
             "#fb9f3a"
            ],
            [
             0.8888888888888888,
             "#fdca26"
            ],
            [
             1,
             "#f0f921"
            ]
           ],
           "sequentialminus": [
            [
             0,
             "#0d0887"
            ],
            [
             0.1111111111111111,
             "#46039f"
            ],
            [
             0.2222222222222222,
             "#7201a8"
            ],
            [
             0.3333333333333333,
             "#9c179e"
            ],
            [
             0.4444444444444444,
             "#bd3786"
            ],
            [
             0.5555555555555556,
             "#d8576b"
            ],
            [
             0.6666666666666666,
             "#ed7953"
            ],
            [
             0.7777777777777778,
             "#fb9f3a"
            ],
            [
             0.8888888888888888,
             "#fdca26"
            ],
            [
             1,
             "#f0f921"
            ]
           ]
          },
          "colorway": [
           "#636efa",
           "#EF553B",
           "#00cc96",
           "#ab63fa",
           "#FFA15A",
           "#19d3f3",
           "#FF6692",
           "#B6E880",
           "#FF97FF",
           "#FECB52"
          ],
          "font": {
           "color": "#2a3f5f"
          },
          "geo": {
           "bgcolor": "white",
           "lakecolor": "white",
           "landcolor": "#E5ECF6",
           "showlakes": true,
           "showland": true,
           "subunitcolor": "white"
          },
          "hoverlabel": {
           "align": "left"
          },
          "hovermode": "closest",
          "mapbox": {
           "style": "light"
          },
          "paper_bgcolor": "white",
          "plot_bgcolor": "#E5ECF6",
          "polar": {
           "angularaxis": {
            "gridcolor": "white",
            "linecolor": "white",
            "ticks": ""
           },
           "bgcolor": "#E5ECF6",
           "radialaxis": {
            "gridcolor": "white",
            "linecolor": "white",
            "ticks": ""
           }
          },
          "scene": {
           "xaxis": {
            "backgroundcolor": "#E5ECF6",
            "gridcolor": "white",
            "gridwidth": 2,
            "linecolor": "white",
            "showbackground": true,
            "ticks": "",
            "zerolinecolor": "white"
           },
           "yaxis": {
            "backgroundcolor": "#E5ECF6",
            "gridcolor": "white",
            "gridwidth": 2,
            "linecolor": "white",
            "showbackground": true,
            "ticks": "",
            "zerolinecolor": "white"
           },
           "zaxis": {
            "backgroundcolor": "#E5ECF6",
            "gridcolor": "white",
            "gridwidth": 2,
            "linecolor": "white",
            "showbackground": true,
            "ticks": "",
            "zerolinecolor": "white"
           }
          },
          "shapedefaults": {
           "line": {
            "color": "#2a3f5f"
           }
          },
          "ternary": {
           "aaxis": {
            "gridcolor": "white",
            "linecolor": "white",
            "ticks": ""
           },
           "baxis": {
            "gridcolor": "white",
            "linecolor": "white",
            "ticks": ""
           },
           "bgcolor": "#E5ECF6",
           "caxis": {
            "gridcolor": "white",
            "linecolor": "white",
            "ticks": ""
           }
          },
          "title": {
           "x": 0.05
          },
          "xaxis": {
           "automargin": true,
           "gridcolor": "white",
           "linecolor": "white",
           "ticks": "",
           "title": {
            "standoff": 15
           },
           "zerolinecolor": "white",
           "zerolinewidth": 2
          },
          "yaxis": {
           "automargin": true,
           "gridcolor": "white",
           "linecolor": "white",
           "ticks": "",
           "title": {
            "standoff": 15
           },
           "zerolinecolor": "white",
           "zerolinewidth": 2
          }
         }
        },
        "xaxis": {
         "showticklabels": false,
         "title": {
          "text": "Hospital"
         }
        },
        "yaxis": {
         "title": {
          "text": "Encuestadas"
         }
        }
       }
      }
     },
     "metadata": {},
     "output_type": "display_data"
    }
   ],
   "source": [
    "fig = go.Figure(data=[\n",
    "    go.Bar(name='No', x=acompañada['Hospital'], y=acompañada['No'], hovertext=['Hospital'], marker_color='#221647', marker_line_width=0),\n",
    "    go.Bar(name='Sí', x=acompañada['Hospital'], y=acompañada['Sí'], hovertext=['Hospital'], marker_color='#f2b5d3', marker_line_width=0)\n",
    "])\n",
    "\n",
    "# Change the bar mode\n",
    "fig.update_layout(\n",
    "    barmode='stack',\n",
    "    xaxis_title='Hospital', \n",
    "    yaxis_title='Encuestadas',\n",
    "    paper_bgcolor='#4A2582',\n",
    "    plot_bgcolor='#4A2582',\n",
    "    font_color = 'white', \n",
    "    font_family='Arial',\n",
    "    legend_bgcolor='#4A2582',\n",
    "    legend_bordercolor='#241749',\n",
    "    legend_borderwidth=2,\n",
    "    legend_font_color='white',\n",
    "    legend_title=\"Estuvieron acompañadas\",\n",
    "    legend_title_side='top',\n",
    "    hoverlabel_font_family='Arial',\n",
    "    modebar_remove=['lasso', 'autoscale', 'zoom', 'pan', 'zoomin', 'zoomout', 'select', 'reset', 'resetscale', 'toimage'],\n",
    "    )\n",
    "\n",
    "fig.update_xaxes(showticklabels=False)\n",
    "\n",
    "config = {'displayModeBar': True}\n",
    "\n",
    "fig.show(config=config)\n",
    "\n",
    "fig.write_html(f'{figures}/acompañadas_hospital_parto.html')"
   ]
  },
  {
   "cell_type": "markdown",
   "metadata": {},
   "source": [
    "### Se te informó en qué consistían los procedimientos que te practicaron"
   ]
  },
  {
   "cell_type": "code",
   "execution_count": 260,
   "metadata": {},
   "outputs": [
    {
     "data": {
      "text/html": [
       "<div>\n",
       "<style scoped>\n",
       "    .dataframe tbody tr th:only-of-type {\n",
       "        vertical-align: middle;\n",
       "    }\n",
       "\n",
       "    .dataframe tbody tr th {\n",
       "        vertical-align: top;\n",
       "    }\n",
       "\n",
       "    .dataframe thead th {\n",
       "        text-align: right;\n",
       "    }\n",
       "</style>\n",
       "<table border=\"1\" class=\"dataframe\">\n",
       "  <thead>\n",
       "    <tr style=\"text-align: right;\">\n",
       "      <th></th>\n",
       "      <th>Info</th>\n",
       "      <th>Cesárea de urgencia (por una complicación de riesgo para la vida)</th>\n",
       "      <th>Cesárea después de fallar la inducción del parto</th>\n",
       "      <th>Cesárea programada</th>\n",
       "      <th>Parto vaginal</th>\n",
       "    </tr>\n",
       "  </thead>\n",
       "  <tbody>\n",
       "    <tr>\n",
       "      <th>0</th>\n",
       "      <td>No, de ninguno</td>\n",
       "      <td>16</td>\n",
       "      <td>13</td>\n",
       "      <td>6</td>\n",
       "      <td>129</td>\n",
       "    </tr>\n",
       "    <tr>\n",
       "      <th>1</th>\n",
       "      <td>Sí, de todos</td>\n",
       "      <td>28</td>\n",
       "      <td>47</td>\n",
       "      <td>46</td>\n",
       "      <td>147</td>\n",
       "    </tr>\n",
       "    <tr>\n",
       "      <th>2</th>\n",
       "      <td>Sí, solo de algunos</td>\n",
       "      <td>15</td>\n",
       "      <td>12</td>\n",
       "      <td>9</td>\n",
       "      <td>46</td>\n",
       "    </tr>\n",
       "  </tbody>\n",
       "</table>\n",
       "</div>"
      ],
      "text/plain": [
       "                  Info  \\\n",
       "0       No, de ninguno   \n",
       "1         Sí, de todos   \n",
       "2  Sí, solo de algunos   \n",
       "\n",
       "   Cesárea de urgencia (por una complicación de riesgo para la vida)  \\\n",
       "0                                                 16                   \n",
       "1                                                 28                   \n",
       "2                                                 15                   \n",
       "\n",
       "   Cesárea después de fallar la inducción del parto  Cesárea programada  \\\n",
       "0                                                13                   6   \n",
       "1                                                47                  46   \n",
       "2                                                12                   9   \n",
       "\n",
       "   Parto vaginal  \n",
       "0            129  \n",
       "1            147  \n",
       "2             46  "
      ]
     },
     "execution_count": 260,
     "metadata": {},
     "output_type": "execute_result"
    }
   ],
   "source": [
    "\"\"\" Create pivot table \"\"\"\n",
    "info = analyze.create_pivot_tabe(df, values=0, index=72, cols=44)\n",
    "\n",
    "\"\"\" Process pivot table \"\"\"\n",
    "# Convert index to column and create a new index\n",
    "info = analyze.set_new_index(info, col_name=\"Info\")\n",
    "info = info[0]\n",
    "info"
   ]
  },
  {
   "cell_type": "code",
   "execution_count": 261,
   "metadata": {},
   "outputs": [
    {
     "data": {
      "application/vnd.plotly.v1+json": {
       "config": {
        "plotlyServerURL": "https://plot.ly"
       },
       "data": [
        {
         "marker": {
          "color": "#221647",
          "line": {
           "width": 0
          }
         },
         "name": "No, para ninguno",
         "type": "bar",
         "x": [
          "Cesárea de urgencia",
          "Cesárea por fallar inducción del parto",
          "Cesárea programada",
          "Parto vaginal"
         ],
         "y": [
          16,
          13,
          6,
          129
         ]
        },
        {
         "marker": {
          "color": "#9d5b9c",
          "line": {
           "width": 0
          }
         },
         "name": "Sí, para algunos",
         "type": "bar",
         "x": [
          "Cesárea de urgencia",
          "Cesárea por fallar inducción del parto",
          "Cesárea programada",
          "Parto vaginal"
         ],
         "y": [
          28,
          47,
          46,
          147
         ]
        },
        {
         "marker": {
          "color": "#f2b5d3",
          "line": {
           "width": 0
          }
         },
         "name": "Sí, para todos",
         "type": "bar",
         "x": [
          "Cesárea de urgencia",
          "Cesárea por fallar inducción del parto",
          "Cesárea programada",
          "Parto vaginal"
         ],
         "y": [
          15,
          12,
          9,
          46
         ]
        }
       ],
       "layout": {
        "barmode": "stack",
        "font": {
         "color": "white",
         "family": "Arial"
        },
        "hoverlabel": {
         "font": {
          "family": "Arial"
         }
        },
        "legend": {
         "bgcolor": "#4A2582",
         "bordercolor": "#241749",
         "borderwidth": 2,
         "font": {
          "color": "white"
         },
         "title": {
          "side": "top",
          "text": "Se informó sobre los procedimientos"
         }
        },
        "modebar": {
         "remove": [
          "lasso",
          "autoscale",
          "zoom",
          "pan",
          "zoomin",
          "zoomout",
          "select",
          "reset",
          "resetscale",
          "toimage"
         ]
        },
        "paper_bgcolor": "#4A2582",
        "plot_bgcolor": "#4A2582",
        "template": {
         "data": {
          "bar": [
           {
            "error_x": {
             "color": "#2a3f5f"
            },
            "error_y": {
             "color": "#2a3f5f"
            },
            "marker": {
             "line": {
              "color": "#E5ECF6",
              "width": 0.5
             },
             "pattern": {
              "fillmode": "overlay",
              "size": 10,
              "solidity": 0.2
             }
            },
            "type": "bar"
           }
          ],
          "barpolar": [
           {
            "marker": {
             "line": {
              "color": "#E5ECF6",
              "width": 0.5
             },
             "pattern": {
              "fillmode": "overlay",
              "size": 10,
              "solidity": 0.2
             }
            },
            "type": "barpolar"
           }
          ],
          "carpet": [
           {
            "aaxis": {
             "endlinecolor": "#2a3f5f",
             "gridcolor": "white",
             "linecolor": "white",
             "minorgridcolor": "white",
             "startlinecolor": "#2a3f5f"
            },
            "baxis": {
             "endlinecolor": "#2a3f5f",
             "gridcolor": "white",
             "linecolor": "white",
             "minorgridcolor": "white",
             "startlinecolor": "#2a3f5f"
            },
            "type": "carpet"
           }
          ],
          "choropleth": [
           {
            "colorbar": {
             "outlinewidth": 0,
             "ticks": ""
            },
            "type": "choropleth"
           }
          ],
          "contour": [
           {
            "colorbar": {
             "outlinewidth": 0,
             "ticks": ""
            },
            "colorscale": [
             [
              0,
              "#0d0887"
             ],
             [
              0.1111111111111111,
              "#46039f"
             ],
             [
              0.2222222222222222,
              "#7201a8"
             ],
             [
              0.3333333333333333,
              "#9c179e"
             ],
             [
              0.4444444444444444,
              "#bd3786"
             ],
             [
              0.5555555555555556,
              "#d8576b"
             ],
             [
              0.6666666666666666,
              "#ed7953"
             ],
             [
              0.7777777777777778,
              "#fb9f3a"
             ],
             [
              0.8888888888888888,
              "#fdca26"
             ],
             [
              1,
              "#f0f921"
             ]
            ],
            "type": "contour"
           }
          ],
          "contourcarpet": [
           {
            "colorbar": {
             "outlinewidth": 0,
             "ticks": ""
            },
            "type": "contourcarpet"
           }
          ],
          "heatmap": [
           {
            "colorbar": {
             "outlinewidth": 0,
             "ticks": ""
            },
            "colorscale": [
             [
              0,
              "#0d0887"
             ],
             [
              0.1111111111111111,
              "#46039f"
             ],
             [
              0.2222222222222222,
              "#7201a8"
             ],
             [
              0.3333333333333333,
              "#9c179e"
             ],
             [
              0.4444444444444444,
              "#bd3786"
             ],
             [
              0.5555555555555556,
              "#d8576b"
             ],
             [
              0.6666666666666666,
              "#ed7953"
             ],
             [
              0.7777777777777778,
              "#fb9f3a"
             ],
             [
              0.8888888888888888,
              "#fdca26"
             ],
             [
              1,
              "#f0f921"
             ]
            ],
            "type": "heatmap"
           }
          ],
          "heatmapgl": [
           {
            "colorbar": {
             "outlinewidth": 0,
             "ticks": ""
            },
            "colorscale": [
             [
              0,
              "#0d0887"
             ],
             [
              0.1111111111111111,
              "#46039f"
             ],
             [
              0.2222222222222222,
              "#7201a8"
             ],
             [
              0.3333333333333333,
              "#9c179e"
             ],
             [
              0.4444444444444444,
              "#bd3786"
             ],
             [
              0.5555555555555556,
              "#d8576b"
             ],
             [
              0.6666666666666666,
              "#ed7953"
             ],
             [
              0.7777777777777778,
              "#fb9f3a"
             ],
             [
              0.8888888888888888,
              "#fdca26"
             ],
             [
              1,
              "#f0f921"
             ]
            ],
            "type": "heatmapgl"
           }
          ],
          "histogram": [
           {
            "marker": {
             "pattern": {
              "fillmode": "overlay",
              "size": 10,
              "solidity": 0.2
             }
            },
            "type": "histogram"
           }
          ],
          "histogram2d": [
           {
            "colorbar": {
             "outlinewidth": 0,
             "ticks": ""
            },
            "colorscale": [
             [
              0,
              "#0d0887"
             ],
             [
              0.1111111111111111,
              "#46039f"
             ],
             [
              0.2222222222222222,
              "#7201a8"
             ],
             [
              0.3333333333333333,
              "#9c179e"
             ],
             [
              0.4444444444444444,
              "#bd3786"
             ],
             [
              0.5555555555555556,
              "#d8576b"
             ],
             [
              0.6666666666666666,
              "#ed7953"
             ],
             [
              0.7777777777777778,
              "#fb9f3a"
             ],
             [
              0.8888888888888888,
              "#fdca26"
             ],
             [
              1,
              "#f0f921"
             ]
            ],
            "type": "histogram2d"
           }
          ],
          "histogram2dcontour": [
           {
            "colorbar": {
             "outlinewidth": 0,
             "ticks": ""
            },
            "colorscale": [
             [
              0,
              "#0d0887"
             ],
             [
              0.1111111111111111,
              "#46039f"
             ],
             [
              0.2222222222222222,
              "#7201a8"
             ],
             [
              0.3333333333333333,
              "#9c179e"
             ],
             [
              0.4444444444444444,
              "#bd3786"
             ],
             [
              0.5555555555555556,
              "#d8576b"
             ],
             [
              0.6666666666666666,
              "#ed7953"
             ],
             [
              0.7777777777777778,
              "#fb9f3a"
             ],
             [
              0.8888888888888888,
              "#fdca26"
             ],
             [
              1,
              "#f0f921"
             ]
            ],
            "type": "histogram2dcontour"
           }
          ],
          "mesh3d": [
           {
            "colorbar": {
             "outlinewidth": 0,
             "ticks": ""
            },
            "type": "mesh3d"
           }
          ],
          "parcoords": [
           {
            "line": {
             "colorbar": {
              "outlinewidth": 0,
              "ticks": ""
             }
            },
            "type": "parcoords"
           }
          ],
          "pie": [
           {
            "automargin": true,
            "type": "pie"
           }
          ],
          "scatter": [
           {
            "marker": {
             "colorbar": {
              "outlinewidth": 0,
              "ticks": ""
             }
            },
            "type": "scatter"
           }
          ],
          "scatter3d": [
           {
            "line": {
             "colorbar": {
              "outlinewidth": 0,
              "ticks": ""
             }
            },
            "marker": {
             "colorbar": {
              "outlinewidth": 0,
              "ticks": ""
             }
            },
            "type": "scatter3d"
           }
          ],
          "scattercarpet": [
           {
            "marker": {
             "colorbar": {
              "outlinewidth": 0,
              "ticks": ""
             }
            },
            "type": "scattercarpet"
           }
          ],
          "scattergeo": [
           {
            "marker": {
             "colorbar": {
              "outlinewidth": 0,
              "ticks": ""
             }
            },
            "type": "scattergeo"
           }
          ],
          "scattergl": [
           {
            "marker": {
             "colorbar": {
              "outlinewidth": 0,
              "ticks": ""
             }
            },
            "type": "scattergl"
           }
          ],
          "scattermapbox": [
           {
            "marker": {
             "colorbar": {
              "outlinewidth": 0,
              "ticks": ""
             }
            },
            "type": "scattermapbox"
           }
          ],
          "scatterpolar": [
           {
            "marker": {
             "colorbar": {
              "outlinewidth": 0,
              "ticks": ""
             }
            },
            "type": "scatterpolar"
           }
          ],
          "scatterpolargl": [
           {
            "marker": {
             "colorbar": {
              "outlinewidth": 0,
              "ticks": ""
             }
            },
            "type": "scatterpolargl"
           }
          ],
          "scatterternary": [
           {
            "marker": {
             "colorbar": {
              "outlinewidth": 0,
              "ticks": ""
             }
            },
            "type": "scatterternary"
           }
          ],
          "surface": [
           {
            "colorbar": {
             "outlinewidth": 0,
             "ticks": ""
            },
            "colorscale": [
             [
              0,
              "#0d0887"
             ],
             [
              0.1111111111111111,
              "#46039f"
             ],
             [
              0.2222222222222222,
              "#7201a8"
             ],
             [
              0.3333333333333333,
              "#9c179e"
             ],
             [
              0.4444444444444444,
              "#bd3786"
             ],
             [
              0.5555555555555556,
              "#d8576b"
             ],
             [
              0.6666666666666666,
              "#ed7953"
             ],
             [
              0.7777777777777778,
              "#fb9f3a"
             ],
             [
              0.8888888888888888,
              "#fdca26"
             ],
             [
              1,
              "#f0f921"
             ]
            ],
            "type": "surface"
           }
          ],
          "table": [
           {
            "cells": {
             "fill": {
              "color": "#EBF0F8"
             },
             "line": {
              "color": "white"
             }
            },
            "header": {
             "fill": {
              "color": "#C8D4E3"
             },
             "line": {
              "color": "white"
             }
            },
            "type": "table"
           }
          ]
         },
         "layout": {
          "annotationdefaults": {
           "arrowcolor": "#2a3f5f",
           "arrowhead": 0,
           "arrowwidth": 1
          },
          "autotypenumbers": "strict",
          "coloraxis": {
           "colorbar": {
            "outlinewidth": 0,
            "ticks": ""
           }
          },
          "colorscale": {
           "diverging": [
            [
             0,
             "#8e0152"
            ],
            [
             0.1,
             "#c51b7d"
            ],
            [
             0.2,
             "#de77ae"
            ],
            [
             0.3,
             "#f1b6da"
            ],
            [
             0.4,
             "#fde0ef"
            ],
            [
             0.5,
             "#f7f7f7"
            ],
            [
             0.6,
             "#e6f5d0"
            ],
            [
             0.7,
             "#b8e186"
            ],
            [
             0.8,
             "#7fbc41"
            ],
            [
             0.9,
             "#4d9221"
            ],
            [
             1,
             "#276419"
            ]
           ],
           "sequential": [
            [
             0,
             "#0d0887"
            ],
            [
             0.1111111111111111,
             "#46039f"
            ],
            [
             0.2222222222222222,
             "#7201a8"
            ],
            [
             0.3333333333333333,
             "#9c179e"
            ],
            [
             0.4444444444444444,
             "#bd3786"
            ],
            [
             0.5555555555555556,
             "#d8576b"
            ],
            [
             0.6666666666666666,
             "#ed7953"
            ],
            [
             0.7777777777777778,
             "#fb9f3a"
            ],
            [
             0.8888888888888888,
             "#fdca26"
            ],
            [
             1,
             "#f0f921"
            ]
           ],
           "sequentialminus": [
            [
             0,
             "#0d0887"
            ],
            [
             0.1111111111111111,
             "#46039f"
            ],
            [
             0.2222222222222222,
             "#7201a8"
            ],
            [
             0.3333333333333333,
             "#9c179e"
            ],
            [
             0.4444444444444444,
             "#bd3786"
            ],
            [
             0.5555555555555556,
             "#d8576b"
            ],
            [
             0.6666666666666666,
             "#ed7953"
            ],
            [
             0.7777777777777778,
             "#fb9f3a"
            ],
            [
             0.8888888888888888,
             "#fdca26"
            ],
            [
             1,
             "#f0f921"
            ]
           ]
          },
          "colorway": [
           "#636efa",
           "#EF553B",
           "#00cc96",
           "#ab63fa",
           "#FFA15A",
           "#19d3f3",
           "#FF6692",
           "#B6E880",
           "#FF97FF",
           "#FECB52"
          ],
          "font": {
           "color": "#2a3f5f"
          },
          "geo": {
           "bgcolor": "white",
           "lakecolor": "white",
           "landcolor": "#E5ECF6",
           "showlakes": true,
           "showland": true,
           "subunitcolor": "white"
          },
          "hoverlabel": {
           "align": "left"
          },
          "hovermode": "closest",
          "mapbox": {
           "style": "light"
          },
          "paper_bgcolor": "white",
          "plot_bgcolor": "#E5ECF6",
          "polar": {
           "angularaxis": {
            "gridcolor": "white",
            "linecolor": "white",
            "ticks": ""
           },
           "bgcolor": "#E5ECF6",
           "radialaxis": {
            "gridcolor": "white",
            "linecolor": "white",
            "ticks": ""
           }
          },
          "scene": {
           "xaxis": {
            "backgroundcolor": "#E5ECF6",
            "gridcolor": "white",
            "gridwidth": 2,
            "linecolor": "white",
            "showbackground": true,
            "ticks": "",
            "zerolinecolor": "white"
           },
           "yaxis": {
            "backgroundcolor": "#E5ECF6",
            "gridcolor": "white",
            "gridwidth": 2,
            "linecolor": "white",
            "showbackground": true,
            "ticks": "",
            "zerolinecolor": "white"
           },
           "zaxis": {
            "backgroundcolor": "#E5ECF6",
            "gridcolor": "white",
            "gridwidth": 2,
            "linecolor": "white",
            "showbackground": true,
            "ticks": "",
            "zerolinecolor": "white"
           }
          },
          "shapedefaults": {
           "line": {
            "color": "#2a3f5f"
           }
          },
          "ternary": {
           "aaxis": {
            "gridcolor": "white",
            "linecolor": "white",
            "ticks": ""
           },
           "baxis": {
            "gridcolor": "white",
            "linecolor": "white",
            "ticks": ""
           },
           "bgcolor": "#E5ECF6",
           "caxis": {
            "gridcolor": "white",
            "linecolor": "white",
            "ticks": ""
           }
          },
          "title": {
           "x": 0.05
          },
          "xaxis": {
           "automargin": true,
           "gridcolor": "white",
           "linecolor": "white",
           "ticks": "",
           "title": {
            "standoff": 15
           },
           "zerolinecolor": "white",
           "zerolinewidth": 2
          },
          "yaxis": {
           "automargin": true,
           "gridcolor": "white",
           "linecolor": "white",
           "ticks": "",
           "title": {
            "standoff": 15
           },
           "zerolinecolor": "white",
           "zerolinewidth": 2
          }
         }
        },
        "xaxis": {
         "title": {
          "text": "Tipo de parto"
         }
        },
        "yaxis": {
         "title": {
          "text": "Encuestadas"
         }
        }
       }
      }
     },
     "metadata": {},
     "output_type": "display_data"
    }
   ],
   "source": [
    "tipo_parto = [\n",
    "    'Cesárea de urgencia', \n",
    "    'Cesárea por fallar inducción del parto', \n",
    "    'Cesárea programada', \n",
    "    'Parto vaginal'\n",
    "    ]\n",
    "\n",
    "fig = go.Figure(data=[\n",
    "    go.Bar(name='No, para ninguno', x=tipo_parto, y=info.iloc[0, 1:5], marker_color='#221647', marker_line_width=0),\n",
    "    go.Bar(name='Sí, para algunos', x=tipo_parto, y=info.iloc[1, 1:5], marker_color='#9d5b9c', marker_line_width=0),\n",
    "    go.Bar(name='Sí, para todos', x=tipo_parto, y=info.iloc[2, 1:5], marker_color='#f2b5d3', marker_line_width=0)\n",
    "])\n",
    "\n",
    "# Change the bar mode\n",
    "fig.update_layout(\n",
    "    barmode='stack', \n",
    "    xaxis_title='Tipo de parto', \n",
    "    yaxis_title='Encuestadas',\n",
    "        paper_bgcolor='#4A2582',\n",
    "    plot_bgcolor='#4A2582',\n",
    "    font_color = 'white', \n",
    "    font_family='Arial',\n",
    "    legend_bgcolor='#4A2582',\n",
    "    legend_bordercolor='#241749',\n",
    "    legend_borderwidth=2,\n",
    "    legend_font_color='white',\n",
    "    legend_title=\"Se informó sobre los procedimientos\",\n",
    "    legend_title_side='top',\n",
    "    hoverlabel_font_family='Arial',\n",
    "    modebar_remove=['lasso', 'autoscale', 'zoom', 'pan', 'zoomin', 'zoomout', 'select', 'reset', 'resetscale', 'toimage'],\n",
    "    )\n",
    "\n",
    "fig.show()\n",
    "\n",
    "fig.write_html(f'{figures}/info_parto.html')"
   ]
  },
  {
   "cell_type": "markdown",
   "metadata": {},
   "source": [
    "### Se solicitó tu consentimiento para los procedimientos que te practicaron"
   ]
  },
  {
   "cell_type": "code",
   "execution_count": 262,
   "metadata": {},
   "outputs": [
    {
     "data": {
      "text/html": [
       "<div>\n",
       "<style scoped>\n",
       "    .dataframe tbody tr th:only-of-type {\n",
       "        vertical-align: middle;\n",
       "    }\n",
       "\n",
       "    .dataframe tbody tr th {\n",
       "        vertical-align: top;\n",
       "    }\n",
       "\n",
       "    .dataframe thead th {\n",
       "        text-align: right;\n",
       "    }\n",
       "</style>\n",
       "<table border=\"1\" class=\"dataframe\">\n",
       "  <thead>\n",
       "    <tr style=\"text-align: right;\">\n",
       "      <th></th>\n",
       "      <th>Consentimiento</th>\n",
       "      <th>Cesárea de urgencia (por una complicación de riesgo para la vida)</th>\n",
       "      <th>Cesárea después de fallar la inducción del parto</th>\n",
       "      <th>Cesárea programada</th>\n",
       "      <th>Parto vaginal</th>\n",
       "    </tr>\n",
       "  </thead>\n",
       "  <tbody>\n",
       "    <tr>\n",
       "      <th>0</th>\n",
       "      <td>No, para ninguno</td>\n",
       "      <td>28.0</td>\n",
       "      <td>21.0</td>\n",
       "      <td>10.0</td>\n",
       "      <td>174.0</td>\n",
       "    </tr>\n",
       "    <tr>\n",
       "      <th>1</th>\n",
       "      <td>Sí, para algunos</td>\n",
       "      <td>4.0</td>\n",
       "      <td>NaN</td>\n",
       "      <td>5.0</td>\n",
       "      <td>26.0</td>\n",
       "    </tr>\n",
       "    <tr>\n",
       "      <th>2</th>\n",
       "      <td>Sí, para todos</td>\n",
       "      <td>27.0</td>\n",
       "      <td>51.0</td>\n",
       "      <td>46.0</td>\n",
       "      <td>122.0</td>\n",
       "    </tr>\n",
       "  </tbody>\n",
       "</table>\n",
       "</div>"
      ],
      "text/plain": [
       "     Consentimiento  \\\n",
       "0  No, para ninguno   \n",
       "1  Sí, para algunos   \n",
       "2    Sí, para todos   \n",
       "\n",
       "   Cesárea de urgencia (por una complicación de riesgo para la vida)  \\\n",
       "0                                               28.0                   \n",
       "1                                                4.0                   \n",
       "2                                               27.0                   \n",
       "\n",
       "   Cesárea después de fallar la inducción del parto  Cesárea programada  \\\n",
       "0                                              21.0                10.0   \n",
       "1                                               NaN                 5.0   \n",
       "2                                              51.0                46.0   \n",
       "\n",
       "   Parto vaginal  \n",
       "0          174.0  \n",
       "1           26.0  \n",
       "2          122.0  "
      ]
     },
     "execution_count": 262,
     "metadata": {},
     "output_type": "execute_result"
    }
   ],
   "source": [
    "\"\"\" Create pivot table \"\"\"\n",
    "consentimiento = analyze.create_pivot_tabe(df, values=0, index=74, cols=44)\n",
    "\n",
    "\"\"\" Process pivot table \"\"\"\n",
    "# Convert index to column and create a new index\n",
    "consentimiento = analyze.set_new_index(consentimiento, col_name=\"Consentimiento\")\n",
    "consentimiento = consentimiento[0]\n",
    "consentimiento"
   ]
  },
  {
   "cell_type": "code",
   "execution_count": 263,
   "metadata": {},
   "outputs": [
    {
     "data": {
      "application/vnd.plotly.v1+json": {
       "config": {
        "plotlyServerURL": "https://plot.ly"
       },
       "data": [
        {
         "marker": {
          "color": "#221647",
          "line": {
           "width": 0
          }
         },
         "name": "No, para ninguno",
         "type": "bar",
         "x": [
          "Cesárea de urgencia",
          "Cesárea por fallar inducción del parto",
          "Cesárea programada",
          "Parto vaginal"
         ],
         "y": [
          28,
          21,
          10,
          174
         ]
        },
        {
         "marker": {
          "color": "#9d5b9c",
          "line": {
           "width": 0
          }
         },
         "name": "Sí, para algunos",
         "type": "bar",
         "x": [
          "Cesárea de urgencia",
          "Cesárea por fallar inducción del parto",
          "Cesárea programada",
          "Parto vaginal"
         ],
         "y": [
          4,
          null,
          5,
          26
         ]
        },
        {
         "marker": {
          "color": "#f2b5d3",
          "line": {
           "width": 0
          }
         },
         "name": "Sí, para todos",
         "type": "bar",
         "x": [
          "Cesárea de urgencia",
          "Cesárea por fallar inducción del parto",
          "Cesárea programada",
          "Parto vaginal"
         ],
         "y": [
          27,
          51,
          46,
          122
         ]
        }
       ],
       "layout": {
        "barmode": "stack",
        "font": {
         "color": "white",
         "family": "Arial"
        },
        "hoverlabel": {
         "font": {
          "family": "Arial"
         }
        },
        "legend": {
         "bgcolor": "#4A2582",
         "bordercolor": "#241749",
         "borderwidth": 2,
         "font": {
          "color": "white"
         },
         "title": {
          "side": "top",
          "text": "Se solicitó consentimiento"
         }
        },
        "modebar": {
         "remove": [
          "lasso",
          "autoscale",
          "zoom",
          "pan",
          "zoomin",
          "zoomout",
          "select",
          "reset",
          "resetscale",
          "toimage"
         ]
        },
        "paper_bgcolor": "#4A2582",
        "plot_bgcolor": "#4A2582",
        "template": {
         "data": {
          "bar": [
           {
            "error_x": {
             "color": "#2a3f5f"
            },
            "error_y": {
             "color": "#2a3f5f"
            },
            "marker": {
             "line": {
              "color": "#E5ECF6",
              "width": 0.5
             },
             "pattern": {
              "fillmode": "overlay",
              "size": 10,
              "solidity": 0.2
             }
            },
            "type": "bar"
           }
          ],
          "barpolar": [
           {
            "marker": {
             "line": {
              "color": "#E5ECF6",
              "width": 0.5
             },
             "pattern": {
              "fillmode": "overlay",
              "size": 10,
              "solidity": 0.2
             }
            },
            "type": "barpolar"
           }
          ],
          "carpet": [
           {
            "aaxis": {
             "endlinecolor": "#2a3f5f",
             "gridcolor": "white",
             "linecolor": "white",
             "minorgridcolor": "white",
             "startlinecolor": "#2a3f5f"
            },
            "baxis": {
             "endlinecolor": "#2a3f5f",
             "gridcolor": "white",
             "linecolor": "white",
             "minorgridcolor": "white",
             "startlinecolor": "#2a3f5f"
            },
            "type": "carpet"
           }
          ],
          "choropleth": [
           {
            "colorbar": {
             "outlinewidth": 0,
             "ticks": ""
            },
            "type": "choropleth"
           }
          ],
          "contour": [
           {
            "colorbar": {
             "outlinewidth": 0,
             "ticks": ""
            },
            "colorscale": [
             [
              0,
              "#0d0887"
             ],
             [
              0.1111111111111111,
              "#46039f"
             ],
             [
              0.2222222222222222,
              "#7201a8"
             ],
             [
              0.3333333333333333,
              "#9c179e"
             ],
             [
              0.4444444444444444,
              "#bd3786"
             ],
             [
              0.5555555555555556,
              "#d8576b"
             ],
             [
              0.6666666666666666,
              "#ed7953"
             ],
             [
              0.7777777777777778,
              "#fb9f3a"
             ],
             [
              0.8888888888888888,
              "#fdca26"
             ],
             [
              1,
              "#f0f921"
             ]
            ],
            "type": "contour"
           }
          ],
          "contourcarpet": [
           {
            "colorbar": {
             "outlinewidth": 0,
             "ticks": ""
            },
            "type": "contourcarpet"
           }
          ],
          "heatmap": [
           {
            "colorbar": {
             "outlinewidth": 0,
             "ticks": ""
            },
            "colorscale": [
             [
              0,
              "#0d0887"
             ],
             [
              0.1111111111111111,
              "#46039f"
             ],
             [
              0.2222222222222222,
              "#7201a8"
             ],
             [
              0.3333333333333333,
              "#9c179e"
             ],
             [
              0.4444444444444444,
              "#bd3786"
             ],
             [
              0.5555555555555556,
              "#d8576b"
             ],
             [
              0.6666666666666666,
              "#ed7953"
             ],
             [
              0.7777777777777778,
              "#fb9f3a"
             ],
             [
              0.8888888888888888,
              "#fdca26"
             ],
             [
              1,
              "#f0f921"
             ]
            ],
            "type": "heatmap"
           }
          ],
          "heatmapgl": [
           {
            "colorbar": {
             "outlinewidth": 0,
             "ticks": ""
            },
            "colorscale": [
             [
              0,
              "#0d0887"
             ],
             [
              0.1111111111111111,
              "#46039f"
             ],
             [
              0.2222222222222222,
              "#7201a8"
             ],
             [
              0.3333333333333333,
              "#9c179e"
             ],
             [
              0.4444444444444444,
              "#bd3786"
             ],
             [
              0.5555555555555556,
              "#d8576b"
             ],
             [
              0.6666666666666666,
              "#ed7953"
             ],
             [
              0.7777777777777778,
              "#fb9f3a"
             ],
             [
              0.8888888888888888,
              "#fdca26"
             ],
             [
              1,
              "#f0f921"
             ]
            ],
            "type": "heatmapgl"
           }
          ],
          "histogram": [
           {
            "marker": {
             "pattern": {
              "fillmode": "overlay",
              "size": 10,
              "solidity": 0.2
             }
            },
            "type": "histogram"
           }
          ],
          "histogram2d": [
           {
            "colorbar": {
             "outlinewidth": 0,
             "ticks": ""
            },
            "colorscale": [
             [
              0,
              "#0d0887"
             ],
             [
              0.1111111111111111,
              "#46039f"
             ],
             [
              0.2222222222222222,
              "#7201a8"
             ],
             [
              0.3333333333333333,
              "#9c179e"
             ],
             [
              0.4444444444444444,
              "#bd3786"
             ],
             [
              0.5555555555555556,
              "#d8576b"
             ],
             [
              0.6666666666666666,
              "#ed7953"
             ],
             [
              0.7777777777777778,
              "#fb9f3a"
             ],
             [
              0.8888888888888888,
              "#fdca26"
             ],
             [
              1,
              "#f0f921"
             ]
            ],
            "type": "histogram2d"
           }
          ],
          "histogram2dcontour": [
           {
            "colorbar": {
             "outlinewidth": 0,
             "ticks": ""
            },
            "colorscale": [
             [
              0,
              "#0d0887"
             ],
             [
              0.1111111111111111,
              "#46039f"
             ],
             [
              0.2222222222222222,
              "#7201a8"
             ],
             [
              0.3333333333333333,
              "#9c179e"
             ],
             [
              0.4444444444444444,
              "#bd3786"
             ],
             [
              0.5555555555555556,
              "#d8576b"
             ],
             [
              0.6666666666666666,
              "#ed7953"
             ],
             [
              0.7777777777777778,
              "#fb9f3a"
             ],
             [
              0.8888888888888888,
              "#fdca26"
             ],
             [
              1,
              "#f0f921"
             ]
            ],
            "type": "histogram2dcontour"
           }
          ],
          "mesh3d": [
           {
            "colorbar": {
             "outlinewidth": 0,
             "ticks": ""
            },
            "type": "mesh3d"
           }
          ],
          "parcoords": [
           {
            "line": {
             "colorbar": {
              "outlinewidth": 0,
              "ticks": ""
             }
            },
            "type": "parcoords"
           }
          ],
          "pie": [
           {
            "automargin": true,
            "type": "pie"
           }
          ],
          "scatter": [
           {
            "marker": {
             "colorbar": {
              "outlinewidth": 0,
              "ticks": ""
             }
            },
            "type": "scatter"
           }
          ],
          "scatter3d": [
           {
            "line": {
             "colorbar": {
              "outlinewidth": 0,
              "ticks": ""
             }
            },
            "marker": {
             "colorbar": {
              "outlinewidth": 0,
              "ticks": ""
             }
            },
            "type": "scatter3d"
           }
          ],
          "scattercarpet": [
           {
            "marker": {
             "colorbar": {
              "outlinewidth": 0,
              "ticks": ""
             }
            },
            "type": "scattercarpet"
           }
          ],
          "scattergeo": [
           {
            "marker": {
             "colorbar": {
              "outlinewidth": 0,
              "ticks": ""
             }
            },
            "type": "scattergeo"
           }
          ],
          "scattergl": [
           {
            "marker": {
             "colorbar": {
              "outlinewidth": 0,
              "ticks": ""
             }
            },
            "type": "scattergl"
           }
          ],
          "scattermapbox": [
           {
            "marker": {
             "colorbar": {
              "outlinewidth": 0,
              "ticks": ""
             }
            },
            "type": "scattermapbox"
           }
          ],
          "scatterpolar": [
           {
            "marker": {
             "colorbar": {
              "outlinewidth": 0,
              "ticks": ""
             }
            },
            "type": "scatterpolar"
           }
          ],
          "scatterpolargl": [
           {
            "marker": {
             "colorbar": {
              "outlinewidth": 0,
              "ticks": ""
             }
            },
            "type": "scatterpolargl"
           }
          ],
          "scatterternary": [
           {
            "marker": {
             "colorbar": {
              "outlinewidth": 0,
              "ticks": ""
             }
            },
            "type": "scatterternary"
           }
          ],
          "surface": [
           {
            "colorbar": {
             "outlinewidth": 0,
             "ticks": ""
            },
            "colorscale": [
             [
              0,
              "#0d0887"
             ],
             [
              0.1111111111111111,
              "#46039f"
             ],
             [
              0.2222222222222222,
              "#7201a8"
             ],
             [
              0.3333333333333333,
              "#9c179e"
             ],
             [
              0.4444444444444444,
              "#bd3786"
             ],
             [
              0.5555555555555556,
              "#d8576b"
             ],
             [
              0.6666666666666666,
              "#ed7953"
             ],
             [
              0.7777777777777778,
              "#fb9f3a"
             ],
             [
              0.8888888888888888,
              "#fdca26"
             ],
             [
              1,
              "#f0f921"
             ]
            ],
            "type": "surface"
           }
          ],
          "table": [
           {
            "cells": {
             "fill": {
              "color": "#EBF0F8"
             },
             "line": {
              "color": "white"
             }
            },
            "header": {
             "fill": {
              "color": "#C8D4E3"
             },
             "line": {
              "color": "white"
             }
            },
            "type": "table"
           }
          ]
         },
         "layout": {
          "annotationdefaults": {
           "arrowcolor": "#2a3f5f",
           "arrowhead": 0,
           "arrowwidth": 1
          },
          "autotypenumbers": "strict",
          "coloraxis": {
           "colorbar": {
            "outlinewidth": 0,
            "ticks": ""
           }
          },
          "colorscale": {
           "diverging": [
            [
             0,
             "#8e0152"
            ],
            [
             0.1,
             "#c51b7d"
            ],
            [
             0.2,
             "#de77ae"
            ],
            [
             0.3,
             "#f1b6da"
            ],
            [
             0.4,
             "#fde0ef"
            ],
            [
             0.5,
             "#f7f7f7"
            ],
            [
             0.6,
             "#e6f5d0"
            ],
            [
             0.7,
             "#b8e186"
            ],
            [
             0.8,
             "#7fbc41"
            ],
            [
             0.9,
             "#4d9221"
            ],
            [
             1,
             "#276419"
            ]
           ],
           "sequential": [
            [
             0,
             "#0d0887"
            ],
            [
             0.1111111111111111,
             "#46039f"
            ],
            [
             0.2222222222222222,
             "#7201a8"
            ],
            [
             0.3333333333333333,
             "#9c179e"
            ],
            [
             0.4444444444444444,
             "#bd3786"
            ],
            [
             0.5555555555555556,
             "#d8576b"
            ],
            [
             0.6666666666666666,
             "#ed7953"
            ],
            [
             0.7777777777777778,
             "#fb9f3a"
            ],
            [
             0.8888888888888888,
             "#fdca26"
            ],
            [
             1,
             "#f0f921"
            ]
           ],
           "sequentialminus": [
            [
             0,
             "#0d0887"
            ],
            [
             0.1111111111111111,
             "#46039f"
            ],
            [
             0.2222222222222222,
             "#7201a8"
            ],
            [
             0.3333333333333333,
             "#9c179e"
            ],
            [
             0.4444444444444444,
             "#bd3786"
            ],
            [
             0.5555555555555556,
             "#d8576b"
            ],
            [
             0.6666666666666666,
             "#ed7953"
            ],
            [
             0.7777777777777778,
             "#fb9f3a"
            ],
            [
             0.8888888888888888,
             "#fdca26"
            ],
            [
             1,
             "#f0f921"
            ]
           ]
          },
          "colorway": [
           "#636efa",
           "#EF553B",
           "#00cc96",
           "#ab63fa",
           "#FFA15A",
           "#19d3f3",
           "#FF6692",
           "#B6E880",
           "#FF97FF",
           "#FECB52"
          ],
          "font": {
           "color": "#2a3f5f"
          },
          "geo": {
           "bgcolor": "white",
           "lakecolor": "white",
           "landcolor": "#E5ECF6",
           "showlakes": true,
           "showland": true,
           "subunitcolor": "white"
          },
          "hoverlabel": {
           "align": "left"
          },
          "hovermode": "closest",
          "mapbox": {
           "style": "light"
          },
          "paper_bgcolor": "white",
          "plot_bgcolor": "#E5ECF6",
          "polar": {
           "angularaxis": {
            "gridcolor": "white",
            "linecolor": "white",
            "ticks": ""
           },
           "bgcolor": "#E5ECF6",
           "radialaxis": {
            "gridcolor": "white",
            "linecolor": "white",
            "ticks": ""
           }
          },
          "scene": {
           "xaxis": {
            "backgroundcolor": "#E5ECF6",
            "gridcolor": "white",
            "gridwidth": 2,
            "linecolor": "white",
            "showbackground": true,
            "ticks": "",
            "zerolinecolor": "white"
           },
           "yaxis": {
            "backgroundcolor": "#E5ECF6",
            "gridcolor": "white",
            "gridwidth": 2,
            "linecolor": "white",
            "showbackground": true,
            "ticks": "",
            "zerolinecolor": "white"
           },
           "zaxis": {
            "backgroundcolor": "#E5ECF6",
            "gridcolor": "white",
            "gridwidth": 2,
            "linecolor": "white",
            "showbackground": true,
            "ticks": "",
            "zerolinecolor": "white"
           }
          },
          "shapedefaults": {
           "line": {
            "color": "#2a3f5f"
           }
          },
          "ternary": {
           "aaxis": {
            "gridcolor": "white",
            "linecolor": "white",
            "ticks": ""
           },
           "baxis": {
            "gridcolor": "white",
            "linecolor": "white",
            "ticks": ""
           },
           "bgcolor": "#E5ECF6",
           "caxis": {
            "gridcolor": "white",
            "linecolor": "white",
            "ticks": ""
           }
          },
          "title": {
           "x": 0.05
          },
          "xaxis": {
           "automargin": true,
           "gridcolor": "white",
           "linecolor": "white",
           "ticks": "",
           "title": {
            "standoff": 15
           },
           "zerolinecolor": "white",
           "zerolinewidth": 2
          },
          "yaxis": {
           "automargin": true,
           "gridcolor": "white",
           "linecolor": "white",
           "ticks": "",
           "title": {
            "standoff": 15
           },
           "zerolinecolor": "white",
           "zerolinewidth": 2
          }
         }
        },
        "xaxis": {
         "title": {
          "text": "Tipo de parto"
         }
        },
        "yaxis": {
         "title": {
          "text": "Encuestadas"
         }
        }
       }
      }
     },
     "metadata": {},
     "output_type": "display_data"
    }
   ],
   "source": [
    "tipo_parto = [\n",
    "    'Cesárea de urgencia', \n",
    "    'Cesárea por fallar inducción del parto', \n",
    "    'Cesárea programada', \n",
    "    'Parto vaginal'\n",
    "    ]\n",
    "\n",
    "fig = go.Figure(data=[\n",
    "    go.Bar(name='No, para ninguno', x=tipo_parto, y=consentimiento.iloc[0, 1:5], marker_color='#221647', marker_line_width=0),\n",
    "    go.Bar(name='Sí, para algunos', x=tipo_parto, y=consentimiento.iloc[1, 1:5], marker_color='#9d5b9c', marker_line_width=0),\n",
    "    go.Bar(name='Sí, para todos', x=tipo_parto, y=consentimiento.iloc[2, 1:5], marker_color='#f2b5d3', marker_line_width=0)\n",
    "])\n",
    "\n",
    "# Change the bar mode\n",
    "fig.update_layout(\n",
    "    barmode='stack', \n",
    "    xaxis_title='Tipo de parto', \n",
    "    yaxis_title='Encuestadas',\n",
    "    paper_bgcolor='#4A2582',\n",
    "    plot_bgcolor='#4A2582',\n",
    "    font_color = 'white', \n",
    "    font_family='Arial',\n",
    "    legend_bgcolor='#4A2582',\n",
    "    legend_bordercolor='#241749',\n",
    "    legend_borderwidth=2,\n",
    "    legend_font_color='white',\n",
    "    legend_title=\"Se solicitó consentimiento\",\n",
    "    legend_title_side='top',\n",
    "    hoverlabel_font_family='Arial',\n",
    "    modebar_remove=['lasso', 'autoscale', 'zoom', 'pan', 'zoomin', 'zoomout', 'select', 'reset', 'resetscale', 'toimage'],\n",
    "    )\n",
    "\n",
    "fig.show()\n",
    "\n",
    "fig.write_html(f'{figures}/consentimiento_parto.html')"
   ]
  },
  {
   "cell_type": "markdown",
   "metadata": {},
   "source": [
    "### Cantidad total de tipos de maltratos físico y /o verbal que sufrieron las mujeres"
   ]
  },
  {
   "cell_type": "code",
   "execution_count": 264,
   "metadata": {},
   "outputs": [],
   "source": [
    "\"\"\" Create pivot table \"\"\"\n",
    "list_cols = df.columns\n",
    "\n",
    "m1 = pd.pivot_table(df, values=list_cols[0], columns=list_cols[90], aggfunc='count')\n",
    "m1 = analyze.prepare_table(m1, old_col='Sí', new_col='Maltrato1')\n",
    "\n",
    "m2 = pd.pivot_table(df, values=list_cols[0], columns=list_cols[91], aggfunc='count')\n",
    "m2 = analyze.prepare_table(m2, old_col='Sí', new_col='Maltrato2')\n",
    "\n",
    "m3 = pd.pivot_table(df, values=list_cols[0], columns=list_cols[92], aggfunc='count')\n",
    "m3 = analyze.prepare_table(m3, old_col='Sí', new_col='Maltrato3')\n",
    "\n",
    "m4 = pd.pivot_table(df, values=list_cols[0], columns=list_cols[93], aggfunc='count')\n",
    "m4 = analyze.prepare_table(m4, old_col='Sí', new_col='Maltrato4')\n",
    "\n",
    "m5 = pd.pivot_table(df, values=list_cols[0], columns=list_cols[94], aggfunc='count')\n",
    "m5 = analyze.prepare_table(m5, old_col='Sí', new_col='Maltrato5')\n",
    "\n",
    "m6 = pd.pivot_table(df, values=list_cols[0], columns=list_cols[95], aggfunc='count')\n",
    "m6 = analyze.prepare_table(m6, old_col='Sí', new_col='Maltrato6')\n",
    "\n",
    "m7 = pd.pivot_table(df, values=list_cols[0], columns=list_cols[96], aggfunc='count')\n",
    "m7 = analyze.prepare_table(m7, old_col='Sí', new_col='Maltrato7')\n",
    "\n",
    "m8 = pd.pivot_table(df, values=list_cols[0], columns=list_cols[97], aggfunc='count')\n",
    "m8 = analyze.prepare_table(m8, old_col='Sí', new_col='Maltrato8')\n",
    "\n",
    "m9 = pd.pivot_table(df, values=list_cols[0], columns=list_cols[98], aggfunc='count')\n",
    "m9 = analyze.prepare_table(m9, old_col='Sí', new_col='Maltrato9')\n",
    "\n",
    "m10 = pd.pivot_table(df, values=list_cols[0], columns=list_cols[99], aggfunc='count')\n",
    "m10 = analyze.prepare_table(m10, old_col='Sí', new_col='Maltrato10')"
   ]
  },
  {
   "cell_type": "code",
   "execution_count": 265,
   "metadata": {},
   "outputs": [],
   "source": [
    "maltratos = analyze.del_col(m1[0], m2[0], m3[0], m4[0], m5[0], m6[0], m7[0], m8[0], m9[0], m10[0], col_name='No')"
   ]
  },
  {
   "cell_type": "code",
   "execution_count": 266,
   "metadata": {},
   "outputs": [],
   "source": [
    "dfs = []\n",
    "for i in range(10):\n",
    "    count = maltratos[i].iloc[:, 0]\n",
    "    dfs.append(count)"
   ]
  },
  {
   "cell_type": "code",
   "execution_count": 267,
   "metadata": {},
   "outputs": [
    {
     "data": {
      "text/plain": [
       "0    104\n",
       "1     42\n",
       "2     98\n",
       "3    133\n",
       "4    101\n",
       "5     13\n",
       "6     69\n",
       "7     19\n",
       "8     13\n",
       "9     70\n",
       "dtype: int64"
      ]
     },
     "execution_count": 267,
     "metadata": {},
     "output_type": "execute_result"
    }
   ],
   "source": [
    "count = pd.concat(dfs, ignore_index=True)\n",
    "count"
   ]
  },
  {
   "cell_type": "code",
   "execution_count": 278,
   "metadata": {},
   "outputs": [
    {
     "data": {
      "application/vnd.plotly.v1+json": {
       "config": {
        "plotlyServerURL": "https://plot.ly"
       },
       "data": [
        {
         "hovertext": [
          "Te llamaron por sobrenombres o diminutivos",
          "Se burlaron de ti",
          "Te hablaron en voz alta de modo grosero",
          "Ignoraron algo que les pediste",
          "Te dijeron que no explícitamente a algo que pediste",
          "Te dieron golpes, sacudidas, empujones",
          "Te dijeron que estabas poniendo en riesgo a tu hijo/a",
          "Te culparon por situaciones ocurridas en el nacimiento",
          "Te amenazaron",
          "Otro tipo de maltrato"
         ],
         "marker": {
          "color": [
           "#9479c2",
           "#9479c2",
           "#9479c2",
           "#221647",
           "#9479c2",
           "#9479c2",
           "#9479c2",
           "#9479c2",
           "#9479c2",
           "#9479c2"
          ],
          "line": {
           "width": 0
          }
         },
         "name": "Negaron maltrato",
         "type": "bar",
         "x": [
          "Maltrato1",
          "Maltrato2",
          "Maltrato3",
          "Maltrato4",
          "Maltrato5",
          "Maltrato6",
          "Maltrato7",
          "Maltrato8",
          "Maltrato9",
          "Maltrato10"
         ],
         "y": [
          104,
          42,
          98,
          133,
          101,
          13,
          69,
          19,
          13,
          70
         ]
        }
       ],
       "layout": {
        "font": {
         "color": "white",
         "family": "Arial"
        },
        "hoverlabel": {
         "font": {
          "family": "Arial"
         }
        },
        "legend": {
         "bgcolor": "#4A2582",
         "bordercolor": "#241749",
         "borderwidth": 2,
         "font": {
          "color": "white"
         },
         "title": {
          "side": "top",
          "text": "Tipos de maltratos"
         }
        },
        "modebar": {
         "remove": [
          "lasso",
          "autoscale",
          "zoom",
          "pan",
          "zoomin",
          "zoomout",
          "select",
          "reset",
          "resetscale",
          "toimage"
         ]
        },
        "paper_bgcolor": "#4A2582",
        "plot_bgcolor": "#4A2582",
        "template": {
         "data": {
          "bar": [
           {
            "error_x": {
             "color": "#2a3f5f"
            },
            "error_y": {
             "color": "#2a3f5f"
            },
            "marker": {
             "line": {
              "color": "#E5ECF6",
              "width": 0.5
             },
             "pattern": {
              "fillmode": "overlay",
              "size": 10,
              "solidity": 0.2
             }
            },
            "type": "bar"
           }
          ],
          "barpolar": [
           {
            "marker": {
             "line": {
              "color": "#E5ECF6",
              "width": 0.5
             },
             "pattern": {
              "fillmode": "overlay",
              "size": 10,
              "solidity": 0.2
             }
            },
            "type": "barpolar"
           }
          ],
          "carpet": [
           {
            "aaxis": {
             "endlinecolor": "#2a3f5f",
             "gridcolor": "white",
             "linecolor": "white",
             "minorgridcolor": "white",
             "startlinecolor": "#2a3f5f"
            },
            "baxis": {
             "endlinecolor": "#2a3f5f",
             "gridcolor": "white",
             "linecolor": "white",
             "minorgridcolor": "white",
             "startlinecolor": "#2a3f5f"
            },
            "type": "carpet"
           }
          ],
          "choropleth": [
           {
            "colorbar": {
             "outlinewidth": 0,
             "ticks": ""
            },
            "type": "choropleth"
           }
          ],
          "contour": [
           {
            "colorbar": {
             "outlinewidth": 0,
             "ticks": ""
            },
            "colorscale": [
             [
              0,
              "#0d0887"
             ],
             [
              0.1111111111111111,
              "#46039f"
             ],
             [
              0.2222222222222222,
              "#7201a8"
             ],
             [
              0.3333333333333333,
              "#9c179e"
             ],
             [
              0.4444444444444444,
              "#bd3786"
             ],
             [
              0.5555555555555556,
              "#d8576b"
             ],
             [
              0.6666666666666666,
              "#ed7953"
             ],
             [
              0.7777777777777778,
              "#fb9f3a"
             ],
             [
              0.8888888888888888,
              "#fdca26"
             ],
             [
              1,
              "#f0f921"
             ]
            ],
            "type": "contour"
           }
          ],
          "contourcarpet": [
           {
            "colorbar": {
             "outlinewidth": 0,
             "ticks": ""
            },
            "type": "contourcarpet"
           }
          ],
          "heatmap": [
           {
            "colorbar": {
             "outlinewidth": 0,
             "ticks": ""
            },
            "colorscale": [
             [
              0,
              "#0d0887"
             ],
             [
              0.1111111111111111,
              "#46039f"
             ],
             [
              0.2222222222222222,
              "#7201a8"
             ],
             [
              0.3333333333333333,
              "#9c179e"
             ],
             [
              0.4444444444444444,
              "#bd3786"
             ],
             [
              0.5555555555555556,
              "#d8576b"
             ],
             [
              0.6666666666666666,
              "#ed7953"
             ],
             [
              0.7777777777777778,
              "#fb9f3a"
             ],
             [
              0.8888888888888888,
              "#fdca26"
             ],
             [
              1,
              "#f0f921"
             ]
            ],
            "type": "heatmap"
           }
          ],
          "heatmapgl": [
           {
            "colorbar": {
             "outlinewidth": 0,
             "ticks": ""
            },
            "colorscale": [
             [
              0,
              "#0d0887"
             ],
             [
              0.1111111111111111,
              "#46039f"
             ],
             [
              0.2222222222222222,
              "#7201a8"
             ],
             [
              0.3333333333333333,
              "#9c179e"
             ],
             [
              0.4444444444444444,
              "#bd3786"
             ],
             [
              0.5555555555555556,
              "#d8576b"
             ],
             [
              0.6666666666666666,
              "#ed7953"
             ],
             [
              0.7777777777777778,
              "#fb9f3a"
             ],
             [
              0.8888888888888888,
              "#fdca26"
             ],
             [
              1,
              "#f0f921"
             ]
            ],
            "type": "heatmapgl"
           }
          ],
          "histogram": [
           {
            "marker": {
             "pattern": {
              "fillmode": "overlay",
              "size": 10,
              "solidity": 0.2
             }
            },
            "type": "histogram"
           }
          ],
          "histogram2d": [
           {
            "colorbar": {
             "outlinewidth": 0,
             "ticks": ""
            },
            "colorscale": [
             [
              0,
              "#0d0887"
             ],
             [
              0.1111111111111111,
              "#46039f"
             ],
             [
              0.2222222222222222,
              "#7201a8"
             ],
             [
              0.3333333333333333,
              "#9c179e"
             ],
             [
              0.4444444444444444,
              "#bd3786"
             ],
             [
              0.5555555555555556,
              "#d8576b"
             ],
             [
              0.6666666666666666,
              "#ed7953"
             ],
             [
              0.7777777777777778,
              "#fb9f3a"
             ],
             [
              0.8888888888888888,
              "#fdca26"
             ],
             [
              1,
              "#f0f921"
             ]
            ],
            "type": "histogram2d"
           }
          ],
          "histogram2dcontour": [
           {
            "colorbar": {
             "outlinewidth": 0,
             "ticks": ""
            },
            "colorscale": [
             [
              0,
              "#0d0887"
             ],
             [
              0.1111111111111111,
              "#46039f"
             ],
             [
              0.2222222222222222,
              "#7201a8"
             ],
             [
              0.3333333333333333,
              "#9c179e"
             ],
             [
              0.4444444444444444,
              "#bd3786"
             ],
             [
              0.5555555555555556,
              "#d8576b"
             ],
             [
              0.6666666666666666,
              "#ed7953"
             ],
             [
              0.7777777777777778,
              "#fb9f3a"
             ],
             [
              0.8888888888888888,
              "#fdca26"
             ],
             [
              1,
              "#f0f921"
             ]
            ],
            "type": "histogram2dcontour"
           }
          ],
          "mesh3d": [
           {
            "colorbar": {
             "outlinewidth": 0,
             "ticks": ""
            },
            "type": "mesh3d"
           }
          ],
          "parcoords": [
           {
            "line": {
             "colorbar": {
              "outlinewidth": 0,
              "ticks": ""
             }
            },
            "type": "parcoords"
           }
          ],
          "pie": [
           {
            "automargin": true,
            "type": "pie"
           }
          ],
          "scatter": [
           {
            "marker": {
             "colorbar": {
              "outlinewidth": 0,
              "ticks": ""
             }
            },
            "type": "scatter"
           }
          ],
          "scatter3d": [
           {
            "line": {
             "colorbar": {
              "outlinewidth": 0,
              "ticks": ""
             }
            },
            "marker": {
             "colorbar": {
              "outlinewidth": 0,
              "ticks": ""
             }
            },
            "type": "scatter3d"
           }
          ],
          "scattercarpet": [
           {
            "marker": {
             "colorbar": {
              "outlinewidth": 0,
              "ticks": ""
             }
            },
            "type": "scattercarpet"
           }
          ],
          "scattergeo": [
           {
            "marker": {
             "colorbar": {
              "outlinewidth": 0,
              "ticks": ""
             }
            },
            "type": "scattergeo"
           }
          ],
          "scattergl": [
           {
            "marker": {
             "colorbar": {
              "outlinewidth": 0,
              "ticks": ""
             }
            },
            "type": "scattergl"
           }
          ],
          "scattermapbox": [
           {
            "marker": {
             "colorbar": {
              "outlinewidth": 0,
              "ticks": ""
             }
            },
            "type": "scattermapbox"
           }
          ],
          "scatterpolar": [
           {
            "marker": {
             "colorbar": {
              "outlinewidth": 0,
              "ticks": ""
             }
            },
            "type": "scatterpolar"
           }
          ],
          "scatterpolargl": [
           {
            "marker": {
             "colorbar": {
              "outlinewidth": 0,
              "ticks": ""
             }
            },
            "type": "scatterpolargl"
           }
          ],
          "scatterternary": [
           {
            "marker": {
             "colorbar": {
              "outlinewidth": 0,
              "ticks": ""
             }
            },
            "type": "scatterternary"
           }
          ],
          "surface": [
           {
            "colorbar": {
             "outlinewidth": 0,
             "ticks": ""
            },
            "colorscale": [
             [
              0,
              "#0d0887"
             ],
             [
              0.1111111111111111,
              "#46039f"
             ],
             [
              0.2222222222222222,
              "#7201a8"
             ],
             [
              0.3333333333333333,
              "#9c179e"
             ],
             [
              0.4444444444444444,
              "#bd3786"
             ],
             [
              0.5555555555555556,
              "#d8576b"
             ],
             [
              0.6666666666666666,
              "#ed7953"
             ],
             [
              0.7777777777777778,
              "#fb9f3a"
             ],
             [
              0.8888888888888888,
              "#fdca26"
             ],
             [
              1,
              "#f0f921"
             ]
            ],
            "type": "surface"
           }
          ],
          "table": [
           {
            "cells": {
             "fill": {
              "color": "#EBF0F8"
             },
             "line": {
              "color": "white"
             }
            },
            "header": {
             "fill": {
              "color": "#C8D4E3"
             },
             "line": {
              "color": "white"
             }
            },
            "type": "table"
           }
          ]
         },
         "layout": {
          "annotationdefaults": {
           "arrowcolor": "#2a3f5f",
           "arrowhead": 0,
           "arrowwidth": 1
          },
          "autotypenumbers": "strict",
          "coloraxis": {
           "colorbar": {
            "outlinewidth": 0,
            "ticks": ""
           }
          },
          "colorscale": {
           "diverging": [
            [
             0,
             "#8e0152"
            ],
            [
             0.1,
             "#c51b7d"
            ],
            [
             0.2,
             "#de77ae"
            ],
            [
             0.3,
             "#f1b6da"
            ],
            [
             0.4,
             "#fde0ef"
            ],
            [
             0.5,
             "#f7f7f7"
            ],
            [
             0.6,
             "#e6f5d0"
            ],
            [
             0.7,
             "#b8e186"
            ],
            [
             0.8,
             "#7fbc41"
            ],
            [
             0.9,
             "#4d9221"
            ],
            [
             1,
             "#276419"
            ]
           ],
           "sequential": [
            [
             0,
             "#0d0887"
            ],
            [
             0.1111111111111111,
             "#46039f"
            ],
            [
             0.2222222222222222,
             "#7201a8"
            ],
            [
             0.3333333333333333,
             "#9c179e"
            ],
            [
             0.4444444444444444,
             "#bd3786"
            ],
            [
             0.5555555555555556,
             "#d8576b"
            ],
            [
             0.6666666666666666,
             "#ed7953"
            ],
            [
             0.7777777777777778,
             "#fb9f3a"
            ],
            [
             0.8888888888888888,
             "#fdca26"
            ],
            [
             1,
             "#f0f921"
            ]
           ],
           "sequentialminus": [
            [
             0,
             "#0d0887"
            ],
            [
             0.1111111111111111,
             "#46039f"
            ],
            [
             0.2222222222222222,
             "#7201a8"
            ],
            [
             0.3333333333333333,
             "#9c179e"
            ],
            [
             0.4444444444444444,
             "#bd3786"
            ],
            [
             0.5555555555555556,
             "#d8576b"
            ],
            [
             0.6666666666666666,
             "#ed7953"
            ],
            [
             0.7777777777777778,
             "#fb9f3a"
            ],
            [
             0.8888888888888888,
             "#fdca26"
            ],
            [
             1,
             "#f0f921"
            ]
           ]
          },
          "colorway": [
           "#636efa",
           "#EF553B",
           "#00cc96",
           "#ab63fa",
           "#FFA15A",
           "#19d3f3",
           "#FF6692",
           "#B6E880",
           "#FF97FF",
           "#FECB52"
          ],
          "font": {
           "color": "#2a3f5f"
          },
          "geo": {
           "bgcolor": "white",
           "lakecolor": "white",
           "landcolor": "#E5ECF6",
           "showlakes": true,
           "showland": true,
           "subunitcolor": "white"
          },
          "hoverlabel": {
           "align": "left"
          },
          "hovermode": "closest",
          "mapbox": {
           "style": "light"
          },
          "paper_bgcolor": "white",
          "plot_bgcolor": "#E5ECF6",
          "polar": {
           "angularaxis": {
            "gridcolor": "white",
            "linecolor": "white",
            "ticks": ""
           },
           "bgcolor": "#E5ECF6",
           "radialaxis": {
            "gridcolor": "white",
            "linecolor": "white",
            "ticks": ""
           }
          },
          "scene": {
           "xaxis": {
            "backgroundcolor": "#E5ECF6",
            "gridcolor": "white",
            "gridwidth": 2,
            "linecolor": "white",
            "showbackground": true,
            "ticks": "",
            "zerolinecolor": "white"
           },
           "yaxis": {
            "backgroundcolor": "#E5ECF6",
            "gridcolor": "white",
            "gridwidth": 2,
            "linecolor": "white",
            "showbackground": true,
            "ticks": "",
            "zerolinecolor": "white"
           },
           "zaxis": {
            "backgroundcolor": "#E5ECF6",
            "gridcolor": "white",
            "gridwidth": 2,
            "linecolor": "white",
            "showbackground": true,
            "ticks": "",
            "zerolinecolor": "white"
           }
          },
          "shapedefaults": {
           "line": {
            "color": "#2a3f5f"
           }
          },
          "ternary": {
           "aaxis": {
            "gridcolor": "white",
            "linecolor": "white",
            "ticks": ""
           },
           "baxis": {
            "gridcolor": "white",
            "linecolor": "white",
            "ticks": ""
           },
           "bgcolor": "#E5ECF6",
           "caxis": {
            "gridcolor": "white",
            "linecolor": "white",
            "ticks": ""
           }
          },
          "title": {
           "x": 0.05
          },
          "xaxis": {
           "automargin": true,
           "gridcolor": "white",
           "linecolor": "white",
           "ticks": "",
           "title": {
            "standoff": 15
           },
           "zerolinecolor": "white",
           "zerolinewidth": 2
          },
          "yaxis": {
           "automargin": true,
           "gridcolor": "white",
           "linecolor": "white",
           "ticks": "",
           "title": {
            "standoff": 15
           },
           "zerolinecolor": "white",
           "zerolinewidth": 2
          }
         }
        },
        "xaxis": {
         "title": {
          "text": "Tipos de maltratos"
         }
        },
        "yaxis": {
         "title": {
          "text": "Encuestadas"
         }
        }
       }
      }
     },
     "metadata": {},
     "output_type": "display_data"
    }
   ],
   "source": [
    "# Set values for type of maltratos\n",
    "list_maltratos = ['Maltrato1', \n",
    "            'Maltrato2',\n",
    "            'Maltrato3',\n",
    "            'Maltrato4',\n",
    "            'Maltrato5',\n",
    "            'Maltrato6',\n",
    "            'Maltrato7',\n",
    "            'Maltrato8',\n",
    "            'Maltrato9',\n",
    "            'Maltrato10']\n",
    "\n",
    "maltratos_nombres = ['Te llamaron por sobrenombres o diminutivos',\n",
    "             'Se burlaron de ti', \n",
    "             'Te hablaron en voz alta de modo grosero',\n",
    "             'Ignoraron algo que les pediste',\n",
    "             'Te dijeron que no explícitamente a algo que pediste',  \n",
    "             'Te dieron golpes, sacudidas, empujones', \n",
    "             'Te dijeron que estabas poniendo en riesgo a tu hijo/a', \n",
    "             'Te culparon por situaciones ocurridas en el nacimiento', \n",
    "             'Te amenazaron', \n",
    "             'Otro tipo de maltrato']\n",
    "\n",
    "colors = ['#9479c2'] * 10\n",
    "colors[3] = '#221647'\n",
    "\n",
    "fig = go.Figure(data=[\n",
    "    go.Bar(name='Negaron maltrato', x=list_maltratos, y=count, marker_color=colors, hovertext=[\n",
    "            'Te llamaron por sobrenombres o diminutivos', \n",
    "             'Se burlaron de ti', \n",
    "             'Te hablaron en voz alta de modo grosero',\n",
    "             'Ignoraron algo que les pediste',\n",
    "             'Te dijeron que no explícitamente a algo que pediste',  \n",
    "             'Te dieron golpes, sacudidas, empujones', \n",
    "             'Te dijeron que estabas poniendo en riesgo a tu hijo/a', \n",
    "             'Te culparon por situaciones ocurridas en el nacimiento', \n",
    "             'Te amenazaron', \n",
    "             'Otro tipo de maltrato'], marker_line_width=0)\n",
    "])\n",
    "\n",
    "# Change the bar mode\n",
    "fig.update_layout(\n",
    "    xaxis_title='Tipos de maltratos', \n",
    "    yaxis_title='Encuestadas',\n",
    "    paper_bgcolor='#4A2582',\n",
    "    plot_bgcolor='#4A2582',\n",
    "    font_color = 'white', \n",
    "    font_family='Arial',\n",
    "    legend_bgcolor='#4A2582',\n",
    "    legend_bordercolor='#241749',\n",
    "    legend_borderwidth=2,\n",
    "    legend_font_color='white',\n",
    "    legend_title=\"Tipos de maltratos\",\n",
    "    legend_title_side='top',\n",
    "    hoverlabel_font_family='Arial',\n",
    "    modebar_remove=['lasso', 'autoscale', 'zoom', 'pan', 'zoomin', 'zoomout', 'select', 'reset', 'resetscale', 'toimage'],\n",
    "    )\n",
    "    \n",
    "fig.show()\n",
    "\n",
    "fig.write_html(f'{figures}/cuenta_maltratos.html')"
   ]
  },
  {
   "cell_type": "markdown",
   "metadata": {},
   "source": [
    "### Episiotomía de acuerdo al tipo de parto"
   ]
  },
  {
   "cell_type": "code",
   "execution_count": 275,
   "metadata": {},
   "outputs": [],
   "source": [
    "\"\"\" Create pivot table \"\"\"\n",
    "episiotomia = analyze.create_pivot_tabe(df, values=0, index=78, cols=44)\n",
    "episiotomia = analyze.set_new_index(episiotomia, col_name='Episiotomía')\n",
    "episiotomia = episiotomia[0]"
   ]
  },
  {
   "cell_type": "code",
   "execution_count": 280,
   "metadata": {},
   "outputs": [
    {
     "data": {
      "application/vnd.plotly.v1+json": {
       "config": {
        "plotlyServerURL": "https://plot.ly"
       },
       "data": [
        {
         "marker": {
          "color": "#221647",
          "line": {
           "width": 0
          }
         },
         "name": "No",
         "type": "bar",
         "x": [
          "Cesárea de urgencia",
          "Cesárea por fallar inducción del parto",
          "Cesárea programada",
          "Parto vaginal"
         ],
         "y": [
          58,
          71,
          60,
          81
         ]
        },
        {
         "marker": {
          "color": "#f2b5d3",
          "line": {
           "width": 0
          }
         },
         "name": "Sí",
         "type": "bar",
         "x": [
          "Cesárea de urgencia",
          "Cesárea por fallar inducción del parto",
          "Cesárea programada",
          "Parto vaginal"
         ],
         "y": [
          1,
          1,
          1,
          241
         ]
        }
       ],
       "layout": {
        "barmode": "stack",
        "font": {
         "color": "white",
         "family": "Arial"
        },
        "hoverlabel": {
         "font": {
          "family": "Arial"
         }
        },
        "legend": {
         "bgcolor": "#4A2582",
         "bordercolor": "#241749",
         "borderwidth": 2,
         "font": {
          "color": "white"
         },
         "title": {
          "side": "top",
          "text": "Practicaron episiotomía"
         }
        },
        "modebar": {
         "remove": [
          "lasso",
          "autoscale",
          "zoom",
          "pan",
          "zoomin",
          "zoomout",
          "select",
          "reset",
          "resetscale",
          "toimage"
         ]
        },
        "paper_bgcolor": "#4A2582",
        "plot_bgcolor": "#4A2582",
        "template": {
         "data": {
          "bar": [
           {
            "error_x": {
             "color": "#2a3f5f"
            },
            "error_y": {
             "color": "#2a3f5f"
            },
            "marker": {
             "line": {
              "color": "#E5ECF6",
              "width": 0.5
             },
             "pattern": {
              "fillmode": "overlay",
              "size": 10,
              "solidity": 0.2
             }
            },
            "type": "bar"
           }
          ],
          "barpolar": [
           {
            "marker": {
             "line": {
              "color": "#E5ECF6",
              "width": 0.5
             },
             "pattern": {
              "fillmode": "overlay",
              "size": 10,
              "solidity": 0.2
             }
            },
            "type": "barpolar"
           }
          ],
          "carpet": [
           {
            "aaxis": {
             "endlinecolor": "#2a3f5f",
             "gridcolor": "white",
             "linecolor": "white",
             "minorgridcolor": "white",
             "startlinecolor": "#2a3f5f"
            },
            "baxis": {
             "endlinecolor": "#2a3f5f",
             "gridcolor": "white",
             "linecolor": "white",
             "minorgridcolor": "white",
             "startlinecolor": "#2a3f5f"
            },
            "type": "carpet"
           }
          ],
          "choropleth": [
           {
            "colorbar": {
             "outlinewidth": 0,
             "ticks": ""
            },
            "type": "choropleth"
           }
          ],
          "contour": [
           {
            "colorbar": {
             "outlinewidth": 0,
             "ticks": ""
            },
            "colorscale": [
             [
              0,
              "#0d0887"
             ],
             [
              0.1111111111111111,
              "#46039f"
             ],
             [
              0.2222222222222222,
              "#7201a8"
             ],
             [
              0.3333333333333333,
              "#9c179e"
             ],
             [
              0.4444444444444444,
              "#bd3786"
             ],
             [
              0.5555555555555556,
              "#d8576b"
             ],
             [
              0.6666666666666666,
              "#ed7953"
             ],
             [
              0.7777777777777778,
              "#fb9f3a"
             ],
             [
              0.8888888888888888,
              "#fdca26"
             ],
             [
              1,
              "#f0f921"
             ]
            ],
            "type": "contour"
           }
          ],
          "contourcarpet": [
           {
            "colorbar": {
             "outlinewidth": 0,
             "ticks": ""
            },
            "type": "contourcarpet"
           }
          ],
          "heatmap": [
           {
            "colorbar": {
             "outlinewidth": 0,
             "ticks": ""
            },
            "colorscale": [
             [
              0,
              "#0d0887"
             ],
             [
              0.1111111111111111,
              "#46039f"
             ],
             [
              0.2222222222222222,
              "#7201a8"
             ],
             [
              0.3333333333333333,
              "#9c179e"
             ],
             [
              0.4444444444444444,
              "#bd3786"
             ],
             [
              0.5555555555555556,
              "#d8576b"
             ],
             [
              0.6666666666666666,
              "#ed7953"
             ],
             [
              0.7777777777777778,
              "#fb9f3a"
             ],
             [
              0.8888888888888888,
              "#fdca26"
             ],
             [
              1,
              "#f0f921"
             ]
            ],
            "type": "heatmap"
           }
          ],
          "heatmapgl": [
           {
            "colorbar": {
             "outlinewidth": 0,
             "ticks": ""
            },
            "colorscale": [
             [
              0,
              "#0d0887"
             ],
             [
              0.1111111111111111,
              "#46039f"
             ],
             [
              0.2222222222222222,
              "#7201a8"
             ],
             [
              0.3333333333333333,
              "#9c179e"
             ],
             [
              0.4444444444444444,
              "#bd3786"
             ],
             [
              0.5555555555555556,
              "#d8576b"
             ],
             [
              0.6666666666666666,
              "#ed7953"
             ],
             [
              0.7777777777777778,
              "#fb9f3a"
             ],
             [
              0.8888888888888888,
              "#fdca26"
             ],
             [
              1,
              "#f0f921"
             ]
            ],
            "type": "heatmapgl"
           }
          ],
          "histogram": [
           {
            "marker": {
             "pattern": {
              "fillmode": "overlay",
              "size": 10,
              "solidity": 0.2
             }
            },
            "type": "histogram"
           }
          ],
          "histogram2d": [
           {
            "colorbar": {
             "outlinewidth": 0,
             "ticks": ""
            },
            "colorscale": [
             [
              0,
              "#0d0887"
             ],
             [
              0.1111111111111111,
              "#46039f"
             ],
             [
              0.2222222222222222,
              "#7201a8"
             ],
             [
              0.3333333333333333,
              "#9c179e"
             ],
             [
              0.4444444444444444,
              "#bd3786"
             ],
             [
              0.5555555555555556,
              "#d8576b"
             ],
             [
              0.6666666666666666,
              "#ed7953"
             ],
             [
              0.7777777777777778,
              "#fb9f3a"
             ],
             [
              0.8888888888888888,
              "#fdca26"
             ],
             [
              1,
              "#f0f921"
             ]
            ],
            "type": "histogram2d"
           }
          ],
          "histogram2dcontour": [
           {
            "colorbar": {
             "outlinewidth": 0,
             "ticks": ""
            },
            "colorscale": [
             [
              0,
              "#0d0887"
             ],
             [
              0.1111111111111111,
              "#46039f"
             ],
             [
              0.2222222222222222,
              "#7201a8"
             ],
             [
              0.3333333333333333,
              "#9c179e"
             ],
             [
              0.4444444444444444,
              "#bd3786"
             ],
             [
              0.5555555555555556,
              "#d8576b"
             ],
             [
              0.6666666666666666,
              "#ed7953"
             ],
             [
              0.7777777777777778,
              "#fb9f3a"
             ],
             [
              0.8888888888888888,
              "#fdca26"
             ],
             [
              1,
              "#f0f921"
             ]
            ],
            "type": "histogram2dcontour"
           }
          ],
          "mesh3d": [
           {
            "colorbar": {
             "outlinewidth": 0,
             "ticks": ""
            },
            "type": "mesh3d"
           }
          ],
          "parcoords": [
           {
            "line": {
             "colorbar": {
              "outlinewidth": 0,
              "ticks": ""
             }
            },
            "type": "parcoords"
           }
          ],
          "pie": [
           {
            "automargin": true,
            "type": "pie"
           }
          ],
          "scatter": [
           {
            "marker": {
             "colorbar": {
              "outlinewidth": 0,
              "ticks": ""
             }
            },
            "type": "scatter"
           }
          ],
          "scatter3d": [
           {
            "line": {
             "colorbar": {
              "outlinewidth": 0,
              "ticks": ""
             }
            },
            "marker": {
             "colorbar": {
              "outlinewidth": 0,
              "ticks": ""
             }
            },
            "type": "scatter3d"
           }
          ],
          "scattercarpet": [
           {
            "marker": {
             "colorbar": {
              "outlinewidth": 0,
              "ticks": ""
             }
            },
            "type": "scattercarpet"
           }
          ],
          "scattergeo": [
           {
            "marker": {
             "colorbar": {
              "outlinewidth": 0,
              "ticks": ""
             }
            },
            "type": "scattergeo"
           }
          ],
          "scattergl": [
           {
            "marker": {
             "colorbar": {
              "outlinewidth": 0,
              "ticks": ""
             }
            },
            "type": "scattergl"
           }
          ],
          "scattermapbox": [
           {
            "marker": {
             "colorbar": {
              "outlinewidth": 0,
              "ticks": ""
             }
            },
            "type": "scattermapbox"
           }
          ],
          "scatterpolar": [
           {
            "marker": {
             "colorbar": {
              "outlinewidth": 0,
              "ticks": ""
             }
            },
            "type": "scatterpolar"
           }
          ],
          "scatterpolargl": [
           {
            "marker": {
             "colorbar": {
              "outlinewidth": 0,
              "ticks": ""
             }
            },
            "type": "scatterpolargl"
           }
          ],
          "scatterternary": [
           {
            "marker": {
             "colorbar": {
              "outlinewidth": 0,
              "ticks": ""
             }
            },
            "type": "scatterternary"
           }
          ],
          "surface": [
           {
            "colorbar": {
             "outlinewidth": 0,
             "ticks": ""
            },
            "colorscale": [
             [
              0,
              "#0d0887"
             ],
             [
              0.1111111111111111,
              "#46039f"
             ],
             [
              0.2222222222222222,
              "#7201a8"
             ],
             [
              0.3333333333333333,
              "#9c179e"
             ],
             [
              0.4444444444444444,
              "#bd3786"
             ],
             [
              0.5555555555555556,
              "#d8576b"
             ],
             [
              0.6666666666666666,
              "#ed7953"
             ],
             [
              0.7777777777777778,
              "#fb9f3a"
             ],
             [
              0.8888888888888888,
              "#fdca26"
             ],
             [
              1,
              "#f0f921"
             ]
            ],
            "type": "surface"
           }
          ],
          "table": [
           {
            "cells": {
             "fill": {
              "color": "#EBF0F8"
             },
             "line": {
              "color": "white"
             }
            },
            "header": {
             "fill": {
              "color": "#C8D4E3"
             },
             "line": {
              "color": "white"
             }
            },
            "type": "table"
           }
          ]
         },
         "layout": {
          "annotationdefaults": {
           "arrowcolor": "#2a3f5f",
           "arrowhead": 0,
           "arrowwidth": 1
          },
          "autotypenumbers": "strict",
          "coloraxis": {
           "colorbar": {
            "outlinewidth": 0,
            "ticks": ""
           }
          },
          "colorscale": {
           "diverging": [
            [
             0,
             "#8e0152"
            ],
            [
             0.1,
             "#c51b7d"
            ],
            [
             0.2,
             "#de77ae"
            ],
            [
             0.3,
             "#f1b6da"
            ],
            [
             0.4,
             "#fde0ef"
            ],
            [
             0.5,
             "#f7f7f7"
            ],
            [
             0.6,
             "#e6f5d0"
            ],
            [
             0.7,
             "#b8e186"
            ],
            [
             0.8,
             "#7fbc41"
            ],
            [
             0.9,
             "#4d9221"
            ],
            [
             1,
             "#276419"
            ]
           ],
           "sequential": [
            [
             0,
             "#0d0887"
            ],
            [
             0.1111111111111111,
             "#46039f"
            ],
            [
             0.2222222222222222,
             "#7201a8"
            ],
            [
             0.3333333333333333,
             "#9c179e"
            ],
            [
             0.4444444444444444,
             "#bd3786"
            ],
            [
             0.5555555555555556,
             "#d8576b"
            ],
            [
             0.6666666666666666,
             "#ed7953"
            ],
            [
             0.7777777777777778,
             "#fb9f3a"
            ],
            [
             0.8888888888888888,
             "#fdca26"
            ],
            [
             1,
             "#f0f921"
            ]
           ],
           "sequentialminus": [
            [
             0,
             "#0d0887"
            ],
            [
             0.1111111111111111,
             "#46039f"
            ],
            [
             0.2222222222222222,
             "#7201a8"
            ],
            [
             0.3333333333333333,
             "#9c179e"
            ],
            [
             0.4444444444444444,
             "#bd3786"
            ],
            [
             0.5555555555555556,
             "#d8576b"
            ],
            [
             0.6666666666666666,
             "#ed7953"
            ],
            [
             0.7777777777777778,
             "#fb9f3a"
            ],
            [
             0.8888888888888888,
             "#fdca26"
            ],
            [
             1,
             "#f0f921"
            ]
           ]
          },
          "colorway": [
           "#636efa",
           "#EF553B",
           "#00cc96",
           "#ab63fa",
           "#FFA15A",
           "#19d3f3",
           "#FF6692",
           "#B6E880",
           "#FF97FF",
           "#FECB52"
          ],
          "font": {
           "color": "#2a3f5f"
          },
          "geo": {
           "bgcolor": "white",
           "lakecolor": "white",
           "landcolor": "#E5ECF6",
           "showlakes": true,
           "showland": true,
           "subunitcolor": "white"
          },
          "hoverlabel": {
           "align": "left"
          },
          "hovermode": "closest",
          "mapbox": {
           "style": "light"
          },
          "paper_bgcolor": "white",
          "plot_bgcolor": "#E5ECF6",
          "polar": {
           "angularaxis": {
            "gridcolor": "white",
            "linecolor": "white",
            "ticks": ""
           },
           "bgcolor": "#E5ECF6",
           "radialaxis": {
            "gridcolor": "white",
            "linecolor": "white",
            "ticks": ""
           }
          },
          "scene": {
           "xaxis": {
            "backgroundcolor": "#E5ECF6",
            "gridcolor": "white",
            "gridwidth": 2,
            "linecolor": "white",
            "showbackground": true,
            "ticks": "",
            "zerolinecolor": "white"
           },
           "yaxis": {
            "backgroundcolor": "#E5ECF6",
            "gridcolor": "white",
            "gridwidth": 2,
            "linecolor": "white",
            "showbackground": true,
            "ticks": "",
            "zerolinecolor": "white"
           },
           "zaxis": {
            "backgroundcolor": "#E5ECF6",
            "gridcolor": "white",
            "gridwidth": 2,
            "linecolor": "white",
            "showbackground": true,
            "ticks": "",
            "zerolinecolor": "white"
           }
          },
          "shapedefaults": {
           "line": {
            "color": "#2a3f5f"
           }
          },
          "ternary": {
           "aaxis": {
            "gridcolor": "white",
            "linecolor": "white",
            "ticks": ""
           },
           "baxis": {
            "gridcolor": "white",
            "linecolor": "white",
            "ticks": ""
           },
           "bgcolor": "#E5ECF6",
           "caxis": {
            "gridcolor": "white",
            "linecolor": "white",
            "ticks": ""
           }
          },
          "title": {
           "x": 0.05
          },
          "xaxis": {
           "automargin": true,
           "gridcolor": "white",
           "linecolor": "white",
           "ticks": "",
           "title": {
            "standoff": 15
           },
           "zerolinecolor": "white",
           "zerolinewidth": 2
          },
          "yaxis": {
           "automargin": true,
           "gridcolor": "white",
           "linecolor": "white",
           "ticks": "",
           "title": {
            "standoff": 15
           },
           "zerolinecolor": "white",
           "zerolinewidth": 2
          }
         }
        },
        "xaxis": {
         "title": {
          "text": "Tipo de parto"
         }
        },
        "yaxis": {
         "title": {
          "text": "Encuestadas"
         }
        }
       }
      }
     },
     "metadata": {},
     "output_type": "display_data"
    }
   ],
   "source": [
    "tipo_parto = [\n",
    "    'Cesárea de urgencia', \n",
    "    'Cesárea por fallar inducción del parto', \n",
    "    'Cesárea programada', \n",
    "    'Parto vaginal'\n",
    "    ]\n",
    "    \n",
    "fig = go.Figure(data=[\n",
    "    go.Bar(name='No', x=tipo_parto, y=episiotomia.iloc[0, 1:5], marker_color='#221647', marker_line_width=0),\n",
    "    go.Bar(name='Sí', x=tipo_parto, y=episiotomia.iloc[1, 1:5], marker_color='#f2b5d3', marker_line_width=0)\n",
    "])\n",
    "\n",
    "# Change the bar mode\n",
    "fig.update_layout(\n",
    "    barmode='stack', \n",
    "    xaxis_title='Tipo de parto', \n",
    "    yaxis_title='Encuestadas',\n",
    "    paper_bgcolor='#4A2582',\n",
    "    plot_bgcolor='#4A2582',\n",
    "    font_color = 'white', \n",
    "    font_family='Arial',\n",
    "    legend_bgcolor='#4A2582',\n",
    "    legend_bordercolor='#241749',\n",
    "    legend_borderwidth=2,\n",
    "    legend_font_color='white',\n",
    "    legend_title=\"Practicaron episiotomía\",\n",
    "    legend_title_side='top',\n",
    "    hoverlabel_font_family='Arial',\n",
    "    modebar_remove=['lasso', 'autoscale', 'zoom', 'pan', 'zoomin', 'zoomout', 'select', 'reset', 'resetscale', 'toimage'],\n",
    "    )\n",
    "\n",
    "fig.show()\n",
    "\n",
    "fig.write_html(f'{figures}/episiotomia_parto.html')"
   ]
  },
  {
   "cell_type": "markdown",
   "metadata": {},
   "source": [
    "### Recibió información por parte del personal médico sobre su estado de salud antes del parto"
   ]
  },
  {
   "cell_type": "code",
   "execution_count": 5,
   "metadata": {},
   "outputs": [
    {
     "data": {
      "text/html": [
       "<div>\n",
       "<style scoped>\n",
       "    .dataframe tbody tr th:only-of-type {\n",
       "        vertical-align: middle;\n",
       "    }\n",
       "\n",
       "    .dataframe tbody tr th {\n",
       "        vertical-align: top;\n",
       "    }\n",
       "\n",
       "    .dataframe thead th {\n",
       "        text-align: right;\n",
       "    }\n",
       "</style>\n",
       "<table border=\"1\" class=\"dataframe\">\n",
       "  <thead>\n",
       "    <tr style=\"text-align: right;\">\n",
       "      <th></th>\n",
       "      <th>Información</th>\n",
       "      <th>De alto riesgo (proceso con complicaciones asociadas o enfermedades preexistentes que presentan riesgo aumentado para la mujer y/o el/la bebé)</th>\n",
       "      <th>De bajo riesgo (proceso normal, mujer sana-bebé sano/a)</th>\n",
       "      <th>Otro</th>\n",
       "    </tr>\n",
       "  </thead>\n",
       "  <tbody>\n",
       "    <tr>\n",
       "      <th>0</th>\n",
       "      <td>No</td>\n",
       "      <td>36</td>\n",
       "      <td>72</td>\n",
       "      <td>14</td>\n",
       "    </tr>\n",
       "    <tr>\n",
       "      <th>1</th>\n",
       "      <td>Sí</td>\n",
       "      <td>116</td>\n",
       "      <td>255</td>\n",
       "      <td>21</td>\n",
       "    </tr>\n",
       "  </tbody>\n",
       "</table>\n",
       "</div>"
      ],
      "text/plain": [
       "  Información  \\\n",
       "0          No   \n",
       "1          Sí   \n",
       "\n",
       "   De alto riesgo (proceso con complicaciones asociadas o enfermedades preexistentes que presentan riesgo aumentado para la mujer y/o el/la bebé)  \\\n",
       "0                                                 36                                                                                                \n",
       "1                                                116                                                                                                \n",
       "\n",
       "   De bajo riesgo (proceso normal, mujer sana-bebé sano/a)  Otro  \n",
       "0                                                 72          14  \n",
       "1                                                255          21  "
      ]
     },
     "execution_count": 5,
     "metadata": {},
     "output_type": "execute_result"
    }
   ],
   "source": [
    "informacion = analyze.create_pivot_tabe(df, values=0, index=38, cols=41)\n",
    "informacion = analyze.set_new_index(informacion, col_name='Información')\n",
    "informacion = informacion[0]\n",
    "informacion"
   ]
  },
  {
   "cell_type": "code",
   "execution_count": 12,
   "metadata": {},
   "outputs": [
    {
     "data": {
      "application/vnd.plotly.v1+json": {
       "config": {
        "plotlyServerURL": "https://plot.ly"
       },
       "data": [
        {
         "marker": {
          "color": "#221647",
          "line": {
           "width": 0
          }
         },
         "name": "Sí",
         "type": "bar",
         "x": [
          "Alto riesgo",
          "Bajo riesgo",
          "Otro"
         ],
         "y": [
          115,
          253,
          21
         ]
        },
        {
         "marker": {
          "color": "#f2b5d3",
          "line": {
           "width": 0
          }
         },
         "name": "No",
         "type": "bar",
         "x": [
          "Alto riesgo",
          "Bajo riesgo",
          "Otro"
         ],
         "y": [
          37,
          74,
          14
         ]
        }
       ],
       "layout": {
        "barmode": "stack",
        "font": {
         "color": "white",
         "family": "Arial"
        },
        "hoverlabel": {
         "font": {
          "family": "Arial"
         }
        },
        "legend": {
         "bgcolor": "#4A2582",
         "bordercolor": "#241749",
         "borderwidth": 2,
         "font": {
          "color": "white"
         },
         "title": {
          "side": "top",
          "text": "Recibió información"
         }
        },
        "modebar": {
         "remove": [
          "lasso",
          "autoscale",
          "zoom",
          "pan",
          "zoomin",
          "zoomout",
          "select",
          "reset",
          "resetscale",
          "toimage"
         ]
        },
        "paper_bgcolor": "#4A2582",
        "plot_bgcolor": "#4A2582",
        "template": {
         "data": {
          "bar": [
           {
            "error_x": {
             "color": "#2a3f5f"
            },
            "error_y": {
             "color": "#2a3f5f"
            },
            "marker": {
             "line": {
              "color": "#E5ECF6",
              "width": 0.5
             },
             "pattern": {
              "fillmode": "overlay",
              "size": 10,
              "solidity": 0.2
             }
            },
            "type": "bar"
           }
          ],
          "barpolar": [
           {
            "marker": {
             "line": {
              "color": "#E5ECF6",
              "width": 0.5
             },
             "pattern": {
              "fillmode": "overlay",
              "size": 10,
              "solidity": 0.2
             }
            },
            "type": "barpolar"
           }
          ],
          "carpet": [
           {
            "aaxis": {
             "endlinecolor": "#2a3f5f",
             "gridcolor": "white",
             "linecolor": "white",
             "minorgridcolor": "white",
             "startlinecolor": "#2a3f5f"
            },
            "baxis": {
             "endlinecolor": "#2a3f5f",
             "gridcolor": "white",
             "linecolor": "white",
             "minorgridcolor": "white",
             "startlinecolor": "#2a3f5f"
            },
            "type": "carpet"
           }
          ],
          "choropleth": [
           {
            "colorbar": {
             "outlinewidth": 0,
             "ticks": ""
            },
            "type": "choropleth"
           }
          ],
          "contour": [
           {
            "colorbar": {
             "outlinewidth": 0,
             "ticks": ""
            },
            "colorscale": [
             [
              0,
              "#0d0887"
             ],
             [
              0.1111111111111111,
              "#46039f"
             ],
             [
              0.2222222222222222,
              "#7201a8"
             ],
             [
              0.3333333333333333,
              "#9c179e"
             ],
             [
              0.4444444444444444,
              "#bd3786"
             ],
             [
              0.5555555555555556,
              "#d8576b"
             ],
             [
              0.6666666666666666,
              "#ed7953"
             ],
             [
              0.7777777777777778,
              "#fb9f3a"
             ],
             [
              0.8888888888888888,
              "#fdca26"
             ],
             [
              1,
              "#f0f921"
             ]
            ],
            "type": "contour"
           }
          ],
          "contourcarpet": [
           {
            "colorbar": {
             "outlinewidth": 0,
             "ticks": ""
            },
            "type": "contourcarpet"
           }
          ],
          "heatmap": [
           {
            "colorbar": {
             "outlinewidth": 0,
             "ticks": ""
            },
            "colorscale": [
             [
              0,
              "#0d0887"
             ],
             [
              0.1111111111111111,
              "#46039f"
             ],
             [
              0.2222222222222222,
              "#7201a8"
             ],
             [
              0.3333333333333333,
              "#9c179e"
             ],
             [
              0.4444444444444444,
              "#bd3786"
             ],
             [
              0.5555555555555556,
              "#d8576b"
             ],
             [
              0.6666666666666666,
              "#ed7953"
             ],
             [
              0.7777777777777778,
              "#fb9f3a"
             ],
             [
              0.8888888888888888,
              "#fdca26"
             ],
             [
              1,
              "#f0f921"
             ]
            ],
            "type": "heatmap"
           }
          ],
          "heatmapgl": [
           {
            "colorbar": {
             "outlinewidth": 0,
             "ticks": ""
            },
            "colorscale": [
             [
              0,
              "#0d0887"
             ],
             [
              0.1111111111111111,
              "#46039f"
             ],
             [
              0.2222222222222222,
              "#7201a8"
             ],
             [
              0.3333333333333333,
              "#9c179e"
             ],
             [
              0.4444444444444444,
              "#bd3786"
             ],
             [
              0.5555555555555556,
              "#d8576b"
             ],
             [
              0.6666666666666666,
              "#ed7953"
             ],
             [
              0.7777777777777778,
              "#fb9f3a"
             ],
             [
              0.8888888888888888,
              "#fdca26"
             ],
             [
              1,
              "#f0f921"
             ]
            ],
            "type": "heatmapgl"
           }
          ],
          "histogram": [
           {
            "marker": {
             "pattern": {
              "fillmode": "overlay",
              "size": 10,
              "solidity": 0.2
             }
            },
            "type": "histogram"
           }
          ],
          "histogram2d": [
           {
            "colorbar": {
             "outlinewidth": 0,
             "ticks": ""
            },
            "colorscale": [
             [
              0,
              "#0d0887"
             ],
             [
              0.1111111111111111,
              "#46039f"
             ],
             [
              0.2222222222222222,
              "#7201a8"
             ],
             [
              0.3333333333333333,
              "#9c179e"
             ],
             [
              0.4444444444444444,
              "#bd3786"
             ],
             [
              0.5555555555555556,
              "#d8576b"
             ],
             [
              0.6666666666666666,
              "#ed7953"
             ],
             [
              0.7777777777777778,
              "#fb9f3a"
             ],
             [
              0.8888888888888888,
              "#fdca26"
             ],
             [
              1,
              "#f0f921"
             ]
            ],
            "type": "histogram2d"
           }
          ],
          "histogram2dcontour": [
           {
            "colorbar": {
             "outlinewidth": 0,
             "ticks": ""
            },
            "colorscale": [
             [
              0,
              "#0d0887"
             ],
             [
              0.1111111111111111,
              "#46039f"
             ],
             [
              0.2222222222222222,
              "#7201a8"
             ],
             [
              0.3333333333333333,
              "#9c179e"
             ],
             [
              0.4444444444444444,
              "#bd3786"
             ],
             [
              0.5555555555555556,
              "#d8576b"
             ],
             [
              0.6666666666666666,
              "#ed7953"
             ],
             [
              0.7777777777777778,
              "#fb9f3a"
             ],
             [
              0.8888888888888888,
              "#fdca26"
             ],
             [
              1,
              "#f0f921"
             ]
            ],
            "type": "histogram2dcontour"
           }
          ],
          "mesh3d": [
           {
            "colorbar": {
             "outlinewidth": 0,
             "ticks": ""
            },
            "type": "mesh3d"
           }
          ],
          "parcoords": [
           {
            "line": {
             "colorbar": {
              "outlinewidth": 0,
              "ticks": ""
             }
            },
            "type": "parcoords"
           }
          ],
          "pie": [
           {
            "automargin": true,
            "type": "pie"
           }
          ],
          "scatter": [
           {
            "marker": {
             "colorbar": {
              "outlinewidth": 0,
              "ticks": ""
             }
            },
            "type": "scatter"
           }
          ],
          "scatter3d": [
           {
            "line": {
             "colorbar": {
              "outlinewidth": 0,
              "ticks": ""
             }
            },
            "marker": {
             "colorbar": {
              "outlinewidth": 0,
              "ticks": ""
             }
            },
            "type": "scatter3d"
           }
          ],
          "scattercarpet": [
           {
            "marker": {
             "colorbar": {
              "outlinewidth": 0,
              "ticks": ""
             }
            },
            "type": "scattercarpet"
           }
          ],
          "scattergeo": [
           {
            "marker": {
             "colorbar": {
              "outlinewidth": 0,
              "ticks": ""
             }
            },
            "type": "scattergeo"
           }
          ],
          "scattergl": [
           {
            "marker": {
             "colorbar": {
              "outlinewidth": 0,
              "ticks": ""
             }
            },
            "type": "scattergl"
           }
          ],
          "scattermapbox": [
           {
            "marker": {
             "colorbar": {
              "outlinewidth": 0,
              "ticks": ""
             }
            },
            "type": "scattermapbox"
           }
          ],
          "scatterpolar": [
           {
            "marker": {
             "colorbar": {
              "outlinewidth": 0,
              "ticks": ""
             }
            },
            "type": "scatterpolar"
           }
          ],
          "scatterpolargl": [
           {
            "marker": {
             "colorbar": {
              "outlinewidth": 0,
              "ticks": ""
             }
            },
            "type": "scatterpolargl"
           }
          ],
          "scatterternary": [
           {
            "marker": {
             "colorbar": {
              "outlinewidth": 0,
              "ticks": ""
             }
            },
            "type": "scatterternary"
           }
          ],
          "surface": [
           {
            "colorbar": {
             "outlinewidth": 0,
             "ticks": ""
            },
            "colorscale": [
             [
              0,
              "#0d0887"
             ],
             [
              0.1111111111111111,
              "#46039f"
             ],
             [
              0.2222222222222222,
              "#7201a8"
             ],
             [
              0.3333333333333333,
              "#9c179e"
             ],
             [
              0.4444444444444444,
              "#bd3786"
             ],
             [
              0.5555555555555556,
              "#d8576b"
             ],
             [
              0.6666666666666666,
              "#ed7953"
             ],
             [
              0.7777777777777778,
              "#fb9f3a"
             ],
             [
              0.8888888888888888,
              "#fdca26"
             ],
             [
              1,
              "#f0f921"
             ]
            ],
            "type": "surface"
           }
          ],
          "table": [
           {
            "cells": {
             "fill": {
              "color": "#EBF0F8"
             },
             "line": {
              "color": "white"
             }
            },
            "header": {
             "fill": {
              "color": "#C8D4E3"
             },
             "line": {
              "color": "white"
             }
            },
            "type": "table"
           }
          ]
         },
         "layout": {
          "annotationdefaults": {
           "arrowcolor": "#2a3f5f",
           "arrowhead": 0,
           "arrowwidth": 1
          },
          "autotypenumbers": "strict",
          "coloraxis": {
           "colorbar": {
            "outlinewidth": 0,
            "ticks": ""
           }
          },
          "colorscale": {
           "diverging": [
            [
             0,
             "#8e0152"
            ],
            [
             0.1,
             "#c51b7d"
            ],
            [
             0.2,
             "#de77ae"
            ],
            [
             0.3,
             "#f1b6da"
            ],
            [
             0.4,
             "#fde0ef"
            ],
            [
             0.5,
             "#f7f7f7"
            ],
            [
             0.6,
             "#e6f5d0"
            ],
            [
             0.7,
             "#b8e186"
            ],
            [
             0.8,
             "#7fbc41"
            ],
            [
             0.9,
             "#4d9221"
            ],
            [
             1,
             "#276419"
            ]
           ],
           "sequential": [
            [
             0,
             "#0d0887"
            ],
            [
             0.1111111111111111,
             "#46039f"
            ],
            [
             0.2222222222222222,
             "#7201a8"
            ],
            [
             0.3333333333333333,
             "#9c179e"
            ],
            [
             0.4444444444444444,
             "#bd3786"
            ],
            [
             0.5555555555555556,
             "#d8576b"
            ],
            [
             0.6666666666666666,
             "#ed7953"
            ],
            [
             0.7777777777777778,
             "#fb9f3a"
            ],
            [
             0.8888888888888888,
             "#fdca26"
            ],
            [
             1,
             "#f0f921"
            ]
           ],
           "sequentialminus": [
            [
             0,
             "#0d0887"
            ],
            [
             0.1111111111111111,
             "#46039f"
            ],
            [
             0.2222222222222222,
             "#7201a8"
            ],
            [
             0.3333333333333333,
             "#9c179e"
            ],
            [
             0.4444444444444444,
             "#bd3786"
            ],
            [
             0.5555555555555556,
             "#d8576b"
            ],
            [
             0.6666666666666666,
             "#ed7953"
            ],
            [
             0.7777777777777778,
             "#fb9f3a"
            ],
            [
             0.8888888888888888,
             "#fdca26"
            ],
            [
             1,
             "#f0f921"
            ]
           ]
          },
          "colorway": [
           "#636efa",
           "#EF553B",
           "#00cc96",
           "#ab63fa",
           "#FFA15A",
           "#19d3f3",
           "#FF6692",
           "#B6E880",
           "#FF97FF",
           "#FECB52"
          ],
          "font": {
           "color": "#2a3f5f"
          },
          "geo": {
           "bgcolor": "white",
           "lakecolor": "white",
           "landcolor": "#E5ECF6",
           "showlakes": true,
           "showland": true,
           "subunitcolor": "white"
          },
          "hoverlabel": {
           "align": "left"
          },
          "hovermode": "closest",
          "mapbox": {
           "style": "light"
          },
          "paper_bgcolor": "white",
          "plot_bgcolor": "#E5ECF6",
          "polar": {
           "angularaxis": {
            "gridcolor": "white",
            "linecolor": "white",
            "ticks": ""
           },
           "bgcolor": "#E5ECF6",
           "radialaxis": {
            "gridcolor": "white",
            "linecolor": "white",
            "ticks": ""
           }
          },
          "scene": {
           "xaxis": {
            "backgroundcolor": "#E5ECF6",
            "gridcolor": "white",
            "gridwidth": 2,
            "linecolor": "white",
            "showbackground": true,
            "ticks": "",
            "zerolinecolor": "white"
           },
           "yaxis": {
            "backgroundcolor": "#E5ECF6",
            "gridcolor": "white",
            "gridwidth": 2,
            "linecolor": "white",
            "showbackground": true,
            "ticks": "",
            "zerolinecolor": "white"
           },
           "zaxis": {
            "backgroundcolor": "#E5ECF6",
            "gridcolor": "white",
            "gridwidth": 2,
            "linecolor": "white",
            "showbackground": true,
            "ticks": "",
            "zerolinecolor": "white"
           }
          },
          "shapedefaults": {
           "line": {
            "color": "#2a3f5f"
           }
          },
          "ternary": {
           "aaxis": {
            "gridcolor": "white",
            "linecolor": "white",
            "ticks": ""
           },
           "baxis": {
            "gridcolor": "white",
            "linecolor": "white",
            "ticks": ""
           },
           "bgcolor": "#E5ECF6",
           "caxis": {
            "gridcolor": "white",
            "linecolor": "white",
            "ticks": ""
           }
          },
          "title": {
           "x": 0.05
          },
          "xaxis": {
           "automargin": true,
           "gridcolor": "white",
           "linecolor": "white",
           "ticks": "",
           "title": {
            "standoff": 15
           },
           "zerolinecolor": "white",
           "zerolinewidth": 2
          },
          "yaxis": {
           "automargin": true,
           "gridcolor": "white",
           "linecolor": "white",
           "ticks": "",
           "title": {
            "standoff": 15
           },
           "zerolinecolor": "white",
           "zerolinewidth": 2
          }
         }
        },
        "xaxis": {
         "title": {
          "text": "Atención Materna"
         }
        },
        "yaxis": {
         "title": {
          "text": "Encuestadas"
         }
        }
       }
      }
     },
     "metadata": {},
     "output_type": "display_data"
    }
   ],
   "source": [
    "atencion = [\n",
    "    'Alto riesgo',\n",
    "    'Bajo riesgo',\n",
    "    'Otro'\n",
    "]\n",
    "\n",
    "fig = go.Figure(data=[\n",
    "    go.Bar(name='Sí', x=atencion, y=informacion.iloc[0, 1:4], marker_color='#221647', marker_line_width=0),\n",
    "    go.Bar(name='No', x=atencion, y=informacion.iloc[1, 1:4], marker_color='#f2b5d3', marker_line_width=0)\n",
    "])\n",
    "\n",
    "# Change the bar mode\n",
    "fig.update_layout(\n",
    "    barmode='stack', \n",
    "    xaxis_title='Atención Materna', \n",
    "    yaxis_title='Encuestadas',\n",
    "    paper_bgcolor='#4A2582',\n",
    "    plot_bgcolor='#4A2582',\n",
    "    font_color = 'white', \n",
    "    font_family='Arial',\n",
    "    legend_bgcolor='#4A2582',\n",
    "    legend_bordercolor='#241749',\n",
    "    legend_borderwidth=2,\n",
    "    legend_font_color='white',\n",
    "    legend_title=\"Recibió información\",\n",
    "    legend_title_side='top',\n",
    "    hoverlabel_font_family='Arial',\n",
    "    modebar_remove=['lasso', 'autoscale', 'zoom', 'pan', 'zoomin', 'zoomout', 'select', 'reset', 'resetscale', 'toimage'],\n",
    "    )\n",
    "\n",
    "fig.show()\n",
    "\n",
    "fig.write_html(f'{figures}/informacion_embarazo_atencion.html')"
   ]
  },
  {
   "cell_type": "code",
   "execution_count": 289,
   "metadata": {},
   "outputs": [
    {
     "data": {
      "text/html": [
       "<div>\n",
       "<style scoped>\n",
       "    .dataframe tbody tr th:only-of-type {\n",
       "        vertical-align: middle;\n",
       "    }\n",
       "\n",
       "    .dataframe tbody tr th {\n",
       "        vertical-align: top;\n",
       "    }\n",
       "\n",
       "    .dataframe thead th {\n",
       "        text-align: right;\n",
       "    }\n",
       "</style>\n",
       "<table border=\"1\" class=\"dataframe\">\n",
       "  <thead>\n",
       "    <tr style=\"text-align: right;\">\n",
       "      <th></th>\n",
       "      <th>Información</th>\n",
       "      <th>De alto riesgo (proceso con complicaciones asociadas o enfermedades preexistentes que presentan riesgo aumentado para la mujer y/o el/la bebé)</th>\n",
       "      <th>De bajo riesgo (proceso normal, mujer sana-bebé sano/a)</th>\n",
       "      <th>Otro</th>\n",
       "    </tr>\n",
       "  </thead>\n",
       "  <tbody>\n",
       "    <tr>\n",
       "      <th>0</th>\n",
       "      <td>No</td>\n",
       "      <td>32</td>\n",
       "      <td>78</td>\n",
       "      <td>9</td>\n",
       "    </tr>\n",
       "    <tr>\n",
       "      <th>1</th>\n",
       "      <td>Si</td>\n",
       "      <td>120</td>\n",
       "      <td>249</td>\n",
       "      <td>26</td>\n",
       "    </tr>\n",
       "  </tbody>\n",
       "</table>\n",
       "</div>"
      ],
      "text/plain": [
       "  Información  \\\n",
       "0          No   \n",
       "1          Si   \n",
       "\n",
       "   De alto riesgo (proceso con complicaciones asociadas o enfermedades preexistentes que presentan riesgo aumentado para la mujer y/o el/la bebé)  \\\n",
       "0                                                 32                                                                                                \n",
       "1                                                120                                                                                                \n",
       "\n",
       "   De bajo riesgo (proceso normal, mujer sana-bebé sano/a)  Otro  \n",
       "0                                                 78           9  \n",
       "1                                                249          26  "
      ]
     },
     "execution_count": 289,
     "metadata": {},
     "output_type": "execute_result"
    }
   ],
   "source": [
    "informacion = analyze.create_pivot_tabe(df, values=0, index=69, cols=41)\n",
    "informacion = analyze.set_new_index(informacion, col_name='Información')\n",
    "informacion = informacion[0]\n",
    "informacion"
   ]
  },
  {
   "cell_type": "code",
   "execution_count": 13,
   "metadata": {},
   "outputs": [
    {
     "data": {
      "application/vnd.plotly.v1+json": {
       "config": {
        "plotlyServerURL": "https://plot.ly"
       },
       "data": [
        {
         "marker": {
          "color": "#221647",
          "line": {
           "width": 0
          }
         },
         "name": "Sí",
         "type": "bar",
         "x": [
          "Alto riesgo",
          "Bajo riesgo",
          "Otro"
         ],
         "y": [
          115,
          253,
          21
         ]
        },
        {
         "marker": {
          "color": "#f2b5d3",
          "line": {
           "width": 0
          }
         },
         "name": "No",
         "type": "bar",
         "x": [
          "Alto riesgo",
          "Bajo riesgo",
          "Otro"
         ],
         "y": [
          37,
          74,
          14
         ]
        }
       ],
       "layout": {
        "barmode": "stack",
        "font": {
         "color": "white",
         "family": "Arial"
        },
        "hoverlabel": {
         "font": {
          "family": "Arial"
         }
        },
        "legend": {
         "bgcolor": "#4A2582",
         "bordercolor": "#241749",
         "borderwidth": 2,
         "font": {
          "color": "white"
         },
         "title": {
          "side": "top",
          "text": "Recibió información"
         }
        },
        "modebar": {
         "remove": [
          "lasso",
          "autoscale",
          "zoom",
          "pan",
          "zoomin",
          "zoomout",
          "select",
          "reset",
          "resetscale",
          "toimage"
         ]
        },
        "paper_bgcolor": "#4A2582",
        "plot_bgcolor": "#4A2582",
        "template": {
         "data": {
          "bar": [
           {
            "error_x": {
             "color": "#2a3f5f"
            },
            "error_y": {
             "color": "#2a3f5f"
            },
            "marker": {
             "line": {
              "color": "#E5ECF6",
              "width": 0.5
             },
             "pattern": {
              "fillmode": "overlay",
              "size": 10,
              "solidity": 0.2
             }
            },
            "type": "bar"
           }
          ],
          "barpolar": [
           {
            "marker": {
             "line": {
              "color": "#E5ECF6",
              "width": 0.5
             },
             "pattern": {
              "fillmode": "overlay",
              "size": 10,
              "solidity": 0.2
             }
            },
            "type": "barpolar"
           }
          ],
          "carpet": [
           {
            "aaxis": {
             "endlinecolor": "#2a3f5f",
             "gridcolor": "white",
             "linecolor": "white",
             "minorgridcolor": "white",
             "startlinecolor": "#2a3f5f"
            },
            "baxis": {
             "endlinecolor": "#2a3f5f",
             "gridcolor": "white",
             "linecolor": "white",
             "minorgridcolor": "white",
             "startlinecolor": "#2a3f5f"
            },
            "type": "carpet"
           }
          ],
          "choropleth": [
           {
            "colorbar": {
             "outlinewidth": 0,
             "ticks": ""
            },
            "type": "choropleth"
           }
          ],
          "contour": [
           {
            "colorbar": {
             "outlinewidth": 0,
             "ticks": ""
            },
            "colorscale": [
             [
              0,
              "#0d0887"
             ],
             [
              0.1111111111111111,
              "#46039f"
             ],
             [
              0.2222222222222222,
              "#7201a8"
             ],
             [
              0.3333333333333333,
              "#9c179e"
             ],
             [
              0.4444444444444444,
              "#bd3786"
             ],
             [
              0.5555555555555556,
              "#d8576b"
             ],
             [
              0.6666666666666666,
              "#ed7953"
             ],
             [
              0.7777777777777778,
              "#fb9f3a"
             ],
             [
              0.8888888888888888,
              "#fdca26"
             ],
             [
              1,
              "#f0f921"
             ]
            ],
            "type": "contour"
           }
          ],
          "contourcarpet": [
           {
            "colorbar": {
             "outlinewidth": 0,
             "ticks": ""
            },
            "type": "contourcarpet"
           }
          ],
          "heatmap": [
           {
            "colorbar": {
             "outlinewidth": 0,
             "ticks": ""
            },
            "colorscale": [
             [
              0,
              "#0d0887"
             ],
             [
              0.1111111111111111,
              "#46039f"
             ],
             [
              0.2222222222222222,
              "#7201a8"
             ],
             [
              0.3333333333333333,
              "#9c179e"
             ],
             [
              0.4444444444444444,
              "#bd3786"
             ],
             [
              0.5555555555555556,
              "#d8576b"
             ],
             [
              0.6666666666666666,
              "#ed7953"
             ],
             [
              0.7777777777777778,
              "#fb9f3a"
             ],
             [
              0.8888888888888888,
              "#fdca26"
             ],
             [
              1,
              "#f0f921"
             ]
            ],
            "type": "heatmap"
           }
          ],
          "heatmapgl": [
           {
            "colorbar": {
             "outlinewidth": 0,
             "ticks": ""
            },
            "colorscale": [
             [
              0,
              "#0d0887"
             ],
             [
              0.1111111111111111,
              "#46039f"
             ],
             [
              0.2222222222222222,
              "#7201a8"
             ],
             [
              0.3333333333333333,
              "#9c179e"
             ],
             [
              0.4444444444444444,
              "#bd3786"
             ],
             [
              0.5555555555555556,
              "#d8576b"
             ],
             [
              0.6666666666666666,
              "#ed7953"
             ],
             [
              0.7777777777777778,
              "#fb9f3a"
             ],
             [
              0.8888888888888888,
              "#fdca26"
             ],
             [
              1,
              "#f0f921"
             ]
            ],
            "type": "heatmapgl"
           }
          ],
          "histogram": [
           {
            "marker": {
             "pattern": {
              "fillmode": "overlay",
              "size": 10,
              "solidity": 0.2
             }
            },
            "type": "histogram"
           }
          ],
          "histogram2d": [
           {
            "colorbar": {
             "outlinewidth": 0,
             "ticks": ""
            },
            "colorscale": [
             [
              0,
              "#0d0887"
             ],
             [
              0.1111111111111111,
              "#46039f"
             ],
             [
              0.2222222222222222,
              "#7201a8"
             ],
             [
              0.3333333333333333,
              "#9c179e"
             ],
             [
              0.4444444444444444,
              "#bd3786"
             ],
             [
              0.5555555555555556,
              "#d8576b"
             ],
             [
              0.6666666666666666,
              "#ed7953"
             ],
             [
              0.7777777777777778,
              "#fb9f3a"
             ],
             [
              0.8888888888888888,
              "#fdca26"
             ],
             [
              1,
              "#f0f921"
             ]
            ],
            "type": "histogram2d"
           }
          ],
          "histogram2dcontour": [
           {
            "colorbar": {
             "outlinewidth": 0,
             "ticks": ""
            },
            "colorscale": [
             [
              0,
              "#0d0887"
             ],
             [
              0.1111111111111111,
              "#46039f"
             ],
             [
              0.2222222222222222,
              "#7201a8"
             ],
             [
              0.3333333333333333,
              "#9c179e"
             ],
             [
              0.4444444444444444,
              "#bd3786"
             ],
             [
              0.5555555555555556,
              "#d8576b"
             ],
             [
              0.6666666666666666,
              "#ed7953"
             ],
             [
              0.7777777777777778,
              "#fb9f3a"
             ],
             [
              0.8888888888888888,
              "#fdca26"
             ],
             [
              1,
              "#f0f921"
             ]
            ],
            "type": "histogram2dcontour"
           }
          ],
          "mesh3d": [
           {
            "colorbar": {
             "outlinewidth": 0,
             "ticks": ""
            },
            "type": "mesh3d"
           }
          ],
          "parcoords": [
           {
            "line": {
             "colorbar": {
              "outlinewidth": 0,
              "ticks": ""
             }
            },
            "type": "parcoords"
           }
          ],
          "pie": [
           {
            "automargin": true,
            "type": "pie"
           }
          ],
          "scatter": [
           {
            "marker": {
             "colorbar": {
              "outlinewidth": 0,
              "ticks": ""
             }
            },
            "type": "scatter"
           }
          ],
          "scatter3d": [
           {
            "line": {
             "colorbar": {
              "outlinewidth": 0,
              "ticks": ""
             }
            },
            "marker": {
             "colorbar": {
              "outlinewidth": 0,
              "ticks": ""
             }
            },
            "type": "scatter3d"
           }
          ],
          "scattercarpet": [
           {
            "marker": {
             "colorbar": {
              "outlinewidth": 0,
              "ticks": ""
             }
            },
            "type": "scattercarpet"
           }
          ],
          "scattergeo": [
           {
            "marker": {
             "colorbar": {
              "outlinewidth": 0,
              "ticks": ""
             }
            },
            "type": "scattergeo"
           }
          ],
          "scattergl": [
           {
            "marker": {
             "colorbar": {
              "outlinewidth": 0,
              "ticks": ""
             }
            },
            "type": "scattergl"
           }
          ],
          "scattermapbox": [
           {
            "marker": {
             "colorbar": {
              "outlinewidth": 0,
              "ticks": ""
             }
            },
            "type": "scattermapbox"
           }
          ],
          "scatterpolar": [
           {
            "marker": {
             "colorbar": {
              "outlinewidth": 0,
              "ticks": ""
             }
            },
            "type": "scatterpolar"
           }
          ],
          "scatterpolargl": [
           {
            "marker": {
             "colorbar": {
              "outlinewidth": 0,
              "ticks": ""
             }
            },
            "type": "scatterpolargl"
           }
          ],
          "scatterternary": [
           {
            "marker": {
             "colorbar": {
              "outlinewidth": 0,
              "ticks": ""
             }
            },
            "type": "scatterternary"
           }
          ],
          "surface": [
           {
            "colorbar": {
             "outlinewidth": 0,
             "ticks": ""
            },
            "colorscale": [
             [
              0,
              "#0d0887"
             ],
             [
              0.1111111111111111,
              "#46039f"
             ],
             [
              0.2222222222222222,
              "#7201a8"
             ],
             [
              0.3333333333333333,
              "#9c179e"
             ],
             [
              0.4444444444444444,
              "#bd3786"
             ],
             [
              0.5555555555555556,
              "#d8576b"
             ],
             [
              0.6666666666666666,
              "#ed7953"
             ],
             [
              0.7777777777777778,
              "#fb9f3a"
             ],
             [
              0.8888888888888888,
              "#fdca26"
             ],
             [
              1,
              "#f0f921"
             ]
            ],
            "type": "surface"
           }
          ],
          "table": [
           {
            "cells": {
             "fill": {
              "color": "#EBF0F8"
             },
             "line": {
              "color": "white"
             }
            },
            "header": {
             "fill": {
              "color": "#C8D4E3"
             },
             "line": {
              "color": "white"
             }
            },
            "type": "table"
           }
          ]
         },
         "layout": {
          "annotationdefaults": {
           "arrowcolor": "#2a3f5f",
           "arrowhead": 0,
           "arrowwidth": 1
          },
          "autotypenumbers": "strict",
          "coloraxis": {
           "colorbar": {
            "outlinewidth": 0,
            "ticks": ""
           }
          },
          "colorscale": {
           "diverging": [
            [
             0,
             "#8e0152"
            ],
            [
             0.1,
             "#c51b7d"
            ],
            [
             0.2,
             "#de77ae"
            ],
            [
             0.3,
             "#f1b6da"
            ],
            [
             0.4,
             "#fde0ef"
            ],
            [
             0.5,
             "#f7f7f7"
            ],
            [
             0.6,
             "#e6f5d0"
            ],
            [
             0.7,
             "#b8e186"
            ],
            [
             0.8,
             "#7fbc41"
            ],
            [
             0.9,
             "#4d9221"
            ],
            [
             1,
             "#276419"
            ]
           ],
           "sequential": [
            [
             0,
             "#0d0887"
            ],
            [
             0.1111111111111111,
             "#46039f"
            ],
            [
             0.2222222222222222,
             "#7201a8"
            ],
            [
             0.3333333333333333,
             "#9c179e"
            ],
            [
             0.4444444444444444,
             "#bd3786"
            ],
            [
             0.5555555555555556,
             "#d8576b"
            ],
            [
             0.6666666666666666,
             "#ed7953"
            ],
            [
             0.7777777777777778,
             "#fb9f3a"
            ],
            [
             0.8888888888888888,
             "#fdca26"
            ],
            [
             1,
             "#f0f921"
            ]
           ],
           "sequentialminus": [
            [
             0,
             "#0d0887"
            ],
            [
             0.1111111111111111,
             "#46039f"
            ],
            [
             0.2222222222222222,
             "#7201a8"
            ],
            [
             0.3333333333333333,
             "#9c179e"
            ],
            [
             0.4444444444444444,
             "#bd3786"
            ],
            [
             0.5555555555555556,
             "#d8576b"
            ],
            [
             0.6666666666666666,
             "#ed7953"
            ],
            [
             0.7777777777777778,
             "#fb9f3a"
            ],
            [
             0.8888888888888888,
             "#fdca26"
            ],
            [
             1,
             "#f0f921"
            ]
           ]
          },
          "colorway": [
           "#636efa",
           "#EF553B",
           "#00cc96",
           "#ab63fa",
           "#FFA15A",
           "#19d3f3",
           "#FF6692",
           "#B6E880",
           "#FF97FF",
           "#FECB52"
          ],
          "font": {
           "color": "#2a3f5f"
          },
          "geo": {
           "bgcolor": "white",
           "lakecolor": "white",
           "landcolor": "#E5ECF6",
           "showlakes": true,
           "showland": true,
           "subunitcolor": "white"
          },
          "hoverlabel": {
           "align": "left"
          },
          "hovermode": "closest",
          "mapbox": {
           "style": "light"
          },
          "paper_bgcolor": "white",
          "plot_bgcolor": "#E5ECF6",
          "polar": {
           "angularaxis": {
            "gridcolor": "white",
            "linecolor": "white",
            "ticks": ""
           },
           "bgcolor": "#E5ECF6",
           "radialaxis": {
            "gridcolor": "white",
            "linecolor": "white",
            "ticks": ""
           }
          },
          "scene": {
           "xaxis": {
            "backgroundcolor": "#E5ECF6",
            "gridcolor": "white",
            "gridwidth": 2,
            "linecolor": "white",
            "showbackground": true,
            "ticks": "",
            "zerolinecolor": "white"
           },
           "yaxis": {
            "backgroundcolor": "#E5ECF6",
            "gridcolor": "white",
            "gridwidth": 2,
            "linecolor": "white",
            "showbackground": true,
            "ticks": "",
            "zerolinecolor": "white"
           },
           "zaxis": {
            "backgroundcolor": "#E5ECF6",
            "gridcolor": "white",
            "gridwidth": 2,
            "linecolor": "white",
            "showbackground": true,
            "ticks": "",
            "zerolinecolor": "white"
           }
          },
          "shapedefaults": {
           "line": {
            "color": "#2a3f5f"
           }
          },
          "ternary": {
           "aaxis": {
            "gridcolor": "white",
            "linecolor": "white",
            "ticks": ""
           },
           "baxis": {
            "gridcolor": "white",
            "linecolor": "white",
            "ticks": ""
           },
           "bgcolor": "#E5ECF6",
           "caxis": {
            "gridcolor": "white",
            "linecolor": "white",
            "ticks": ""
           }
          },
          "title": {
           "x": 0.05
          },
          "xaxis": {
           "automargin": true,
           "gridcolor": "white",
           "linecolor": "white",
           "ticks": "",
           "title": {
            "standoff": 15
           },
           "zerolinecolor": "white",
           "zerolinewidth": 2
          },
          "yaxis": {
           "automargin": true,
           "gridcolor": "white",
           "linecolor": "white",
           "ticks": "",
           "title": {
            "standoff": 15
           },
           "zerolinecolor": "white",
           "zerolinewidth": 2
          }
         }
        },
        "xaxis": {
         "title": {
          "text": "Atención Materna"
         }
        },
        "yaxis": {
         "title": {
          "text": "Encuestadas"
         }
        }
       }
      }
     },
     "metadata": {},
     "output_type": "display_data"
    }
   ],
   "source": [
    "atencion = [\n",
    "    'Alto riesgo',\n",
    "    'Bajo riesgo',\n",
    "    'Otro'\n",
    "]\n",
    "\n",
    "fig = go.Figure(data=[\n",
    "    go.Bar(name='Sí', x=atencion, y=informacion.iloc[0, 1:4], marker_color='#221647', marker_line_width=0),\n",
    "    go.Bar(name='No', x=atencion, y=informacion.iloc[1, 1:4], marker_color='#f2b5d3', marker_line_width=0)\n",
    "])\n",
    "\n",
    "# Change the bar mode\n",
    "fig.update_layout(\n",
    "    barmode='stack', \n",
    "    xaxis_title='Atención Materna', \n",
    "    yaxis_title='Encuestadas',\n",
    "    paper_bgcolor='#4A2582',\n",
    "    plot_bgcolor='#4A2582',\n",
    "    font_color = 'white', \n",
    "    font_family='Arial',\n",
    "    legend_bgcolor='#4A2582',\n",
    "    legend_bordercolor='#241749',\n",
    "    legend_borderwidth=2,\n",
    "    legend_font_color='white',\n",
    "    legend_title=\"Recibió información\",\n",
    "    legend_title_side='top',\n",
    "    hoverlabel_font_family='Arial',\n",
    "    modebar_remove=['lasso', 'autoscale', 'zoom', 'pan', 'zoomin', 'zoomout', 'select', 'reset', 'resetscale', 'toimage'],\n",
    "    )\n",
    "\n",
    "fig.show()\n",
    "\n",
    "fig.write_html(f'{figures}/informacion_parto_atencion.html')"
   ]
  },
  {
   "cell_type": "markdown",
   "metadata": {},
   "source": [
    "### Año en que practicaron la maniobra de Kristeller"
   ]
  },
  {
   "cell_type": "code",
   "execution_count": 20,
   "metadata": {},
   "outputs": [
    {
     "data": {
      "text/html": [
       "<div>\n",
       "<style scoped>\n",
       "    .dataframe tbody tr th:only-of-type {\n",
       "        vertical-align: middle;\n",
       "    }\n",
       "\n",
       "    .dataframe tbody tr th {\n",
       "        vertical-align: top;\n",
       "    }\n",
       "\n",
       "    .dataframe thead th {\n",
       "        text-align: right;\n",
       "    }\n",
       "</style>\n",
       "<table border=\"1\" class=\"dataframe\">\n",
       "  <thead>\n",
       "    <tr style=\"text-align: right;\">\n",
       "      <th></th>\n",
       "      <th>Fecha</th>\n",
       "      <th>No</th>\n",
       "      <th>Sí</th>\n",
       "    </tr>\n",
       "  </thead>\n",
       "  <tbody>\n",
       "    <tr>\n",
       "      <th>18</th>\n",
       "      <td>1969</td>\n",
       "      <td>9.0</td>\n",
       "      <td>2.0</td>\n",
       "    </tr>\n",
       "  </tbody>\n",
       "</table>\n",
       "</div>"
      ],
      "text/plain": [
       "   Fecha   No   Sí\n",
       "18  1969  9.0  2.0"
      ]
     },
     "execution_count": 20,
     "metadata": {},
     "output_type": "execute_result"
    }
   ],
   "source": [
    "kristeller = analyze.create_pivot_tabe(df, values=0, index=9, cols=80)\n",
    "kristeller = analyze.set_new_index(kristeller, col_name='Fecha')\n",
    "\n",
    "# Delete rows\n",
    "kristeller = analyze.del_row(kristeller[0], row_name=0)\n",
    "kristeller = analyze.del_row(kristeller[0], row_name=1)\n",
    "kristeller = analyze.del_row(kristeller[0], row_name=2)\n",
    "kristeller = analyze.del_row(kristeller[0], row_name=53)\n",
    "kristeller = analyze.del_row(kristeller[0], row_name=54)\n",
    "kristeller = analyze.del_row(kristeller[0], row_name=55)\n",
    "kristeller = analyze.del_row(kristeller[0], row_name=56)\n",
    "kristeller = analyze.del_row(kristeller[0], row_name=57)\n",
    "kristeller = analyze.del_row(kristeller[0], row_name=58)\n",
    "kristeller = analyze.del_row(kristeller[0], row_name=59)\n",
    "\n",
    "kristeller = kristeller[0]\n",
    "kristeller.sample(1)"
   ]
  },
  {
   "cell_type": "code",
   "execution_count": 24,
   "metadata": {},
   "outputs": [
    {
     "data": {
      "application/vnd.plotly.v1+json": {
       "config": {
        "plotlyServerURL": "https://plot.ly"
       },
       "data": [
        {
         "marker": {
          "color": "#221647",
          "line": {
           "width": 0
          }
         },
         "name": "No",
         "type": "bar",
         "x": [
          "1952",
          "1953",
          "1955",
          "1956",
          "1957",
          "1959",
          "1960",
          "1961",
          "1962",
          "1963",
          "1964",
          "1965",
          "1966",
          "1967",
          "1968",
          "1969",
          "1970",
          "1971",
          "1972",
          "1973",
          "1974",
          "1975",
          "1976",
          "1977",
          "1978",
          "1979",
          "1980",
          "1981",
          "1982",
          "1983",
          "1984",
          "1985",
          "1986",
          "1987",
          "1988",
          "1989",
          "1990",
          "1991",
          "1992",
          "1993",
          "1994",
          "1995",
          "1996",
          "1997",
          "1998",
          "2000",
          "2001",
          "2002",
          "2003",
          "2021"
         ],
         "y": [
          null,
          null,
          3,
          null,
          1,
          1,
          3,
          3,
          3,
          6,
          2,
          6,
          3,
          4,
          1,
          9,
          4,
          11,
          5,
          4,
          7,
          7,
          7,
          5,
          12,
          5,
          8,
          5,
          17,
          14,
          10,
          13,
          8,
          11,
          10,
          16,
          11,
          8,
          10,
          9,
          3,
          2,
          3,
          1,
          3,
          1,
          1,
          1,
          1,
          1
         ]
        },
        {
         "marker": {
          "color": "#f2b5d3",
          "line": {
           "width": 0
          }
         },
         "name": "Sí",
         "type": "bar",
         "x": [
          "1952",
          "1953",
          "1955",
          "1956",
          "1957",
          "1959",
          "1960",
          "1961",
          "1962",
          "1963",
          "1964",
          "1965",
          "1966",
          "1967",
          "1968",
          "1969",
          "1970",
          "1971",
          "1972",
          "1973",
          "1974",
          "1975",
          "1976",
          "1977",
          "1978",
          "1979",
          "1980",
          "1981",
          "1982",
          "1983",
          "1984",
          "1985",
          "1986",
          "1987",
          "1988",
          "1989",
          "1990",
          "1991",
          "1992",
          "1993",
          "1994",
          "1995",
          "1996",
          "1997",
          "1998",
          "2000",
          "2001",
          "2002",
          "2003",
          "2021"
         ],
         "y": [
          1,
          1,
          null,
          1,
          1,
          1,
          null,
          3,
          1,
          3,
          3,
          3,
          3,
          2,
          3,
          2,
          2,
          4,
          1,
          2,
          7,
          6,
          2,
          5,
          5,
          5,
          4,
          2,
          6,
          13,
          8,
          9,
          3,
          13,
          18,
          13,
          12,
          10,
          10,
          14,
          2,
          7,
          1,
          null,
          3,
          2,
          null,
          null,
          null,
          3
         ]
        }
       ],
       "layout": {
        "barmode": "stack",
        "font": {
         "color": "white",
         "family": "Arial"
        },
        "hoverlabel": {
         "font": {
          "family": "Arial"
         }
        },
        "legend": {
         "bgcolor": "#4A2582",
         "bordercolor": "#241749",
         "borderwidth": 2,
         "font": {
          "color": "white"
         },
         "title": {
          "side": "top",
          "text": "Maniobra de Kristeller"
         }
        },
        "modebar": {
         "remove": [
          "lasso",
          "autoscale",
          "zoom",
          "pan",
          "zoomin",
          "zoomout",
          "select",
          "reset",
          "resetscale",
          "toimage"
         ]
        },
        "paper_bgcolor": "#4A2582",
        "plot_bgcolor": "#4A2582",
        "template": {
         "data": {
          "bar": [
           {
            "error_x": {
             "color": "#2a3f5f"
            },
            "error_y": {
             "color": "#2a3f5f"
            },
            "marker": {
             "line": {
              "color": "#E5ECF6",
              "width": 0.5
             },
             "pattern": {
              "fillmode": "overlay",
              "size": 10,
              "solidity": 0.2
             }
            },
            "type": "bar"
           }
          ],
          "barpolar": [
           {
            "marker": {
             "line": {
              "color": "#E5ECF6",
              "width": 0.5
             },
             "pattern": {
              "fillmode": "overlay",
              "size": 10,
              "solidity": 0.2
             }
            },
            "type": "barpolar"
           }
          ],
          "carpet": [
           {
            "aaxis": {
             "endlinecolor": "#2a3f5f",
             "gridcolor": "white",
             "linecolor": "white",
             "minorgridcolor": "white",
             "startlinecolor": "#2a3f5f"
            },
            "baxis": {
             "endlinecolor": "#2a3f5f",
             "gridcolor": "white",
             "linecolor": "white",
             "minorgridcolor": "white",
             "startlinecolor": "#2a3f5f"
            },
            "type": "carpet"
           }
          ],
          "choropleth": [
           {
            "colorbar": {
             "outlinewidth": 0,
             "ticks": ""
            },
            "type": "choropleth"
           }
          ],
          "contour": [
           {
            "colorbar": {
             "outlinewidth": 0,
             "ticks": ""
            },
            "colorscale": [
             [
              0,
              "#0d0887"
             ],
             [
              0.1111111111111111,
              "#46039f"
             ],
             [
              0.2222222222222222,
              "#7201a8"
             ],
             [
              0.3333333333333333,
              "#9c179e"
             ],
             [
              0.4444444444444444,
              "#bd3786"
             ],
             [
              0.5555555555555556,
              "#d8576b"
             ],
             [
              0.6666666666666666,
              "#ed7953"
             ],
             [
              0.7777777777777778,
              "#fb9f3a"
             ],
             [
              0.8888888888888888,
              "#fdca26"
             ],
             [
              1,
              "#f0f921"
             ]
            ],
            "type": "contour"
           }
          ],
          "contourcarpet": [
           {
            "colorbar": {
             "outlinewidth": 0,
             "ticks": ""
            },
            "type": "contourcarpet"
           }
          ],
          "heatmap": [
           {
            "colorbar": {
             "outlinewidth": 0,
             "ticks": ""
            },
            "colorscale": [
             [
              0,
              "#0d0887"
             ],
             [
              0.1111111111111111,
              "#46039f"
             ],
             [
              0.2222222222222222,
              "#7201a8"
             ],
             [
              0.3333333333333333,
              "#9c179e"
             ],
             [
              0.4444444444444444,
              "#bd3786"
             ],
             [
              0.5555555555555556,
              "#d8576b"
             ],
             [
              0.6666666666666666,
              "#ed7953"
             ],
             [
              0.7777777777777778,
              "#fb9f3a"
             ],
             [
              0.8888888888888888,
              "#fdca26"
             ],
             [
              1,
              "#f0f921"
             ]
            ],
            "type": "heatmap"
           }
          ],
          "heatmapgl": [
           {
            "colorbar": {
             "outlinewidth": 0,
             "ticks": ""
            },
            "colorscale": [
             [
              0,
              "#0d0887"
             ],
             [
              0.1111111111111111,
              "#46039f"
             ],
             [
              0.2222222222222222,
              "#7201a8"
             ],
             [
              0.3333333333333333,
              "#9c179e"
             ],
             [
              0.4444444444444444,
              "#bd3786"
             ],
             [
              0.5555555555555556,
              "#d8576b"
             ],
             [
              0.6666666666666666,
              "#ed7953"
             ],
             [
              0.7777777777777778,
              "#fb9f3a"
             ],
             [
              0.8888888888888888,
              "#fdca26"
             ],
             [
              1,
              "#f0f921"
             ]
            ],
            "type": "heatmapgl"
           }
          ],
          "histogram": [
           {
            "marker": {
             "pattern": {
              "fillmode": "overlay",
              "size": 10,
              "solidity": 0.2
             }
            },
            "type": "histogram"
           }
          ],
          "histogram2d": [
           {
            "colorbar": {
             "outlinewidth": 0,
             "ticks": ""
            },
            "colorscale": [
             [
              0,
              "#0d0887"
             ],
             [
              0.1111111111111111,
              "#46039f"
             ],
             [
              0.2222222222222222,
              "#7201a8"
             ],
             [
              0.3333333333333333,
              "#9c179e"
             ],
             [
              0.4444444444444444,
              "#bd3786"
             ],
             [
              0.5555555555555556,
              "#d8576b"
             ],
             [
              0.6666666666666666,
              "#ed7953"
             ],
             [
              0.7777777777777778,
              "#fb9f3a"
             ],
             [
              0.8888888888888888,
              "#fdca26"
             ],
             [
              1,
              "#f0f921"
             ]
            ],
            "type": "histogram2d"
           }
          ],
          "histogram2dcontour": [
           {
            "colorbar": {
             "outlinewidth": 0,
             "ticks": ""
            },
            "colorscale": [
             [
              0,
              "#0d0887"
             ],
             [
              0.1111111111111111,
              "#46039f"
             ],
             [
              0.2222222222222222,
              "#7201a8"
             ],
             [
              0.3333333333333333,
              "#9c179e"
             ],
             [
              0.4444444444444444,
              "#bd3786"
             ],
             [
              0.5555555555555556,
              "#d8576b"
             ],
             [
              0.6666666666666666,
              "#ed7953"
             ],
             [
              0.7777777777777778,
              "#fb9f3a"
             ],
             [
              0.8888888888888888,
              "#fdca26"
             ],
             [
              1,
              "#f0f921"
             ]
            ],
            "type": "histogram2dcontour"
           }
          ],
          "mesh3d": [
           {
            "colorbar": {
             "outlinewidth": 0,
             "ticks": ""
            },
            "type": "mesh3d"
           }
          ],
          "parcoords": [
           {
            "line": {
             "colorbar": {
              "outlinewidth": 0,
              "ticks": ""
             }
            },
            "type": "parcoords"
           }
          ],
          "pie": [
           {
            "automargin": true,
            "type": "pie"
           }
          ],
          "scatter": [
           {
            "marker": {
             "colorbar": {
              "outlinewidth": 0,
              "ticks": ""
             }
            },
            "type": "scatter"
           }
          ],
          "scatter3d": [
           {
            "line": {
             "colorbar": {
              "outlinewidth": 0,
              "ticks": ""
             }
            },
            "marker": {
             "colorbar": {
              "outlinewidth": 0,
              "ticks": ""
             }
            },
            "type": "scatter3d"
           }
          ],
          "scattercarpet": [
           {
            "marker": {
             "colorbar": {
              "outlinewidth": 0,
              "ticks": ""
             }
            },
            "type": "scattercarpet"
           }
          ],
          "scattergeo": [
           {
            "marker": {
             "colorbar": {
              "outlinewidth": 0,
              "ticks": ""
             }
            },
            "type": "scattergeo"
           }
          ],
          "scattergl": [
           {
            "marker": {
             "colorbar": {
              "outlinewidth": 0,
              "ticks": ""
             }
            },
            "type": "scattergl"
           }
          ],
          "scattermapbox": [
           {
            "marker": {
             "colorbar": {
              "outlinewidth": 0,
              "ticks": ""
             }
            },
            "type": "scattermapbox"
           }
          ],
          "scatterpolar": [
           {
            "marker": {
             "colorbar": {
              "outlinewidth": 0,
              "ticks": ""
             }
            },
            "type": "scatterpolar"
           }
          ],
          "scatterpolargl": [
           {
            "marker": {
             "colorbar": {
              "outlinewidth": 0,
              "ticks": ""
             }
            },
            "type": "scatterpolargl"
           }
          ],
          "scatterternary": [
           {
            "marker": {
             "colorbar": {
              "outlinewidth": 0,
              "ticks": ""
             }
            },
            "type": "scatterternary"
           }
          ],
          "surface": [
           {
            "colorbar": {
             "outlinewidth": 0,
             "ticks": ""
            },
            "colorscale": [
             [
              0,
              "#0d0887"
             ],
             [
              0.1111111111111111,
              "#46039f"
             ],
             [
              0.2222222222222222,
              "#7201a8"
             ],
             [
              0.3333333333333333,
              "#9c179e"
             ],
             [
              0.4444444444444444,
              "#bd3786"
             ],
             [
              0.5555555555555556,
              "#d8576b"
             ],
             [
              0.6666666666666666,
              "#ed7953"
             ],
             [
              0.7777777777777778,
              "#fb9f3a"
             ],
             [
              0.8888888888888888,
              "#fdca26"
             ],
             [
              1,
              "#f0f921"
             ]
            ],
            "type": "surface"
           }
          ],
          "table": [
           {
            "cells": {
             "fill": {
              "color": "#EBF0F8"
             },
             "line": {
              "color": "white"
             }
            },
            "header": {
             "fill": {
              "color": "#C8D4E3"
             },
             "line": {
              "color": "white"
             }
            },
            "type": "table"
           }
          ]
         },
         "layout": {
          "annotationdefaults": {
           "arrowcolor": "#2a3f5f",
           "arrowhead": 0,
           "arrowwidth": 1
          },
          "autotypenumbers": "strict",
          "coloraxis": {
           "colorbar": {
            "outlinewidth": 0,
            "ticks": ""
           }
          },
          "colorscale": {
           "diverging": [
            [
             0,
             "#8e0152"
            ],
            [
             0.1,
             "#c51b7d"
            ],
            [
             0.2,
             "#de77ae"
            ],
            [
             0.3,
             "#f1b6da"
            ],
            [
             0.4,
             "#fde0ef"
            ],
            [
             0.5,
             "#f7f7f7"
            ],
            [
             0.6,
             "#e6f5d0"
            ],
            [
             0.7,
             "#b8e186"
            ],
            [
             0.8,
             "#7fbc41"
            ],
            [
             0.9,
             "#4d9221"
            ],
            [
             1,
             "#276419"
            ]
           ],
           "sequential": [
            [
             0,
             "#0d0887"
            ],
            [
             0.1111111111111111,
             "#46039f"
            ],
            [
             0.2222222222222222,
             "#7201a8"
            ],
            [
             0.3333333333333333,
             "#9c179e"
            ],
            [
             0.4444444444444444,
             "#bd3786"
            ],
            [
             0.5555555555555556,
             "#d8576b"
            ],
            [
             0.6666666666666666,
             "#ed7953"
            ],
            [
             0.7777777777777778,
             "#fb9f3a"
            ],
            [
             0.8888888888888888,
             "#fdca26"
            ],
            [
             1,
             "#f0f921"
            ]
           ],
           "sequentialminus": [
            [
             0,
             "#0d0887"
            ],
            [
             0.1111111111111111,
             "#46039f"
            ],
            [
             0.2222222222222222,
             "#7201a8"
            ],
            [
             0.3333333333333333,
             "#9c179e"
            ],
            [
             0.4444444444444444,
             "#bd3786"
            ],
            [
             0.5555555555555556,
             "#d8576b"
            ],
            [
             0.6666666666666666,
             "#ed7953"
            ],
            [
             0.7777777777777778,
             "#fb9f3a"
            ],
            [
             0.8888888888888888,
             "#fdca26"
            ],
            [
             1,
             "#f0f921"
            ]
           ]
          },
          "colorway": [
           "#636efa",
           "#EF553B",
           "#00cc96",
           "#ab63fa",
           "#FFA15A",
           "#19d3f3",
           "#FF6692",
           "#B6E880",
           "#FF97FF",
           "#FECB52"
          ],
          "font": {
           "color": "#2a3f5f"
          },
          "geo": {
           "bgcolor": "white",
           "lakecolor": "white",
           "landcolor": "#E5ECF6",
           "showlakes": true,
           "showland": true,
           "subunitcolor": "white"
          },
          "hoverlabel": {
           "align": "left"
          },
          "hovermode": "closest",
          "mapbox": {
           "style": "light"
          },
          "paper_bgcolor": "white",
          "plot_bgcolor": "#E5ECF6",
          "polar": {
           "angularaxis": {
            "gridcolor": "white",
            "linecolor": "white",
            "ticks": ""
           },
           "bgcolor": "#E5ECF6",
           "radialaxis": {
            "gridcolor": "white",
            "linecolor": "white",
            "ticks": ""
           }
          },
          "scene": {
           "xaxis": {
            "backgroundcolor": "#E5ECF6",
            "gridcolor": "white",
            "gridwidth": 2,
            "linecolor": "white",
            "showbackground": true,
            "ticks": "",
            "zerolinecolor": "white"
           },
           "yaxis": {
            "backgroundcolor": "#E5ECF6",
            "gridcolor": "white",
            "gridwidth": 2,
            "linecolor": "white",
            "showbackground": true,
            "ticks": "",
            "zerolinecolor": "white"
           },
           "zaxis": {
            "backgroundcolor": "#E5ECF6",
            "gridcolor": "white",
            "gridwidth": 2,
            "linecolor": "white",
            "showbackground": true,
            "ticks": "",
            "zerolinecolor": "white"
           }
          },
          "shapedefaults": {
           "line": {
            "color": "#2a3f5f"
           }
          },
          "ternary": {
           "aaxis": {
            "gridcolor": "white",
            "linecolor": "white",
            "ticks": ""
           },
           "baxis": {
            "gridcolor": "white",
            "linecolor": "white",
            "ticks": ""
           },
           "bgcolor": "#E5ECF6",
           "caxis": {
            "gridcolor": "white",
            "linecolor": "white",
            "ticks": ""
           }
          },
          "title": {
           "x": 0.05
          },
          "xaxis": {
           "automargin": true,
           "gridcolor": "white",
           "linecolor": "white",
           "ticks": "",
           "title": {
            "standoff": 15
           },
           "zerolinecolor": "white",
           "zerolinewidth": 2
          },
          "yaxis": {
           "automargin": true,
           "gridcolor": "white",
           "linecolor": "white",
           "ticks": "",
           "title": {
            "standoff": 15
           },
           "zerolinecolor": "white",
           "zerolinewidth": 2
          }
         }
        },
        "xaxis": {
         "title": {
          "text": "Año del parto"
         }
        },
        "yaxis": {
         "title": {
          "text": "Encuestadas"
         }
        }
       }
      }
     },
     "metadata": {},
     "output_type": "display_data"
    }
   ],
   "source": [
    "fig = go.Figure(data=[\n",
    "    go.Bar(name='No', x=kristeller['Fecha'], y=kristeller['No'], marker_color='#221647', marker_line_width=0),\n",
    "    go.Bar(name='Sí', x=kristeller['Fecha'], y=kristeller['Sí'], marker_color='#f2b5d3', marker_line_width=0)\n",
    "])\n",
    "\n",
    "# Change the bar mode\n",
    "fig.update_layout(\n",
    "    barmode='stack', \n",
    "    xaxis_title='Año del parto', \n",
    "    yaxis_title='Encuestadas',\n",
    "    paper_bgcolor='#4A2582',\n",
    "    plot_bgcolor='#4A2582',\n",
    "    font_color = 'white', \n",
    "    font_family='Arial',\n",
    "    legend_bgcolor='#4A2582',\n",
    "    legend_bordercolor='#241749',\n",
    "    legend_borderwidth=2,\n",
    "    legend_font_color='white',\n",
    "    legend_title=\"Maniobra de Kristeller\",\n",
    "    legend_title_side='top',\n",
    "    hoverlabel_font_family='Arial',\n",
    "    modebar_remove=['lasso', 'autoscale', 'zoom', 'pan', 'zoomin', 'zoomout', 'select', 'reset', 'resetscale', 'toimage'],\n",
    "    )\n",
    "\n",
    "fig.show()\n",
    "\n",
    "fig.write_html(f'{figures}/kristeller_fecha.html')"
   ]
  },
  {
   "cell_type": "markdown",
   "metadata": {},
   "source": [
    "### Encuestadas que negaron haber sufrido maltrato pero después marcaron algún tipo"
   ]
  },
  {
   "cell_type": "code",
   "execution_count": 7,
   "metadata": {},
   "outputs": [
    {
     "data": {
      "text/html": [
       "<div>\n",
       "<style scoped>\n",
       "    .dataframe tbody tr th:only-of-type {\n",
       "        vertical-align: middle;\n",
       "    }\n",
       "\n",
       "    .dataframe tbody tr th {\n",
       "        vertical-align: top;\n",
       "    }\n",
       "\n",
       "    .dataframe thead th {\n",
       "        text-align: right;\n",
       "    }\n",
       "</style>\n",
       "<table border=\"1\" class=\"dataframe\">\n",
       "  <thead>\n",
       "    <tr style=\"text-align: right;\">\n",
       "      <th>¿Sufriste algún tipo de maltrato verbal o físico en el hospital?:</th>\n",
       "      <th>No</th>\n",
       "      <th>No estoy segura</th>\n",
       "      <th>Otro</th>\n",
       "      <th>Sí</th>\n",
       "    </tr>\n",
       "    <tr>\n",
       "      <th>De las siguientes opciones, marca todas las que experimentaste a manos del personal del hospital durante tu proceso de parto: [Te llamaron por sobrenombres o diminutivos (mamita, niña, gorda, negra, etc)]</th>\n",
       "      <th></th>\n",
       "      <th></th>\n",
       "      <th></th>\n",
       "      <th></th>\n",
       "    </tr>\n",
       "  </thead>\n",
       "  <tbody>\n",
       "    <tr>\n",
       "      <th>No</th>\n",
       "      <td>339</td>\n",
       "      <td>13</td>\n",
       "      <td>5</td>\n",
       "      <td>53</td>\n",
       "    </tr>\n",
       "    <tr>\n",
       "      <th>Sí</th>\n",
       "      <td>27</td>\n",
       "      <td>16</td>\n",
       "      <td>2</td>\n",
       "      <td>59</td>\n",
       "    </tr>\n",
       "  </tbody>\n",
       "</table>\n",
       "</div>"
      ],
      "text/plain": [
       "¿Sufriste algún tipo de maltrato verbal o físico en el hospital?:   No  \\\n",
       "De las siguientes opciones, marca todas las que...                       \n",
       "No                                                                 339   \n",
       "Sí                                                                  27   \n",
       "\n",
       "¿Sufriste algún tipo de maltrato verbal o físico en el hospital?:  No estoy segura  \\\n",
       "De las siguientes opciones, marca todas las que...                                   \n",
       "No                                                                              13   \n",
       "Sí                                                                              16   \n",
       "\n",
       "¿Sufriste algún tipo de maltrato verbal o físico en el hospital?:  Otro  Sí  \n",
       "De las siguientes opciones, marca todas las que...                           \n",
       "No                                                                    5  53  \n",
       "Sí                                                                    2  59  "
      ]
     },
     "execution_count": 7,
     "metadata": {},
     "output_type": "execute_result"
    }
   ],
   "source": [
    "maltratos = analyze.create_pivot_tabe(df, values=0, index=90, cols=89)\n",
    "# maltratos = analyze.set_new_index(maltratos, col_name='Fecha')\n",
    "maltratos"
   ]
  },
  {
   "cell_type": "code",
   "execution_count": 6,
   "metadata": {},
   "outputs": [
    {
     "data": {
      "text/html": [
       "<div>\n",
       "<style scoped>\n",
       "    .dataframe tbody tr th:only-of-type {\n",
       "        vertical-align: middle;\n",
       "    }\n",
       "\n",
       "    .dataframe tbody tr th {\n",
       "        vertical-align: top;\n",
       "    }\n",
       "\n",
       "    .dataframe thead th {\n",
       "        text-align: right;\n",
       "    }\n",
       "</style>\n",
       "<table border=\"1\" class=\"dataframe\">\n",
       "  <thead>\n",
       "    <tr style=\"text-align: right;\">\n",
       "      <th>¿Sufriste algún tipo de maltrato verbal o físico en el hospital?:</th>\n",
       "      <th>No</th>\n",
       "      <th>No estoy segura</th>\n",
       "      <th>Otro</th>\n",
       "      <th>Sí</th>\n",
       "    </tr>\n",
       "    <tr>\n",
       "      <th>De las siguientes opciones, marca todas las que experimentaste a manos del personal del hospital durante tu proceso de parto: [Se burlaron de ti]</th>\n",
       "      <th></th>\n",
       "      <th></th>\n",
       "      <th></th>\n",
       "      <th></th>\n",
       "    </tr>\n",
       "  </thead>\n",
       "  <tbody>\n",
       "    <tr>\n",
       "      <th>No</th>\n",
       "      <td>365.0</td>\n",
       "      <td>29.0</td>\n",
       "      <td>7.0</td>\n",
       "      <td>71.0</td>\n",
       "    </tr>\n",
       "    <tr>\n",
       "      <th>Sí</th>\n",
       "      <td>1.0</td>\n",
       "      <td>NaN</td>\n",
       "      <td>NaN</td>\n",
       "      <td>41.0</td>\n",
       "    </tr>\n",
       "  </tbody>\n",
       "</table>\n",
       "</div>"
      ],
      "text/plain": [
       "¿Sufriste algún tipo de maltrato verbal o físico en el hospital?:     No  \\\n",
       "De las siguientes opciones, marca todas las que...                         \n",
       "No                                                                 365.0   \n",
       "Sí                                                                   1.0   \n",
       "\n",
       "¿Sufriste algún tipo de maltrato verbal o físico en el hospital?:  No estoy segura  \\\n",
       "De las siguientes opciones, marca todas las que...                                   \n",
       "No                                                                            29.0   \n",
       "Sí                                                                             NaN   \n",
       "\n",
       "¿Sufriste algún tipo de maltrato verbal o físico en el hospital?:  Otro    Sí  \n",
       "De las siguientes opciones, marca todas las que...                             \n",
       "No                                                                  7.0  71.0  \n",
       "Sí                                                                  NaN  41.0  "
      ]
     },
     "execution_count": 6,
     "metadata": {},
     "output_type": "execute_result"
    }
   ],
   "source": [
    "maltratos = analyze.create_pivot_tabe(df, values=0, index=91, cols=89)\n",
    "# maltratos = analyze.set_new_index(maltratos, col_name='Fecha')\n",
    "maltratos"
   ]
  },
  {
   "cell_type": "code",
   "execution_count": 8,
   "metadata": {},
   "outputs": [
    {
     "data": {
      "text/html": [
       "<div>\n",
       "<style scoped>\n",
       "    .dataframe tbody tr th:only-of-type {\n",
       "        vertical-align: middle;\n",
       "    }\n",
       "\n",
       "    .dataframe tbody tr th {\n",
       "        vertical-align: top;\n",
       "    }\n",
       "\n",
       "    .dataframe thead th {\n",
       "        text-align: right;\n",
       "    }\n",
       "</style>\n",
       "<table border=\"1\" class=\"dataframe\">\n",
       "  <thead>\n",
       "    <tr style=\"text-align: right;\">\n",
       "      <th>¿Sufriste algún tipo de maltrato verbal o físico en el hospital?:</th>\n",
       "      <th>No</th>\n",
       "      <th>No estoy segura</th>\n",
       "      <th>Otro</th>\n",
       "      <th>Sí</th>\n",
       "    </tr>\n",
       "    <tr>\n",
       "      <th>De las siguientes opciones, marca todas las que experimentaste a manos del personal del hospital durante tu proceso de parto: [Te hablaron en voz alta de modo grosero]</th>\n",
       "      <th></th>\n",
       "      <th></th>\n",
       "      <th></th>\n",
       "      <th></th>\n",
       "    </tr>\n",
       "  </thead>\n",
       "  <tbody>\n",
       "    <tr>\n",
       "      <th>No</th>\n",
       "      <td>364</td>\n",
       "      <td>20</td>\n",
       "      <td>5</td>\n",
       "      <td>27</td>\n",
       "    </tr>\n",
       "    <tr>\n",
       "      <th>Sí</th>\n",
       "      <td>2</td>\n",
       "      <td>9</td>\n",
       "      <td>2</td>\n",
       "      <td>85</td>\n",
       "    </tr>\n",
       "  </tbody>\n",
       "</table>\n",
       "</div>"
      ],
      "text/plain": [
       "¿Sufriste algún tipo de maltrato verbal o físico en el hospital?:   No  \\\n",
       "De las siguientes opciones, marca todas las que...                       \n",
       "No                                                                 364   \n",
       "Sí                                                                   2   \n",
       "\n",
       "¿Sufriste algún tipo de maltrato verbal o físico en el hospital?:  No estoy segura  \\\n",
       "De las siguientes opciones, marca todas las que...                                   \n",
       "No                                                                              20   \n",
       "Sí                                                                               9   \n",
       "\n",
       "¿Sufriste algún tipo de maltrato verbal o físico en el hospital?:  Otro  Sí  \n",
       "De las siguientes opciones, marca todas las que...                           \n",
       "No                                                                    5  27  \n",
       "Sí                                                                    2  85  "
      ]
     },
     "execution_count": 8,
     "metadata": {},
     "output_type": "execute_result"
    }
   ],
   "source": [
    "maltratos = analyze.create_pivot_tabe(df, values=0, index=92, cols=89)\n",
    "# maltratos = analyze.set_new_index(maltratos, col_name='Fecha')\n",
    "maltratos"
   ]
  },
  {
   "cell_type": "code",
   "execution_count": 9,
   "metadata": {},
   "outputs": [
    {
     "data": {
      "text/html": [
       "<div>\n",
       "<style scoped>\n",
       "    .dataframe tbody tr th:only-of-type {\n",
       "        vertical-align: middle;\n",
       "    }\n",
       "\n",
       "    .dataframe tbody tr th {\n",
       "        vertical-align: top;\n",
       "    }\n",
       "\n",
       "    .dataframe thead th {\n",
       "        text-align: right;\n",
       "    }\n",
       "</style>\n",
       "<table border=\"1\" class=\"dataframe\">\n",
       "  <thead>\n",
       "    <tr style=\"text-align: right;\">\n",
       "      <th>¿Sufriste algún tipo de maltrato verbal o físico en el hospital?:</th>\n",
       "      <th>No</th>\n",
       "      <th>No estoy segura</th>\n",
       "      <th>Otro</th>\n",
       "      <th>Sí</th>\n",
       "    </tr>\n",
       "    <tr>\n",
       "      <th>De las siguientes opciones, marca todas las que experimentaste a manos del personal del hospital durante tu proceso de parto: [Ignoraron algo que les pediste]</th>\n",
       "      <th></th>\n",
       "      <th></th>\n",
       "      <th></th>\n",
       "      <th></th>\n",
       "    </tr>\n",
       "  </thead>\n",
       "  <tbody>\n",
       "    <tr>\n",
       "      <th>No</th>\n",
       "      <td>334.0</td>\n",
       "      <td>17.0</td>\n",
       "      <td>7.0</td>\n",
       "      <td>23.0</td>\n",
       "    </tr>\n",
       "    <tr>\n",
       "      <th>Sí</th>\n",
       "      <td>32.0</td>\n",
       "      <td>12.0</td>\n",
       "      <td>NaN</td>\n",
       "      <td>89.0</td>\n",
       "    </tr>\n",
       "  </tbody>\n",
       "</table>\n",
       "</div>"
      ],
      "text/plain": [
       "¿Sufriste algún tipo de maltrato verbal o físico en el hospital?:     No  \\\n",
       "De las siguientes opciones, marca todas las que...                         \n",
       "No                                                                 334.0   \n",
       "Sí                                                                  32.0   \n",
       "\n",
       "¿Sufriste algún tipo de maltrato verbal o físico en el hospital?:  No estoy segura  \\\n",
       "De las siguientes opciones, marca todas las que...                                   \n",
       "No                                                                            17.0   \n",
       "Sí                                                                            12.0   \n",
       "\n",
       "¿Sufriste algún tipo de maltrato verbal o físico en el hospital?:  Otro    Sí  \n",
       "De las siguientes opciones, marca todas las que...                             \n",
       "No                                                                  7.0  23.0  \n",
       "Sí                                                                  NaN  89.0  "
      ]
     },
     "execution_count": 9,
     "metadata": {},
     "output_type": "execute_result"
    }
   ],
   "source": [
    "maltratos = analyze.create_pivot_tabe(df, values=0, index=93, cols=89)\n",
    "# maltratos = analyze.set_new_index(maltratos, col_name='Fecha')\n",
    "maltratos"
   ]
  },
  {
   "cell_type": "code",
   "execution_count": 10,
   "metadata": {},
   "outputs": [
    {
     "data": {
      "text/html": [
       "<div>\n",
       "<style scoped>\n",
       "    .dataframe tbody tr th:only-of-type {\n",
       "        vertical-align: middle;\n",
       "    }\n",
       "\n",
       "    .dataframe tbody tr th {\n",
       "        vertical-align: top;\n",
       "    }\n",
       "\n",
       "    .dataframe thead th {\n",
       "        text-align: right;\n",
       "    }\n",
       "</style>\n",
       "<table border=\"1\" class=\"dataframe\">\n",
       "  <thead>\n",
       "    <tr style=\"text-align: right;\">\n",
       "      <th>¿Sufriste algún tipo de maltrato verbal o físico en el hospital?:</th>\n",
       "      <th>No</th>\n",
       "      <th>No estoy segura</th>\n",
       "      <th>Otro</th>\n",
       "      <th>Sí</th>\n",
       "    </tr>\n",
       "    <tr>\n",
       "      <th>De las siguientes opciones, marca todas las que experimentaste a manos del personal del hospital durante tu proceso de parto: [Te dijeron que no explícitamente a algo que pediste]</th>\n",
       "      <th></th>\n",
       "      <th></th>\n",
       "      <th></th>\n",
       "      <th></th>\n",
       "    </tr>\n",
       "  </thead>\n",
       "  <tbody>\n",
       "    <tr>\n",
       "      <th>No</th>\n",
       "      <td>349</td>\n",
       "      <td>19</td>\n",
       "      <td>6</td>\n",
       "      <td>39</td>\n",
       "    </tr>\n",
       "    <tr>\n",
       "      <th>Sí</th>\n",
       "      <td>17</td>\n",
       "      <td>10</td>\n",
       "      <td>1</td>\n",
       "      <td>73</td>\n",
       "    </tr>\n",
       "  </tbody>\n",
       "</table>\n",
       "</div>"
      ],
      "text/plain": [
       "¿Sufriste algún tipo de maltrato verbal o físico en el hospital?:   No  \\\n",
       "De las siguientes opciones, marca todas las que...                       \n",
       "No                                                                 349   \n",
       "Sí                                                                  17   \n",
       "\n",
       "¿Sufriste algún tipo de maltrato verbal o físico en el hospital?:  No estoy segura  \\\n",
       "De las siguientes opciones, marca todas las que...                                   \n",
       "No                                                                              19   \n",
       "Sí                                                                              10   \n",
       "\n",
       "¿Sufriste algún tipo de maltrato verbal o físico en el hospital?:  Otro  Sí  \n",
       "De las siguientes opciones, marca todas las que...                           \n",
       "No                                                                    6  39  \n",
       "Sí                                                                    1  73  "
      ]
     },
     "execution_count": 10,
     "metadata": {},
     "output_type": "execute_result"
    }
   ],
   "source": [
    "maltratos = analyze.create_pivot_tabe(df, values=0, index=94, cols=89)\n",
    "# maltratos = analyze.set_new_index(maltratos, col_name='Fecha')\n",
    "maltratos"
   ]
  },
  {
   "cell_type": "code",
   "execution_count": 11,
   "metadata": {},
   "outputs": [
    {
     "data": {
      "text/html": [
       "<div>\n",
       "<style scoped>\n",
       "    .dataframe tbody tr th:only-of-type {\n",
       "        vertical-align: middle;\n",
       "    }\n",
       "\n",
       "    .dataframe tbody tr th {\n",
       "        vertical-align: top;\n",
       "    }\n",
       "\n",
       "    .dataframe thead th {\n",
       "        text-align: right;\n",
       "    }\n",
       "</style>\n",
       "<table border=\"1\" class=\"dataframe\">\n",
       "  <thead>\n",
       "    <tr style=\"text-align: right;\">\n",
       "      <th>¿Sufriste algún tipo de maltrato verbal o físico en el hospital?:</th>\n",
       "      <th>No</th>\n",
       "      <th>No estoy segura</th>\n",
       "      <th>Otro</th>\n",
       "      <th>Sí</th>\n",
       "    </tr>\n",
       "    <tr>\n",
       "      <th>De las siguientes opciones, marca todas las que experimentaste a manos del personal del hospital durante tu proceso de parto: [Te dieron golpes, sacudidas, empujones]</th>\n",
       "      <th></th>\n",
       "      <th></th>\n",
       "      <th></th>\n",
       "      <th></th>\n",
       "    </tr>\n",
       "  </thead>\n",
       "  <tbody>\n",
       "    <tr>\n",
       "      <th>No</th>\n",
       "      <td>366.0</td>\n",
       "      <td>29.0</td>\n",
       "      <td>7.0</td>\n",
       "      <td>99.0</td>\n",
       "    </tr>\n",
       "    <tr>\n",
       "      <th>Sí</th>\n",
       "      <td>NaN</td>\n",
       "      <td>NaN</td>\n",
       "      <td>NaN</td>\n",
       "      <td>13.0</td>\n",
       "    </tr>\n",
       "  </tbody>\n",
       "</table>\n",
       "</div>"
      ],
      "text/plain": [
       "¿Sufriste algún tipo de maltrato verbal o físico en el hospital?:     No  \\\n",
       "De las siguientes opciones, marca todas las que...                         \n",
       "No                                                                 366.0   \n",
       "Sí                                                                   NaN   \n",
       "\n",
       "¿Sufriste algún tipo de maltrato verbal o físico en el hospital?:  No estoy segura  \\\n",
       "De las siguientes opciones, marca todas las que...                                   \n",
       "No                                                                            29.0   \n",
       "Sí                                                                             NaN   \n",
       "\n",
       "¿Sufriste algún tipo de maltrato verbal o físico en el hospital?:  Otro    Sí  \n",
       "De las siguientes opciones, marca todas las que...                             \n",
       "No                                                                  7.0  99.0  \n",
       "Sí                                                                  NaN  13.0  "
      ]
     },
     "execution_count": 11,
     "metadata": {},
     "output_type": "execute_result"
    }
   ],
   "source": [
    "maltratos = analyze.create_pivot_tabe(df, values=0, index=95, cols=89)\n",
    "# maltratos = analyze.set_new_index(maltratos, col_name='Fecha')\n",
    "maltratos"
   ]
  },
  {
   "cell_type": "code",
   "execution_count": 12,
   "metadata": {},
   "outputs": [
    {
     "data": {
      "text/html": [
       "<div>\n",
       "<style scoped>\n",
       "    .dataframe tbody tr th:only-of-type {\n",
       "        vertical-align: middle;\n",
       "    }\n",
       "\n",
       "    .dataframe tbody tr th {\n",
       "        vertical-align: top;\n",
       "    }\n",
       "\n",
       "    .dataframe thead th {\n",
       "        text-align: right;\n",
       "    }\n",
       "</style>\n",
       "<table border=\"1\" class=\"dataframe\">\n",
       "  <thead>\n",
       "    <tr style=\"text-align: right;\">\n",
       "      <th>¿Sufriste algún tipo de maltrato verbal o físico en el hospital?:</th>\n",
       "      <th>No</th>\n",
       "      <th>No estoy segura</th>\n",
       "      <th>Otro</th>\n",
       "      <th>Sí</th>\n",
       "    </tr>\n",
       "    <tr>\n",
       "      <th>De las siguientes opciones, marca todas las que experimentaste a manos del personal del hospital durante tu proceso de parto: [Te dijeron que estabas poniendo en riesgo a tu hijo/a]</th>\n",
       "      <th></th>\n",
       "      <th></th>\n",
       "      <th></th>\n",
       "      <th></th>\n",
       "    </tr>\n",
       "  </thead>\n",
       "  <tbody>\n",
       "    <tr>\n",
       "      <th>No</th>\n",
       "      <td>358</td>\n",
       "      <td>20</td>\n",
       "      <td>6</td>\n",
       "      <td>61</td>\n",
       "    </tr>\n",
       "    <tr>\n",
       "      <th>Sí</th>\n",
       "      <td>8</td>\n",
       "      <td>9</td>\n",
       "      <td>1</td>\n",
       "      <td>51</td>\n",
       "    </tr>\n",
       "  </tbody>\n",
       "</table>\n",
       "</div>"
      ],
      "text/plain": [
       "¿Sufriste algún tipo de maltrato verbal o físico en el hospital?:   No  \\\n",
       "De las siguientes opciones, marca todas las que...                       \n",
       "No                                                                 358   \n",
       "Sí                                                                   8   \n",
       "\n",
       "¿Sufriste algún tipo de maltrato verbal o físico en el hospital?:  No estoy segura  \\\n",
       "De las siguientes opciones, marca todas las que...                                   \n",
       "No                                                                              20   \n",
       "Sí                                                                               9   \n",
       "\n",
       "¿Sufriste algún tipo de maltrato verbal o físico en el hospital?:  Otro  Sí  \n",
       "De las siguientes opciones, marca todas las que...                           \n",
       "No                                                                    6  61  \n",
       "Sí                                                                    1  51  "
      ]
     },
     "execution_count": 12,
     "metadata": {},
     "output_type": "execute_result"
    }
   ],
   "source": [
    "maltratos = analyze.create_pivot_tabe(df, values=0, index=96, cols=89)\n",
    "# maltratos = analyze.set_new_index(maltratos, col_name='Fecha')\n",
    "maltratos"
   ]
  },
  {
   "cell_type": "code",
   "execution_count": 14,
   "metadata": {},
   "outputs": [
    {
     "data": {
      "text/html": [
       "<div>\n",
       "<style scoped>\n",
       "    .dataframe tbody tr th:only-of-type {\n",
       "        vertical-align: middle;\n",
       "    }\n",
       "\n",
       "    .dataframe tbody tr th {\n",
       "        vertical-align: top;\n",
       "    }\n",
       "\n",
       "    .dataframe thead th {\n",
       "        text-align: right;\n",
       "    }\n",
       "</style>\n",
       "<table border=\"1\" class=\"dataframe\">\n",
       "  <thead>\n",
       "    <tr style=\"text-align: right;\">\n",
       "      <th>¿Sufriste algún tipo de maltrato verbal o físico en el hospital?:</th>\n",
       "      <th>No</th>\n",
       "      <th>No estoy segura</th>\n",
       "      <th>Otro</th>\n",
       "      <th>Sí</th>\n",
       "    </tr>\n",
       "    <tr>\n",
       "      <th>De las siguientes opciones, marca todas las que experimentaste a manos del personal del hospital durante tu proceso de parto: [Te culparon por situaciones ocurridas en el nacimiento]</th>\n",
       "      <th></th>\n",
       "      <th></th>\n",
       "      <th></th>\n",
       "      <th></th>\n",
       "    </tr>\n",
       "  </thead>\n",
       "  <tbody>\n",
       "    <tr>\n",
       "      <th>No</th>\n",
       "      <td>365.0</td>\n",
       "      <td>26.0</td>\n",
       "      <td>7.0</td>\n",
       "      <td>97.0</td>\n",
       "    </tr>\n",
       "    <tr>\n",
       "      <th>Sí</th>\n",
       "      <td>1.0</td>\n",
       "      <td>3.0</td>\n",
       "      <td>NaN</td>\n",
       "      <td>15.0</td>\n",
       "    </tr>\n",
       "  </tbody>\n",
       "</table>\n",
       "</div>"
      ],
      "text/plain": [
       "¿Sufriste algún tipo de maltrato verbal o físico en el hospital?:     No  \\\n",
       "De las siguientes opciones, marca todas las que...                         \n",
       "No                                                                 365.0   \n",
       "Sí                                                                   1.0   \n",
       "\n",
       "¿Sufriste algún tipo de maltrato verbal o físico en el hospital?:  No estoy segura  \\\n",
       "De las siguientes opciones, marca todas las que...                                   \n",
       "No                                                                            26.0   \n",
       "Sí                                                                             3.0   \n",
       "\n",
       "¿Sufriste algún tipo de maltrato verbal o físico en el hospital?:  Otro    Sí  \n",
       "De las siguientes opciones, marca todas las que...                             \n",
       "No                                                                  7.0  97.0  \n",
       "Sí                                                                  NaN  15.0  "
      ]
     },
     "execution_count": 14,
     "metadata": {},
     "output_type": "execute_result"
    }
   ],
   "source": [
    "maltratos = analyze.create_pivot_tabe(df, values=0, index=97, cols=89)\n",
    "# maltratos = analyze.set_new_index(maltratos, col_name='Fecha')\n",
    "maltratos"
   ]
  },
  {
   "cell_type": "code",
   "execution_count": 15,
   "metadata": {},
   "outputs": [
    {
     "data": {
      "text/html": [
       "<div>\n",
       "<style scoped>\n",
       "    .dataframe tbody tr th:only-of-type {\n",
       "        vertical-align: middle;\n",
       "    }\n",
       "\n",
       "    .dataframe tbody tr th {\n",
       "        vertical-align: top;\n",
       "    }\n",
       "\n",
       "    .dataframe thead th {\n",
       "        text-align: right;\n",
       "    }\n",
       "</style>\n",
       "<table border=\"1\" class=\"dataframe\">\n",
       "  <thead>\n",
       "    <tr style=\"text-align: right;\">\n",
       "      <th>¿Sufriste algún tipo de maltrato verbal o físico en el hospital?:</th>\n",
       "      <th>No</th>\n",
       "      <th>No estoy segura</th>\n",
       "      <th>Otro</th>\n",
       "      <th>Sí</th>\n",
       "    </tr>\n",
       "    <tr>\n",
       "      <th>De las siguientes opciones, marca todas las que experimentaste a manos del personal del hospital durante tu proceso de parto: [Te amenazaron]</th>\n",
       "      <th></th>\n",
       "      <th></th>\n",
       "      <th></th>\n",
       "      <th></th>\n",
       "    </tr>\n",
       "  </thead>\n",
       "  <tbody>\n",
       "    <tr>\n",
       "      <th>No</th>\n",
       "      <td>366.0</td>\n",
       "      <td>28.0</td>\n",
       "      <td>7.0</td>\n",
       "      <td>100.0</td>\n",
       "    </tr>\n",
       "    <tr>\n",
       "      <th>Sí</th>\n",
       "      <td>NaN</td>\n",
       "      <td>1.0</td>\n",
       "      <td>NaN</td>\n",
       "      <td>12.0</td>\n",
       "    </tr>\n",
       "  </tbody>\n",
       "</table>\n",
       "</div>"
      ],
      "text/plain": [
       "¿Sufriste algún tipo de maltrato verbal o físico en el hospital?:     No  \\\n",
       "De las siguientes opciones, marca todas las que...                         \n",
       "No                                                                 366.0   \n",
       "Sí                                                                   NaN   \n",
       "\n",
       "¿Sufriste algún tipo de maltrato verbal o físico en el hospital?:  No estoy segura  \\\n",
       "De las siguientes opciones, marca todas las que...                                   \n",
       "No                                                                            28.0   \n",
       "Sí                                                                             1.0   \n",
       "\n",
       "¿Sufriste algún tipo de maltrato verbal o físico en el hospital?:  Otro     Sí  \n",
       "De las siguientes opciones, marca todas las que...                              \n",
       "No                                                                  7.0  100.0  \n",
       "Sí                                                                  NaN   12.0  "
      ]
     },
     "execution_count": 15,
     "metadata": {},
     "output_type": "execute_result"
    }
   ],
   "source": [
    "maltratos = analyze.create_pivot_tabe(df, values=0, index=98, cols=89)\n",
    "# maltratos = analyze.set_new_index(maltratos, col_name='Fecha')\n",
    "maltratos"
   ]
  },
  {
   "cell_type": "code",
   "execution_count": 16,
   "metadata": {},
   "outputs": [
    {
     "data": {
      "text/html": [
       "<div>\n",
       "<style scoped>\n",
       "    .dataframe tbody tr th:only-of-type {\n",
       "        vertical-align: middle;\n",
       "    }\n",
       "\n",
       "    .dataframe tbody tr th {\n",
       "        vertical-align: top;\n",
       "    }\n",
       "\n",
       "    .dataframe thead th {\n",
       "        text-align: right;\n",
       "    }\n",
       "</style>\n",
       "<table border=\"1\" class=\"dataframe\">\n",
       "  <thead>\n",
       "    <tr style=\"text-align: right;\">\n",
       "      <th>¿Sufriste algún tipo de maltrato verbal o físico en el hospital?:</th>\n",
       "      <th>No</th>\n",
       "      <th>No estoy segura</th>\n",
       "      <th>Otro</th>\n",
       "      <th>Sí</th>\n",
       "    </tr>\n",
       "    <tr>\n",
       "      <th>De las siguientes opciones, marca todas las que experimentaste a manos del personal del hospital durante tu proceso de parto: [Otro tipo de maltrato:]</th>\n",
       "      <th></th>\n",
       "      <th></th>\n",
       "      <th></th>\n",
       "      <th></th>\n",
       "    </tr>\n",
       "  </thead>\n",
       "  <tbody>\n",
       "    <tr>\n",
       "      <th>No</th>\n",
       "      <td>355</td>\n",
       "      <td>24</td>\n",
       "      <td>2</td>\n",
       "      <td>63</td>\n",
       "    </tr>\n",
       "    <tr>\n",
       "      <th>Sí</th>\n",
       "      <td>11</td>\n",
       "      <td>5</td>\n",
       "      <td>5</td>\n",
       "      <td>49</td>\n",
       "    </tr>\n",
       "  </tbody>\n",
       "</table>\n",
       "</div>"
      ],
      "text/plain": [
       "¿Sufriste algún tipo de maltrato verbal o físico en el hospital?:   No  \\\n",
       "De las siguientes opciones, marca todas las que...                       \n",
       "No                                                                 355   \n",
       "Sí                                                                  11   \n",
       "\n",
       "¿Sufriste algún tipo de maltrato verbal o físico en el hospital?:  No estoy segura  \\\n",
       "De las siguientes opciones, marca todas las que...                                   \n",
       "No                                                                              24   \n",
       "Sí                                                                               5   \n",
       "\n",
       "¿Sufriste algún tipo de maltrato verbal o físico en el hospital?:  Otro  Sí  \n",
       "De las siguientes opciones, marca todas las que...                           \n",
       "No                                                                    2  63  \n",
       "Sí                                                                    5  49  "
      ]
     },
     "execution_count": 16,
     "metadata": {},
     "output_type": "execute_result"
    }
   ],
   "source": [
    "maltratos = analyze.create_pivot_tabe(df, values=0, index=99, cols=89)\n",
    "# maltratos = analyze.set_new_index(maltratos, col_name='Fecha')\n",
    "maltratos"
   ]
  },
  {
   "cell_type": "code",
   "execution_count": 22,
   "metadata": {},
   "outputs": [
    {
     "data": {
      "text/html": [
       "<div>\n",
       "<style scoped>\n",
       "    .dataframe tbody tr th:only-of-type {\n",
       "        vertical-align: middle;\n",
       "    }\n",
       "\n",
       "    .dataframe tbody tr th {\n",
       "        vertical-align: top;\n",
       "    }\n",
       "\n",
       "    .dataframe thead th {\n",
       "        text-align: right;\n",
       "    }\n",
       "</style>\n",
       "<table border=\"1\" class=\"dataframe\">\n",
       "  <thead>\n",
       "    <tr style=\"text-align: right;\">\n",
       "      <th></th>\n",
       "      <th>Maltrato1</th>\n",
       "      <th>Maltrato2</th>\n",
       "      <th>Maltrato3</th>\n",
       "      <th>Maltrato4</th>\n",
       "      <th>Maltrato5</th>\n",
       "      <th>Maltrato6</th>\n",
       "      <th>Maltrato7</th>\n",
       "      <th>Maltrato8</th>\n",
       "      <th>Maltrato9</th>\n",
       "      <th>Maltrato10</th>\n",
       "    </tr>\n",
       "  </thead>\n",
       "  <tbody>\n",
       "    <tr>\n",
       "      <th>0</th>\n",
       "      <td>43</td>\n",
       "      <td>1</td>\n",
       "      <td>11</td>\n",
       "      <td>44</td>\n",
       "      <td>27</td>\n",
       "      <td>0</td>\n",
       "      <td>17</td>\n",
       "      <td>4</td>\n",
       "      <td>1</td>\n",
       "      <td>16</td>\n",
       "    </tr>\n",
       "  </tbody>\n",
       "</table>\n",
       "</div>"
      ],
      "text/plain": [
       "   Maltrato1  Maltrato2  Maltrato3  Maltrato4  Maltrato5  Maltrato6  \\\n",
       "0         43          1         11         44         27          0   \n",
       "\n",
       "   Maltrato7  Maltrato8  Maltrato9  Maltrato10  \n",
       "0         17          4          1          16  "
      ]
     },
     "execution_count": 22,
     "metadata": {},
     "output_type": "execute_result"
    }
   ],
   "source": [
    "data = [{'Maltrato1': 43, 'Maltrato2': 1, 'Maltrato3':11, 'Maltrato4':44, 'Maltrato5': 27, 'Maltrato6': 0, 'Maltrato7': 17, 'Maltrato8': 4, 'Maltrato9': 1, 'Maltrato10': 16}]\n",
    "maltratos = pd.DataFrame(data)\n",
    "maltratos"
   ]
  },
  {
   "cell_type": "code",
   "execution_count": 33,
   "metadata": {},
   "outputs": [
    {
     "data": {
      "text/html": [
       "<div>\n",
       "<style scoped>\n",
       "    .dataframe tbody tr th:only-of-type {\n",
       "        vertical-align: middle;\n",
       "    }\n",
       "\n",
       "    .dataframe tbody tr th {\n",
       "        vertical-align: top;\n",
       "    }\n",
       "\n",
       "    .dataframe thead th {\n",
       "        text-align: right;\n",
       "    }\n",
       "</style>\n",
       "<table border=\"1\" class=\"dataframe\">\n",
       "  <thead>\n",
       "    <tr style=\"text-align: right;\">\n",
       "      <th></th>\n",
       "      <th>Total</th>\n",
       "    </tr>\n",
       "  </thead>\n",
       "  <tbody>\n",
       "    <tr>\n",
       "      <th>0</th>\n",
       "      <td>43</td>\n",
       "    </tr>\n",
       "    <tr>\n",
       "      <th>1</th>\n",
       "      <td>1</td>\n",
       "    </tr>\n",
       "    <tr>\n",
       "      <th>2</th>\n",
       "      <td>11</td>\n",
       "    </tr>\n",
       "    <tr>\n",
       "      <th>3</th>\n",
       "      <td>44</td>\n",
       "    </tr>\n",
       "    <tr>\n",
       "      <th>4</th>\n",
       "      <td>27</td>\n",
       "    </tr>\n",
       "    <tr>\n",
       "      <th>5</th>\n",
       "      <td>0</td>\n",
       "    </tr>\n",
       "    <tr>\n",
       "      <th>6</th>\n",
       "      <td>17</td>\n",
       "    </tr>\n",
       "    <tr>\n",
       "      <th>7</th>\n",
       "      <td>4</td>\n",
       "    </tr>\n",
       "    <tr>\n",
       "      <th>8</th>\n",
       "      <td>1</td>\n",
       "    </tr>\n",
       "    <tr>\n",
       "      <th>9</th>\n",
       "      <td>16</td>\n",
       "    </tr>\n",
       "  </tbody>\n",
       "</table>\n",
       "</div>"
      ],
      "text/plain": [
       "   Total\n",
       "0     43\n",
       "1      1\n",
       "2     11\n",
       "3     44\n",
       "4     27\n",
       "5      0\n",
       "6     17\n",
       "7      4\n",
       "8      1\n",
       "9     16"
      ]
     },
     "execution_count": 33,
     "metadata": {},
     "output_type": "execute_result"
    }
   ],
   "source": [
    "data = [43, 1, 11, 44, 27, 0, 17, 4, 1, 16]\n",
    "maltratos = pd.DataFrame(data, columns=['Total'])\n",
    "maltratos"
   ]
  },
  {
   "cell_type": "code",
   "execution_count": 39,
   "metadata": {},
   "outputs": [
    {
     "data": {
      "application/vnd.plotly.v1+json": {
       "config": {
        "plotlyServerURL": "https://plot.ly"
       },
       "data": [
        {
         "hovertext": [
          "Te llamaron por sobrenombres o diminutivos",
          "Se burlaron de ti",
          "Te hablaron en voz alta de modo grosero",
          "Ignoraron algo que les pediste",
          "Te dijeron que no explícitamente a algo que pediste",
          "Te dieron golpes, sacudidas, empujones",
          "Te dijeron que estabas poniendo en riesgo a tu hijo/a",
          "Te culparon por situaciones ocurridas en el nacimiento",
          "Te amenazaron",
          "Otro tipo de maltrato"
         ],
         "marker": {
          "color": [
           "#9479c2",
           "#9479c2",
           "#9479c2",
           "#221647",
           "#9479c2",
           "#9479c2",
           "#9479c2",
           "#9479c2",
           "#9479c2",
           "#9479c2"
          ],
          "line": {
           "width": 0
          }
         },
         "name": "Negaron maltrato",
         "type": "bar",
         "x": [
          "Maltrato1",
          "Maltrato2",
          "Maltrato3",
          "Maltrato4",
          "Maltrato5",
          "Maltrato6",
          "Maltrato7",
          "Maltrato8",
          "Maltrato9",
          "Maltrato10"
         ],
         "y": [
          43,
          1,
          11,
          44,
          27,
          0,
          17,
          4,
          1,
          16
         ]
        }
       ],
       "layout": {
        "font": {
         "color": "white",
         "family": "Arial"
        },
        "hoverlabel": {
         "font": {
          "family": "Arial"
         }
        },
        "legend": {
         "bgcolor": "#4A2582",
         "bordercolor": "#241749",
         "borderwidth": 2,
         "font": {
          "color": "white"
         },
         "title": {
          "side": "top",
          "text": "Recibió información"
         }
        },
        "modebar": {
         "remove": [
          "lasso",
          "autoscale",
          "zoom",
          "pan",
          "zoomin",
          "zoomout",
          "select",
          "reset",
          "resetscale",
          "toimage"
         ]
        },
        "paper_bgcolor": "#4A2582",
        "plot_bgcolor": "#4A2582",
        "template": {
         "data": {
          "bar": [
           {
            "error_x": {
             "color": "#2a3f5f"
            },
            "error_y": {
             "color": "#2a3f5f"
            },
            "marker": {
             "line": {
              "color": "#E5ECF6",
              "width": 0.5
             },
             "pattern": {
              "fillmode": "overlay",
              "size": 10,
              "solidity": 0.2
             }
            },
            "type": "bar"
           }
          ],
          "barpolar": [
           {
            "marker": {
             "line": {
              "color": "#E5ECF6",
              "width": 0.5
             },
             "pattern": {
              "fillmode": "overlay",
              "size": 10,
              "solidity": 0.2
             }
            },
            "type": "barpolar"
           }
          ],
          "carpet": [
           {
            "aaxis": {
             "endlinecolor": "#2a3f5f",
             "gridcolor": "white",
             "linecolor": "white",
             "minorgridcolor": "white",
             "startlinecolor": "#2a3f5f"
            },
            "baxis": {
             "endlinecolor": "#2a3f5f",
             "gridcolor": "white",
             "linecolor": "white",
             "minorgridcolor": "white",
             "startlinecolor": "#2a3f5f"
            },
            "type": "carpet"
           }
          ],
          "choropleth": [
           {
            "colorbar": {
             "outlinewidth": 0,
             "ticks": ""
            },
            "type": "choropleth"
           }
          ],
          "contour": [
           {
            "colorbar": {
             "outlinewidth": 0,
             "ticks": ""
            },
            "colorscale": [
             [
              0,
              "#0d0887"
             ],
             [
              0.1111111111111111,
              "#46039f"
             ],
             [
              0.2222222222222222,
              "#7201a8"
             ],
             [
              0.3333333333333333,
              "#9c179e"
             ],
             [
              0.4444444444444444,
              "#bd3786"
             ],
             [
              0.5555555555555556,
              "#d8576b"
             ],
             [
              0.6666666666666666,
              "#ed7953"
             ],
             [
              0.7777777777777778,
              "#fb9f3a"
             ],
             [
              0.8888888888888888,
              "#fdca26"
             ],
             [
              1,
              "#f0f921"
             ]
            ],
            "type": "contour"
           }
          ],
          "contourcarpet": [
           {
            "colorbar": {
             "outlinewidth": 0,
             "ticks": ""
            },
            "type": "contourcarpet"
           }
          ],
          "heatmap": [
           {
            "colorbar": {
             "outlinewidth": 0,
             "ticks": ""
            },
            "colorscale": [
             [
              0,
              "#0d0887"
             ],
             [
              0.1111111111111111,
              "#46039f"
             ],
             [
              0.2222222222222222,
              "#7201a8"
             ],
             [
              0.3333333333333333,
              "#9c179e"
             ],
             [
              0.4444444444444444,
              "#bd3786"
             ],
             [
              0.5555555555555556,
              "#d8576b"
             ],
             [
              0.6666666666666666,
              "#ed7953"
             ],
             [
              0.7777777777777778,
              "#fb9f3a"
             ],
             [
              0.8888888888888888,
              "#fdca26"
             ],
             [
              1,
              "#f0f921"
             ]
            ],
            "type": "heatmap"
           }
          ],
          "heatmapgl": [
           {
            "colorbar": {
             "outlinewidth": 0,
             "ticks": ""
            },
            "colorscale": [
             [
              0,
              "#0d0887"
             ],
             [
              0.1111111111111111,
              "#46039f"
             ],
             [
              0.2222222222222222,
              "#7201a8"
             ],
             [
              0.3333333333333333,
              "#9c179e"
             ],
             [
              0.4444444444444444,
              "#bd3786"
             ],
             [
              0.5555555555555556,
              "#d8576b"
             ],
             [
              0.6666666666666666,
              "#ed7953"
             ],
             [
              0.7777777777777778,
              "#fb9f3a"
             ],
             [
              0.8888888888888888,
              "#fdca26"
             ],
             [
              1,
              "#f0f921"
             ]
            ],
            "type": "heatmapgl"
           }
          ],
          "histogram": [
           {
            "marker": {
             "pattern": {
              "fillmode": "overlay",
              "size": 10,
              "solidity": 0.2
             }
            },
            "type": "histogram"
           }
          ],
          "histogram2d": [
           {
            "colorbar": {
             "outlinewidth": 0,
             "ticks": ""
            },
            "colorscale": [
             [
              0,
              "#0d0887"
             ],
             [
              0.1111111111111111,
              "#46039f"
             ],
             [
              0.2222222222222222,
              "#7201a8"
             ],
             [
              0.3333333333333333,
              "#9c179e"
             ],
             [
              0.4444444444444444,
              "#bd3786"
             ],
             [
              0.5555555555555556,
              "#d8576b"
             ],
             [
              0.6666666666666666,
              "#ed7953"
             ],
             [
              0.7777777777777778,
              "#fb9f3a"
             ],
             [
              0.8888888888888888,
              "#fdca26"
             ],
             [
              1,
              "#f0f921"
             ]
            ],
            "type": "histogram2d"
           }
          ],
          "histogram2dcontour": [
           {
            "colorbar": {
             "outlinewidth": 0,
             "ticks": ""
            },
            "colorscale": [
             [
              0,
              "#0d0887"
             ],
             [
              0.1111111111111111,
              "#46039f"
             ],
             [
              0.2222222222222222,
              "#7201a8"
             ],
             [
              0.3333333333333333,
              "#9c179e"
             ],
             [
              0.4444444444444444,
              "#bd3786"
             ],
             [
              0.5555555555555556,
              "#d8576b"
             ],
             [
              0.6666666666666666,
              "#ed7953"
             ],
             [
              0.7777777777777778,
              "#fb9f3a"
             ],
             [
              0.8888888888888888,
              "#fdca26"
             ],
             [
              1,
              "#f0f921"
             ]
            ],
            "type": "histogram2dcontour"
           }
          ],
          "mesh3d": [
           {
            "colorbar": {
             "outlinewidth": 0,
             "ticks": ""
            },
            "type": "mesh3d"
           }
          ],
          "parcoords": [
           {
            "line": {
             "colorbar": {
              "outlinewidth": 0,
              "ticks": ""
             }
            },
            "type": "parcoords"
           }
          ],
          "pie": [
           {
            "automargin": true,
            "type": "pie"
           }
          ],
          "scatter": [
           {
            "marker": {
             "colorbar": {
              "outlinewidth": 0,
              "ticks": ""
             }
            },
            "type": "scatter"
           }
          ],
          "scatter3d": [
           {
            "line": {
             "colorbar": {
              "outlinewidth": 0,
              "ticks": ""
             }
            },
            "marker": {
             "colorbar": {
              "outlinewidth": 0,
              "ticks": ""
             }
            },
            "type": "scatter3d"
           }
          ],
          "scattercarpet": [
           {
            "marker": {
             "colorbar": {
              "outlinewidth": 0,
              "ticks": ""
             }
            },
            "type": "scattercarpet"
           }
          ],
          "scattergeo": [
           {
            "marker": {
             "colorbar": {
              "outlinewidth": 0,
              "ticks": ""
             }
            },
            "type": "scattergeo"
           }
          ],
          "scattergl": [
           {
            "marker": {
             "colorbar": {
              "outlinewidth": 0,
              "ticks": ""
             }
            },
            "type": "scattergl"
           }
          ],
          "scattermapbox": [
           {
            "marker": {
             "colorbar": {
              "outlinewidth": 0,
              "ticks": ""
             }
            },
            "type": "scattermapbox"
           }
          ],
          "scatterpolar": [
           {
            "marker": {
             "colorbar": {
              "outlinewidth": 0,
              "ticks": ""
             }
            },
            "type": "scatterpolar"
           }
          ],
          "scatterpolargl": [
           {
            "marker": {
             "colorbar": {
              "outlinewidth": 0,
              "ticks": ""
             }
            },
            "type": "scatterpolargl"
           }
          ],
          "scatterternary": [
           {
            "marker": {
             "colorbar": {
              "outlinewidth": 0,
              "ticks": ""
             }
            },
            "type": "scatterternary"
           }
          ],
          "surface": [
           {
            "colorbar": {
             "outlinewidth": 0,
             "ticks": ""
            },
            "colorscale": [
             [
              0,
              "#0d0887"
             ],
             [
              0.1111111111111111,
              "#46039f"
             ],
             [
              0.2222222222222222,
              "#7201a8"
             ],
             [
              0.3333333333333333,
              "#9c179e"
             ],
             [
              0.4444444444444444,
              "#bd3786"
             ],
             [
              0.5555555555555556,
              "#d8576b"
             ],
             [
              0.6666666666666666,
              "#ed7953"
             ],
             [
              0.7777777777777778,
              "#fb9f3a"
             ],
             [
              0.8888888888888888,
              "#fdca26"
             ],
             [
              1,
              "#f0f921"
             ]
            ],
            "type": "surface"
           }
          ],
          "table": [
           {
            "cells": {
             "fill": {
              "color": "#EBF0F8"
             },
             "line": {
              "color": "white"
             }
            },
            "header": {
             "fill": {
              "color": "#C8D4E3"
             },
             "line": {
              "color": "white"
             }
            },
            "type": "table"
           }
          ]
         },
         "layout": {
          "annotationdefaults": {
           "arrowcolor": "#2a3f5f",
           "arrowhead": 0,
           "arrowwidth": 1
          },
          "autotypenumbers": "strict",
          "coloraxis": {
           "colorbar": {
            "outlinewidth": 0,
            "ticks": ""
           }
          },
          "colorscale": {
           "diverging": [
            [
             0,
             "#8e0152"
            ],
            [
             0.1,
             "#c51b7d"
            ],
            [
             0.2,
             "#de77ae"
            ],
            [
             0.3,
             "#f1b6da"
            ],
            [
             0.4,
             "#fde0ef"
            ],
            [
             0.5,
             "#f7f7f7"
            ],
            [
             0.6,
             "#e6f5d0"
            ],
            [
             0.7,
             "#b8e186"
            ],
            [
             0.8,
             "#7fbc41"
            ],
            [
             0.9,
             "#4d9221"
            ],
            [
             1,
             "#276419"
            ]
           ],
           "sequential": [
            [
             0,
             "#0d0887"
            ],
            [
             0.1111111111111111,
             "#46039f"
            ],
            [
             0.2222222222222222,
             "#7201a8"
            ],
            [
             0.3333333333333333,
             "#9c179e"
            ],
            [
             0.4444444444444444,
             "#bd3786"
            ],
            [
             0.5555555555555556,
             "#d8576b"
            ],
            [
             0.6666666666666666,
             "#ed7953"
            ],
            [
             0.7777777777777778,
             "#fb9f3a"
            ],
            [
             0.8888888888888888,
             "#fdca26"
            ],
            [
             1,
             "#f0f921"
            ]
           ],
           "sequentialminus": [
            [
             0,
             "#0d0887"
            ],
            [
             0.1111111111111111,
             "#46039f"
            ],
            [
             0.2222222222222222,
             "#7201a8"
            ],
            [
             0.3333333333333333,
             "#9c179e"
            ],
            [
             0.4444444444444444,
             "#bd3786"
            ],
            [
             0.5555555555555556,
             "#d8576b"
            ],
            [
             0.6666666666666666,
             "#ed7953"
            ],
            [
             0.7777777777777778,
             "#fb9f3a"
            ],
            [
             0.8888888888888888,
             "#fdca26"
            ],
            [
             1,
             "#f0f921"
            ]
           ]
          },
          "colorway": [
           "#636efa",
           "#EF553B",
           "#00cc96",
           "#ab63fa",
           "#FFA15A",
           "#19d3f3",
           "#FF6692",
           "#B6E880",
           "#FF97FF",
           "#FECB52"
          ],
          "font": {
           "color": "#2a3f5f"
          },
          "geo": {
           "bgcolor": "white",
           "lakecolor": "white",
           "landcolor": "#E5ECF6",
           "showlakes": true,
           "showland": true,
           "subunitcolor": "white"
          },
          "hoverlabel": {
           "align": "left"
          },
          "hovermode": "closest",
          "mapbox": {
           "style": "light"
          },
          "paper_bgcolor": "white",
          "plot_bgcolor": "#E5ECF6",
          "polar": {
           "angularaxis": {
            "gridcolor": "white",
            "linecolor": "white",
            "ticks": ""
           },
           "bgcolor": "#E5ECF6",
           "radialaxis": {
            "gridcolor": "white",
            "linecolor": "white",
            "ticks": ""
           }
          },
          "scene": {
           "xaxis": {
            "backgroundcolor": "#E5ECF6",
            "gridcolor": "white",
            "gridwidth": 2,
            "linecolor": "white",
            "showbackground": true,
            "ticks": "",
            "zerolinecolor": "white"
           },
           "yaxis": {
            "backgroundcolor": "#E5ECF6",
            "gridcolor": "white",
            "gridwidth": 2,
            "linecolor": "white",
            "showbackground": true,
            "ticks": "",
            "zerolinecolor": "white"
           },
           "zaxis": {
            "backgroundcolor": "#E5ECF6",
            "gridcolor": "white",
            "gridwidth": 2,
            "linecolor": "white",
            "showbackground": true,
            "ticks": "",
            "zerolinecolor": "white"
           }
          },
          "shapedefaults": {
           "line": {
            "color": "#2a3f5f"
           }
          },
          "ternary": {
           "aaxis": {
            "gridcolor": "white",
            "linecolor": "white",
            "ticks": ""
           },
           "baxis": {
            "gridcolor": "white",
            "linecolor": "white",
            "ticks": ""
           },
           "bgcolor": "#E5ECF6",
           "caxis": {
            "gridcolor": "white",
            "linecolor": "white",
            "ticks": ""
           }
          },
          "title": {
           "x": 0.05
          },
          "xaxis": {
           "automargin": true,
           "gridcolor": "white",
           "linecolor": "white",
           "ticks": "",
           "title": {
            "standoff": 15
           },
           "zerolinecolor": "white",
           "zerolinewidth": 2
          },
          "yaxis": {
           "automargin": true,
           "gridcolor": "white",
           "linecolor": "white",
           "ticks": "",
           "title": {
            "standoff": 15
           },
           "zerolinecolor": "white",
           "zerolinewidth": 2
          }
         }
        },
        "xaxis": {
         "title": {
          "text": "Tipos de maltratos"
         }
        },
        "yaxis": {
         "title": {
          "text": "Encuestadas"
         }
        }
       }
      }
     },
     "metadata": {},
     "output_type": "display_data"
    }
   ],
   "source": [
    "# Set values for type of maltratos\n",
    "list_maltratos = ['Maltrato1', \n",
    "            'Maltrato2',\n",
    "            'Maltrato3',\n",
    "            'Maltrato4',\n",
    "            'Maltrato5',\n",
    "            'Maltrato6',\n",
    "            'Maltrato7',\n",
    "            'Maltrato8',\n",
    "            'Maltrato9',\n",
    "            'Maltrato10']\n",
    "\n",
    "colors = ['#9479c2'] * 10\n",
    "colors[3] = '#221647'\n",
    "\n",
    "fig = go.Figure(data=[\n",
    "    go.Bar(name='Negaron maltrato', x=list_maltratos, y=maltratos['Total'], marker_color=colors, hovertext=[\n",
    "            'Te llamaron por sobrenombres o diminutivos', \n",
    "             'Se burlaron de ti', \n",
    "             'Te hablaron en voz alta de modo grosero',\n",
    "             'Ignoraron algo que les pediste',\n",
    "             'Te dijeron que no explícitamente a algo que pediste',  \n",
    "             'Te dieron golpes, sacudidas, empujones', \n",
    "             'Te dijeron que estabas poniendo en riesgo a tu hijo/a', \n",
    "             'Te culparon por situaciones ocurridas en el nacimiento', \n",
    "             'Te amenazaron', \n",
    "             'Otro tipo de maltrato'\n",
    "             ], marker_line_width=0)\n",
    "])\n",
    "\n",
    "# Change the bar mode\n",
    "fig.update_layout(\n",
    "    xaxis_title='Tipos de maltratos', \n",
    "    yaxis_title='Encuestadas',\n",
    "    paper_bgcolor='#4A2582',\n",
    "    plot_bgcolor='#4A2582',\n",
    "    font_color = 'white', \n",
    "    font_family='Arial',\n",
    "    legend_bgcolor='#4A2582',\n",
    "    legend_bordercolor='#241749',\n",
    "    legend_borderwidth=2,\n",
    "    legend_font_color='white',\n",
    "    legend_title=\"Recibió información\",\n",
    "    legend_title_side='top',\n",
    "    hoverlabel_font_family='Arial',\n",
    "    modebar_remove=['lasso', 'autoscale', 'zoom', 'pan', 'zoomin', 'zoomout', 'select', 'reset', 'resetscale', 'toimage'],\n",
    "    )\n",
    "\n",
    "fig.show()\n",
    "fig.write_html(f'{figures}/maltratos_naturalizados.html')"
   ]
  },
  {
   "cell_type": "markdown",
   "metadata": {},
   "source": [
    "### Número de encuestadas por hospital"
   ]
  },
  {
   "cell_type": "code",
   "execution_count": 56,
   "metadata": {},
   "outputs": [
    {
     "data": {
      "text/html": [
       "<div>\n",
       "<style scoped>\n",
       "    .dataframe tbody tr th:only-of-type {\n",
       "        vertical-align: middle;\n",
       "    }\n",
       "\n",
       "    .dataframe tbody tr th {\n",
       "        vertical-align: top;\n",
       "    }\n",
       "\n",
       "    .dataframe thead th {\n",
       "        text-align: right;\n",
       "    }\n",
       "</style>\n",
       "<table border=\"1\" class=\"dataframe\">\n",
       "  <thead>\n",
       "    <tr style=\"text-align: right;\">\n",
       "      <th></th>\n",
       "      <th>hospital</th>\n",
       "      <th>ID de respuesta</th>\n",
       "    </tr>\n",
       "  </thead>\n",
       "  <tbody>\n",
       "    <tr>\n",
       "      <th>0</th>\n",
       "      <td>En un materno</td>\n",
       "      <td>1</td>\n",
       "    </tr>\n",
       "    <tr>\n",
       "      <th>1</th>\n",
       "      <td>Hospital Clínico Quirúrgico Amalia Simoni</td>\n",
       "      <td>1</td>\n",
       "    </tr>\n",
       "    <tr>\n",
       "      <th>2</th>\n",
       "      <td>Hospital Clínico Quirúrgico Docente Julio Trig...</td>\n",
       "      <td>1</td>\n",
       "    </tr>\n",
       "    <tr>\n",
       "      <th>3</th>\n",
       "      <td>Hospital Clínico Quirúrgico Dr. Luis Aldama Pa...</td>\n",
       "      <td>2</td>\n",
       "    </tr>\n",
       "    <tr>\n",
       "      <th>4</th>\n",
       "      <td>Hospital Clínico Quirúrgico Hermanos Ameijeira...</td>\n",
       "      <td>1</td>\n",
       "    </tr>\n",
       "    <tr>\n",
       "      <th>5</th>\n",
       "      <td>Hospital Clínico Quirúrgico Juan Bruno Zayas</td>\n",
       "      <td>2</td>\n",
       "    </tr>\n",
       "    <tr>\n",
       "      <th>6</th>\n",
       "      <td>Hospital Clínico Quirúrgico León Cuervo Rubío</td>\n",
       "      <td>4</td>\n",
       "    </tr>\n",
       "    <tr>\n",
       "      <th>7</th>\n",
       "      <td>Hospital Docente Ginecobstétrico Justo Legón P...</td>\n",
       "      <td>1</td>\n",
       "    </tr>\n",
       "    <tr>\n",
       "      <th>8</th>\n",
       "      <td>Hospital Docente Ginecobstétrico de Guanabacoa...</td>\n",
       "      <td>9</td>\n",
       "    </tr>\n",
       "    <tr>\n",
       "      <th>9</th>\n",
       "      <td>Hospital General Docente 26 de Diciembre de Re...</td>\n",
       "      <td>1</td>\n",
       "    </tr>\n",
       "    <tr>\n",
       "      <th>10</th>\n",
       "      <td>Hospital General Docente Comandante Ciro Redon...</td>\n",
       "      <td>1</td>\n",
       "    </tr>\n",
       "    <tr>\n",
       "      <th>11</th>\n",
       "      <td>Hospital General Docente Comandante Pinares</td>\n",
       "      <td>4</td>\n",
       "    </tr>\n",
       "    <tr>\n",
       "      <th>12</th>\n",
       "      <td>Hospital General Docente Dr. Agostinho Neto</td>\n",
       "      <td>2</td>\n",
       "    </tr>\n",
       "    <tr>\n",
       "      <th>13</th>\n",
       "      <td>Hospital General Docente Dr. Antonio Luaces Ir...</td>\n",
       "      <td>2</td>\n",
       "    </tr>\n",
       "    <tr>\n",
       "      <th>14</th>\n",
       "      <td>Hospital General Docente Enrique Cabrera (Naci...</td>\n",
       "      <td>18</td>\n",
       "    </tr>\n",
       "    <tr>\n",
       "      <th>15</th>\n",
       "      <td>Hospital General Docente Héroes de Baire</td>\n",
       "      <td>4</td>\n",
       "    </tr>\n",
       "    <tr>\n",
       "      <th>16</th>\n",
       "      <td>Hospital General Docente Iván Portuondo</td>\n",
       "      <td>4</td>\n",
       "    </tr>\n",
       "    <tr>\n",
       "      <th>17</th>\n",
       "      <td>Hospital General Docente Julio Aristegui Villa...</td>\n",
       "      <td>10</td>\n",
       "    </tr>\n",
       "    <tr>\n",
       "      <th>18</th>\n",
       "      <td>Hospital General Docente Leopoldito Martínez</td>\n",
       "      <td>1</td>\n",
       "    </tr>\n",
       "    <tr>\n",
       "      <th>19</th>\n",
       "      <td>Hospital General Docente Mártires de Mayarí</td>\n",
       "      <td>1</td>\n",
       "    </tr>\n",
       "    <tr>\n",
       "      <th>20</th>\n",
       "      <td>Hospital General Docente Provincial Roberto Ro...</td>\n",
       "      <td>2</td>\n",
       "    </tr>\n",
       "    <tr>\n",
       "      <th>21</th>\n",
       "      <td>Hospital General Docente Universitario Martin ...</td>\n",
       "      <td>3</td>\n",
       "    </tr>\n",
       "    <tr>\n",
       "      <th>22</th>\n",
       "      <td>Hospital General Docente Vladimir Ilich Lenin</td>\n",
       "      <td>2</td>\n",
       "    </tr>\n",
       "    <tr>\n",
       "      <th>23</th>\n",
       "      <td>Hospital General Municipal 27 de Noviembre</td>\n",
       "      <td>6</td>\n",
       "    </tr>\n",
       "    <tr>\n",
       "      <th>24</th>\n",
       "      <td>Hospital General Universitario Dr. Gustavo Ald...</td>\n",
       "      <td>3</td>\n",
       "    </tr>\n",
       "    <tr>\n",
       "      <th>25</th>\n",
       "      <td>Hospital Ginecobstétrico América Arias (Matern...</td>\n",
       "      <td>26</td>\n",
       "    </tr>\n",
       "    <tr>\n",
       "      <th>26</th>\n",
       "      <td>Hospital Ginecobstétrico Clodomira Acosta</td>\n",
       "      <td>5</td>\n",
       "    </tr>\n",
       "    <tr>\n",
       "      <th>27</th>\n",
       "      <td>Hospital Ginecobstétrico Docente Dra. Nelia I....</td>\n",
       "      <td>2</td>\n",
       "    </tr>\n",
       "    <tr>\n",
       "      <th>28</th>\n",
       "      <td>Hospital Ginecobstétrico Materno Sur Mariana G...</td>\n",
       "      <td>20</td>\n",
       "    </tr>\n",
       "    <tr>\n",
       "      <th>29</th>\n",
       "      <td>Hospital Ginecobstétrico Ramón González Coro</td>\n",
       "      <td>76</td>\n",
       "    </tr>\n",
       "    <tr>\n",
       "      <th>30</th>\n",
       "      <td>Hospital Guillermo Domínguez (Puerto Padre)</td>\n",
       "      <td>2</td>\n",
       "    </tr>\n",
       "    <tr>\n",
       "      <th>31</th>\n",
       "      <td>Hospital Materno Hijas de Galicia (Hospital Ma...</td>\n",
       "      <td>30</td>\n",
       "    </tr>\n",
       "    <tr>\n",
       "      <th>32</th>\n",
       "      <td>Hospital Materno Infantil Dr. Ángel Arturo Aba...</td>\n",
       "      <td>7</td>\n",
       "    </tr>\n",
       "    <tr>\n",
       "      <th>33</th>\n",
       "      <td>Hospital Materno Infantil Lebredo (Arroyo Nara...</td>\n",
       "      <td>3</td>\n",
       "    </tr>\n",
       "    <tr>\n",
       "      <th>34</th>\n",
       "      <td>Hospital Materno Infantil Manuel Piti Fajardo</td>\n",
       "      <td>2</td>\n",
       "    </tr>\n",
       "    <tr>\n",
       "      <th>35</th>\n",
       "      <td>Hospital Materno Infantil provincial Isabel Ma...</td>\n",
       "      <td>3</td>\n",
       "    </tr>\n",
       "    <tr>\n",
       "      <th>36</th>\n",
       "      <td>Hospital Materno Norte Tamara Bunke</td>\n",
       "      <td>2</td>\n",
       "    </tr>\n",
       "    <tr>\n",
       "      <th>37</th>\n",
       "      <td>Hospital Materno Sur (Clínica Los Ángeles)</td>\n",
       "      <td>3</td>\n",
       "    </tr>\n",
       "    <tr>\n",
       "      <th>38</th>\n",
       "      <td>Hospital Militar Luis Díaz Soto (Naval)</td>\n",
       "      <td>8</td>\n",
       "    </tr>\n",
       "    <tr>\n",
       "      <th>39</th>\n",
       "      <td>Hospital Pediátrico Provincial Docente Pepé Po...</td>\n",
       "      <td>1</td>\n",
       "    </tr>\n",
       "    <tr>\n",
       "      <th>40</th>\n",
       "      <td>Hospital Provincial Docente Ginecobstétrico Jo...</td>\n",
       "      <td>1</td>\n",
       "    </tr>\n",
       "    <tr>\n",
       "      <th>41</th>\n",
       "      <td>Hospital Provincial Ginecobstétrico Julio Rafa...</td>\n",
       "      <td>9</td>\n",
       "    </tr>\n",
       "    <tr>\n",
       "      <th>42</th>\n",
       "      <td>Hospital Provincial Universitario Camilo Cienf...</td>\n",
       "      <td>3</td>\n",
       "    </tr>\n",
       "    <tr>\n",
       "      <th>43</th>\n",
       "      <td>Hospital Rural Isidro de Armas</td>\n",
       "      <td>1</td>\n",
       "    </tr>\n",
       "    <tr>\n",
       "      <th>44</th>\n",
       "      <td>Hospital Universitario Abel Santamaría Cuadrado</td>\n",
       "      <td>35</td>\n",
       "    </tr>\n",
       "    <tr>\n",
       "      <th>45</th>\n",
       "      <td>Hospital Universitario Ginecobstétrico Eusebio...</td>\n",
       "      <td>120</td>\n",
       "    </tr>\n",
       "    <tr>\n",
       "      <th>46</th>\n",
       "      <td>Hospital Ginecobstétrico Provincial Ana Betanc...</td>\n",
       "      <td>66</td>\n",
       "    </tr>\n",
       "    <tr>\n",
       "      <th>47</th>\n",
       "      <td>Materno Celia Sánchez</td>\n",
       "      <td>1</td>\n",
       "    </tr>\n",
       "    <tr>\n",
       "      <th>48</th>\n",
       "      <td>Thu Oct 12 00:00:00 CST 1995</td>\n",
       "      <td>1</td>\n",
       "    </tr>\n",
       "  </tbody>\n",
       "</table>\n",
       "</div>"
      ],
      "text/plain": [
       "                                             hospital  ID de respuesta\n",
       "0                                       En un materno                1\n",
       "1          Hospital Clínico Quirúrgico Amalia Simoni                 1\n",
       "2   Hospital Clínico Quirúrgico Docente Julio Trig...                1\n",
       "3   Hospital Clínico Quirúrgico Dr. Luis Aldama Pa...                2\n",
       "4   Hospital Clínico Quirúrgico Hermanos Ameijeira...                1\n",
       "5        Hospital Clínico Quirúrgico Juan Bruno Zayas                2\n",
       "6       Hospital Clínico Quirúrgico León Cuervo Rubío                4\n",
       "7   Hospital Docente Ginecobstétrico Justo Legón P...                1\n",
       "8   Hospital Docente Ginecobstétrico de Guanabacoa...                9\n",
       "9   Hospital General Docente 26 de Diciembre de Re...                1\n",
       "10  Hospital General Docente Comandante Ciro Redon...                1\n",
       "11        Hospital General Docente Comandante Pinares                4\n",
       "12        Hospital General Docente Dr. Agostinho Neto                2\n",
       "13  Hospital General Docente Dr. Antonio Luaces Ir...                2\n",
       "14  Hospital General Docente Enrique Cabrera (Naci...               18\n",
       "15           Hospital General Docente Héroes de Baire                4\n",
       "16            Hospital General Docente Iván Portuondo                4\n",
       "17  Hospital General Docente Julio Aristegui Villa...               10\n",
       "18       Hospital General Docente Leopoldito Martínez                1\n",
       "19        Hospital General Docente Mártires de Mayarí                1\n",
       "20  Hospital General Docente Provincial Roberto Ro...                2\n",
       "21  Hospital General Docente Universitario Martin ...                3\n",
       "22      Hospital General Docente Vladimir Ilich Lenin                2\n",
       "23         Hospital General Municipal 27 de Noviembre                6\n",
       "24  Hospital General Universitario Dr. Gustavo Ald...                3\n",
       "25  Hospital Ginecobstétrico América Arias (Matern...               26\n",
       "26          Hospital Ginecobstétrico Clodomira Acosta                5\n",
       "27  Hospital Ginecobstétrico Docente Dra. Nelia I....                2\n",
       "28  Hospital Ginecobstétrico Materno Sur Mariana G...               20\n",
       "29       Hospital Ginecobstétrico Ramón González Coro               76\n",
       "30        Hospital Guillermo Domínguez (Puerto Padre)                2\n",
       "31  Hospital Materno Hijas de Galicia (Hospital Ma...               30\n",
       "32  Hospital Materno Infantil Dr. Ángel Arturo Aba...                7\n",
       "33  Hospital Materno Infantil Lebredo (Arroyo Nara...                3\n",
       "34      Hospital Materno Infantil Manuel Piti Fajardo                2\n",
       "35  Hospital Materno Infantil provincial Isabel Ma...                3\n",
       "36                Hospital Materno Norte Tamara Bunke                2\n",
       "37         Hospital Materno Sur (Clínica Los Ángeles)                3\n",
       "38            Hospital Militar Luis Díaz Soto (Naval)                8\n",
       "39  Hospital Pediátrico Provincial Docente Pepé Po...                1\n",
       "40  Hospital Provincial Docente Ginecobstétrico Jo...                1\n",
       "41  Hospital Provincial Ginecobstétrico Julio Rafa...                9\n",
       "42  Hospital Provincial Universitario Camilo Cienf...                3\n",
       "43                     Hospital Rural Isidro de Armas                1\n",
       "44    Hospital Universitario Abel Santamaría Cuadrado               35\n",
       "45  Hospital Universitario Ginecobstétrico Eusebio...              120\n",
       "46  Hospital Ginecobstétrico Provincial Ana Betanc...               66\n",
       "47                             Materno Celia Sánchez                 1\n",
       "48                       Thu Oct 12 00:00:00 CST 1995                1"
      ]
     },
     "execution_count": 56,
     "metadata": {},
     "output_type": "execute_result"
    }
   ],
   "source": [
    "list_cols = df.columns\n",
    "\n",
    "table = pd.pivot_table(df, values=list_cols[0], index=list_cols[27], aggfunc='count')\n",
    "\n",
    "table = analyze.set_new_index(table, col_name='hospital')\n",
    "\n",
    "table = table[0]\n",
    "table"
   ]
  },
  {
   "cell_type": "code",
   "execution_count": 52,
   "metadata": {},
   "outputs": [
    {
     "data": {
      "text/html": [
       "<div>\n",
       "<style scoped>\n",
       "    .dataframe tbody tr th:only-of-type {\n",
       "        vertical-align: middle;\n",
       "    }\n",
       "\n",
       "    .dataframe tbody tr th {\n",
       "        vertical-align: top;\n",
       "    }\n",
       "\n",
       "    .dataframe thead th {\n",
       "        text-align: right;\n",
       "    }\n",
       "</style>\n",
       "<table border=\"1\" class=\"dataframe\">\n",
       "  <thead>\n",
       "    <tr style=\"text-align: right;\">\n",
       "      <th></th>\n",
       "      <th>hospital</th>\n",
       "      <th>encuestadas</th>\n",
       "    </tr>\n",
       "  </thead>\n",
       "  <tbody>\n",
       "    <tr>\n",
       "      <th>0</th>\n",
       "      <td>Hospital Guillermo Domínguez (Puerto Padre)</td>\n",
       "      <td>NaN</td>\n",
       "    </tr>\n",
       "    <tr>\n",
       "      <th>1</th>\n",
       "      <td>Hospital General Docente 26 de Diciembre de Re...</td>\n",
       "      <td>NaN</td>\n",
       "    </tr>\n",
       "    <tr>\n",
       "      <th>2</th>\n",
       "      <td>Hospital Clínico Quirúrgico Dr. Luis Aldama Pa...</td>\n",
       "      <td>NaN</td>\n",
       "    </tr>\n",
       "    <tr>\n",
       "      <th>3</th>\n",
       "      <td>Hospital General Docente Dr. Agostinho Neto</td>\n",
       "      <td>NaN</td>\n",
       "    </tr>\n",
       "    <tr>\n",
       "      <th>4</th>\n",
       "      <td>Hospital General Docente Vladimir Ilich Lenin</td>\n",
       "      <td>NaN</td>\n",
       "    </tr>\n",
       "    <tr>\n",
       "      <th>5</th>\n",
       "      <td>Hospital General Municipal 27 de Noviembre</td>\n",
       "      <td>NaN</td>\n",
       "    </tr>\n",
       "    <tr>\n",
       "      <th>6</th>\n",
       "      <td>Hospital Ginecobstétrico Materno Sur Mariana G...</td>\n",
       "      <td>NaN</td>\n",
       "    </tr>\n",
       "    <tr>\n",
       "      <th>7</th>\n",
       "      <td>Hospital Ginecobstétrico Ramón González Coro</td>\n",
       "      <td>NaN</td>\n",
       "    </tr>\n",
       "    <tr>\n",
       "      <th>8</th>\n",
       "      <td>Hospital Materno Infantil provincial Isabel Ma...</td>\n",
       "      <td>NaN</td>\n",
       "    </tr>\n",
       "    <tr>\n",
       "      <th>9</th>\n",
       "      <td>Hospital Militar Luis Díaz Soto (Naval)</td>\n",
       "      <td>NaN</td>\n",
       "    </tr>\n",
       "    <tr>\n",
       "      <th>10</th>\n",
       "      <td>Hospital Pediátrico Provincial Docente Pepé Po...</td>\n",
       "      <td>NaN</td>\n",
       "    </tr>\n",
       "    <tr>\n",
       "      <th>11</th>\n",
       "      <td>Hospital Universitario Abel Santamaría Cuadrado</td>\n",
       "      <td>NaN</td>\n",
       "    </tr>\n",
       "    <tr>\n",
       "      <th>12</th>\n",
       "      <td>Hospital Clínico Quirúrgico Amalia Simoni</td>\n",
       "      <td>NaN</td>\n",
       "    </tr>\n",
       "    <tr>\n",
       "      <th>13</th>\n",
       "      <td>Hospital Clínico Quirúrgico Docente Julio Trig...</td>\n",
       "      <td>NaN</td>\n",
       "    </tr>\n",
       "    <tr>\n",
       "      <th>14</th>\n",
       "      <td>Hospital Clínico Quirúrgico Hermanos Ameijeira...</td>\n",
       "      <td>NaN</td>\n",
       "    </tr>\n",
       "    <tr>\n",
       "      <th>15</th>\n",
       "      <td>Hospital Clínico Quirúrgico Juan Bruno Zayas</td>\n",
       "      <td>NaN</td>\n",
       "    </tr>\n",
       "    <tr>\n",
       "      <th>16</th>\n",
       "      <td>Hospital Clínico Quirúrgico León Cuervo Rubío</td>\n",
       "      <td>NaN</td>\n",
       "    </tr>\n",
       "    <tr>\n",
       "      <th>17</th>\n",
       "      <td>Hospital Docente Ginecobstétrico Justo Legón P...</td>\n",
       "      <td>NaN</td>\n",
       "    </tr>\n",
       "    <tr>\n",
       "      <th>18</th>\n",
       "      <td>Hospital Docente Ginecobstétrico de Guanabacoa...</td>\n",
       "      <td>NaN</td>\n",
       "    </tr>\n",
       "    <tr>\n",
       "      <th>19</th>\n",
       "      <td>Hospital General Docente Comandante Ciro Redon...</td>\n",
       "      <td>NaN</td>\n",
       "    </tr>\n",
       "    <tr>\n",
       "      <th>20</th>\n",
       "      <td>Hospital General Docente Comandante Pinares</td>\n",
       "      <td>NaN</td>\n",
       "    </tr>\n",
       "    <tr>\n",
       "      <th>21</th>\n",
       "      <td>Hospital General Docente Dr. Antonio Luaces Ir...</td>\n",
       "      <td>NaN</td>\n",
       "    </tr>\n",
       "    <tr>\n",
       "      <th>22</th>\n",
       "      <td>Hospital General Docente Enrique Cabrera (Naci...</td>\n",
       "      <td>NaN</td>\n",
       "    </tr>\n",
       "    <tr>\n",
       "      <th>23</th>\n",
       "      <td>Hospital General Docente Héroes de Baire</td>\n",
       "      <td>NaN</td>\n",
       "    </tr>\n",
       "    <tr>\n",
       "      <th>24</th>\n",
       "      <td>Hospital General Docente Iván Portuondo</td>\n",
       "      <td>NaN</td>\n",
       "    </tr>\n",
       "    <tr>\n",
       "      <th>25</th>\n",
       "      <td>Hospital General Docente Julio Aristegui Villa...</td>\n",
       "      <td>NaN</td>\n",
       "    </tr>\n",
       "    <tr>\n",
       "      <th>26</th>\n",
       "      <td>Hospital General Docente Leopoldito Martínez</td>\n",
       "      <td>NaN</td>\n",
       "    </tr>\n",
       "    <tr>\n",
       "      <th>27</th>\n",
       "      <td>Hospital General Docente Mártires de Mayarí</td>\n",
       "      <td>NaN</td>\n",
       "    </tr>\n",
       "    <tr>\n",
       "      <th>28</th>\n",
       "      <td>Hospital General Docente Provincial Roberto Ro...</td>\n",
       "      <td>NaN</td>\n",
       "    </tr>\n",
       "    <tr>\n",
       "      <th>29</th>\n",
       "      <td>Hospital General Docente Universitario Martin ...</td>\n",
       "      <td>NaN</td>\n",
       "    </tr>\n",
       "    <tr>\n",
       "      <th>30</th>\n",
       "      <td>Hospital General Universitario Dr. Gustavo Ald...</td>\n",
       "      <td>NaN</td>\n",
       "    </tr>\n",
       "    <tr>\n",
       "      <th>31</th>\n",
       "      <td>Hospital Ginecobstétrico América Arias (Matern...</td>\n",
       "      <td>NaN</td>\n",
       "    </tr>\n",
       "    <tr>\n",
       "      <th>32</th>\n",
       "      <td>Hospital Ginecobstétrico Clodomira Acosta</td>\n",
       "      <td>NaN</td>\n",
       "    </tr>\n",
       "    <tr>\n",
       "      <th>33</th>\n",
       "      <td>Hospital Materno Hijas de Galicia (Hospital Ma...</td>\n",
       "      <td>NaN</td>\n",
       "    </tr>\n",
       "    <tr>\n",
       "      <th>34</th>\n",
       "      <td>Hospital Materno Infantil Dr. Ángel Arturo Aba...</td>\n",
       "      <td>NaN</td>\n",
       "    </tr>\n",
       "    <tr>\n",
       "      <th>35</th>\n",
       "      <td>Hospital Materno Infantil Lebredo (Arroyo Nara...</td>\n",
       "      <td>NaN</td>\n",
       "    </tr>\n",
       "    <tr>\n",
       "      <th>36</th>\n",
       "      <td>Hospital Materno Infantil Manuel Piti Fajardo</td>\n",
       "      <td>NaN</td>\n",
       "    </tr>\n",
       "    <tr>\n",
       "      <th>37</th>\n",
       "      <td>Hospital Materno Norte Tamara Bunke</td>\n",
       "      <td>NaN</td>\n",
       "    </tr>\n",
       "    <tr>\n",
       "      <th>38</th>\n",
       "      <td>Hospital Materno Sur (Clínica Los Ángeles)</td>\n",
       "      <td>NaN</td>\n",
       "    </tr>\n",
       "    <tr>\n",
       "      <th>39</th>\n",
       "      <td>Hospital Provincial Docente Ginecobstétrico Jo...</td>\n",
       "      <td>NaN</td>\n",
       "    </tr>\n",
       "    <tr>\n",
       "      <th>40</th>\n",
       "      <td>Hospital Provincial Ginecobstétrico Julio Rafa...</td>\n",
       "      <td>NaN</td>\n",
       "    </tr>\n",
       "    <tr>\n",
       "      <th>41</th>\n",
       "      <td>Hospital Provincial Universitario Camilo Cienf...</td>\n",
       "      <td>NaN</td>\n",
       "    </tr>\n",
       "    <tr>\n",
       "      <th>42</th>\n",
       "      <td>Hospital Universitario Ginecobstétrico Eusebio...</td>\n",
       "      <td>NaN</td>\n",
       "    </tr>\n",
       "    <tr>\n",
       "      <th>43</th>\n",
       "      <td>Hospital Ginecobstétrico Provincial Ana Betanc...</td>\n",
       "      <td>NaN</td>\n",
       "    </tr>\n",
       "  </tbody>\n",
       "</table>\n",
       "</div>"
      ],
      "text/plain": [
       "                                             hospital  encuestadas\n",
       "0         Hospital Guillermo Domínguez (Puerto Padre)          NaN\n",
       "1   Hospital General Docente 26 de Diciembre de Re...          NaN\n",
       "2   Hospital Clínico Quirúrgico Dr. Luis Aldama Pa...          NaN\n",
       "3         Hospital General Docente Dr. Agostinho Neto          NaN\n",
       "4       Hospital General Docente Vladimir Ilich Lenin          NaN\n",
       "5          Hospital General Municipal 27 de Noviembre          NaN\n",
       "6   Hospital Ginecobstétrico Materno Sur Mariana G...          NaN\n",
       "7        Hospital Ginecobstétrico Ramón González Coro          NaN\n",
       "8   Hospital Materno Infantil provincial Isabel Ma...          NaN\n",
       "9             Hospital Militar Luis Díaz Soto (Naval)          NaN\n",
       "10  Hospital Pediátrico Provincial Docente Pepé Po...          NaN\n",
       "11    Hospital Universitario Abel Santamaría Cuadrado          NaN\n",
       "12         Hospital Clínico Quirúrgico Amalia Simoni           NaN\n",
       "13  Hospital Clínico Quirúrgico Docente Julio Trig...          NaN\n",
       "14  Hospital Clínico Quirúrgico Hermanos Ameijeira...          NaN\n",
       "15       Hospital Clínico Quirúrgico Juan Bruno Zayas          NaN\n",
       "16      Hospital Clínico Quirúrgico León Cuervo Rubío          NaN\n",
       "17  Hospital Docente Ginecobstétrico Justo Legón P...          NaN\n",
       "18  Hospital Docente Ginecobstétrico de Guanabacoa...          NaN\n",
       "19  Hospital General Docente Comandante Ciro Redon...          NaN\n",
       "20        Hospital General Docente Comandante Pinares          NaN\n",
       "21  Hospital General Docente Dr. Antonio Luaces Ir...          NaN\n",
       "22  Hospital General Docente Enrique Cabrera (Naci...          NaN\n",
       "23           Hospital General Docente Héroes de Baire          NaN\n",
       "24            Hospital General Docente Iván Portuondo          NaN\n",
       "25  Hospital General Docente Julio Aristegui Villa...          NaN\n",
       "26       Hospital General Docente Leopoldito Martínez          NaN\n",
       "27        Hospital General Docente Mártires de Mayarí          NaN\n",
       "28  Hospital General Docente Provincial Roberto Ro...          NaN\n",
       "29  Hospital General Docente Universitario Martin ...          NaN\n",
       "30  Hospital General Universitario Dr. Gustavo Ald...          NaN\n",
       "31  Hospital Ginecobstétrico América Arias (Matern...          NaN\n",
       "32          Hospital Ginecobstétrico Clodomira Acosta          NaN\n",
       "33  Hospital Materno Hijas de Galicia (Hospital Ma...          NaN\n",
       "34  Hospital Materno Infantil Dr. Ángel Arturo Aba...          NaN\n",
       "35  Hospital Materno Infantil Lebredo (Arroyo Nara...          NaN\n",
       "36      Hospital Materno Infantil Manuel Piti Fajardo          NaN\n",
       "37                Hospital Materno Norte Tamara Bunke          NaN\n",
       "38         Hospital Materno Sur (Clínica Los Ángeles)          NaN\n",
       "39  Hospital Provincial Docente Ginecobstétrico Jo...          NaN\n",
       "40  Hospital Provincial Ginecobstétrico Julio Rafa...          NaN\n",
       "41  Hospital Provincial Universitario Camilo Cienf...          NaN\n",
       "42  Hospital Universitario Ginecobstétrico Eusebio...          NaN\n",
       "43  Hospital Ginecobstétrico Provincial Ana Betanc...          NaN"
      ]
     },
     "execution_count": 52,
     "metadata": {},
     "output_type": "execute_result"
    }
   ],
   "source": [
    "ejemplo = pd.read_excel(f'{data_processed}/ejemplo_cantidad_encuestadas_hospital.xlsx')  \n",
    "ejemplo"
   ]
  },
  {
   "cell_type": "code",
   "execution_count": 63,
   "metadata": {},
   "outputs": [
    {
     "data": {
      "text/html": [
       "<div>\n",
       "<style scoped>\n",
       "    .dataframe tbody tr th:only-of-type {\n",
       "        vertical-align: middle;\n",
       "    }\n",
       "\n",
       "    .dataframe tbody tr th {\n",
       "        vertical-align: top;\n",
       "    }\n",
       "\n",
       "    .dataframe thead th {\n",
       "        text-align: right;\n",
       "    }\n",
       "</style>\n",
       "<table border=\"1\" class=\"dataframe\">\n",
       "  <thead>\n",
       "    <tr style=\"text-align: right;\">\n",
       "      <th></th>\n",
       "      <th>hospital</th>\n",
       "      <th>ID de respuesta</th>\n",
       "      <th>encuestadas</th>\n",
       "    </tr>\n",
       "  </thead>\n",
       "  <tbody>\n",
       "    <tr>\n",
       "      <th>0</th>\n",
       "      <td>Hospital Clínico Quirúrgico Amalia Simoni</td>\n",
       "      <td>1</td>\n",
       "      <td>NaN</td>\n",
       "    </tr>\n",
       "    <tr>\n",
       "      <th>1</th>\n",
       "      <td>Hospital Clínico Quirúrgico Docente Julio Trig...</td>\n",
       "      <td>1</td>\n",
       "      <td>NaN</td>\n",
       "    </tr>\n",
       "    <tr>\n",
       "      <th>2</th>\n",
       "      <td>Hospital Clínico Quirúrgico Dr. Luis Aldama Pa...</td>\n",
       "      <td>2</td>\n",
       "      <td>NaN</td>\n",
       "    </tr>\n",
       "    <tr>\n",
       "      <th>3</th>\n",
       "      <td>Hospital Clínico Quirúrgico Hermanos Ameijeira...</td>\n",
       "      <td>1</td>\n",
       "      <td>NaN</td>\n",
       "    </tr>\n",
       "    <tr>\n",
       "      <th>4</th>\n",
       "      <td>Hospital Clínico Quirúrgico Juan Bruno Zayas</td>\n",
       "      <td>2</td>\n",
       "      <td>NaN</td>\n",
       "    </tr>\n",
       "    <tr>\n",
       "      <th>5</th>\n",
       "      <td>Hospital Clínico Quirúrgico León Cuervo Rubío</td>\n",
       "      <td>4</td>\n",
       "      <td>NaN</td>\n",
       "    </tr>\n",
       "    <tr>\n",
       "      <th>6</th>\n",
       "      <td>Hospital Docente Ginecobstétrico Justo Legón P...</td>\n",
       "      <td>1</td>\n",
       "      <td>NaN</td>\n",
       "    </tr>\n",
       "    <tr>\n",
       "      <th>7</th>\n",
       "      <td>Hospital Docente Ginecobstétrico de Guanabacoa...</td>\n",
       "      <td>9</td>\n",
       "      <td>NaN</td>\n",
       "    </tr>\n",
       "    <tr>\n",
       "      <th>8</th>\n",
       "      <td>Hospital General Docente 26 de Diciembre de Re...</td>\n",
       "      <td>1</td>\n",
       "      <td>NaN</td>\n",
       "    </tr>\n",
       "    <tr>\n",
       "      <th>9</th>\n",
       "      <td>Hospital General Docente Comandante Ciro Redon...</td>\n",
       "      <td>1</td>\n",
       "      <td>NaN</td>\n",
       "    </tr>\n",
       "    <tr>\n",
       "      <th>10</th>\n",
       "      <td>Hospital General Docente Comandante Pinares</td>\n",
       "      <td>4</td>\n",
       "      <td>NaN</td>\n",
       "    </tr>\n",
       "    <tr>\n",
       "      <th>11</th>\n",
       "      <td>Hospital General Docente Dr. Agostinho Neto</td>\n",
       "      <td>2</td>\n",
       "      <td>NaN</td>\n",
       "    </tr>\n",
       "    <tr>\n",
       "      <th>12</th>\n",
       "      <td>Hospital General Docente Dr. Antonio Luaces Ir...</td>\n",
       "      <td>2</td>\n",
       "      <td>NaN</td>\n",
       "    </tr>\n",
       "    <tr>\n",
       "      <th>13</th>\n",
       "      <td>Hospital General Docente Enrique Cabrera (Naci...</td>\n",
       "      <td>18</td>\n",
       "      <td>NaN</td>\n",
       "    </tr>\n",
       "    <tr>\n",
       "      <th>14</th>\n",
       "      <td>Hospital General Docente Héroes de Baire</td>\n",
       "      <td>4</td>\n",
       "      <td>NaN</td>\n",
       "    </tr>\n",
       "    <tr>\n",
       "      <th>15</th>\n",
       "      <td>Hospital General Docente Iván Portuondo</td>\n",
       "      <td>4</td>\n",
       "      <td>NaN</td>\n",
       "    </tr>\n",
       "    <tr>\n",
       "      <th>16</th>\n",
       "      <td>Hospital General Docente Julio Aristegui Villa...</td>\n",
       "      <td>10</td>\n",
       "      <td>NaN</td>\n",
       "    </tr>\n",
       "    <tr>\n",
       "      <th>17</th>\n",
       "      <td>Hospital General Docente Leopoldito Martínez</td>\n",
       "      <td>1</td>\n",
       "      <td>NaN</td>\n",
       "    </tr>\n",
       "    <tr>\n",
       "      <th>18</th>\n",
       "      <td>Hospital General Docente Mártires de Mayarí</td>\n",
       "      <td>1</td>\n",
       "      <td>NaN</td>\n",
       "    </tr>\n",
       "    <tr>\n",
       "      <th>19</th>\n",
       "      <td>Hospital General Docente Provincial Roberto Ro...</td>\n",
       "      <td>2</td>\n",
       "      <td>NaN</td>\n",
       "    </tr>\n",
       "    <tr>\n",
       "      <th>20</th>\n",
       "      <td>Hospital General Docente Universitario Martin ...</td>\n",
       "      <td>3</td>\n",
       "      <td>NaN</td>\n",
       "    </tr>\n",
       "    <tr>\n",
       "      <th>21</th>\n",
       "      <td>Hospital General Docente Vladimir Ilich Lenin</td>\n",
       "      <td>2</td>\n",
       "      <td>NaN</td>\n",
       "    </tr>\n",
       "    <tr>\n",
       "      <th>22</th>\n",
       "      <td>Hospital General Municipal 27 de Noviembre</td>\n",
       "      <td>6</td>\n",
       "      <td>NaN</td>\n",
       "    </tr>\n",
       "    <tr>\n",
       "      <th>23</th>\n",
       "      <td>Hospital General Universitario Dr. Gustavo Ald...</td>\n",
       "      <td>3</td>\n",
       "      <td>NaN</td>\n",
       "    </tr>\n",
       "    <tr>\n",
       "      <th>24</th>\n",
       "      <td>Hospital Ginecobstétrico América Arias (Matern...</td>\n",
       "      <td>26</td>\n",
       "      <td>NaN</td>\n",
       "    </tr>\n",
       "    <tr>\n",
       "      <th>25</th>\n",
       "      <td>Hospital Ginecobstétrico Clodomira Acosta</td>\n",
       "      <td>5</td>\n",
       "      <td>NaN</td>\n",
       "    </tr>\n",
       "    <tr>\n",
       "      <th>26</th>\n",
       "      <td>Hospital Ginecobstétrico Materno Sur Mariana G...</td>\n",
       "      <td>20</td>\n",
       "      <td>NaN</td>\n",
       "    </tr>\n",
       "    <tr>\n",
       "      <th>27</th>\n",
       "      <td>Hospital Ginecobstétrico Ramón González Coro</td>\n",
       "      <td>76</td>\n",
       "      <td>NaN</td>\n",
       "    </tr>\n",
       "    <tr>\n",
       "      <th>28</th>\n",
       "      <td>Hospital Guillermo Domínguez (Puerto Padre)</td>\n",
       "      <td>2</td>\n",
       "      <td>NaN</td>\n",
       "    </tr>\n",
       "    <tr>\n",
       "      <th>29</th>\n",
       "      <td>Hospital Materno Hijas de Galicia (Hospital Ma...</td>\n",
       "      <td>30</td>\n",
       "      <td>NaN</td>\n",
       "    </tr>\n",
       "    <tr>\n",
       "      <th>30</th>\n",
       "      <td>Hospital Materno Infantil Dr. Ángel Arturo Aba...</td>\n",
       "      <td>7</td>\n",
       "      <td>NaN</td>\n",
       "    </tr>\n",
       "    <tr>\n",
       "      <th>31</th>\n",
       "      <td>Hospital Materno Infantil Lebredo (Arroyo Nara...</td>\n",
       "      <td>3</td>\n",
       "      <td>NaN</td>\n",
       "    </tr>\n",
       "    <tr>\n",
       "      <th>32</th>\n",
       "      <td>Hospital Materno Infantil Manuel Piti Fajardo</td>\n",
       "      <td>2</td>\n",
       "      <td>NaN</td>\n",
       "    </tr>\n",
       "    <tr>\n",
       "      <th>33</th>\n",
       "      <td>Hospital Materno Infantil provincial Isabel Ma...</td>\n",
       "      <td>3</td>\n",
       "      <td>NaN</td>\n",
       "    </tr>\n",
       "    <tr>\n",
       "      <th>34</th>\n",
       "      <td>Hospital Materno Norte Tamara Bunke</td>\n",
       "      <td>2</td>\n",
       "      <td>NaN</td>\n",
       "    </tr>\n",
       "    <tr>\n",
       "      <th>35</th>\n",
       "      <td>Hospital Materno Sur (Clínica Los Ángeles)</td>\n",
       "      <td>3</td>\n",
       "      <td>NaN</td>\n",
       "    </tr>\n",
       "    <tr>\n",
       "      <th>36</th>\n",
       "      <td>Hospital Militar Luis Díaz Soto (Naval)</td>\n",
       "      <td>8</td>\n",
       "      <td>NaN</td>\n",
       "    </tr>\n",
       "    <tr>\n",
       "      <th>37</th>\n",
       "      <td>Hospital Pediátrico Provincial Docente Pepé Po...</td>\n",
       "      <td>1</td>\n",
       "      <td>NaN</td>\n",
       "    </tr>\n",
       "    <tr>\n",
       "      <th>38</th>\n",
       "      <td>Hospital Provincial Docente Ginecobstétrico Jo...</td>\n",
       "      <td>1</td>\n",
       "      <td>NaN</td>\n",
       "    </tr>\n",
       "    <tr>\n",
       "      <th>39</th>\n",
       "      <td>Hospital Provincial Ginecobstétrico Julio Rafa...</td>\n",
       "      <td>9</td>\n",
       "      <td>NaN</td>\n",
       "    </tr>\n",
       "    <tr>\n",
       "      <th>40</th>\n",
       "      <td>Hospital Provincial Universitario Camilo Cienf...</td>\n",
       "      <td>3</td>\n",
       "      <td>NaN</td>\n",
       "    </tr>\n",
       "    <tr>\n",
       "      <th>41</th>\n",
       "      <td>Hospital Universitario Abel Santamaría Cuadrado</td>\n",
       "      <td>35</td>\n",
       "      <td>NaN</td>\n",
       "    </tr>\n",
       "    <tr>\n",
       "      <th>42</th>\n",
       "      <td>Hospital Universitario Ginecobstétrico Eusebio...</td>\n",
       "      <td>120</td>\n",
       "      <td>NaN</td>\n",
       "    </tr>\n",
       "    <tr>\n",
       "      <th>43</th>\n",
       "      <td>Hospital Ginecobstétrico Provincial Ana Betanc...</td>\n",
       "      <td>66</td>\n",
       "      <td>NaN</td>\n",
       "    </tr>\n",
       "  </tbody>\n",
       "</table>\n",
       "</div>"
      ],
      "text/plain": [
       "                                             hospital  ID de respuesta  \\\n",
       "0          Hospital Clínico Quirúrgico Amalia Simoni                 1   \n",
       "1   Hospital Clínico Quirúrgico Docente Julio Trig...                1   \n",
       "2   Hospital Clínico Quirúrgico Dr. Luis Aldama Pa...                2   \n",
       "3   Hospital Clínico Quirúrgico Hermanos Ameijeira...                1   \n",
       "4        Hospital Clínico Quirúrgico Juan Bruno Zayas                2   \n",
       "5       Hospital Clínico Quirúrgico León Cuervo Rubío                4   \n",
       "6   Hospital Docente Ginecobstétrico Justo Legón P...                1   \n",
       "7   Hospital Docente Ginecobstétrico de Guanabacoa...                9   \n",
       "8   Hospital General Docente 26 de Diciembre de Re...                1   \n",
       "9   Hospital General Docente Comandante Ciro Redon...                1   \n",
       "10        Hospital General Docente Comandante Pinares                4   \n",
       "11        Hospital General Docente Dr. Agostinho Neto                2   \n",
       "12  Hospital General Docente Dr. Antonio Luaces Ir...                2   \n",
       "13  Hospital General Docente Enrique Cabrera (Naci...               18   \n",
       "14           Hospital General Docente Héroes de Baire                4   \n",
       "15            Hospital General Docente Iván Portuondo                4   \n",
       "16  Hospital General Docente Julio Aristegui Villa...               10   \n",
       "17       Hospital General Docente Leopoldito Martínez                1   \n",
       "18        Hospital General Docente Mártires de Mayarí                1   \n",
       "19  Hospital General Docente Provincial Roberto Ro...                2   \n",
       "20  Hospital General Docente Universitario Martin ...                3   \n",
       "21      Hospital General Docente Vladimir Ilich Lenin                2   \n",
       "22         Hospital General Municipal 27 de Noviembre                6   \n",
       "23  Hospital General Universitario Dr. Gustavo Ald...                3   \n",
       "24  Hospital Ginecobstétrico América Arias (Matern...               26   \n",
       "25          Hospital Ginecobstétrico Clodomira Acosta                5   \n",
       "26  Hospital Ginecobstétrico Materno Sur Mariana G...               20   \n",
       "27       Hospital Ginecobstétrico Ramón González Coro               76   \n",
       "28        Hospital Guillermo Domínguez (Puerto Padre)                2   \n",
       "29  Hospital Materno Hijas de Galicia (Hospital Ma...               30   \n",
       "30  Hospital Materno Infantil Dr. Ángel Arturo Aba...                7   \n",
       "31  Hospital Materno Infantil Lebredo (Arroyo Nara...                3   \n",
       "32      Hospital Materno Infantil Manuel Piti Fajardo                2   \n",
       "33  Hospital Materno Infantil provincial Isabel Ma...                3   \n",
       "34                Hospital Materno Norte Tamara Bunke                2   \n",
       "35         Hospital Materno Sur (Clínica Los Ángeles)                3   \n",
       "36            Hospital Militar Luis Díaz Soto (Naval)                8   \n",
       "37  Hospital Pediátrico Provincial Docente Pepé Po...                1   \n",
       "38  Hospital Provincial Docente Ginecobstétrico Jo...                1   \n",
       "39  Hospital Provincial Ginecobstétrico Julio Rafa...                9   \n",
       "40  Hospital Provincial Universitario Camilo Cienf...                3   \n",
       "41    Hospital Universitario Abel Santamaría Cuadrado               35   \n",
       "42  Hospital Universitario Ginecobstétrico Eusebio...              120   \n",
       "43  Hospital Ginecobstétrico Provincial Ana Betanc...               66   \n",
       "\n",
       "    encuestadas  \n",
       "0           NaN  \n",
       "1           NaN  \n",
       "2           NaN  \n",
       "3           NaN  \n",
       "4           NaN  \n",
       "5           NaN  \n",
       "6           NaN  \n",
       "7           NaN  \n",
       "8           NaN  \n",
       "9           NaN  \n",
       "10          NaN  \n",
       "11          NaN  \n",
       "12          NaN  \n",
       "13          NaN  \n",
       "14          NaN  \n",
       "15          NaN  \n",
       "16          NaN  \n",
       "17          NaN  \n",
       "18          NaN  \n",
       "19          NaN  \n",
       "20          NaN  \n",
       "21          NaN  \n",
       "22          NaN  \n",
       "23          NaN  \n",
       "24          NaN  \n",
       "25          NaN  \n",
       "26          NaN  \n",
       "27          NaN  \n",
       "28          NaN  \n",
       "29          NaN  \n",
       "30          NaN  \n",
       "31          NaN  \n",
       "32          NaN  \n",
       "33          NaN  \n",
       "34          NaN  \n",
       "35          NaN  \n",
       "36          NaN  \n",
       "37          NaN  \n",
       "38          NaN  \n",
       "39          NaN  \n",
       "40          NaN  \n",
       "41          NaN  \n",
       "42          NaN  \n",
       "43          NaN  "
      ]
     },
     "execution_count": 63,
     "metadata": {},
     "output_type": "execute_result"
    }
   ],
   "source": [
    "# Merge dataframes\n",
    "df_join = table.merge(ejemplo, how='inner', on='hospital')\n",
    "df_join"
   ]
  },
  {
   "cell_type": "code",
   "execution_count": null,
   "metadata": {},
   "outputs": [],
   "source": [
    "# Save dataframe as 'xlsx' file\n",
    "df_join.to_excel(f'{tables}/hospital_encuestadas.xlsx', index = False)"
   ]
  }
 ],
 "metadata": {
  "interpreter": {
   "hash": "9e11bba359e16697e227855b1b05ecdb7f2281701f81921127aecf51f0287666"
  },
  "kernelspec": {
   "display_name": "Python 3.8.10 ('violencia_obstetrica-IqQhf50U')",
   "language": "python",
   "name": "python3"
  },
  "language_info": {
   "codemirror_mode": {
    "name": "ipython",
    "version": 3
   },
   "file_extension": ".py",
   "mimetype": "text/x-python",
   "name": "python",
   "nbconvert_exporter": "python",
   "pygments_lexer": "ipython3",
   "version": "3.8.10"
  },
  "orig_nbformat": 4
 },
 "nbformat": 4,
 "nbformat_minor": 2
}
