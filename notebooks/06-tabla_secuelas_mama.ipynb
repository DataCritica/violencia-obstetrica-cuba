{
 "cells": [
  {
   "cell_type": "markdown",
   "metadata": {},
   "source": [
    "### Imports"
   ]
  },
  {
   "cell_type": "code",
   "execution_count": 1,
   "metadata": {},
   "outputs": [],
   "source": [
    "import pandas as pd"
   ]
  },
  {
   "cell_type": "markdown",
   "metadata": {},
   "source": [
    "### Read data from 'xlsx' file"
   ]
  },
  {
   "cell_type": "code",
   "execution_count": 2,
   "metadata": {},
   "outputs": [],
   "source": [
    "# Read 'xlsx' file as dataframe\n",
    "df = pd.read_excel('../data/processed/data_cuba.xlsx', index_col=None, sheet_name='base_limpia')\n",
    "# Create a list with dataframe column names\n",
    "cols = df.columns"
   ]
  },
  {
   "cell_type": "markdown",
   "metadata": {},
   "source": [
    "### Create pivot tables from dataframe"
   ]
  },
  {
   "cell_type": "code",
   "execution_count": 13,
   "metadata": {},
   "outputs": [
    {
     "name": "stderr",
     "output_type": "stream",
     "text": [
      "/tmp/ipykernel_20571/1520375655.py:18: FutureWarning: Dropping of nuisance columns in DataFrame reductions (with 'numeric_only=None') is deprecated; in a future version this will raise TypeError.  Select only valid columns before calling the reduction.\n",
      "  table[f'Consecuencia{i+1}'] = table.sum(axis=1)\n"
     ]
    }
   ],
   "source": [
    "\"\"\"\n",
    "Function to create \n",
    "pivot tables from\n",
    "columns 145-155\n",
    "\"\"\"\n",
    "def create_pivot_table():\n",
    "    dfs = []\n",
    "    count = 145\n",
    "    for i in range(11):\n",
    "        # Create a pivot table from df\n",
    "        table = pd.pivot_table(df, values=cols[0], index=cols[27],\n",
    "                                columns=cols[count], aggfunc='count')\n",
    "        count += 1\n",
    "        # Convert index to columns and reset index\n",
    "        table = table.rename_axis('Hospital').reset_index().rename_axis('', axis='columns')\n",
    "        # Drop a column by index\n",
    "        table.drop(table.columns[-1], axis=1, inplace=True)\n",
    "        table[f'Consecuencia{i+1}'] = table.sum(axis=1)\n",
    "        # Drop rows with a certain value\n",
    "        table.drop(table.loc[table[f'Consecuencia{i+1}'] == 0].index, inplace=True)\n",
    "        # Create a dataframe with selected columns\n",
    "        table = table[['Hospital', f'Consecuencia{i+1}']]\n",
    "        # Reset index\n",
    "        table= table.reset_index(drop=True)\n",
    "        # Append table to list\n",
    "        dfs.append(table)\n",
    "    return dfs\n",
    "\n",
    "dfs = create_pivot_table()\n",
    "\n",
    "c1, c2, c3, c4, c5, c6, c7, c8, c9, c10, c11 = dfs[0], dfs[1], dfs[2], dfs[3], dfs[4], dfs[5], dfs[6], dfs[7], dfs[8], dfs[9], dfs[10]"
   ]
  },
  {
   "cell_type": "markdown",
   "metadata": {},
   "source": [
    "### Clean data"
   ]
  },
  {
   "cell_type": "code",
   "execution_count": 14,
   "metadata": {},
   "outputs": [
    {
     "data": {
      "text/plain": [
       "[None, None, None, None, None, None, None, None, None, None, None]"
      ]
     },
     "execution_count": 14,
     "metadata": {},
     "output_type": "execute_result"
    }
   ],
   "source": [
    "\"\"\"\n",
    "Function to remove \n",
    "whitespace and new line\n",
    "at the beginning\n",
    "\"\"\"\n",
    "def clean_dataframes(*args):\n",
    "    dfs = list(args)\n",
    "    for i in range(len(dfs)):\n",
    "        dfs[i] = dfs[i]['Hospital'].replace(r'^\\s|\\n', '', regex=True, inplace=True)\n",
    "    return dfs\n",
    "\n",
    "clean_dataframes(c1, c2, c3, c4, c5, c6, c7, c8, c9, c10, c11)"
   ]
  },
  {
   "cell_type": "markdown",
   "metadata": {},
   "source": [
    "### Merge dataframes"
   ]
  },
  {
   "cell_type": "code",
   "execution_count": 15,
   "metadata": {},
   "outputs": [
    {
     "data": {
      "text/plain": [
       "(41, 12)"
      ]
     },
     "execution_count": 15,
     "metadata": {},
     "output_type": "execute_result"
    }
   ],
   "source": [
    "\"\"\"\n",
    "Function to merge dataframes\n",
    "\"\"\"\n",
    "def mergeDataframes(*args, col=\"Column\"):\n",
    "    dfs = list(args)\n",
    "    for i in range(len(dfs)):\n",
    "        if i <= 1:\n",
    "            df = pd.merge(dfs[0], dfs[1], on=col, how ='outer')\n",
    "        else:\n",
    "            df = pd.merge(df, dfs[i], on=col, how ='outer')\n",
    "    return df\n",
    "\n",
    "consec = mergeDataframes(c1, c2, c3, c4, c5, c6, c7, c8, c9, c10, c11, col=\"Hospital\")\n",
    "\n",
    "# Regular expressions to clean data typos\n",
    "consec['Hospital'].replace(r'^\\s', '', regex=True, inplace=True)\n",
    "\n",
    "consec.shape"
   ]
  },
  {
   "cell_type": "code",
   "execution_count": 16,
   "metadata": {},
   "outputs": [
    {
     "data": {
      "text/html": [
       "<div>\n",
       "<style scoped>\n",
       "    .dataframe tbody tr th:only-of-type {\n",
       "        vertical-align: middle;\n",
       "    }\n",
       "\n",
       "    .dataframe tbody tr th {\n",
       "        vertical-align: top;\n",
       "    }\n",
       "\n",
       "    .dataframe thead th {\n",
       "        text-align: right;\n",
       "    }\n",
       "</style>\n",
       "<table border=\"1\" class=\"dataframe\">\n",
       "  <thead>\n",
       "    <tr style=\"text-align: right;\">\n",
       "      <th></th>\n",
       "      <th>Hospital</th>\n",
       "      <th>Consecuencia1</th>\n",
       "      <th>Consecuencia2</th>\n",
       "      <th>Consecuencia3</th>\n",
       "      <th>Consecuencia4</th>\n",
       "      <th>Consecuencia5</th>\n",
       "      <th>Consecuencia6</th>\n",
       "      <th>Consecuencia7</th>\n",
       "      <th>Consecuencia8</th>\n",
       "      <th>Consecuencia9</th>\n",
       "      <th>Consecuencia10</th>\n",
       "      <th>Consecuencia11</th>\n",
       "      <th>Long</th>\n",
       "      <th>Lat</th>\n",
       "    </tr>\n",
       "  </thead>\n",
       "  <tbody>\n",
       "    <tr>\n",
       "      <th>15</th>\n",
       "      <td>Hospital Provincial Ginecobstétrico Julio Rafa...</td>\n",
       "      <td>2.0</td>\n",
       "      <td>1.0</td>\n",
       "      <td>NaN</td>\n",
       "      <td>2.0</td>\n",
       "      <td>3.0</td>\n",
       "      <td>2.0</td>\n",
       "      <td>1.0</td>\n",
       "      <td>4.0</td>\n",
       "      <td>2.0</td>\n",
       "      <td>4.0</td>\n",
       "      <td>3.0</td>\n",
       "      <td>23.05381783218849</td>\n",
       "      <td>-81.5667992219682</td>\n",
       "    </tr>\n",
       "    <tr>\n",
       "      <th>34</th>\n",
       "      <td>Hospital General Docente Héroes de Baire</td>\n",
       "      <td>NaN</td>\n",
       "      <td>NaN</td>\n",
       "      <td>NaN</td>\n",
       "      <td>NaN</td>\n",
       "      <td>1.0</td>\n",
       "      <td>NaN</td>\n",
       "      <td>1.0</td>\n",
       "      <td>2.0</td>\n",
       "      <td>2.0</td>\n",
       "      <td>2.0</td>\n",
       "      <td>2.0</td>\n",
       "      <td>21.8913073212293</td>\n",
       "      <td>-82.80654867</td>\n",
       "    </tr>\n",
       "    <tr>\n",
       "      <th>12</th>\n",
       "      <td>Hospital Ginecobstétrico América Arias (Matern...</td>\n",
       "      <td>2.0</td>\n",
       "      <td>4.0</td>\n",
       "      <td>1.0</td>\n",
       "      <td>7.0</td>\n",
       "      <td>11.0</td>\n",
       "      <td>4.0</td>\n",
       "      <td>3.0</td>\n",
       "      <td>11.0</td>\n",
       "      <td>14.0</td>\n",
       "      <td>12.0</td>\n",
       "      <td>12.0</td>\n",
       "      <td>23.14226057538131</td>\n",
       "      <td>-82.39222113</td>\n",
       "    </tr>\n",
       "  </tbody>\n",
       "</table>\n",
       "</div>"
      ],
      "text/plain": [
       "                                             Hospital  Consecuencia1  \\\n",
       "15  Hospital Provincial Ginecobstétrico Julio Rafa...            2.0   \n",
       "34           Hospital General Docente Héroes de Baire            NaN   \n",
       "12  Hospital Ginecobstétrico América Arias (Matern...            2.0   \n",
       "\n",
       "    Consecuencia2  Consecuencia3  Consecuencia4  Consecuencia5  Consecuencia6  \\\n",
       "15            1.0            NaN            2.0            3.0            2.0   \n",
       "34            NaN            NaN            NaN            1.0            NaN   \n",
       "12            4.0            1.0            7.0           11.0            4.0   \n",
       "\n",
       "    Consecuencia7  Consecuencia8  Consecuencia9  Consecuencia10  \\\n",
       "15            1.0            4.0            2.0             4.0   \n",
       "34            1.0            2.0            2.0             2.0   \n",
       "12            3.0           11.0           14.0            12.0   \n",
       "\n",
       "    Consecuencia11               Long                Lat  \n",
       "15             3.0  23.05381783218849  -81.5667992219682  \n",
       "34             2.0   21.8913073212293       -82.80654867  \n",
       "12            12.0  23.14226057538131       -82.39222113  "
      ]
     },
     "execution_count": 16,
     "metadata": {},
     "output_type": "execute_result"
    }
   ],
   "source": [
    "# Read 'xlsx' file as dataframe\n",
    "directorio = pd.read_excel('../data/processed/directorio_hospitales.xlsx', index_col=None, sheet_name='base_limpia', converters={'Long':str, 'Lat': str})\n",
    "\n",
    "# Merge dataframes by a column\n",
    "df_join = pd.merge(consec, directorio, on='Hospital', how='left')\n",
    "\n",
    "# Remove rows with NaN values on column\n",
    "df_join.dropna(subset=['Long'], inplace=True)\n",
    "# Reset index\n",
    "df_join = df_join.reset_index(drop=True)\n",
    "\n",
    "# Save dataframe as 'xlsx' file\n",
    "# df_join.to_excel('../data/processed/secuelas_hospitales.xlsx', index = False)\n",
    "# df_join.to_json('../data/processed/json/secuelas_hospitales.json', orient='index')\n",
    "\n",
    "df_join.sample(3)"
   ]
  }
 ],
 "metadata": {
  "interpreter": {
   "hash": "e58505fa324dfd103b0f06ba8c64ba240e36d73492d0ccef95a59ef242259784"
  },
  "kernelspec": {
   "display_name": "Python 3.8.10 64-bit ('env_violencia_obstetrica': venv)",
   "language": "python",
   "name": "python3"
  },
  "language_info": {
   "codemirror_mode": {
    "name": "ipython",
    "version": 3
   },
   "file_extension": ".py",
   "mimetype": "text/x-python",
   "name": "python",
   "nbconvert_exporter": "python",
   "pygments_lexer": "ipython3",
   "version": "3.8.10"
  },
  "orig_nbformat": 4
 },
 "nbformat": 4,
 "nbformat_minor": 2
}
