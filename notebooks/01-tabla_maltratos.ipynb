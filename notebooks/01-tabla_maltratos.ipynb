{
 "cells": [
  {
   "cell_type": "markdown",
   "metadata": {},
   "source": [
    "### Imports"
   ]
  },
  {
   "cell_type": "code",
   "execution_count": 1,
   "metadata": {},
   "outputs": [],
   "source": [
    "%load_ext autoreload\n",
    "%autoreload 2"
   ]
  },
  {
   "cell_type": "code",
   "execution_count": 115,
   "metadata": {},
   "outputs": [],
   "source": [
    "import pandas as pd\n",
    "import violencia_obstetrica.data.export as export\n",
    "import violencia_obstetrica.data.load as load\n",
    "import violencia_obstetrica.data.process as process"
   ]
  },
  {
   "cell_type": "markdown",
   "metadata": {},
   "source": [
    "### Load data"
   ]
  },
  {
   "cell_type": "code",
   "execution_count": 98,
   "metadata": {},
   "outputs": [],
   "source": [
    "data_cuba = load.data_cuba\n",
    "directorio = load.data_directorio\n",
    "tables = load.tables\n",
    "jsons = load.jsons"
   ]
  },
  {
   "cell_type": "markdown",
   "metadata": {},
   "source": [
    "### Read data as a dataframe"
   ]
  },
  {
   "cell_type": "code",
   "execution_count": 99,
   "metadata": {},
   "outputs": [],
   "source": [
    "df = load.load_file(file=data_cuba, sheet=\"base_limpia\")\n",
    "directorio = load.load_file(file=directorio, sheet=\"base_limpia\")"
   ]
  },
  {
   "cell_type": "markdown",
   "metadata": {},
   "source": [
    "### Create pivot tables"
   ]
  },
  {
   "cell_type": "code",
   "execution_count": 105,
   "metadata": {},
   "outputs": [],
   "source": [
    "# Create pivot tables from columns 90-99\n",
    "m1, m2, m3, m4, m5, m6, m7, m8, m9, m10 = process.create_complex_pivot_table(df, values=0, index=27, cols=[90, 91, 92, 93, 94, 95, 96, 97, 98, 99])"
   ]
  },
  {
   "cell_type": "markdown",
   "metadata": {},
   "source": [
    "### Clean tables"
   ]
  },
  {
   "cell_type": "code",
   "execution_count": 106,
   "metadata": {},
   "outputs": [],
   "source": [
    "# Convert index to a column and create new index  \n",
    "m1, m2, m3, m4, m5, m6, m7, m8, m9, m10 = process.clean_table(\n",
    "    m1, m2, m3, m4, m5, m6, m7, m8, m9, m10, col_name=\"Hospital\")"
   ]
  },
  {
   "cell_type": "markdown",
   "metadata": {},
   "source": [
    "### Process tables"
   ]
  },
  {
   "cell_type": "code",
   "execution_count": 107,
   "metadata": {},
   "outputs": [
    {
     "name": "stderr",
     "output_type": "stream",
     "text": [
      "/home/fxr/Documents/datacritica/violencia_obstetrica/violencia_obstetrica/data/process.py:70: FutureWarning: In a future version of pandas all arguments of DataFrame.drop except for the argument 'labels' will be keyword-only\n",
      "  tables[i] = tables[i].drop(del_col, 1).rename(columns={old_col: f'{new_col}{i+1}'})\n"
     ]
    }
   ],
   "source": [
    "# Delete a column, rename a column and drop their NaN values\n",
    "m1, m2, m3, m4, m5, m6, m7, m8, m9, m10 = process.process_table(\n",
    "    m1, m2, m3, m4, m5, m6, m7, m8, m9, m10, \n",
    "    del_col=\"No\", old_col=\"Sí\", new_col=\"Maltrato\")"
   ]
  },
  {
   "cell_type": "markdown",
   "metadata": {},
   "source": [
    "### Merge two dataframes based on a column"
   ]
  },
  {
   "cell_type": "code",
   "execution_count": 111,
   "metadata": {},
   "outputs": [
    {
     "data": {
      "text/plain": [
       "(30, 11)"
      ]
     },
     "execution_count": 111,
     "metadata": {},
     "output_type": "execute_result"
    }
   ],
   "source": [
    "maltratos = process.merge_dataframes(\n",
    "   m1, m2, m3, m4, m5, m6, m7, m8, m9, m10, col_name=\"Hospital\" \n",
    ")\n",
    "\n",
    "maltratos.shape"
   ]
  },
  {
   "cell_type": "code",
   "execution_count": 112,
   "metadata": {},
   "outputs": [
    {
     "data": {
      "text/plain": [
       "(30, 13)"
      ]
     },
     "execution_count": 112,
     "metadata": {},
     "output_type": "execute_result"
    }
   ],
   "source": [
    "\n",
    "df_join = process.merge_dataframes(maltratos, directorio, col_name=\"Hospital\", how=\"left\")\n",
    "\n",
    "df_join.shape"
   ]
  },
  {
   "cell_type": "markdown",
   "metadata": {},
   "source": [
    "### Drop NaN values from a column"
   ]
  },
  {
   "cell_type": "code",
   "execution_count": 114,
   "metadata": {},
   "outputs": [
    {
     "data": {
      "text/plain": [
       "(30, 13)"
      ]
     },
     "execution_count": 114,
     "metadata": {},
     "output_type": "execute_result"
    }
   ],
   "source": [
    "# Remove rows with NaN values on column\n",
    "df_join.dropna(subset=['Long'], inplace=True)\n",
    "# Reset index\n",
    "df_join = df_join.reset_index(drop=True)\n",
    "\n",
    "df_join.shape"
   ]
  },
  {
   "cell_type": "markdown",
   "metadata": {},
   "source": [
    "### Save dataframe"
   ]
  },
  {
   "cell_type": "code",
   "execution_count": 137,
   "metadata": {},
   "outputs": [],
   "source": [
    "# export.save_excel(df_join, folder=tables, filename=\"maltratos_hospitales\", sheet_name=\"data\")\n",
    "# export.save_json(df_join, folder=tables, filename=\"maltratos_hospitales\")"
   ]
  }
 ],
 "metadata": {
  "interpreter": {
   "hash": "e58505fa324dfd103b0f06ba8c64ba240e36d73492d0ccef95a59ef242259784"
  },
  "kernelspec": {
   "display_name": "Python 3.8.10 64-bit ('env_violencia_obstetrica': venv)",
   "language": "python",
   "name": "python3"
  },
  "language_info": {
   "codemirror_mode": {
    "name": "ipython",
    "version": 3
   },
   "file_extension": ".py",
   "mimetype": "text/x-python",
   "name": "python",
   "nbconvert_exporter": "python",
   "pygments_lexer": "ipython3",
   "version": "3.8.10"
  },
  "orig_nbformat": 4
 },
 "nbformat": 4,
 "nbformat_minor": 2
}
