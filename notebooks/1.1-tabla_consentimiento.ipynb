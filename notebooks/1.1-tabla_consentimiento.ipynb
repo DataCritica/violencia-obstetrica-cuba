{
 "cells": [
  {
   "cell_type": "markdown",
   "metadata": {},
   "source": [
    "### Imports"
   ]
  },
  {
   "cell_type": "code",
   "execution_count": 1,
   "metadata": {},
   "outputs": [],
   "source": [
    "%load_ext autoreload\n",
    "%autoreload 2"
   ]
  },
  {
   "cell_type": "code",
   "execution_count": 39,
   "metadata": {},
   "outputs": [],
   "source": [
    "import pandas as pd\n",
    "import violencia_obstetrica.data.analyze as analyze\n",
    "import violencia_obstetrica.data.export as export\n",
    "import violencia_obstetrica.data.load as load"
   ]
  },
  {
   "cell_type": "markdown",
   "metadata": {},
   "source": [
    "### Load data"
   ]
  },
  {
   "cell_type": "code",
   "execution_count": 40,
   "metadata": {},
   "outputs": [],
   "source": [
    "data_cuba = load.data_cuba\n",
    "directorio = load.data_directorio\n",
    "tables = load.tables\n",
    "jsons = load.jsons"
   ]
  },
  {
   "cell_type": "markdown",
   "metadata": {},
   "source": [
    "### Read data as a dataframe"
   ]
  },
  {
   "cell_type": "code",
   "execution_count": 41,
   "metadata": {},
   "outputs": [],
   "source": [
    "df = load.load_file(file=data_cuba, sheet=\"base_limpia\")\n",
    "directorio = load.load_file(file=directorio, sheet=\"base_limpia\")"
   ]
  },
  {
   "cell_type": "markdown",
   "metadata": {},
   "source": [
    "### Create pivot table"
   ]
  },
  {
   "cell_type": "code",
   "execution_count": 42,
   "metadata": {},
   "outputs": [
    {
     "data": {
      "text/html": [
       "<div>\n",
       "<style scoped>\n",
       "    .dataframe tbody tr th:only-of-type {\n",
       "        vertical-align: middle;\n",
       "    }\n",
       "\n",
       "    .dataframe tbody tr th {\n",
       "        vertical-align: top;\n",
       "    }\n",
       "\n",
       "    .dataframe thead th {\n",
       "        text-align: right;\n",
       "    }\n",
       "</style>\n",
       "<table border=\"1\" class=\"dataframe\">\n",
       "  <thead>\n",
       "    <tr style=\"text-align: right;\">\n",
       "      <th>¿Se solicitó tu consentimiento para los procedimientos que te practicaron?</th>\n",
       "      <th>No, para ninguno</th>\n",
       "      <th>Sí, para algunos</th>\n",
       "      <th>Sí, para todos</th>\n",
       "    </tr>\n",
       "    <tr>\n",
       "      <th>Nombre del hospital dónde diste a luz</th>\n",
       "      <th></th>\n",
       "      <th></th>\n",
       "      <th></th>\n",
       "    </tr>\n",
       "  </thead>\n",
       "  <tbody>\n",
       "    <tr>\n",
       "      <th>Hospital Clínico Quirúrgico Hermanos Ameijeiras (La Habana)</th>\n",
       "      <td>NaN</td>\n",
       "      <td>NaN</td>\n",
       "      <td>1.0</td>\n",
       "    </tr>\n",
       "  </tbody>\n",
       "</table>\n",
       "</div>"
      ],
      "text/plain": [
       "¿Se solicitó tu consentimiento para los procedimientos que te practicaron?    No, para ninguno  \\\n",
       "Nombre del hospital dónde diste a luz                                                            \n",
       "Hospital Clínico Quirúrgico Hermanos Ameijeiras...                                         NaN   \n",
       "\n",
       "¿Se solicitó tu consentimiento para los procedimientos que te practicaron?    Sí, para algunos  \\\n",
       "Nombre del hospital dónde diste a luz                                                            \n",
       "Hospital Clínico Quirúrgico Hermanos Ameijeiras...                                         NaN   \n",
       "\n",
       "¿Se solicitó tu consentimiento para los procedimientos que te practicaron?    Sí, para todos  \n",
       "Nombre del hospital dónde diste a luz                                                         \n",
       "Hospital Clínico Quirúrgico Hermanos Ameijeiras...                                       1.0  "
      ]
     },
     "execution_count": 42,
     "metadata": {},
     "output_type": "execute_result"
    }
   ],
   "source": [
    "consent = analyze.create_pivot_tabe(df, values=0, index=27, cols=74)\n",
    "consent.sample(1)"
   ]
  },
  {
   "cell_type": "markdown",
   "metadata": {},
   "source": [
    "### Process pivot table"
   ]
  },
  {
   "cell_type": "code",
   "execution_count": 43,
   "metadata": {},
   "outputs": [
    {
     "data": {
      "text/html": [
       "<div>\n",
       "<style scoped>\n",
       "    .dataframe tbody tr th:only-of-type {\n",
       "        vertical-align: middle;\n",
       "    }\n",
       "\n",
       "    .dataframe tbody tr th {\n",
       "        vertical-align: top;\n",
       "    }\n",
       "\n",
       "    .dataframe thead th {\n",
       "        text-align: right;\n",
       "    }\n",
       "</style>\n",
       "<table border=\"1\" class=\"dataframe\">\n",
       "  <thead>\n",
       "    <tr style=\"text-align: right;\">\n",
       "      <th></th>\n",
       "      <th>Hospital</th>\n",
       "      <th>No, para ninguno</th>\n",
       "      <th>Sí, para algunos</th>\n",
       "      <th>Sí, para todos</th>\n",
       "    </tr>\n",
       "  </thead>\n",
       "  <tbody>\n",
       "    <tr>\n",
       "      <th>10</th>\n",
       "      <td>Hospital General Docente Comandante Ciro Redon...</td>\n",
       "      <td>NaN</td>\n",
       "      <td>NaN</td>\n",
       "      <td>1.0</td>\n",
       "    </tr>\n",
       "  </tbody>\n",
       "</table>\n",
       "</div>"
      ],
      "text/plain": [
       "                                             Hospital  No, para ninguno  \\\n",
       "10  Hospital General Docente Comandante Ciro Redon...               NaN   \n",
       "\n",
       "    Sí, para algunos  Sí, para todos  \n",
       "10               NaN             1.0  "
      ]
     },
     "execution_count": 43,
     "metadata": {},
     "output_type": "execute_result"
    }
   ],
   "source": [
    "consent = analyze.set_new_index(consent, col_name=\"Hospital\")\n",
    "consent = consent[0]\n",
    "consent.sample(1)"
   ]
  },
  {
   "cell_type": "markdown",
   "metadata": {},
   "source": [
    "### Merge dataframes"
   ]
  },
  {
   "cell_type": "code",
   "execution_count": 45,
   "metadata": {},
   "outputs": [
    {
     "name": "stdout",
     "output_type": "stream",
     "text": [
      "(49, 6)\n",
      "(44, 6)\n"
     ]
    },
    {
     "data": {
      "text/html": [
       "<div>\n",
       "<style scoped>\n",
       "    .dataframe tbody tr th:only-of-type {\n",
       "        vertical-align: middle;\n",
       "    }\n",
       "\n",
       "    .dataframe tbody tr th {\n",
       "        vertical-align: top;\n",
       "    }\n",
       "\n",
       "    .dataframe thead th {\n",
       "        text-align: right;\n",
       "    }\n",
       "</style>\n",
       "<table border=\"1\" class=\"dataframe\">\n",
       "  <thead>\n",
       "    <tr style=\"text-align: right;\">\n",
       "      <th></th>\n",
       "      <th>Hospital</th>\n",
       "      <th>No, para ninguno</th>\n",
       "      <th>Sí, para algunos</th>\n",
       "      <th>Sí, para todos</th>\n",
       "      <th>Long</th>\n",
       "      <th>Lat</th>\n",
       "    </tr>\n",
       "  </thead>\n",
       "  <tbody>\n",
       "    <tr>\n",
       "      <th>34</th>\n",
       "      <td>Hospital Materno Norte Tamara Bunke</td>\n",
       "      <td>2.0</td>\n",
       "      <td>NaN</td>\n",
       "      <td>NaN</td>\n",
       "      <td>20.035832</td>\n",
       "      <td>-75.817328</td>\n",
       "    </tr>\n",
       "  </tbody>\n",
       "</table>\n",
       "</div>"
      ],
      "text/plain": [
       "                               Hospital  No, para ninguno  Sí, para algunos  \\\n",
       "34  Hospital Materno Norte Tamara Bunke               2.0               NaN   \n",
       "\n",
       "    Sí, para todos       Long        Lat  \n",
       "34             NaN  20.035832 -75.817328  "
      ]
     },
     "execution_count": 45,
     "metadata": {},
     "output_type": "execute_result"
    }
   ],
   "source": [
    "df_join = analyze.merge_dataframes(consent, directorio, col_name=\"Hospital\", how=\"left\")\n",
    "print(df_join.shape)\n",
    "# Remove rows with NaN values on column and reset index\n",
    "df_join = analyze.drop_nan(df_join, col_name='Long')\n",
    "print(df_join.shape)\n",
    "df_join.sample(1)\n",
    "# Save dataframe\n",
    "# export.save_excel(df_join, folder=tables, file=\"consentimiento_hospitales\", sheet=\"data\")\n",
    "# export.save_json(df_join, folder=tables, file=\"consentimiento_hospitales\")"
   ]
  }
 ],
 "metadata": {
  "interpreter": {
   "hash": "e58505fa324dfd103b0f06ba8c64ba240e36d73492d0ccef95a59ef242259784"
  },
  "kernelspec": {
   "display_name": "Python 3.8.10 64-bit ('env_violencia_obstetrica': venv)",
   "language": "python",
   "name": "python3"
  },
  "language_info": {
   "codemirror_mode": {
    "name": "ipython",
    "version": 3
   },
   "file_extension": ".py",
   "mimetype": "text/x-python",
   "name": "python",
   "nbconvert_exporter": "python",
   "pygments_lexer": "ipython3",
   "version": "3.8.10"
  },
  "orig_nbformat": 4
 },
 "nbformat": 4,
 "nbformat_minor": 2
}
