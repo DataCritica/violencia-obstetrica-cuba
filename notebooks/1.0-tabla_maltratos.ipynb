{
 "cells": [
  {
   "cell_type": "markdown",
   "metadata": {},
   "source": [
    "### Imports"
   ]
  },
  {
   "cell_type": "code",
   "execution_count": 1,
   "metadata": {},
   "outputs": [],
   "source": [
    "%load_ext autoreload\n",
    "%autoreload 2"
   ]
  },
  {
   "cell_type": "code",
   "execution_count": 2,
   "metadata": {},
   "outputs": [],
   "source": [
    "import pandas as pd\n",
    "import violencia_obstetrica.data.analyze as analyze\n",
    "import violencia_obstetrica.data.export as export\n",
    "import violencia_obstetrica.data.load as load"
   ]
  },
  {
   "cell_type": "markdown",
   "metadata": {},
   "source": [
    "### Load data"
   ]
  },
  {
   "cell_type": "code",
   "execution_count": 3,
   "metadata": {},
   "outputs": [],
   "source": [
    "data_cuba = load.data_cuba\n",
    "directorio = load.data_directorio\n",
    "tables = load.tables\n",
    "jsons = load.jsons"
   ]
  },
  {
   "cell_type": "markdown",
   "metadata": {},
   "source": [
    "### Read data as a dataframe"
   ]
  },
  {
   "cell_type": "code",
   "execution_count": 4,
   "metadata": {},
   "outputs": [
    {
     "name": "stdout",
     "output_type": "stream",
     "text": [
      "<class 'pandas.core.frame.DataFrame'>\n",
      "RangeIndex: 514 entries, 0 to 513\n",
      "Columns: 265 entries, ID de respuesta to Temporización de la pregunta: Z06\n",
      "dtypes: float64(89), int64(6), object(170)\n",
      "memory usage: 1.0+ MB\n"
     ]
    }
   ],
   "source": [
    "df = load.load_file(file=data_cuba, sheet=\"base_limpia\")\n",
    "directorio = load.load_file(file=directorio, sheet=\"base_limpia\")\n",
    "df.info()"
   ]
  },
  {
   "cell_type": "markdown",
   "metadata": {},
   "source": [
    "### Create pivot tables"
   ]
  },
  {
   "cell_type": "code",
   "execution_count": 5,
   "metadata": {},
   "outputs": [
    {
     "data": {
      "text/html": [
       "<div>\n",
       "<style scoped>\n",
       "    .dataframe tbody tr th:only-of-type {\n",
       "        vertical-align: middle;\n",
       "    }\n",
       "\n",
       "    .dataframe tbody tr th {\n",
       "        vertical-align: top;\n",
       "    }\n",
       "\n",
       "    .dataframe thead th {\n",
       "        text-align: right;\n",
       "    }\n",
       "</style>\n",
       "<table border=\"1\" class=\"dataframe\">\n",
       "  <thead>\n",
       "    <tr style=\"text-align: right;\">\n",
       "      <th>De las siguientes opciones, marca todas las que experimentaste a manos del personal del hospital durante tu proceso de parto: [Te llamaron por sobrenombres o diminutivos (mamita, niña, gorda, negra, etc)]</th>\n",
       "      <th>No</th>\n",
       "      <th>Sí</th>\n",
       "    </tr>\n",
       "    <tr>\n",
       "      <th>Nombre del hospital dónde diste a luz</th>\n",
       "      <th></th>\n",
       "      <th></th>\n",
       "    </tr>\n",
       "  </thead>\n",
       "  <tbody>\n",
       "    <tr>\n",
       "      <th>Hospital General Universitario Dr. Gustavo Aldereguía Lima (Cienfuegos)</th>\n",
       "      <td>3.0</td>\n",
       "      <td>NaN</td>\n",
       "    </tr>\n",
       "  </tbody>\n",
       "</table>\n",
       "</div>"
      ],
      "text/plain": [
       "De las siguientes opciones, marca todas las que experimentaste a manos del personal del hospital durante tu proceso de parto: [Te llamaron por sobrenombres o diminutivos (mamita, niña, gorda, negra, etc)]   No  \\\n",
       "Nombre del hospital dónde diste a luz                                                                                                                                                                               \n",
       "Hospital General Universitario Dr. Gustavo Alde...                                                                                                                                                            3.0   \n",
       "\n",
       "De las siguientes opciones, marca todas las que experimentaste a manos del personal del hospital durante tu proceso de parto: [Te llamaron por sobrenombres o diminutivos (mamita, niña, gorda, negra, etc)]  Sí  \n",
       "Nombre del hospital dónde diste a luz                                                                                                                                                                             \n",
       "Hospital General Universitario Dr. Gustavo Alde...                                                                                                                                                           NaN  "
      ]
     },
     "execution_count": 5,
     "metadata": {},
     "output_type": "execute_result"
    }
   ],
   "source": [
    "# Create pivot tables from columns 90-99\n",
    "m1, m2, m3, m4, m5, m6, m7, m8, m9, m10 = analyze.create_complex_pivot_table(\n",
    "    df, values=0, index=27, cols=[90, 91, 92, 93, 94, 95, 96, 97, 98, 99])\n",
    "m1.sample(1)"
   ]
  },
  {
   "cell_type": "markdown",
   "metadata": {},
   "source": [
    "### Process pivot tables"
   ]
  },
  {
   "cell_type": "code",
   "execution_count": 6,
   "metadata": {},
   "outputs": [
    {
     "data": {
      "text/html": [
       "<div>\n",
       "<style scoped>\n",
       "    .dataframe tbody tr th:only-of-type {\n",
       "        vertical-align: middle;\n",
       "    }\n",
       "\n",
       "    .dataframe tbody tr th {\n",
       "        vertical-align: top;\n",
       "    }\n",
       "\n",
       "    .dataframe thead th {\n",
       "        text-align: right;\n",
       "    }\n",
       "</style>\n",
       "<table border=\"1\" class=\"dataframe\">\n",
       "  <thead>\n",
       "    <tr style=\"text-align: right;\">\n",
       "      <th></th>\n",
       "      <th>Hospital</th>\n",
       "      <th>Maltrato1</th>\n",
       "    </tr>\n",
       "  </thead>\n",
       "  <tbody>\n",
       "    <tr>\n",
       "      <th>6</th>\n",
       "      <td>Hospital General Docente Héroes de Baire</td>\n",
       "      <td>1.0</td>\n",
       "    </tr>\n",
       "  </tbody>\n",
       "</table>\n",
       "</div>"
      ],
      "text/plain": [
       "                                   Hospital  Maltrato1\n",
       "6  Hospital General Docente Héroes de Baire        1.0"
      ]
     },
     "execution_count": 6,
     "metadata": {},
     "output_type": "execute_result"
    }
   ],
   "source": [
    "# Convert index to a column and create new index  \n",
    "m1, m2, m3, m4, m5, m6, m7, m8, m9, m10 = analyze.set_new_index(\n",
    "    m1, m2, m3, m4, m5, m6, m7, m8, m9, m10, col_name=\"Hospital\")\n",
    "# Delete a column\n",
    "m1, m2, m3, m4, m5, m6, m7, m8, m9, m10 = analyze.del_col(\n",
    "    m1, m2, m3, m4, m5, m6, m7, m8, m9, m10, col_name=\"No\")\n",
    "# Rename a column, drop NaN values and reset index\n",
    "m1, m2, m3, m4, m5, m6, m7, m8, m9, m10 = analyze.prepare_table(\n",
    "    m1, m2, m3, m4, m5, m6, m7, m8, m9, m10, \n",
    "    old_col=\"Sí\", new_col=\"Maltrato\")\n",
    "m1.sample(1)"
   ]
  },
  {
   "cell_type": "markdown",
   "metadata": {},
   "source": [
    "### Merge dataframes based on a column"
   ]
  },
  {
   "cell_type": "code",
   "execution_count": 7,
   "metadata": {},
   "outputs": [
    {
     "name": "stdout",
     "output_type": "stream",
     "text": [
      "(30, 13)\n",
      "(30, 13)\n"
     ]
    },
    {
     "data": {
      "text/html": [
       "<div>\n",
       "<style scoped>\n",
       "    .dataframe tbody tr th:only-of-type {\n",
       "        vertical-align: middle;\n",
       "    }\n",
       "\n",
       "    .dataframe tbody tr th {\n",
       "        vertical-align: top;\n",
       "    }\n",
       "\n",
       "    .dataframe thead th {\n",
       "        text-align: right;\n",
       "    }\n",
       "</style>\n",
       "<table border=\"1\" class=\"dataframe\">\n",
       "  <thead>\n",
       "    <tr style=\"text-align: right;\">\n",
       "      <th></th>\n",
       "      <th>Hospital</th>\n",
       "      <th>Maltrato1</th>\n",
       "      <th>Maltrato2</th>\n",
       "      <th>Maltrato3</th>\n",
       "      <th>Maltrato4</th>\n",
       "      <th>Maltrato5</th>\n",
       "      <th>Maltrato6</th>\n",
       "      <th>Maltrato7</th>\n",
       "      <th>Maltrato8</th>\n",
       "      <th>Maltrato9</th>\n",
       "      <th>Maltrato10</th>\n",
       "      <th>Long</th>\n",
       "      <th>Lat</th>\n",
       "    </tr>\n",
       "  </thead>\n",
       "  <tbody>\n",
       "    <tr>\n",
       "      <th>7</th>\n",
       "      <td>Hospital General Docente Iván Portuondo</td>\n",
       "      <td>2.0</td>\n",
       "      <td>2.0</td>\n",
       "      <td>2.0</td>\n",
       "      <td>2.0</td>\n",
       "      <td>2.0</td>\n",
       "      <td>2.0</td>\n",
       "      <td>2.0</td>\n",
       "      <td>NaN</td>\n",
       "      <td>NaN</td>\n",
       "      <td>1.0</td>\n",
       "      <td>22.893217</td>\n",
       "      <td>-82.504989</td>\n",
       "    </tr>\n",
       "  </tbody>\n",
       "</table>\n",
       "</div>"
      ],
      "text/plain": [
       "                                  Hospital  Maltrato1  Maltrato2  Maltrato3  \\\n",
       "7  Hospital General Docente Iván Portuondo        2.0        2.0        2.0   \n",
       "\n",
       "   Maltrato4  Maltrato5  Maltrato6  Maltrato7  Maltrato8  Maltrato9  \\\n",
       "7        2.0        2.0        2.0        2.0        NaN        NaN   \n",
       "\n",
       "   Maltrato10       Long        Lat  \n",
       "7         1.0  22.893217 -82.504989  "
      ]
     },
     "execution_count": 7,
     "metadata": {},
     "output_type": "execute_result"
    }
   ],
   "source": [
    "maltratos = analyze.merge_dataframes(\n",
    "   m1, m2, m3, m4, m5, m6, m7, m8, m9, m10, col_name=\"Hospital\" \n",
    ")\n",
    "df_join = analyze.merge_dataframes(maltratos, directorio, col_name=\"Hospital\", how=\"left\")\n",
    "print(df_join.shape)\n",
    "# Remove rows with NaN values on column and reset index\n",
    "df_join = analyze.drop_nan(df_join, col_name='Long')\n",
    "print(df_join.shape)\n",
    "df_join.sample(1)\n",
    "# Save dataframe\n",
    "# export.save_excel(df_join, folder=tables, filename=\"maltratos_hospitales\", sheet_name=\"data\")\n",
    "# export.save_json(df_join, folder=tables, filename=\"maltratos_hospitales\")"
   ]
  }
 ],
 "metadata": {
  "interpreter": {
   "hash": "e58505fa324dfd103b0f06ba8c64ba240e36d73492d0ccef95a59ef242259784"
  },
  "kernelspec": {
   "display_name": "Python 3.8.10 64-bit ('env_violencia_obstetrica': venv)",
   "language": "python",
   "name": "python3"
  },
  "language_info": {
   "codemirror_mode": {
    "name": "ipython",
    "version": 3
   },
   "file_extension": ".py",
   "mimetype": "text/x-python",
   "name": "python",
   "nbconvert_exporter": "python",
   "pygments_lexer": "ipython3",
   "version": "3.8.10"
  },
  "orig_nbformat": 4
 },
 "nbformat": 4,
 "nbformat_minor": 2
}
