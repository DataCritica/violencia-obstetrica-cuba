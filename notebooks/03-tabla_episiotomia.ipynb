{
 "cells": [
  {
   "cell_type": "markdown",
   "metadata": {},
   "source": [
    "### Imports"
   ]
  },
  {
   "cell_type": "code",
   "execution_count": 1,
   "metadata": {},
   "outputs": [],
   "source": [
    "import pandas as pd"
   ]
  },
  {
   "cell_type": "markdown",
   "metadata": {},
   "source": [
    "### Read data from 'xlsx' file"
   ]
  },
  {
   "cell_type": "code",
   "execution_count": 7,
   "metadata": {},
   "outputs": [],
   "source": [
    "# Read 'xlsx' file as dataframe\n",
    "df = pd.read_excel('../data/processed/data_cuba.xlsx', index_col=None, sheet_name='base_limpia')\n",
    "# Create a list with dataframe column names\n",
    "cols = df.columns"
   ]
  },
  {
   "cell_type": "markdown",
   "metadata": {},
   "source": [
    "### Create pivot table from dataframe"
   ]
  },
  {
   "cell_type": "code",
   "execution_count": 8,
   "metadata": {},
   "outputs": [],
   "source": [
    "# Create a pivot table from df\n",
    "episiotomia = pd.pivot_table(df, values=cols[0], index=cols[27],\n",
    "                         columns=cols[78], aggfunc='count')"
   ]
  },
  {
   "cell_type": "markdown",
   "metadata": {},
   "source": [
    "### Clean data"
   ]
  },
  {
   "cell_type": "code",
   "execution_count": 9,
   "metadata": {},
   "outputs": [
    {
     "name": "stderr",
     "output_type": "stream",
     "text": [
      "/tmp/ipykernel_15387/3066504590.py:5: FutureWarning: In a future version of pandas all arguments of DataFrame.drop except for the argument 'labels' will be keyword-only\n",
      "  episiotomia = episiotomia.drop('No', 1).rename(columns={'Sí': 'Episiotomía'})\n"
     ]
    },
    {
     "data": {
      "text/plain": [
       "(33, 2)"
      ]
     },
     "execution_count": 9,
     "metadata": {},
     "output_type": "execute_result"
    }
   ],
   "source": [
    "# Convert index to columns and reset index\n",
    "episiotomia = episiotomia.rename_axis('Hospital').reset_index().rename_axis('', axis='columns')\n",
    "\n",
    "# Delete column and rename other column\n",
    "episiotomia = episiotomia.drop('No', 1).rename(columns={'Sí': 'Episiotomía'})\n",
    "\n",
    "# Remove rows with NaN values on column\n",
    "episiotomia.dropna(subset=['Episiotomía'], inplace=True)\n",
    "\n",
    "# Reset index\n",
    "episiotomia = episiotomia.reset_index(drop=True)\n",
    "\n",
    "# Regular expressions to clean data typos\n",
    "episiotomia['Hospital'].replace(r'\\n|^\\s', '', regex=True, inplace=True)\n",
    "episiotomia['Hospital'].replace(r'^\\s', '', regex=True, inplace=True)\n",
    "\n",
    "episiotomia.shape"
   ]
  },
  {
   "cell_type": "markdown",
   "metadata": {},
   "source": [
    "### Merge two dataframes based on a column"
   ]
  },
  {
   "cell_type": "code",
   "execution_count": 10,
   "metadata": {},
   "outputs": [
    {
     "data": {
      "text/plain": [
       "(33, 4)"
      ]
     },
     "execution_count": 10,
     "metadata": {},
     "output_type": "execute_result"
    }
   ],
   "source": [
    "directorio = pd.read_excel(r'../data/processed/directorio_hospitales.xlsx', index_col=None, sheet_name='base_limpia', converters={'Long':str, 'Lat': str})\n",
    "\n",
    "# Merge dataframes by a column\n",
    "df_join = pd.merge(episiotomia, directorio, on='Hospital', how='left')\n",
    "\n",
    "df_join.shape"
   ]
  },
  {
   "cell_type": "code",
   "execution_count": 11,
   "metadata": {},
   "outputs": [
    {
     "data": {
      "text/html": [
       "<div>\n",
       "<style scoped>\n",
       "    .dataframe tbody tr th:only-of-type {\n",
       "        vertical-align: middle;\n",
       "    }\n",
       "\n",
       "    .dataframe tbody tr th {\n",
       "        vertical-align: top;\n",
       "    }\n",
       "\n",
       "    .dataframe thead th {\n",
       "        text-align: right;\n",
       "    }\n",
       "</style>\n",
       "<table border=\"1\" class=\"dataframe\">\n",
       "  <thead>\n",
       "    <tr style=\"text-align: right;\">\n",
       "      <th></th>\n",
       "      <th>Hospital</th>\n",
       "      <th>Episiotomía</th>\n",
       "      <th>Long</th>\n",
       "      <th>Lat</th>\n",
       "    </tr>\n",
       "  </thead>\n",
       "  <tbody>\n",
       "    <tr>\n",
       "      <th>1</th>\n",
       "      <td>Hospital General Municipal 27 de Noviembre</td>\n",
       "      <td>1.0</td>\n",
       "      <td>22.509655349554393</td>\n",
       "      <td>-83.50877625329261</td>\n",
       "    </tr>\n",
       "    <tr>\n",
       "      <th>14</th>\n",
       "      <td>Hospital General Docente Julio Aristegui Villa...</td>\n",
       "      <td>6.0</td>\n",
       "      <td>23.0265377</td>\n",
       "      <td>-81.1975294</td>\n",
       "    </tr>\n",
       "    <tr>\n",
       "      <th>2</th>\n",
       "      <td>Hospital Ginecobstétrico Materno Sur Mariana G...</td>\n",
       "      <td>7.0</td>\n",
       "      <td>22.390663645186034</td>\n",
       "      <td>-79.95421230207845</td>\n",
       "    </tr>\n",
       "  </tbody>\n",
       "</table>\n",
       "</div>"
      ],
      "text/plain": [
       "                                             Hospital  Episiotomía  \\\n",
       "1          Hospital General Municipal 27 de Noviembre          1.0   \n",
       "14  Hospital General Docente Julio Aristegui Villa...          6.0   \n",
       "2   Hospital Ginecobstétrico Materno Sur Mariana G...          7.0   \n",
       "\n",
       "                  Long                 Lat  \n",
       "1   22.509655349554393  -83.50877625329261  \n",
       "14          23.0265377         -81.1975294  \n",
       "2   22.390663645186034  -79.95421230207845  "
      ]
     },
     "execution_count": 11,
     "metadata": {},
     "output_type": "execute_result"
    }
   ],
   "source": [
    "# Remove rows with NaN values on column\n",
    "df_join.dropna(subset=['Long'], inplace=True)\n",
    "# Reset index\n",
    "df_join = df_join.reset_index(drop=True)\n",
    "\n",
    "# Save dataframe as 'xlsx' file\n",
    "# df_join.to_excel('../data/processed/episiotomia_hospitales.xlsx', index = False)\n",
    "# df_join.to_json('../data/processed/json/episiotomia_hospitales.json', orient='index', force_ascii=False)\n",
    "\n",
    "df_join.sample(3)"
   ]
  }
 ],
 "metadata": {
  "interpreter": {
   "hash": "e58505fa324dfd103b0f06ba8c64ba240e36d73492d0ccef95a59ef242259784"
  },
  "kernelspec": {
   "display_name": "Python 3.8.10 64-bit ('env_violencia_obstetrica': venv)",
   "language": "python",
   "name": "python3"
  },
  "language_info": {
   "codemirror_mode": {
    "name": "ipython",
    "version": 3
   },
   "file_extension": ".py",
   "mimetype": "text/x-python",
   "name": "python",
   "nbconvert_exporter": "python",
   "pygments_lexer": "ipython3",
   "version": "3.8.10"
  },
  "orig_nbformat": 4
 },
 "nbformat": 4,
 "nbformat_minor": 2
}
