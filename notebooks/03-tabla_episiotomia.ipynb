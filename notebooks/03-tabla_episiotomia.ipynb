{
 "cells": [
  {
   "cell_type": "markdown",
   "metadata": {},
   "source": [
    "### Imports"
   ]
  },
  {
   "cell_type": "code",
   "execution_count": 1,
   "metadata": {},
   "outputs": [],
   "source": [
    "%load_ext autoreload\n",
    "%autoreload 2"
   ]
  },
  {
   "cell_type": "code",
   "execution_count": 2,
   "metadata": {},
   "outputs": [],
   "source": [
    "import pandas as pd\n",
    "import violencia_obstetrica.data.export as export\n",
    "import violencia_obstetrica.data.load as load\n",
    "import violencia_obstetrica.data.process as process"
   ]
  },
  {
   "cell_type": "markdown",
   "metadata": {},
   "source": [
    "### Load data"
   ]
  },
  {
   "cell_type": "code",
   "execution_count": 3,
   "metadata": {},
   "outputs": [],
   "source": [
    "data_cuba = load.data_cuba\n",
    "directorio = load.data_directorio\n",
    "tables = load.tables\n",
    "jsons = load.jsons"
   ]
  },
  {
   "cell_type": "markdown",
   "metadata": {},
   "source": [
    "### Read data"
   ]
  },
  {
   "cell_type": "code",
   "execution_count": 4,
   "metadata": {},
   "outputs": [],
   "source": [
    "df = load.load_file(file=data_cuba, sheet=\"base_limpia\")\n",
    "directorio = load.load_file(file=directorio, sheet=\"base_limpia\")"
   ]
  },
  {
   "cell_type": "markdown",
   "metadata": {},
   "source": [
    "### Create pivot table"
   ]
  },
  {
   "cell_type": "code",
   "execution_count": 17,
   "metadata": {},
   "outputs": [
    {
     "data": {
      "text/html": [
       "<div>\n",
       "<style scoped>\n",
       "    .dataframe tbody tr th:only-of-type {\n",
       "        vertical-align: middle;\n",
       "    }\n",
       "\n",
       "    .dataframe tbody tr th {\n",
       "        vertical-align: top;\n",
       "    }\n",
       "\n",
       "    .dataframe thead th {\n",
       "        text-align: right;\n",
       "    }\n",
       "</style>\n",
       "<table border=\"1\" class=\"dataframe\">\n",
       "  <thead>\n",
       "    <tr style=\"text-align: right;\">\n",
       "      <th>De los siguientes procedimientos, marca todos los que se practicaron en tu parto: [Cortes externos para ampliar el canal de parto [episiotomía]]</th>\n",
       "      <th>No</th>\n",
       "      <th>Sí</th>\n",
       "    </tr>\n",
       "    <tr>\n",
       "      <th>Nombre del hospital dónde diste a luz</th>\n",
       "      <th></th>\n",
       "      <th></th>\n",
       "    </tr>\n",
       "  </thead>\n",
       "  <tbody>\n",
       "    <tr>\n",
       "      <th>Hospital General Docente Dr. Agostinho Neto</th>\n",
       "      <td>2.0</td>\n",
       "      <td>NaN</td>\n",
       "    </tr>\n",
       "  </tbody>\n",
       "</table>\n",
       "</div>"
      ],
      "text/plain": [
       "De los siguientes procedimientos, marca todos los que se practicaron en tu parto: [Cortes externos para ampliar el canal de parto [episiotomía]]   No  \\\n",
       "Nombre del hospital dónde diste a luz                                                                                                                   \n",
       "Hospital General Docente Dr. Agostinho Neto                                                                                                       2.0   \n",
       "\n",
       "De los siguientes procedimientos, marca todos los que se practicaron en tu parto: [Cortes externos para ampliar el canal de parto [episiotomía]]  Sí  \n",
       "Nombre del hospital dónde diste a luz                                                                                                                 \n",
       "Hospital General Docente Dr. Agostinho Neto                                                                                                      NaN  "
      ]
     },
     "execution_count": 17,
     "metadata": {},
     "output_type": "execute_result"
    }
   ],
   "source": [
    "episiotomia = process.create_pivot_tabe(df, values=0, index=27, cols=78)\n",
    "\n",
    "episiotomia.sample(1)"
   ]
  },
  {
   "cell_type": "markdown",
   "metadata": {},
   "source": [
    "### Clean pivot table"
   ]
  },
  {
   "cell_type": "code",
   "execution_count": 18,
   "metadata": {},
   "outputs": [
    {
     "data": {
      "text/html": [
       "<div>\n",
       "<style scoped>\n",
       "    .dataframe tbody tr th:only-of-type {\n",
       "        vertical-align: middle;\n",
       "    }\n",
       "\n",
       "    .dataframe tbody tr th {\n",
       "        vertical-align: top;\n",
       "    }\n",
       "\n",
       "    .dataframe thead th {\n",
       "        text-align: right;\n",
       "    }\n",
       "</style>\n",
       "<table border=\"1\" class=\"dataframe\">\n",
       "  <thead>\n",
       "    <tr style=\"text-align: right;\">\n",
       "      <th></th>\n",
       "      <th>Hospital</th>\n",
       "      <th>No</th>\n",
       "      <th>Sí</th>\n",
       "    </tr>\n",
       "  </thead>\n",
       "  <tbody>\n",
       "    <tr>\n",
       "      <th>2</th>\n",
       "      <td>Hospital Clínico Quirúrgico Docente Julio Trig...</td>\n",
       "      <td>1.0</td>\n",
       "      <td>NaN</td>\n",
       "    </tr>\n",
       "  </tbody>\n",
       "</table>\n",
       "</div>"
      ],
      "text/plain": [
       "                                            Hospital   No  Sí\n",
       "2  Hospital Clínico Quirúrgico Docente Julio Trig...  1.0 NaN"
      ]
     },
     "execution_count": 18,
     "metadata": {},
     "output_type": "execute_result"
    }
   ],
   "source": [
    "episiotomia = process.clean_table(episiotomia, col_name=\"Hospital\")\n",
    "\n",
    "episiotomia[0].sample(1)"
   ]
  },
  {
   "cell_type": "markdown",
   "metadata": {},
   "source": [
    "### Process pivot table"
   ]
  },
  {
   "cell_type": "code",
   "execution_count": 19,
   "metadata": {},
   "outputs": [
    {
     "name": "stderr",
     "output_type": "stream",
     "text": [
      "/home/fxr/Documents/datacritica/violencia_obstetrica/violencia_obstetrica/data/process.py:70: FutureWarning: In a future version of pandas all arguments of DataFrame.drop except for the argument 'labels' will be keyword-only\n",
      "  tables[i] = tables[i].drop(del_col, 1).rename(columns={old_col: f'{new_col}{i+1}'})\n"
     ]
    },
    {
     "data": {
      "text/html": [
       "<div>\n",
       "<style scoped>\n",
       "    .dataframe tbody tr th:only-of-type {\n",
       "        vertical-align: middle;\n",
       "    }\n",
       "\n",
       "    .dataframe tbody tr th {\n",
       "        vertical-align: top;\n",
       "    }\n",
       "\n",
       "    .dataframe thead th {\n",
       "        text-align: right;\n",
       "    }\n",
       "</style>\n",
       "<table border=\"1\" class=\"dataframe\">\n",
       "  <thead>\n",
       "    <tr style=\"text-align: right;\">\n",
       "      <th></th>\n",
       "      <th>Hospital</th>\n",
       "      <th>Episiotomía1</th>\n",
       "    </tr>\n",
       "  </thead>\n",
       "  <tbody>\n",
       "    <tr>\n",
       "      <th>25</th>\n",
       "      <td>Hospital Materno Sur (Clínica Los Ángeles)</td>\n",
       "      <td>2.0</td>\n",
       "    </tr>\n",
       "  </tbody>\n",
       "</table>\n",
       "</div>"
      ],
      "text/plain": [
       "                                      Hospital  Episiotomía1\n",
       "25  Hospital Materno Sur (Clínica Los Ángeles)           2.0"
      ]
     },
     "execution_count": 19,
     "metadata": {},
     "output_type": "execute_result"
    }
   ],
   "source": [
    "# Delete a column, rename a column and drop their NaN values\n",
    "episiotomia = process.process_table(episiotomia[0], del_col=\"No\", old_col=\"Sí\", new_col=\"Episiotomía\")\n",
    "\n",
    "episiotomia[0].sample(1)"
   ]
  },
  {
   "cell_type": "markdown",
   "metadata": {},
   "source": [
    "### Merge two dataframes based on a column"
   ]
  },
  {
   "cell_type": "code",
   "execution_count": 23,
   "metadata": {},
   "outputs": [
    {
     "data": {
      "text/plain": [
       "(33, 4)"
      ]
     },
     "execution_count": 23,
     "metadata": {},
     "output_type": "execute_result"
    }
   ],
   "source": [
    "df_join = process.merge_dataframes(episiotomia[0], directorio, col_name=\"Hospital\", how=\"left\")\n",
    "\n",
    "df_join.shape"
   ]
  },
  {
   "cell_type": "markdown",
   "metadata": {},
   "source": [
    "### Drop NaN values from a column"
   ]
  },
  {
   "cell_type": "code",
   "execution_count": 24,
   "metadata": {},
   "outputs": [
    {
     "data": {
      "text/plain": [
       "(30, 4)"
      ]
     },
     "execution_count": 24,
     "metadata": {},
     "output_type": "execute_result"
    }
   ],
   "source": [
    "# Remove rows with NaN values on column\n",
    "df_join.dropna(subset=['Long'], inplace=True)\n",
    "# Reset index\n",
    "df_join = df_join.reset_index(drop=True)\n",
    "\n",
    "df_join.shape"
   ]
  },
  {
   "cell_type": "markdown",
   "metadata": {},
   "source": [
    "### Save dataframe"
   ]
  },
  {
   "cell_type": "code",
   "execution_count": null,
   "metadata": {},
   "outputs": [],
   "source": [
    "# export.save_excel(df_join, folder=tables, filename=\"episiotomia_hospitales\", sheet_name=\"data\")\n",
    "# export.save_json(df_join, folder=tables, filename=\"episiotomia_hospitales\")"
   ]
  }
 ],
 "metadata": {
  "interpreter": {
   "hash": "e58505fa324dfd103b0f06ba8c64ba240e36d73492d0ccef95a59ef242259784"
  },
  "kernelspec": {
   "display_name": "Python 3.8.10 64-bit ('env_violencia_obstetrica': venv)",
   "language": "python",
   "name": "python3"
  },
  "language_info": {
   "codemirror_mode": {
    "name": "ipython",
    "version": 3
   },
   "file_extension": ".py",
   "mimetype": "text/x-python",
   "name": "python",
   "nbconvert_exporter": "python",
   "pygments_lexer": "ipython3",
   "version": "3.8.10"
  },
  "orig_nbformat": 4
 },
 "nbformat": 4,
 "nbformat_minor": 2
}
