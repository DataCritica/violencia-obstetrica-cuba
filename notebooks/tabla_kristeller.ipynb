{
 "cells": [
  {
   "cell_type": "markdown",
   "metadata": {},
   "source": [
    "### Imports"
   ]
  },
  {
   "cell_type": "code",
   "execution_count": 2,
   "metadata": {},
   "outputs": [],
   "source": [
    "import pandas as pd"
   ]
  },
  {
   "cell_type": "markdown",
   "metadata": {},
   "source": [
    "### Read data from 'xlsx' file"
   ]
  },
  {
   "cell_type": "code",
   "execution_count": 3,
   "metadata": {},
   "outputs": [],
   "source": [
    "# Read 'xlsx' file as dataframe\n",
    "df = pd.read_excel('../data/processed/data_cuba.xlsx', index_col=None, sheet_name='base_limpia')\n",
    "# Create a list with dataframe column names\n",
    "cols = df.columns"
   ]
  },
  {
   "cell_type": "markdown",
   "metadata": {},
   "source": [
    "### Create pivot table from dataframe"
   ]
  },
  {
   "cell_type": "code",
   "execution_count": 4,
   "metadata": {},
   "outputs": [],
   "source": [
    "# Create a pivot table from df\n",
    "kristeller = pd.pivot_table(df, values=cols[0], index=cols[27],\n",
    "                         columns=cols[80], aggfunc='count')"
   ]
  },
  {
   "cell_type": "markdown",
   "metadata": {},
   "source": [
    "### Clean data"
   ]
  },
  {
   "cell_type": "code",
   "execution_count": 5,
   "metadata": {},
   "outputs": [
    {
     "name": "stderr",
     "output_type": "stream",
     "text": [
      "/tmp/ipykernel_15343/679524787.py:5: FutureWarning: In a future version of pandas all arguments of DataFrame.drop except for the argument 'labels' will be keyword-only\n",
      "  kristeller = kristeller.drop('No', 1).rename(columns={'Sí': 'Kristeller'})\n"
     ]
    },
    {
     "data": {
      "text/plain": [
       "(33, 2)"
      ]
     },
     "execution_count": 5,
     "metadata": {},
     "output_type": "execute_result"
    }
   ],
   "source": [
    "# Convert index to columns and reset index\n",
    "kristeller = kristeller.rename_axis('Hospital').reset_index().rename_axis('', axis='columns')\n",
    "\n",
    "# Delete column and rename other column\n",
    "kristeller = kristeller.drop('No', 1).rename(columns={'Sí': 'Kristeller'})\n",
    "\n",
    "# Remove rows with NaN values on column\n",
    "kristeller.dropna(subset=['Kristeller'], inplace=True)\n",
    "\n",
    "# Reset index\n",
    "kristeller = kristeller.reset_index(drop=True)\n",
    "\n",
    "# Regular expressions to clean data typos\n",
    "kristeller['Hospital'].replace(r'\\n|^\\s', '', regex=True, inplace=True)\n",
    "kristeller['Hospital'].replace(r'^\\s', '', regex=True, inplace=True)\n",
    "\n",
    "kristeller.shape"
   ]
  },
  {
   "cell_type": "markdown",
   "metadata": {},
   "source": [
    "### Merge two dataframes based on a column"
   ]
  },
  {
   "cell_type": "code",
   "execution_count": 6,
   "metadata": {},
   "outputs": [
    {
     "data": {
      "text/plain": [
       "(33, 4)"
      ]
     },
     "execution_count": 6,
     "metadata": {},
     "output_type": "execute_result"
    }
   ],
   "source": [
    "directorio = pd.read_excel(r'../data/processed/directorio_hospitales.xlsx', index_col=None, sheet_name='base_limpia', converters={'Long':str, 'Lat': str})\n",
    "\n",
    "# Merge dataframes by a column\n",
    "df_join = pd.merge(kristeller, directorio, on='Hospital', how='left')\n",
    "\n",
    "df_join.shape"
   ]
  },
  {
   "cell_type": "code",
   "execution_count": 7,
   "metadata": {},
   "outputs": [
    {
     "data": {
      "text/html": [
       "<div>\n",
       "<style scoped>\n",
       "    .dataframe tbody tr th:only-of-type {\n",
       "        vertical-align: middle;\n",
       "    }\n",
       "\n",
       "    .dataframe tbody tr th {\n",
       "        vertical-align: top;\n",
       "    }\n",
       "\n",
       "    .dataframe thead th {\n",
       "        text-align: right;\n",
       "    }\n",
       "</style>\n",
       "<table border=\"1\" class=\"dataframe\">\n",
       "  <thead>\n",
       "    <tr style=\"text-align: right;\">\n",
       "      <th></th>\n",
       "      <th>Hospital</th>\n",
       "      <th>Kristeller</th>\n",
       "      <th>Long</th>\n",
       "      <th>Lat</th>\n",
       "    </tr>\n",
       "  </thead>\n",
       "  <tbody>\n",
       "    <tr>\n",
       "      <th>5</th>\n",
       "      <td>Hospital Militar Luis Díaz Soto (Naval)</td>\n",
       "      <td>4.0</td>\n",
       "      <td>23.153176268189828</td>\n",
       "      <td>-82.33258355</td>\n",
       "    </tr>\n",
       "    <tr>\n",
       "      <th>20</th>\n",
       "      <td>Hospital Ginecobstétrico América Arias (Matern...</td>\n",
       "      <td>10.0</td>\n",
       "      <td>23.14226057538131</td>\n",
       "      <td>-82.39222113</td>\n",
       "    </tr>\n",
       "    <tr>\n",
       "      <th>25</th>\n",
       "      <td>Hospital Materno Infantil Manuel Piti Fajardo</td>\n",
       "      <td>2.0</td>\n",
       "      <td>22.854521605755203</td>\n",
       "      <td>-82.03159771</td>\n",
       "    </tr>\n",
       "  </tbody>\n",
       "</table>\n",
       "</div>"
      ],
      "text/plain": [
       "                                             Hospital  Kristeller  \\\n",
       "5             Hospital Militar Luis Díaz Soto (Naval)         4.0   \n",
       "20  Hospital Ginecobstétrico América Arias (Matern...        10.0   \n",
       "25      Hospital Materno Infantil Manuel Piti Fajardo         2.0   \n",
       "\n",
       "                  Long           Lat  \n",
       "5   23.153176268189828  -82.33258355  \n",
       "20   23.14226057538131  -82.39222113  \n",
       "25  22.854521605755203  -82.03159771  "
      ]
     },
     "execution_count": 7,
     "metadata": {},
     "output_type": "execute_result"
    }
   ],
   "source": [
    "# Remove rows with NaN values on column\n",
    "df_join.dropna(subset=['Long'], inplace=True)\n",
    "# Reset index\n",
    "df_join = df_join.reset_index(drop=True)\n",
    "\n",
    "# Save dataframe as 'xlsx' file\n",
    "# df_join.to_excel('../data/processed/kristeller_hospitales.xlsx', index = False)\n",
    "# df_join.to_json('../data/processed/json/kristeller_hospitales.json', orient='index', force_ascii=False)\n",
    "\n",
    "df_join.sample(3)"
   ]
  }
 ],
 "metadata": {
  "interpreter": {
   "hash": "e58505fa324dfd103b0f06ba8c64ba240e36d73492d0ccef95a59ef242259784"
  },
  "kernelspec": {
   "display_name": "Python 3.8.10 64-bit ('env_violencia_obstetrica': venv)",
   "language": "python",
   "name": "python3"
  },
  "language_info": {
   "codemirror_mode": {
    "name": "ipython",
    "version": 3
   },
   "file_extension": ".py",
   "mimetype": "text/x-python",
   "name": "python",
   "nbconvert_exporter": "python",
   "pygments_lexer": "ipython3",
   "version": "3.8.10"
  },
  "orig_nbformat": 4
 },
 "nbformat": 4,
 "nbformat_minor": 2
}
