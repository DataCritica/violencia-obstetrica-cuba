{
 "cells": [
  {
   "cell_type": "markdown",
   "metadata": {},
   "source": [
    "### Imports"
   ]
  },
  {
   "cell_type": "code",
   "execution_count": 132,
   "metadata": {},
   "outputs": [
    {
     "name": "stdout",
     "output_type": "stream",
     "text": [
      "The autoreload extension is already loaded. To reload it, use:\n",
      "  %reload_ext autoreload\n"
     ]
    }
   ],
   "source": [
    "%load_ext autoreload\n",
    "%autoreload 2"
   ]
  },
  {
   "cell_type": "code",
   "execution_count": 139,
   "metadata": {},
   "outputs": [],
   "source": [
    "import pandas as pd\n",
    "import violencia_obstetrica.data.analyze as analyze\n",
    "import violencia_obstetrica.data.export as export\n",
    "import violencia_obstetrica.data.load as load"
   ]
  },
  {
   "cell_type": "markdown",
   "metadata": {},
   "source": [
    "### Load data"
   ]
  },
  {
   "cell_type": "code",
   "execution_count": 140,
   "metadata": {},
   "outputs": [],
   "source": [
    "data_cuba = load.data_cuba\n",
    "directorio = load.data_directorio\n",
    "tables = load.tables\n",
    "jsons = load.jsons"
   ]
  },
  {
   "cell_type": "markdown",
   "metadata": {},
   "source": [
    "### Read data as a dataframe"
   ]
  },
  {
   "cell_type": "code",
   "execution_count": 141,
   "metadata": {},
   "outputs": [],
   "source": [
    "df = load.load_file(file=data_cuba, sheet=\"base_limpia\")\n",
    "directorio = load.load_file(file=directorio, sheet=\"base_limpia\")"
   ]
  },
  {
   "cell_type": "markdown",
   "metadata": {},
   "source": [
    "### Create pivot tables"
   ]
  },
  {
   "cell_type": "code",
   "execution_count": 142,
   "metadata": {},
   "outputs": [
    {
     "data": {
      "text/html": [
       "<div>\n",
       "<style scoped>\n",
       "    .dataframe tbody tr th:only-of-type {\n",
       "        vertical-align: middle;\n",
       "    }\n",
       "\n",
       "    .dataframe tbody tr th {\n",
       "        vertical-align: top;\n",
       "    }\n",
       "\n",
       "    .dataframe thead th {\n",
       "        text-align: right;\n",
       "    }\n",
       "</style>\n",
       "<table border=\"1\" class=\"dataframe\">\n",
       "  <thead>\n",
       "    <tr style=\"text-align: right;\">\n",
       "      <th>Evalúa cada una de las posibles consecuencias emocionales de tu experiencia de parto para indicar con qué intensidad te afectaron, yendo desde “Nada en absoluto” para indicar que no te pasó, hasta “Muchísimo” para indicar que te afectó significativamente.  [Dificultad para conectar emocionalmente con tu hijo/a]</th>\n",
       "      <th>Bastante</th>\n",
       "      <th>Muchísimo</th>\n",
       "      <th>Muy poco, manejable</th>\n",
       "      <th>Nada en absoluto</th>\n",
       "    </tr>\n",
       "    <tr>\n",
       "      <th>Nombre del hospital dónde diste a luz</th>\n",
       "      <th></th>\n",
       "      <th></th>\n",
       "      <th></th>\n",
       "      <th></th>\n",
       "    </tr>\n",
       "  </thead>\n",
       "  <tbody>\n",
       "    <tr>\n",
       "      <th>Hospital General Docente Leopoldito Martínez</th>\n",
       "      <td>NaN</td>\n",
       "      <td>NaN</td>\n",
       "      <td>NaN</td>\n",
       "      <td>1.0</td>\n",
       "    </tr>\n",
       "  </tbody>\n",
       "</table>\n",
       "</div>"
      ],
      "text/plain": [
       "Evalúa cada una de las posibles consecuencias emocionales de tu experiencia de parto para indicar con qué intensidad te afectaron, yendo desde “Nada en absoluto” para indicar que no te pasó, hasta “Muchísimo” para indicar que te afectó significativamente.  [Dificultad para conectar emocionalmente con tu hijo/a]  Bastante  \\\n",
       "Nombre del hospital dónde diste a luz                                                                                                                                                                                                                                                                                                \n",
       "Hospital General Docente Leopoldito Martínez                                                                                                                                                                                                                                                                                   NaN   \n",
       "\n",
       "Evalúa cada una de las posibles consecuencias emocionales de tu experiencia de parto para indicar con qué intensidad te afectaron, yendo desde “Nada en absoluto” para indicar que no te pasó, hasta “Muchísimo” para indicar que te afectó significativamente.  [Dificultad para conectar emocionalmente con tu hijo/a]  Muchísimo  \\\n",
       "Nombre del hospital dónde diste a luz                                                                                                                                                                                                                                                                                                 \n",
       "Hospital General Docente Leopoldito Martínez                                                                                                                                                                                                                                                                                    NaN   \n",
       "\n",
       "Evalúa cada una de las posibles consecuencias emocionales de tu experiencia de parto para indicar con qué intensidad te afectaron, yendo desde “Nada en absoluto” para indicar que no te pasó, hasta “Muchísimo” para indicar que te afectó significativamente.  [Dificultad para conectar emocionalmente con tu hijo/a]  Muy poco, manejable  \\\n",
       "Nombre del hospital dónde diste a luz                                                                                                                                                                                                                                                                                                           \n",
       "Hospital General Docente Leopoldito Martínez                                                                                                                                                                                                                                                                                              NaN   \n",
       "\n",
       "Evalúa cada una de las posibles consecuencias emocionales de tu experiencia de parto para indicar con qué intensidad te afectaron, yendo desde “Nada en absoluto” para indicar que no te pasó, hasta “Muchísimo” para indicar que te afectó significativamente.  [Dificultad para conectar emocionalmente con tu hijo/a]  Nada en absoluto  \n",
       "Nombre del hospital dónde diste a luz                                                                                                                                                                                                                                                                                                       \n",
       "Hospital General Docente Leopoldito Martínez                                                                                                                                                                                                                                                                                           1.0  "
      ]
     },
     "execution_count": 142,
     "metadata": {},
     "output_type": "execute_result"
    }
   ],
   "source": [
    "# Create pivot tables from columns 145-155\n",
    "c1, c2, c3, c4, c5, c6, c7, c8, c9, c10, c11 = analyze.create_complex_pivot_table(\n",
    "    df, values=0, index=27, cols=[145, 146, 147, 148, 149, 150, 151, 152, 153, 154, 155])\n",
    "c1.sample(1)"
   ]
  },
  {
   "cell_type": "markdown",
   "metadata": {},
   "source": [
    "### Process pivot tables"
   ]
  },
  {
   "cell_type": "code",
   "execution_count": 143,
   "metadata": {},
   "outputs": [
    {
     "data": {
      "text/html": [
       "<div>\n",
       "<style scoped>\n",
       "    .dataframe tbody tr th:only-of-type {\n",
       "        vertical-align: middle;\n",
       "    }\n",
       "\n",
       "    .dataframe tbody tr th {\n",
       "        vertical-align: top;\n",
       "    }\n",
       "\n",
       "    .dataframe thead th {\n",
       "        text-align: right;\n",
       "    }\n",
       "</style>\n",
       "<table border=\"1\" class=\"dataframe\">\n",
       "  <thead>\n",
       "    <tr style=\"text-align: right;\">\n",
       "      <th></th>\n",
       "      <th>Hospital</th>\n",
       "      <th>Consecuencia1</th>\n",
       "    </tr>\n",
       "  </thead>\n",
       "  <tbody>\n",
       "    <tr>\n",
       "      <th>7</th>\n",
       "      <td>Hospital General Docente Vladimir Ilich Lenin</td>\n",
       "      <td>1.0</td>\n",
       "    </tr>\n",
       "  </tbody>\n",
       "</table>\n",
       "</div>"
      ],
      "text/plain": [
       "                                        Hospital  Consecuencia1\n",
       "7  Hospital General Docente Vladimir Ilich Lenin            1.0"
      ]
     },
     "execution_count": 143,
     "metadata": {},
     "output_type": "execute_result"
    }
   ],
   "source": [
    "# Convert index to a column and create new index  \n",
    "c1, c2, c3, c4, c5, c6, c7, c8, c9, c10, c11 = analyze.set_new_index(\n",
    "    c1, c2, c3, c4, c5, c6, c7, c8, c9, c10, c11, col_name=\"Hospital\")\n",
    "# Delete a column \n",
    "c1, c2, c3, c4, c5, c6, c7, c8, c9, c10, c11 = analyze.del_col(\n",
    "    c1, c2, c3, c4, c5, c6, c7, c8, c9, c10, c11, \n",
    "    col_name='Nada en absoluto'\n",
    ")\n",
    "# Create a column with sum values from rows\n",
    "c1, c2, c3, c4, c5, c6, c7, c8, c9, c10, c11 = analyze.sum_rows(\n",
    "    c1, c2, c3, c4, c5, c6, c7, c8, c9, c10, c11, \n",
    "    col_name='Consecuencia'\n",
    ")\n",
    "# Drop rows with zero values on a column\n",
    "c1, c2, c3, c4, c5, c6, c7, c8, c9, c10, c11 = analyze.drop_zeros(\n",
    "    c1, c2, c3, c4, c5, c6, c7, c8, c9, c10, c11, \n",
    "    col_name='Consecuencia'\n",
    ")\n",
    "# Filter columns and reset index\n",
    "c1, c2, c3, c4, c5, c6, c7, c8, c9, c10, c11 = analyze.filter_cols(\n",
    "    c1, c2, c3, c4, c5, c6, c7, c8, c9, c10, c11, \n",
    "    regex='^Hospital|^Consecuencia'\n",
    ")\n",
    "c1.sample(1)\n"
   ]
  },
  {
   "cell_type": "markdown",
   "metadata": {},
   "source": [
    "### Merge dataframes based on a column"
   ]
  },
  {
   "cell_type": "code",
   "execution_count": 144,
   "metadata": {},
   "outputs": [
    {
     "name": "stdout",
     "output_type": "stream",
     "text": [
      "(41, 14)\n",
      "(36, 14)\n"
     ]
    },
    {
     "data": {
      "text/html": [
       "<div>\n",
       "<style scoped>\n",
       "    .dataframe tbody tr th:only-of-type {\n",
       "        vertical-align: middle;\n",
       "    }\n",
       "\n",
       "    .dataframe tbody tr th {\n",
       "        vertical-align: top;\n",
       "    }\n",
       "\n",
       "    .dataframe thead th {\n",
       "        text-align: right;\n",
       "    }\n",
       "</style>\n",
       "<table border=\"1\" class=\"dataframe\">\n",
       "  <thead>\n",
       "    <tr style=\"text-align: right;\">\n",
       "      <th></th>\n",
       "      <th>Hospital</th>\n",
       "      <th>Consecuencia1</th>\n",
       "      <th>Consecuencia2</th>\n",
       "      <th>Consecuencia3</th>\n",
       "      <th>Consecuencia4</th>\n",
       "      <th>Consecuencia5</th>\n",
       "      <th>Consecuencia6</th>\n",
       "      <th>Consecuencia7</th>\n",
       "      <th>Consecuencia8</th>\n",
       "      <th>Consecuencia9</th>\n",
       "      <th>Consecuencia10</th>\n",
       "      <th>Consecuencia11</th>\n",
       "      <th>Long</th>\n",
       "      <th>Lat</th>\n",
       "    </tr>\n",
       "  </thead>\n",
       "  <tbody>\n",
       "    <tr>\n",
       "      <th>35</th>\n",
       "      <td>Hospital General Docente Dr. Agostinho Neto</td>\n",
       "      <td>NaN</td>\n",
       "      <td>NaN</td>\n",
       "      <td>NaN</td>\n",
       "      <td>NaN</td>\n",
       "      <td>NaN</td>\n",
       "      <td>NaN</td>\n",
       "      <td>NaN</td>\n",
       "      <td>1.0</td>\n",
       "      <td>NaN</td>\n",
       "      <td>1.0</td>\n",
       "      <td>NaN</td>\n",
       "      <td>20.157736</td>\n",
       "      <td>-75.21763</td>\n",
       "    </tr>\n",
       "  </tbody>\n",
       "</table>\n",
       "</div>"
      ],
      "text/plain": [
       "                                       Hospital  Consecuencia1  Consecuencia2  \\\n",
       "35  Hospital General Docente Dr. Agostinho Neto            NaN            NaN   \n",
       "\n",
       "    Consecuencia3  Consecuencia4  Consecuencia5  Consecuencia6  Consecuencia7  \\\n",
       "35            NaN            NaN            NaN            NaN            NaN   \n",
       "\n",
       "    Consecuencia8  Consecuencia9  Consecuencia10  Consecuencia11       Long  \\\n",
       "35            1.0            NaN             1.0             NaN  20.157736   \n",
       "\n",
       "         Lat  \n",
       "35 -75.21763  "
      ]
     },
     "execution_count": 144,
     "metadata": {},
     "output_type": "execute_result"
    }
   ],
   "source": [
    "consecuencias = analyze.merge_dataframes(\n",
    "   c1, c2, c3, c4, c5, c6, c7, c8, c9, c10, c11, col_name=\"Hospital\" \n",
    ")\n",
    "df_join = analyze.merge_dataframes(consecuencias, directorio, col_name=\"Hospital\", how=\"left\")\n",
    "print(df_join.shape)\n",
    "# Remove rows with NaN values on column and reset index\n",
    "df_join = analyze.drop_nan(df_join, col_name='Long')\n",
    "print(df_join.shape)\n",
    "df_join.sample(1)\n",
    "# Save dataframe\n",
    "# export.save_excel(df_join, folder=tables, filename=\"secuelas_hospitales\", sheet_name=\"data\")\n",
    "# export.save_json(df_join, folder=tables, filename=\"secuelas_hospitales\")"
   ]
  }
 ],
 "metadata": {
  "interpreter": {
   "hash": "e58505fa324dfd103b0f06ba8c64ba240e36d73492d0ccef95a59ef242259784"
  },
  "kernelspec": {
   "display_name": "Python 3.8.10 64-bit ('env_violencia_obstetrica': venv)",
   "language": "python",
   "name": "python3"
  },
  "language_info": {
   "codemirror_mode": {
    "name": "ipython",
    "version": 3
   },
   "file_extension": ".py",
   "mimetype": "text/x-python",
   "name": "python",
   "nbconvert_exporter": "python",
   "pygments_lexer": "ipython3",
   "version": "3.8.10"
  },
  "orig_nbformat": 4
 },
 "nbformat": 4,
 "nbformat_minor": 2
}
