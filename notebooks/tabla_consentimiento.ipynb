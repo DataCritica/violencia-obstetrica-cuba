{
 "cells": [
  {
   "cell_type": "markdown",
   "metadata": {},
   "source": [
    "### Imports"
   ]
  },
  {
   "cell_type": "code",
   "execution_count": 1,
   "metadata": {},
   "outputs": [],
   "source": [
    "import pandas as pd"
   ]
  },
  {
   "cell_type": "markdown",
   "metadata": {},
   "source": [
    "### Read data from 'xlsx' file"
   ]
  },
  {
   "cell_type": "code",
   "execution_count": 7,
   "metadata": {},
   "outputs": [],
   "source": [
    "# Read 'xlsx' file as dataframe\n",
    "df = pd.read_excel('../data/processed/data_cuba.xlsx', index_col=None, sheet_name='base_limpia')\n",
    "# Create a list with dataframe column names\n",
    "cols = df.columns"
   ]
  },
  {
   "cell_type": "markdown",
   "metadata": {},
   "source": [
    "### Create pivot table from dataframe"
   ]
  },
  {
   "cell_type": "code",
   "execution_count": 8,
   "metadata": {},
   "outputs": [],
   "source": [
    "# Create a pivot table from df\n",
    "consent = pd.pivot_table(df, values=cols[0], index=cols[27],\n",
    "                         columns=cols[74], aggfunc='count')"
   ]
  },
  {
   "cell_type": "markdown",
   "metadata": {},
   "source": [
    "### Clean data"
   ]
  },
  {
   "cell_type": "code",
   "execution_count": 9,
   "metadata": {},
   "outputs": [
    {
     "data": {
      "text/plain": [
       "(49, 4)"
      ]
     },
     "execution_count": 9,
     "metadata": {},
     "output_type": "execute_result"
    }
   ],
   "source": [
    "# Convert index to columns and reset index\n",
    "consent = consent.rename_axis('Hospital').reset_index().rename_axis('', axis='columns')\n",
    "\n",
    "# Regular expressions to clean data typos\n",
    "consent['Hospital'].replace(r'\\n|^\\s', '', regex=True, inplace=True)\n",
    "consent['Hospital'].replace(r'^\\s', '', regex=True, inplace=True)\n",
    "\n",
    "consent.shape"
   ]
  },
  {
   "cell_type": "markdown",
   "metadata": {},
   "source": [
    "### Merge two dataframes based on a column"
   ]
  },
  {
   "cell_type": "code",
   "execution_count": 10,
   "metadata": {},
   "outputs": [
    {
     "data": {
      "text/plain": [
       "(49, 6)"
      ]
     },
     "execution_count": 10,
     "metadata": {},
     "output_type": "execute_result"
    }
   ],
   "source": [
    "directorio = pd.read_excel(r'../data/processed/directorio_hospitales.xlsx', index_col=None, sheet_name='base_limpia', converters={'Long':str, 'Lat': str})\n",
    "\n",
    "# Merge dataframes by a column\n",
    "df_join = pd.merge(consent, directorio, on='Hospital', how='left')\n",
    "\n",
    "df_join.shape"
   ]
  },
  {
   "cell_type": "code",
   "execution_count": 12,
   "metadata": {},
   "outputs": [
    {
     "data": {
      "text/html": [
       "<div>\n",
       "<style scoped>\n",
       "    .dataframe tbody tr th:only-of-type {\n",
       "        vertical-align: middle;\n",
       "    }\n",
       "\n",
       "    .dataframe tbody tr th {\n",
       "        vertical-align: top;\n",
       "    }\n",
       "\n",
       "    .dataframe thead th {\n",
       "        text-align: right;\n",
       "    }\n",
       "</style>\n",
       "<table border=\"1\" class=\"dataframe\">\n",
       "  <thead>\n",
       "    <tr style=\"text-align: right;\">\n",
       "      <th></th>\n",
       "      <th>Hospital</th>\n",
       "      <th>No, para ninguno</th>\n",
       "      <th>Sí, para algunos</th>\n",
       "      <th>Sí, para todos</th>\n",
       "      <th>Long</th>\n",
       "      <th>Lat</th>\n",
       "    </tr>\n",
       "  </thead>\n",
       "  <tbody>\n",
       "    <tr>\n",
       "      <th>41</th>\n",
       "      <td>Hospital Provincial Universitario Camilo Cienf...</td>\n",
       "      <td>1.0</td>\n",
       "      <td>NaN</td>\n",
       "      <td>2.0</td>\n",
       "      <td>21.936847986340712</td>\n",
       "      <td>-79.43959641</td>\n",
       "    </tr>\n",
       "    <tr>\n",
       "      <th>11</th>\n",
       "      <td>Hospital Universitario Abel Santamaría Cuadrado</td>\n",
       "      <td>8.0</td>\n",
       "      <td>NaN</td>\n",
       "      <td>27.0</td>\n",
       "      <td>22.44028611154951</td>\n",
       "      <td>-83.67122012</td>\n",
       "    </tr>\n",
       "    <tr>\n",
       "      <th>39</th>\n",
       "      <td>Hospital Provincial Docente Ginecobstétrico Jo...</td>\n",
       "      <td>NaN</td>\n",
       "      <td>NaN</td>\n",
       "      <td>1.0</td>\n",
       "      <td>23.105247141100904</td>\n",
       "      <td>-81.57923796500867</td>\n",
       "    </tr>\n",
       "  </tbody>\n",
       "</table>\n",
       "</div>"
      ],
      "text/plain": [
       "                                             Hospital  No, para ninguno  \\\n",
       "41  Hospital Provincial Universitario Camilo Cienf...               1.0   \n",
       "11    Hospital Universitario Abel Santamaría Cuadrado               8.0   \n",
       "39  Hospital Provincial Docente Ginecobstétrico Jo...               NaN   \n",
       "\n",
       "    Sí, para algunos  Sí, para todos                Long                 Lat  \n",
       "41               NaN             2.0  21.936847986340712        -79.43959641  \n",
       "11               NaN            27.0   22.44028611154951        -83.67122012  \n",
       "39               NaN             1.0  23.105247141100904  -81.57923796500867  "
      ]
     },
     "execution_count": 12,
     "metadata": {},
     "output_type": "execute_result"
    }
   ],
   "source": [
    "# Remove rows with NaN values on column\n",
    "df_join.dropna(subset=['Long'], inplace=True)\n",
    "# Reset index\n",
    "df_join = df_join.reset_index(drop=True)\n",
    "\n",
    "# Save dataframe as 'xlsx' file\n",
    "# df_join.to_excel('../data/processed/consentimiento_hospitales.xlsx', index = False)\n",
    "# df_join.to_json('../data/processed/json/consentimiento_hospitales.json', orient='index', force_ascii=False)\n",
    "\n",
    "df_join.sample(3)"
   ]
  }
 ],
 "metadata": {
  "interpreter": {
   "hash": "e58505fa324dfd103b0f06ba8c64ba240e36d73492d0ccef95a59ef242259784"
  },
  "kernelspec": {
   "display_name": "Python 3.8.10 64-bit ('env_violencia_obstetrica': venv)",
   "language": "python",
   "name": "python3"
  },
  "language_info": {
   "codemirror_mode": {
    "name": "ipython",
    "version": 3
   },
   "file_extension": ".py",
   "mimetype": "text/x-python",
   "name": "python",
   "nbconvert_exporter": "python",
   "pygments_lexer": "ipython3",
   "version": "3.8.10"
  },
  "orig_nbformat": 4
 },
 "nbformat": 4,
 "nbformat_minor": 2
}
