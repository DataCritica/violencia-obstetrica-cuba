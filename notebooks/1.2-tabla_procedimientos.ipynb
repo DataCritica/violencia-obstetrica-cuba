{
 "cells": [
  {
   "cell_type": "markdown",
   "metadata": {},
   "source": [
    "### Imports"
   ]
  },
  {
   "cell_type": "code",
   "execution_count": 1,
   "metadata": {},
   "outputs": [],
   "source": [
    "%load_ext autoreload\n",
    "%autoreload 2"
   ]
  },
  {
   "cell_type": "code",
   "execution_count": 2,
   "metadata": {},
   "outputs": [],
   "source": [
    "import pandas as pd\n",
    "import violencia_obstetrica.data.analyze as analyze\n",
    "import violencia_obstetrica.data.export as export\n",
    "import violencia_obstetrica.data.load as load"
   ]
  },
  {
   "cell_type": "markdown",
   "metadata": {},
   "source": [
    "### Load data"
   ]
  },
  {
   "cell_type": "code",
   "execution_count": 3,
   "metadata": {},
   "outputs": [],
   "source": [
    "data_cuba = load.data_cuba\n",
    "directorio = load.data_directorio\n",
    "tables = load.tables\n",
    "jsons = load.jsons"
   ]
  },
  {
   "cell_type": "markdown",
   "metadata": {},
   "source": [
    "### Read data as a dataframe"
   ]
  },
  {
   "cell_type": "code",
   "execution_count": 4,
   "metadata": {},
   "outputs": [],
   "source": [
    "df = load.load_file(file=data_cuba, sheet=\"base_limpia\")\n",
    "directorio = load.load_file(file=directorio, sheet=\"base_limpia\")"
   ]
  },
  {
   "cell_type": "markdown",
   "metadata": {},
   "source": [
    "### Create pivot table for `Episiotomía`"
   ]
  },
  {
   "cell_type": "code",
   "execution_count": 5,
   "metadata": {},
   "outputs": [
    {
     "name": "stdout",
     "output_type": "stream",
     "text": [
      "(33, 4)\n",
      "(30, 4)\n"
     ]
    },
    {
     "data": {
      "text/html": [
       "<div>\n",
       "<style scoped>\n",
       "    .dataframe tbody tr th:only-of-type {\n",
       "        vertical-align: middle;\n",
       "    }\n",
       "\n",
       "    .dataframe tbody tr th {\n",
       "        vertical-align: top;\n",
       "    }\n",
       "\n",
       "    .dataframe thead th {\n",
       "        text-align: right;\n",
       "    }\n",
       "</style>\n",
       "<table border=\"1\" class=\"dataframe\">\n",
       "  <thead>\n",
       "    <tr style=\"text-align: right;\">\n",
       "      <th></th>\n",
       "      <th>Hospital</th>\n",
       "      <th>Episiotomía</th>\n",
       "      <th>Long</th>\n",
       "      <th>Lat</th>\n",
       "    </tr>\n",
       "  </thead>\n",
       "  <tbody>\n",
       "    <tr>\n",
       "      <th>20</th>\n",
       "      <td>Hospital Materno Infantil Lebredo (Arroyo Nara...</td>\n",
       "      <td>3.0</td>\n",
       "      <td>23.055762</td>\n",
       "      <td>-82.360955</td>\n",
       "    </tr>\n",
       "  </tbody>\n",
       "</table>\n",
       "</div>"
      ],
      "text/plain": [
       "                                             Hospital  Episiotomía       Long  \\\n",
       "20  Hospital Materno Infantil Lebredo (Arroyo Nara...          3.0  23.055762   \n",
       "\n",
       "          Lat  \n",
       "20 -82.360955  "
      ]
     },
     "execution_count": 5,
     "metadata": {},
     "output_type": "execute_result"
    }
   ],
   "source": [
    "\"\"\" Create pivot table \"\"\"\n",
    "episiotomia = analyze.create_pivot_tabe(df, values=0, index=27, cols=78)\n",
    "\n",
    "\"\"\" Process pivot table \"\"\"\n",
    "# Convert index to column and create a new index\n",
    "episiotomia = analyze.set_new_index(episiotomia, col_name=\"Hospital\")\n",
    "# Delete a column\n",
    "episiotomia = analyze.del_col(episiotomia[0], col_name=\"No\")\n",
    "# Rename a column, drop NaN values and reset index\n",
    "episiotomia = analyze.prepare_table(episiotomia[0], old_col=\"Sí\", new_col=\"Episiotomía\")\n",
    "\n",
    "\"\"\" Merge dataframes \"\"\"\n",
    "df_join = analyze.merge_dataframes(episiotomia[0], directorio, col_name=\"Hospital\", how=\"left\")\n",
    "print(df_join.shape)\n",
    "\n",
    "\"\"\" Remove NaN values on column and reset index \"\"\"\n",
    "df_join = analyze.drop_nan(df_join, col_name='Long')\n",
    "print(df_join.shape)\n",
    "\n",
    "\"\"\" Save dataframe \"\"\"\n",
    "# export.save_excel(df_join, folder=tables, filename=\"episiotomia_hospitales\", sheet_name=\"data\")\n",
    "# export.save_json(df_join, folder=tables, filename=\"episiotomia_hospitales\")\n",
    "\n",
    "df_join.sample(1)"
   ]
  },
  {
   "cell_type": "markdown",
   "metadata": {},
   "source": [
    "### Create pivot table for `Kristeller`"
   ]
  },
  {
   "cell_type": "code",
   "execution_count": 6,
   "metadata": {},
   "outputs": [
    {
     "name": "stdout",
     "output_type": "stream",
     "text": [
      "(33, 4)\n",
      "(32, 4)\n"
     ]
    },
    {
     "data": {
      "text/html": [
       "<div>\n",
       "<style scoped>\n",
       "    .dataframe tbody tr th:only-of-type {\n",
       "        vertical-align: middle;\n",
       "    }\n",
       "\n",
       "    .dataframe tbody tr th {\n",
       "        vertical-align: top;\n",
       "    }\n",
       "\n",
       "    .dataframe thead th {\n",
       "        text-align: right;\n",
       "    }\n",
       "</style>\n",
       "<table border=\"1\" class=\"dataframe\">\n",
       "  <thead>\n",
       "    <tr style=\"text-align: right;\">\n",
       "      <th></th>\n",
       "      <th>Hospital</th>\n",
       "      <th>Kristeller</th>\n",
       "      <th>Long</th>\n",
       "      <th>Lat</th>\n",
       "    </tr>\n",
       "  </thead>\n",
       "  <tbody>\n",
       "    <tr>\n",
       "      <th>25</th>\n",
       "      <td>Hospital Materno Sur (Clínica Los Ángeles)</td>\n",
       "      <td>2.0</td>\n",
       "      <td>20.02474</td>\n",
       "      <td>-75.821583</td>\n",
       "    </tr>\n",
       "  </tbody>\n",
       "</table>\n",
       "</div>"
      ],
      "text/plain": [
       "                                      Hospital  Kristeller      Long  \\\n",
       "25  Hospital Materno Sur (Clínica Los Ángeles)         2.0  20.02474   \n",
       "\n",
       "          Lat  \n",
       "25 -75.821583  "
      ]
     },
     "execution_count": 6,
     "metadata": {},
     "output_type": "execute_result"
    }
   ],
   "source": [
    "\"\"\" Create pivot table \"\"\"\n",
    "kristeller = analyze.create_pivot_tabe(df, values=0, index=27, cols=80)\n",
    "\n",
    "\"\"\" Process pivot table \"\"\"\n",
    "# Convert index to column and create a new index\n",
    "kristeller = analyze.set_new_index(kristeller, col_name=\"Hospital\")\n",
    "# Delete a column\n",
    "kristeller = analyze.del_col(kristeller[0], col_name=\"No\")\n",
    "# Rename a column, drop NaN values and reset index\n",
    "kristeller = analyze.prepare_table(kristeller[0], old_col=\"Sí\", new_col=\"Kristeller\")\n",
    "\n",
    "\"\"\" Merge dataframes \"\"\"\n",
    "df_join = analyze.merge_dataframes(kristeller[0], directorio, col_name=\"Hospital\", how=\"left\")\n",
    "print(df_join.shape)\n",
    "\n",
    "\"\"\" Remove NaN values on column and reset index \"\"\"\n",
    "df_join = analyze.drop_nan(df_join, col_name='Long')\n",
    "print(df_join.shape)\n",
    "\n",
    "\"\"\" Save dataframe \"\"\"\n",
    "# export.save_excel(df_join, folder=tables, filename=\"kristeller_hospitales\", sheet_name=\"data\")\n",
    "# export.save_json(df_join, folder=tables, filename=\"kristeller_hospitales\")\n",
    "\n",
    "df_join.sample(1)"
   ]
  },
  {
   "cell_type": "markdown",
   "metadata": {},
   "source": [
    "### Create pivot table for `Dilatación Manual`"
   ]
  },
  {
   "cell_type": "code",
   "execution_count": 7,
   "metadata": {},
   "outputs": [
    {
     "name": "stdout",
     "output_type": "stream",
     "text": [
      "(38, 4)\n",
      "(35, 4)\n"
     ]
    },
    {
     "data": {
      "text/html": [
       "<div>\n",
       "<style scoped>\n",
       "    .dataframe tbody tr th:only-of-type {\n",
       "        vertical-align: middle;\n",
       "    }\n",
       "\n",
       "    .dataframe tbody tr th {\n",
       "        vertical-align: top;\n",
       "    }\n",
       "\n",
       "    .dataframe thead th {\n",
       "        text-align: right;\n",
       "    }\n",
       "</style>\n",
       "<table border=\"1\" class=\"dataframe\">\n",
       "  <thead>\n",
       "    <tr style=\"text-align: right;\">\n",
       "      <th></th>\n",
       "      <th>Hospital</th>\n",
       "      <th>Dilatación Manual</th>\n",
       "      <th>Long</th>\n",
       "      <th>Lat</th>\n",
       "    </tr>\n",
       "  </thead>\n",
       "  <tbody>\n",
       "    <tr>\n",
       "      <th>27</th>\n",
       "      <td>Hospital Materno Norte Tamara Bunke</td>\n",
       "      <td>1.0</td>\n",
       "      <td>20.035832</td>\n",
       "      <td>-75.817328</td>\n",
       "    </tr>\n",
       "  </tbody>\n",
       "</table>\n",
       "</div>"
      ],
      "text/plain": [
       "                               Hospital  Dilatación Manual       Long  \\\n",
       "27  Hospital Materno Norte Tamara Bunke                1.0  20.035832   \n",
       "\n",
       "          Lat  \n",
       "27 -75.817328  "
      ]
     },
     "execution_count": 7,
     "metadata": {},
     "output_type": "execute_result"
    }
   ],
   "source": [
    "\"\"\" Create pivot table \"\"\"\n",
    "dilatacion = analyze.create_pivot_tabe(df, values=0, index=27, cols=81)\n",
    "\n",
    "\"\"\" Process pivot table \"\"\"\n",
    "# Convert index to column and create a new index\n",
    "dilatacion = analyze.set_new_index(dilatacion, col_name=\"Hospital\")\n",
    "# Delete a column\n",
    "dilatacion = analyze.del_col(dilatacion[0], col_name=\"No\")\n",
    "# Rename a column, drop NaN values and reset index\n",
    "dilatacion = analyze.prepare_table(dilatacion[0], old_col=\"Sí\", new_col=\"Dilatación Manual\")\n",
    "\n",
    "\"\"\" Merge dataframes \"\"\"\n",
    "df_join = analyze.merge_dataframes(dilatacion[0], directorio, col_name=\"Hospital\", how=\"left\")\n",
    "print(df_join.shape)\n",
    "\n",
    "\"\"\" Remove NaN values on column and reset index \"\"\"\n",
    "df_join = analyze.drop_nan(df_join, col_name='Long')\n",
    "print(df_join.shape)\n",
    "\n",
    "\"\"\" Save dataframe \"\"\"\n",
    "# export.save_excel(df_join, folder=tables, filename=\"dilatacion_hospitales\", sheet_name=\"data\")\n",
    "# export.save_json(df_join, folder=tables, filename=\"dilatacion_hospitales\")\n",
    "\n",
    "df_join.sample(1)"
   ]
  }
 ],
 "metadata": {
  "interpreter": {
   "hash": "e58505fa324dfd103b0f06ba8c64ba240e36d73492d0ccef95a59ef242259784"
  },
  "kernelspec": {
   "display_name": "Python 3.8.10 64-bit ('env_violencia_obstetrica': venv)",
   "language": "python",
   "name": "python3"
  },
  "language_info": {
   "codemirror_mode": {
    "name": "ipython",
    "version": 3
   },
   "file_extension": ".py",
   "mimetype": "text/x-python",
   "name": "python",
   "nbconvert_exporter": "python",
   "pygments_lexer": "ipython3",
   "version": "3.8.10"
  },
  "orig_nbformat": 4
 },
 "nbformat": 4,
 "nbformat_minor": 2
}
