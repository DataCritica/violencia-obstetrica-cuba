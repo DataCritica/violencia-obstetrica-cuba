{
 "cells": [
  {
   "cell_type": "markdown",
   "metadata": {},
   "source": [
    "### Imports"
   ]
  },
  {
   "cell_type": "code",
   "execution_count": 1,
   "metadata": {},
   "outputs": [],
   "source": [
    "import pandas as pd"
   ]
  },
  {
   "cell_type": "markdown",
   "metadata": {},
   "source": [
    "### Read data from 'xlsx' file"
   ]
  },
  {
   "cell_type": "code",
   "execution_count": 2,
   "metadata": {},
   "outputs": [],
   "source": [
    "# Read 'xlsx' file as dataframe\n",
    "df = pd.read_excel('../data/processed/data_cuba.xlsx', index_col=None, sheet_name='base_limpia')\n",
    "# Create a list with dataframe column names\n",
    "cols = df.columns"
   ]
  },
  {
   "cell_type": "markdown",
   "metadata": {},
   "source": [
    "### Create pivot tables from dataframe"
   ]
  },
  {
   "cell_type": "code",
   "execution_count": 3,
   "metadata": {},
   "outputs": [
    {
     "name": "stderr",
     "output_type": "stream",
     "text": [
      "/tmp/ipykernel_15279/2334071657.py:17: FutureWarning: In a future version of pandas all arguments of DataFrame.drop except for the argument 'labels' will be keyword-only\n",
      "  table = table.drop('No', 1).rename(columns={'Sí': f'Maltrato{i+1}'})\n"
     ]
    }
   ],
   "source": [
    "\"\"\"\n",
    "Function to create \n",
    "pivot tables from\n",
    "columns 90-99\n",
    "\"\"\"\n",
    "def create_pivot_table():\n",
    "    dfs = []\n",
    "    count = 90\n",
    "    for i in range(10):\n",
    "        # Create a pivot table from df\n",
    "        table = pd.pivot_table(df, values=cols[0], index=cols[27],\n",
    "                                columns=cols[count], aggfunc='count')\n",
    "        count += 1\n",
    "        # Convert index to columns and reset index\n",
    "        table = table.rename_axis('Hospital').reset_index().rename_axis('', axis='columns')\n",
    "        # Delete column and rename other column\n",
    "        table = table.drop('No', 1).rename(columns={'Sí': f'Maltrato{i+1}'})\n",
    "\n",
    "        # Remove rows with NaN values on column\n",
    "        table.dropna(subset=[f'Maltrato{i+1}'], inplace=True)\n",
    "        # Reset index\n",
    "        table = table.reset_index(drop=True)\n",
    "        # Append table to list\n",
    "        dfs.append(table)\n",
    "    return dfs\n",
    "\n",
    "dfs = create_pivot_table()\n",
    "\n",
    "m1, m2, m3, m4, m5, m6, m7, m8, m9, m10 = dfs[0], dfs[1], dfs[2], dfs[3], dfs[4], dfs[5], dfs[6], dfs[7], dfs[8], dfs[9]"
   ]
  },
  {
   "cell_type": "markdown",
   "metadata": {},
   "source": [
    "### Clean data"
   ]
  },
  {
   "cell_type": "code",
   "execution_count": 4,
   "metadata": {},
   "outputs": [
    {
     "data": {
      "text/plain": [
       "[None, None, None, None, None, None, None, None, None, None]"
      ]
     },
     "execution_count": 4,
     "metadata": {},
     "output_type": "execute_result"
    }
   ],
   "source": [
    "\"\"\"\n",
    "Function to remove \n",
    "whitespace and new line\n",
    "at the beginning\n",
    "\"\"\"\n",
    "def clean_dataframes(*args, **kwargs):\n",
    "    dfs = list(args)\n",
    "    for i in range(len(dfs)):\n",
    "        dfs[i] = dfs[i]['Hospital'].replace(r'^\\s|\\n', '', regex=True, inplace=True)\n",
    "    return dfs\n",
    "\n",
    "clean_dataframes(m1, m2, m3, m4, m5, m6, m7, m8, m9, m10)"
   ]
  },
  {
   "cell_type": "markdown",
   "metadata": {},
   "source": [
    "### Merge dataframes"
   ]
  },
  {
   "cell_type": "code",
   "execution_count": 5,
   "metadata": {},
   "outputs": [
    {
     "data": {
      "text/plain": [
       "(30, 11)"
      ]
     },
     "execution_count": 5,
     "metadata": {},
     "output_type": "execute_result"
    }
   ],
   "source": [
    "\"\"\"\n",
    "Function to merge dataframes\n",
    "\"\"\"\n",
    "def mergeDataframes(*args, **kwargs):\n",
    "    dfs = list(args)\n",
    "    for i in range(len(dfs)):\n",
    "        if i <= 1:\n",
    "            df = pd.merge(dfs[0], dfs[1], on='Hospital', how ='outer')\n",
    "        else:\n",
    "            df = pd.merge(df, dfs[i], on='Hospital', how ='outer')\n",
    "    return df\n",
    "\n",
    "maltratos = mergeDataframes(m1, m2, m3, m4, m5, m6, m7, m8, m9, m10)\n",
    "maltratos['Hospital'].replace(r'^\\s', '', regex=True, inplace=True)\n",
    "\n",
    "maltratos.shape"
   ]
  },
  {
   "cell_type": "code",
   "execution_count": 6,
   "metadata": {},
   "outputs": [
    {
     "data": {
      "text/html": [
       "<div>\n",
       "<style scoped>\n",
       "    .dataframe tbody tr th:only-of-type {\n",
       "        vertical-align: middle;\n",
       "    }\n",
       "\n",
       "    .dataframe tbody tr th {\n",
       "        vertical-align: top;\n",
       "    }\n",
       "\n",
       "    .dataframe thead th {\n",
       "        text-align: right;\n",
       "    }\n",
       "</style>\n",
       "<table border=\"1\" class=\"dataframe\">\n",
       "  <thead>\n",
       "    <tr style=\"text-align: right;\">\n",
       "      <th></th>\n",
       "      <th>Hospital</th>\n",
       "      <th>Maltrato1</th>\n",
       "      <th>Maltrato2</th>\n",
       "      <th>Maltrato3</th>\n",
       "      <th>Maltrato4</th>\n",
       "      <th>Maltrato5</th>\n",
       "      <th>Maltrato6</th>\n",
       "      <th>Maltrato7</th>\n",
       "      <th>Maltrato8</th>\n",
       "      <th>Maltrato9</th>\n",
       "      <th>Maltrato10</th>\n",
       "      <th>Long</th>\n",
       "      <th>Lat</th>\n",
       "    </tr>\n",
       "  </thead>\n",
       "  <tbody>\n",
       "    <tr>\n",
       "      <th>1</th>\n",
       "      <td>Hospital General Docente Dr. Agostinho Neto</td>\n",
       "      <td>1.0</td>\n",
       "      <td>NaN</td>\n",
       "      <td>1.0</td>\n",
       "      <td>1.0</td>\n",
       "      <td>1.0</td>\n",
       "      <td>NaN</td>\n",
       "      <td>NaN</td>\n",
       "      <td>NaN</td>\n",
       "      <td>NaN</td>\n",
       "      <td>1.0</td>\n",
       "      <td>20.1577360164937</td>\n",
       "      <td>-75.21762997</td>\n",
       "    </tr>\n",
       "    <tr>\n",
       "      <th>18</th>\n",
       "      <td>Hospital Materno Hijas de Galicia (Hospital Ma...</td>\n",
       "      <td>6.0</td>\n",
       "      <td>3.0</td>\n",
       "      <td>6.0</td>\n",
       "      <td>9.0</td>\n",
       "      <td>7.0</td>\n",
       "      <td>1.0</td>\n",
       "      <td>3.0</td>\n",
       "      <td>1.0</td>\n",
       "      <td>1.0</td>\n",
       "      <td>4.0</td>\n",
       "      <td>23.104676186713206</td>\n",
       "      <td>-82.35786211</td>\n",
       "    </tr>\n",
       "    <tr>\n",
       "      <th>26</th>\n",
       "      <td>Hospital Clínico Quirúrgico Hermanos Ameijeira...</td>\n",
       "      <td>NaN</td>\n",
       "      <td>NaN</td>\n",
       "      <td>1.0</td>\n",
       "      <td>NaN</td>\n",
       "      <td>NaN</td>\n",
       "      <td>NaN</td>\n",
       "      <td>NaN</td>\n",
       "      <td>NaN</td>\n",
       "      <td>NaN</td>\n",
       "      <td>NaN</td>\n",
       "      <td>23.139458200138737</td>\n",
       "      <td>-82.37102329</td>\n",
       "    </tr>\n",
       "  </tbody>\n",
       "</table>\n",
       "</div>"
      ],
      "text/plain": [
       "                                             Hospital  Maltrato1  Maltrato2  \\\n",
       "1         Hospital General Docente Dr. Agostinho Neto        1.0        NaN   \n",
       "18  Hospital Materno Hijas de Galicia (Hospital Ma...        6.0        3.0   \n",
       "26  Hospital Clínico Quirúrgico Hermanos Ameijeira...        NaN        NaN   \n",
       "\n",
       "    Maltrato3  Maltrato4  Maltrato5  Maltrato6  Maltrato7  Maltrato8  \\\n",
       "1         1.0        1.0        1.0        NaN        NaN        NaN   \n",
       "18        6.0        9.0        7.0        1.0        3.0        1.0   \n",
       "26        1.0        NaN        NaN        NaN        NaN        NaN   \n",
       "\n",
       "    Maltrato9  Maltrato10                Long           Lat  \n",
       "1         NaN         1.0    20.1577360164937  -75.21762997  \n",
       "18        1.0         4.0  23.104676186713206  -82.35786211  \n",
       "26        NaN         NaN  23.139458200138737  -82.37102329  "
      ]
     },
     "execution_count": 6,
     "metadata": {},
     "output_type": "execute_result"
    }
   ],
   "source": [
    "# Read 'xlsx' file as dataframe\n",
    "directorio = pd.read_excel('../data/processed/directorio_hospitales.xlsx', index_col=None, sheet_name='base_limpia', converters={'Long':str, 'Lat': str})\n",
    "\n",
    "# Merge dataframes by a column\n",
    "df_join = pd.merge(maltratos, directorio, on='Hospital', how='left')\n",
    "\n",
    "# Remove rows with NaN values on column\n",
    "df_join.dropna(subset=['Long'], inplace=True)\n",
    "# Reset index\n",
    "df_join = df_join.reset_index(drop=True)\n",
    "\n",
    "# Save dataframe as 'xlsx' file\n",
    "# df_join.to_excel('../data/processed/maltratos_hospitales.xlsx', index = False)\n",
    "# df_join.to_json('../data/processed/json/maltratos_hospitales.json', orient='index', force_ascii=False)\n",
    "\n",
    "df_join.sample(3)"
   ]
  }
 ],
 "metadata": {
  "interpreter": {
   "hash": "e58505fa324dfd103b0f06ba8c64ba240e36d73492d0ccef95a59ef242259784"
  },
  "kernelspec": {
   "display_name": "Python 3.8.10 64-bit ('env_violencia_obstetrica': venv)",
   "language": "python",
   "name": "python3"
  },
  "language_info": {
   "codemirror_mode": {
    "name": "ipython",
    "version": 3
   },
   "file_extension": ".py",
   "mimetype": "text/x-python",
   "name": "python",
   "nbconvert_exporter": "python",
   "pygments_lexer": "ipython3",
   "version": "3.8.10"
  },
  "orig_nbformat": 4
 },
 "nbformat": 4,
 "nbformat_minor": 2
}
