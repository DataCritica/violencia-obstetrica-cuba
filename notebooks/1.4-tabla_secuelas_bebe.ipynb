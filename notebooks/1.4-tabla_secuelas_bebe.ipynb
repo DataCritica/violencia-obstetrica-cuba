{
 "cells": [
  {
   "cell_type": "markdown",
   "metadata": {},
   "source": [
    "### Imports"
   ]
  },
  {
   "cell_type": "code",
   "execution_count": 1,
   "metadata": {},
   "outputs": [],
   "source": [
    "%load_ext autoreload\n",
    "%autoreload 2"
   ]
  },
  {
   "cell_type": "code",
   "execution_count": 2,
   "metadata": {},
   "outputs": [],
   "source": [
    "import pandas as pd\n",
    "import plotly.graph_objects as go\n",
    "import violencia_obstetrica.data.analyze as analyze\n",
    "import violencia_obstetrica.data.export as export\n",
    "import violencia_obstetrica.data.load as load"
   ]
  },
  {
   "cell_type": "markdown",
   "metadata": {},
   "source": [
    "### Load data"
   ]
  },
  {
   "cell_type": "code",
   "execution_count": 3,
   "metadata": {},
   "outputs": [],
   "source": [
    "data_cuba = load.data_cuba\n",
    "directorio = load.data_directorio\n",
    "tables = load.tables\n",
    "jsons = load.jsons"
   ]
  },
  {
   "cell_type": "markdown",
   "metadata": {},
   "source": [
    "### Read data as dataframe"
   ]
  },
  {
   "cell_type": "code",
   "execution_count": 4,
   "metadata": {},
   "outputs": [],
   "source": [
    "df = load.load_file(file=data_cuba, sheet=\"base_limpia\")\n",
    "directorio = load.load_file(file=directorio, sheet=\"base_limpia\")"
   ]
  },
  {
   "cell_type": "markdown",
   "metadata": {},
   "source": [
    "### Create pivot tables"
   ]
  },
  {
   "cell_type": "code",
   "execution_count": 5,
   "metadata": {},
   "outputs": [],
   "source": [
    "# Create pivot tables from columns 102-109 and index 78, 80 and 81\n",
    "dfs = analyze.create_complex_pivot_table(\n",
    "    df, values=0, \n",
    "    index=[78, 80, 81], \n",
    "    cols=[102, 103, 104, 105, 106, 107, 108, 109])\n",
    "\n",
    "# Sort dataframes according to index\n",
    "e, k, d = analyze.sort_by_index(dfs, index=[78, 80, 81])\n",
    "\n",
    "# Convert index to a column and create new index \n",
    "e1, e2, e3, e4, e5, e6, e7, e8 = analyze.set_new_index(e[0], e[1], e[2], e[3], e[4], e[5], e[6], e[7], col_name='Procedimiento')\n",
    "k1, k2, k3, k4, k5, k6, k7, k8 = analyze.set_new_index(k[0], k[1], k[2], k[3], k[4], k[5], k[6], k[7], col_name='Procedimiento')\n",
    "d1, d2, d3, d4, d5, d6, d7, d8 = analyze.set_new_index(d[0], d[1], d[2], d[3], d[4], d[5], d[6], d[7], col_name='Procedimiento')\n",
    "\n",
    "# Rename a column, drop NaN values and reset index\n",
    "e1, e2, e3, e4, e5, e6, e7, e8 = analyze.prepare_table(\n",
    "    e1, e2, e3, e4, e5, e6, e7, e8, old_col='Sí', new_col='Secuela')\n",
    "k1, k2, k3, k4, k5, k6, k7, k8 = analyze.prepare_table(\n",
    "    k1, k2, k3, k4, k5, k6, k7, k8, old_col='Sí', new_col='Secuela')\n",
    "d1, d2, d3, d4, d5, d6, d7, d8 = analyze.prepare_table(\n",
    "    d1, d2, d3, d4, d5, d6, d7, d8, old_col='Sí', new_col='Secuela')"
   ]
  },
  {
   "cell_type": "code",
   "execution_count": 6,
   "metadata": {},
   "outputs": [],
   "source": [
    "# Delete a row and reset index\n",
    "e1, e2, e3, e4, e5, e6, e7, e8 = analyze.del_row(\n",
    "    e1, e2, e3, e4, e5, e6, e7, e8, row_name=0)\n",
    "k1, k2, k3, k4, k5, k6, k7, k8 = analyze.del_row(\n",
    "    k1, k2, k3, k4, k5, k6, k7, k8, row_name=0)\n",
    "d1, d2, d3, d4, d5, d6, d7, d8 = analyze.del_row(\n",
    "    d1, d2, d3, d4, d5, d6, d7, d8, row_name=0)\n",
    "\n",
    "# Delete a column\n",
    "e1, e2, e3, e4, e5, e6, e7, e8 = analyze.del_col(\n",
    "    e1, e2, e3, e4, e5, e6, e7, e8, col_name=['No'])\n",
    "k1, k2, k3, k4, k5, k6, k7, k8 = analyze.del_col(\n",
    "    k1, k2, k3, k4, k5, k6, k7, k8, col_name=['No'])\n",
    "d1, d2, d3, d4, d5, d6, d7, d8 = analyze.del_col(\n",
    "    d1, d2, d3, d4, d5, d6, d7, d8, col_name=['No'])\n",
    "\n",
    "# Replace a value\n",
    "e1, e2, e3, e4, e5, e6, e7, e8 = analyze.replace_value(\n",
    "    e1, e2, e3, e4, e5, e6, e7, e8, col_name='Procedimiento',\n",
    "    old_val='Sí', new_val='Episiotomía'\n",
    ")\n",
    "k1, k2, k3, k4, k5, k6, k7, k8 = analyze.replace_value(\n",
    "    k1, k2, k3, k4, k5, k6, k7, k8, col_name='Procedimiento',\n",
    "    old_val='Sí', new_val='Kristeller'\n",
    ")\n",
    "d1, d2, d3, d4, d5, d6, d7, d8 = analyze.replace_value(\n",
    "    d1, d2, d3, d4, d5, d6, d7, d8, col_name='Procedimiento',\n",
    "    old_val='Sí', new_val='Dilatación'\n",
    ")"
   ]
  },
  {
   "cell_type": "markdown",
   "metadata": {},
   "source": [
    "### Merge dataframes based on a column"
   ]
  },
  {
   "cell_type": "code",
   "execution_count": 7,
   "metadata": {},
   "outputs": [
    {
     "name": "stdout",
     "output_type": "stream",
     "text": [
      "(3, 9)\n"
     ]
    },
    {
     "data": {
      "text/html": [
       "<div>\n",
       "<style scoped>\n",
       "    .dataframe tbody tr th:only-of-type {\n",
       "        vertical-align: middle;\n",
       "    }\n",
       "\n",
       "    .dataframe tbody tr th {\n",
       "        vertical-align: top;\n",
       "    }\n",
       "\n",
       "    .dataframe thead th {\n",
       "        text-align: right;\n",
       "    }\n",
       "</style>\n",
       "<table border=\"1\" class=\"dataframe\">\n",
       "  <thead>\n",
       "    <tr style=\"text-align: right;\">\n",
       "      <th></th>\n",
       "      <th>Procedimiento</th>\n",
       "      <th>Secuela1</th>\n",
       "      <th>Secuela2</th>\n",
       "      <th>Secuela3</th>\n",
       "      <th>Secuela4</th>\n",
       "      <th>Secuela5</th>\n",
       "      <th>Secuela6</th>\n",
       "      <th>Secuela7</th>\n",
       "      <th>Secuela8</th>\n",
       "    </tr>\n",
       "  </thead>\n",
       "  <tbody>\n",
       "    <tr>\n",
       "      <th>0</th>\n",
       "      <td>Episiotomía</td>\n",
       "      <td>2</td>\n",
       "      <td>3</td>\n",
       "      <td>4</td>\n",
       "      <td>8</td>\n",
       "      <td>3</td>\n",
       "      <td>4</td>\n",
       "      <td>4</td>\n",
       "      <td>NaN</td>\n",
       "    </tr>\n",
       "    <tr>\n",
       "      <th>1</th>\n",
       "      <td>Kristeller</td>\n",
       "      <td>2</td>\n",
       "      <td>3</td>\n",
       "      <td>4</td>\n",
       "      <td>8</td>\n",
       "      <td>3</td>\n",
       "      <td>4</td>\n",
       "      <td>3</td>\n",
       "      <td>1.0</td>\n",
       "    </tr>\n",
       "    <tr>\n",
       "      <th>2</th>\n",
       "      <td>Dilatación</td>\n",
       "      <td>3</td>\n",
       "      <td>4</td>\n",
       "      <td>5</td>\n",
       "      <td>9</td>\n",
       "      <td>4</td>\n",
       "      <td>5</td>\n",
       "      <td>3</td>\n",
       "      <td>2.0</td>\n",
       "    </tr>\n",
       "  </tbody>\n",
       "</table>\n",
       "</div>"
      ],
      "text/plain": [
       "  Procedimiento  Secuela1  Secuela2  Secuela3  Secuela4  Secuela5  Secuela6  \\\n",
       "0   Episiotomía         2         3         4         8         3         4   \n",
       "1    Kristeller         2         3         4         8         3         4   \n",
       "2    Dilatación         3         4         5         9         4         5   \n",
       "\n",
       "   Secuela7  Secuela8  \n",
       "0         4       NaN  \n",
       "1         3       1.0  \n",
       "2         3       2.0  "
      ]
     },
     "execution_count": 7,
     "metadata": {},
     "output_type": "execute_result"
    }
   ],
   "source": [
    "episiotomia = analyze.merge_dataframes(e1, e2, e3, e4, e5, e6, e7, e8, col_name='Procedimiento')\n",
    "kristeller = analyze.merge_dataframes(k1, k2, k3, k4, k5, k6, k7, k8, col_name='Procedimiento')\n",
    "dilatacion = analyze.merge_dataframes(d1, d2, d3, d4, d5, d6, d7, d8, col_name='Procedimiento')\n",
    "\n",
    "# Create a list with dataframes\n",
    "procedimientos = [episiotomia, kristeller, dilatacion]\n",
    "\n",
    "# Concatenate the dataframes\n",
    "df_join = pd.concat(procedimientos, ignore_index=True)\n",
    "print(df_join.shape)\n",
    "\n",
    "# Save dataframe\n",
    "export.save_excel(df_join, folder=tables, file=\"secuelas_bebe\", sheet_name=\"data\")\n",
    "\n",
    "df_join"
   ]
  }
 ],
 "metadata": {
  "interpreter": {
   "hash": "e58505fa324dfd103b0f06ba8c64ba240e36d73492d0ccef95a59ef242259784"
  },
  "kernelspec": {
   "display_name": "Python 3.8.10 64-bit ('env_violencia_obstetrica': venv)",
   "language": "python",
   "name": "python3"
  },
  "language_info": {
   "codemirror_mode": {
    "name": "ipython",
    "version": 3
   },
   "file_extension": ".py",
   "mimetype": "text/x-python",
   "name": "python",
   "nbconvert_exporter": "python",
   "pygments_lexer": "ipython3",
   "version": "3.8.10"
  },
  "orig_nbformat": 4
 },
 "nbformat": 4,
 "nbformat_minor": 2
}
