{
 "cells": [
  {
   "cell_type": "markdown",
   "metadata": {},
   "source": [
    "# Installation"
   ]
  },
  {
   "cell_type": "code",
   "execution_count": 1,
   "metadata": {},
   "outputs": [],
   "source": [
    "#!pip install folium\n",
    "#!pip install altair"
   ]
  },
  {
   "cell_type": "markdown",
   "metadata": {},
   "source": [
    "# Imports"
   ]
  },
  {
   "cell_type": "code",
   "execution_count": 1,
   "metadata": {},
   "outputs": [],
   "source": [
    "import pandas as pd\n",
    "import folium\n",
    "from folium.features import FeatureGroup, VegaLite\n",
    "import altair as alt"
   ]
  },
  {
   "cell_type": "markdown",
   "metadata": {},
   "source": [
    "# Example with Circle Markers and Popups with Bar Charts"
   ]
  },
  {
   "cell_type": "code",
   "execution_count": 31,
   "metadata": {},
   "outputs": [],
   "source": [
    "# Read 'xlsx' file as pandas dataframe\n",
    "df = pd.read_excel(r'data/hospitales.xlsx', converters={'Long':str, 'Lat':str}, index_col=None)\n",
    "df_tr = pd.read_excel(r'data/maltratos_hospital.xlsx', converters={'Long':str, 'Lat':str}, index_col=None)\n",
    "\n",
    "# Remove rows with value '0' on column 'Long'\n",
    "df = df.drop(df['Long'].loc[df['Long']==\"0\"].index)\n",
    "# Create a list with the index of df\n",
    "count_hospitals = list(df.index)\n",
    "\n",
    "# Create a map\n",
    "m = folium.Map(location=[22.037635528256533, -79.36879425670136], zoom_start=7, \n",
    "               tiles=None)\n",
    "\n",
    "# Add a title\n",
    "loc = 'Hospitales con denuncias de maltrato en Cuba'\n",
    "title_html = '''\n",
    "             <h3 align=\"center\" style=\"font-size:16px\"><b>{}</b></h3>\n",
    "             '''.format(loc)  \n",
    "m.get_root().html.add_child(folium.Element(title_html))\n",
    "\n",
    "# Add layers for dark and light Mode\n",
    "\n",
    "folium.TileLayer(tiles=\"CartoDB dark_matter\", name=\"Dark\", attr= '''\n",
    "               &copy; <a href=\"https://www.openstreetmap.org/copyright\">OpenStreetMap</a> \n",
    "               contributors &copy; <a href=\"https://carto.com/attributions\">CARTO</a>\n",
    "               ''', overlay=True).add_to(m)\n",
    "folium.TileLayer(tiles='https://{s}.basemaps.cartocdn.com/light_all/{z}/{x}/{y}{r}.png', \n",
    "                 name=\"Light\", attr= '''\n",
    "                 &copy; <a href=\"https://www.openstreetmap.org/copyright\">OpenStreetMap</a> \n",
    "                 contributors &copy; <a href=\"https://carto.com/attributions\">CARTO</a>\n",
    "                ''').add_to(m)\n",
    "\n",
    "# Add the option to switch layers\n",
    "hospitales = FeatureGroup(name=\"Hospitales\")\n",
    "hospitales.add_to(m)\n",
    "folium.LayerControl().add_to(m)\n",
    "\n",
    "# List with columns names\n",
    "columns_list = list(df_tr)\n",
    "\n",
    "# Empty list for charts\n",
    "names = []\n",
    "# Create a chart for each hospital column\n",
    "for i in range(len(columns_list)):\n",
    "    names.append(\"chart\"+'i')\n",
    "    names[i] = alt.Chart(df_tr).mark_bar(color='blue', size=20).encode(\n",
    "            alt.X(columns_list[i+2], title='Hospital', \n",
    "                  scale=alt.Scale(domain=[0, 30])),\n",
    "            alt.Y(columns_list[0], title='Tipos', \n",
    "                  sort=alt.EncodingSortField(field=columns_list[i+2], op=\"count\", order='ascending')),\n",
    "            tooltip=columns_list[1]).interactive().properties(title='Tipos de maltrato por Hospital', \n",
    "                                                              width=350, height=300)\n",
    "    # Save chart as json\n",
    "    names[i].to_json()\n",
    "    if i == len(count_hospitals)-1:\n",
    "        break\n",
    "\n",
    "# Add circle markers for each row in df\n",
    "k = 0\n",
    "for j, r in df.iterrows():\n",
    "    folium.CircleMarker([r['Long'], r['Lat']],\n",
    "    radius=r['Total']/3,\n",
    "    color='#9b00ff',\n",
    "    fill_color='#9b00ff',\n",
    "    fill_opacity=(0.5),\n",
    "    tooltip=r['Hospital'],\n",
    "    # Add popup with chart\n",
    "    popup=folium.Popup(max_width=450, max_heigth=400).add_child(folium.VegaLite(names[k], width=450, height=300))\n",
    "    ).add_to(hospitales)\n",
    "    k += 1\n",
    "    \n",
    "# Show map\n",
    "m\n",
    "\n",
    "m.save(\"index.html\")"
   ]
  },
  {
   "cell_type": "code",
   "execution_count": 28,
   "metadata": {},
   "outputs": [],
   "source": [
    "# Save dataframe as 'xlsx'\n",
    "#df_tr.to_excel(f'data/maltratos_hospital.xlsx', index = False)\n",
    "# Save map as 'html'\n",
    "m.save(\"index.html\")"
   ]
  }
 ],
 "metadata": {
  "kernelspec": {
   "display_name": "env_violencia_obstetrica",
   "language": "python",
   "name": "env_violencia_obstetrica"
  },
  "language_info": {
   "codemirror_mode": {
    "name": "ipython",
    "version": 3
   },
   "file_extension": ".py",
   "mimetype": "text/x-python",
   "name": "python",
   "nbconvert_exporter": "python",
   "pygments_lexer": "ipython3",
   "version": "3.8.10"
  }
 },
 "nbformat": 4,
 "nbformat_minor": 4
}
